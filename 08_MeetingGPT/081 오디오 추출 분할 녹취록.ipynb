{
 "cells": [
  {
   "cell_type": "markdown",
   "id": "97ce1c89-4021-41de-8697-e4a7f2577478",
   "metadata": {},
   "source": [
    "# Audio Extraction"
   ]
  },
  {
   "cell_type": "code",
   "execution_count": 1,
   "id": "63eb667a-90dc-4e11-a403-5f6cd5ddd408",
   "metadata": {},
   "outputs": [],
   "source": [
    "import os"
   ]
  },
  {
   "cell_type": "code",
   "execution_count": 2,
   "id": "0b855fdc-bda4-4e70-a3c4-1b8e4d06d355",
   "metadata": {},
   "outputs": [],
   "source": [
    "\"\"\"\n",
    "첫번째 파트 : 동영상에서 오디오만 추출하기\n",
    "두번째 파트 : 오디오를 10분 단위로 분할하기\n",
    "\n",
    "자른 각각의 오디오를 Whisper API 에게 넘겨주고, 응답을 받아 한개의 파일로 저장할겁니다\n",
    "그렇게 하여 10분 분량 오디오들을 모두 합친 전체 녹취록을 얻어낼 겁니다\n",
    "\n",
    "\"\"\"\n",
    "None"
   ]
  },
  {
   "cell_type": "markdown",
   "id": "fb48b392-2798-480c-8dbf-6486d9c9ba68",
   "metadata": {},
   "source": [
    "## MP4 -> MP3 음성 추출"
   ]
  },
  {
   "cell_type": "markdown",
   "id": "97cedadb-e329-4c65-8592-85e6b5f9c165",
   "metadata": {},
   "source": [
    "### 오디오 추출 함수"
   ]
  },
  {
   "cell_type": "code",
   "execution_count": 3,
   "id": "4aa59904-97dc-4c0c-ace5-7e25fa50a8c7",
   "metadata": {},
   "outputs": [],
   "source": [
    "# ffmpeg 명령을 파이썬 코드에서 실행시키기 위해.\n",
    "import subprocess"
   ]
  },
  {
   "cell_type": "code",
   "execution_count": 4,
   "id": "5966ddb0-6862-4fac-b8ed-94bedf2c1a96",
   "metadata": {},
   "outputs": [],
   "source": [
    "base_path = r'D:\\NLP2501\\dataset'  # 동영상 경로\n",
    "out_path = r'D:\\NLP2501\\dataset\\out' # 분할 오디오 추출 경로\n",
    "\n",
    "video_file = 'podcast.mp4'\n",
    "audio_file = 'audio.mp3'\n",
    "\n",
    "src_path = os.path.join(base_path, video_file)\n",
    "dst_path = os.path.join(base_path, audio_file)\n"
   ]
  },
  {
   "cell_type": "code",
   "execution_count": 5,
   "id": "dbce856c-2bac-4be6-a7f5-0a46e58c0bfb",
   "metadata": {},
   "outputs": [],
   "source": [
    "def extract_autio_from_video(video_path, audio_path):\n",
    "    # CLI 에서 실행할 command 준비\n",
    "\n",
    "    # 커맨드창 (CLI) 에서 명령\n",
    "    #  > ffmpeg -i D:\\NLP2501\\dataset\\podcast.mp4 -vn D:\\NLP2501\\dataset\\audio.mp3 -y\n",
    "    command = [\"ffmpeg\", \"-i\", video_path, \"-vn\", audio_path, \"-y\"]\n",
    "    subprocess.run(command)\n",
    "\n",
    "    "
   ]
  },
  {
   "cell_type": "code",
   "execution_count": 6,
   "id": "26d2356f-5924-42b9-a69e-38113caa7142",
   "metadata": {},
   "outputs": [],
   "source": [
    "extract_autio_from_video(src_path, dst_path)"
   ]
  },
  {
   "cell_type": "markdown",
   "id": "cc644c6c-98ef-4d00-85ac-2d12a7972654",
   "metadata": {},
   "source": [
    "# Cutting the Audio"
   ]
  },
  {
   "cell_type": "code",
   "execution_count": 7,
   "id": "53dab2b3-f684-4dd9-a5a1-5f50faba9f00",
   "metadata": {},
   "outputs": [],
   "source": [
    "# pydub 패키지\n",
    "#  공식: https://github.com/jiaaro/pydub \n",
    "#  pip install pydub  <- 설치 필요  (사전에 ffmpeg 가 설치되고 경로 설정도 되어 있어야 한다)"
   ]
  },
  {
   "cell_type": "code",
   "execution_count": 8,
   "id": "305ceffc-d863-4f65-bcb5-7cc1b8319d3d",
   "metadata": {},
   "outputs": [],
   "source": [
    "from pydub import AudioSegment"
   ]
  },
  {
   "cell_type": "code",
   "execution_count": 9,
   "id": "329bd643-6ee2-4e6a-a740-700cfd2c0868",
   "metadata": {},
   "outputs": [
    {
     "data": {
      "text/plain": [
       "'D:\\\\NLP2501\\\\dataset\\\\audio.mp3'"
      ]
     },
     "execution_count": 9,
     "metadata": {},
     "output_type": "execute_result"
    }
   ],
   "source": [
    "dst_path"
   ]
  },
  {
   "cell_type": "code",
   "execution_count": 10,
   "id": "1f479848-1136-449d-ad7b-ac6c4c4252dd",
   "metadata": {},
   "outputs": [],
   "source": [
    "track = AudioSegment.from_mp3(dst_path)"
   ]
  },
  {
   "cell_type": "code",
   "execution_count": 35,
   "id": "1801bcd6-f2a6-4060-b1a7-65b3dcdc4cb6",
   "metadata": {},
   "outputs": [],
   "source": [
    "# track"
   ]
  },
  {
   "cell_type": "code",
   "execution_count": 12,
   "id": "6a6f92d3-4fa3-4baf-a5d4-a617e180eafb",
   "metadata": {},
   "outputs": [
    {
     "data": {
      "text/plain": [
       "4422.426122448979"
      ]
     },
     "execution_count": 12,
     "metadata": {},
     "output_type": "execute_result"
    }
   ],
   "source": [
    "track.duration_seconds  # 총 시간 (초)"
   ]
  },
  {
   "cell_type": "code",
   "execution_count": 13,
   "id": "0414de41-2106-4af0-bacb-a6f50a8a09e2",
   "metadata": {},
   "outputs": [
    {
     "data": {
      "text/plain": [
       "4422426"
      ]
     },
     "execution_count": 13,
     "metadata": {},
     "output_type": "execute_result"
    }
   ],
   "source": [
    "len(track)  # ms"
   ]
  },
  {
   "cell_type": "code",
   "execution_count": 14,
   "id": "06f0fc16-29d1-491a-a8f0-9b95a40b9401",
   "metadata": {},
   "outputs": [],
   "source": [
    "# 오디오의 첫 5분 \n",
    "five_minutes = 5 * 60 * 1000   # 단위 ms\n",
    "first_five = track[:five_minutes]"
   ]
  },
  {
   "cell_type": "code",
   "execution_count": 34,
   "id": "c9a9285a-d613-4b19-905d-7da8efae2248",
   "metadata": {},
   "outputs": [],
   "source": [
    "# first_five"
   ]
  },
  {
   "cell_type": "code",
   "execution_count": 16,
   "id": "bf66df55-2ff9-4b5d-b4ee-78ef74ce0713",
   "metadata": {},
   "outputs": [
    {
     "data": {
      "text/plain": [
       "300.0"
      ]
     },
     "execution_count": 16,
     "metadata": {},
     "output_type": "execute_result"
    }
   ],
   "source": [
    "first_five.duration_seconds"
   ]
  },
  {
   "cell_type": "code",
   "execution_count": 18,
   "id": "0024168a-0a16-4478-b331-1138b19cdefb",
   "metadata": {},
   "outputs": [
    {
     "data": {
      "text/plain": [
       "<_io.BufferedRandom name='D:\\\\NLP2501\\\\dataset\\\\out\\\\first_five.mp3'>"
      ]
     },
     "execution_count": 18,
     "metadata": {},
     "output_type": "execute_result"
    }
   ],
   "source": [
    "# 잘라낸 오디오를 export\n",
    "first_five.export(os.path.join(out_path, 'first_five.mp3'), format='mp3')"
   ]
  },
  {
   "cell_type": "markdown",
   "id": "52147c09-f9ca-4995-b115-2bc867e03f6e",
   "metadata": {},
   "source": [
    "## 오디오 파일 분할"
   ]
  },
  {
   "cell_type": "code",
   "execution_count": 19,
   "id": "d9a837b8-f794-4b39-9829-ab4ee1043fcb",
   "metadata": {},
   "outputs": [],
   "source": [
    "# Whisper API 는 최대 10m 분량의 오디오 입력"
   ]
  },
  {
   "cell_type": "code",
   "execution_count": 20,
   "id": "3e37fdfe-7487-457c-a2bf-6078a78d836e",
   "metadata": {},
   "outputs": [],
   "source": [
    "ten_minutes = 10 * 60 * 1000"
   ]
  },
  {
   "cell_type": "code",
   "execution_count": 22,
   "id": "ee201615-6f6f-4eae-be30-4c6b35e7cddb",
   "metadata": {},
   "outputs": [
    {
     "data": {
      "text/plain": [
       "8"
      ]
     },
     "execution_count": 22,
     "metadata": {},
     "output_type": "execute_result"
    }
   ],
   "source": [
    "import math\n",
    "chunks = math.ceil(len(track) / ten_minutes)\n",
    "\n",
    "chunks"
   ]
  },
  {
   "cell_type": "code",
   "execution_count": 23,
   "id": "8f484a47-8ed0-4091-802a-dc084bd9d926",
   "metadata": {},
   "outputs": [
    {
     "name": "stdout",
     "output_type": "stream",
     "text": [
      "0 start: 0  end 600000\n",
      "1 start: 600000  end 1200000\n",
      "2 start: 1200000  end 1800000\n",
      "3 start: 1800000  end 2400000\n",
      "4 start: 2400000  end 3000000\n",
      "5 start: 3000000  end 3600000\n",
      "6 start: 3600000  end 4200000\n",
      "7 start: 4200000  end 4800000\n"
     ]
    }
   ],
   "source": [
    "# 각 오디오 chunk 들의 시작과 종료시간 계산\n",
    "for i in range(chunks):\n",
    "    start_time = i * ten_minutes\n",
    "    end_time = (i + 1) * ten_minutes\n",
    "    print(f\"{i} start: {start_time}  end {end_time}\")"
   ]
  },
  {
   "cell_type": "code",
   "execution_count": 24,
   "id": "0043288d-6e22-4713-a18d-8ec7d618d943",
   "metadata": {},
   "outputs": [],
   "source": [
    "for i in range(chunks):\n",
    "    start_time = i * ten_minutes\n",
    "    end_time = (i + 1) * ten_minutes\n",
    "\n",
    "    chunk = track[start_time: end_time]\n",
    "    chunk.export(os.path.join(out_path, f'chunk_{i}.mp3'), format='mp3')"
   ]
  },
  {
   "cell_type": "markdown",
   "id": "1d1f8e03-634e-4c4d-a7b9-7893d4910806",
   "metadata": {},
   "source": [
    "# Whisper Transcript"
   ]
  },
  {
   "cell_type": "code",
   "execution_count": 25,
   "id": "baacc418-5d98-44e5-837a-4804551e4479",
   "metadata": {},
   "outputs": [],
   "source": [
    "import openai"
   ]
  },
  {
   "cell_type": "code",
   "execution_count": 28,
   "id": "0bf55c7e-1f38-4283-93af-90775a40f502",
   "metadata": {},
   "outputs": [],
   "source": [
    "# 오디오 -> 녹취록 생성\n",
    "transcript = openai.audio.transcriptions.create(\n",
    "    model='whisper-1',\n",
    "    file=open(os.path.join(out_path, 'chunk_0.mp3'), 'rb'),\n",
    "    language=\"en\",\n",
    ")"
   ]
  },
  {
   "cell_type": "code",
   "execution_count": 27,
   "id": "b0e0bc8a-2f9a-49fc-9566-1ce5fbbb447f",
   "metadata": {},
   "outputs": [
    {
     "data": {
      "text/plain": [
       "\"If success is this lagging indicator of commitment now, how can you be sure that you are paying your dues? The best-selling author and host. The number one health and wellness podcast. On Purpose with Jay Shetty. Society has gone in the direction of becoming addicted to pleasure. Yes. Or pleasure-seeking. Where, from the Stoic's perspective, why did we even ever go down that road? Like, why did we leave wisdom and self-control? Or did we never have it at all and we've always been trying to balance it? Yeah. I mean, I guess that's the big question is, like, why do we take something that we like too far? Yeah. Right. So the Epicureans would say like, look, drinking is great, but if you have a hangover the next day, was it actually so great? And so, you know, if you, if you push the pleasure too far, it becomes not pleasurable, but in the moment that feels very far away, right? Like in the moment you want the thing now, obviously sex is this thing for people, it's like the thing you're at\""
      ]
     },
     "execution_count": 27,
     "metadata": {},
     "output_type": "execute_result"
    }
   ],
   "source": [
    "transcript.text[:1000]"
   ]
  },
  {
   "cell_type": "code",
   "execution_count": 33,
   "id": "b80a850a-9663-4f2e-b07c-029821b881e9",
   "metadata": {},
   "outputs": [],
   "source": [
    "# first_five"
   ]
  },
  {
   "cell_type": "markdown",
   "id": "94c4dcdf-8ca0-4194-8992-912fd113c7b4",
   "metadata": {},
   "source": [
    "## glob 이슈"
   ]
  },
  {
   "cell_type": "code",
   "execution_count": 30,
   "id": "97a0ef51-a0a1-48a1-bd98-25fd160fc30b",
   "metadata": {},
   "outputs": [],
   "source": [
    "import glob"
   ]
  },
  {
   "cell_type": "code",
   "execution_count": 32,
   "id": "7fcbfc2f-36fc-4210-8d6f-1a3093aea06d",
   "metadata": {},
   "outputs": [
    {
     "data": {
      "text/plain": [
       "['D:\\\\NLP2501\\\\dataset\\\\out\\\\chunk_0.mp3',\n",
       " 'D:\\\\NLP2501\\\\dataset\\\\out\\\\chunk_1.mp3',\n",
       " 'D:\\\\NLP2501\\\\dataset\\\\out\\\\chunk_2.mp3',\n",
       " 'D:\\\\NLP2501\\\\dataset\\\\out\\\\chunk_3.mp3',\n",
       " 'D:\\\\NLP2501\\\\dataset\\\\out\\\\chunk_4.mp3',\n",
       " 'D:\\\\NLP2501\\\\dataset\\\\out\\\\chunk_5.mp3',\n",
       " 'D:\\\\NLP2501\\\\dataset\\\\out\\\\chunk_6.mp3',\n",
       " 'D:\\\\NLP2501\\\\dataset\\\\out\\\\chunk_7.mp3']"
      ]
     },
     "execution_count": 32,
     "metadata": {},
     "output_type": "execute_result"
    }
   ],
   "source": [
    "files = glob.glob(os.path.join(out_path, \"chunk_*.mp3\"))\n",
    "files.sort()"
   ]
  },
  {
   "cell_type": "code",
   "execution_count": null,
   "id": "3ba4e1cd-23cf-45ae-a1a0-2d4ed858ec4b",
   "metadata": {},
   "outputs": [],
   "source": []
  },
  {
   "cell_type": "code",
   "execution_count": null,
   "id": "7c3da87a-1c86-4ee7-b867-0e4909e7e16e",
   "metadata": {},
   "outputs": [],
   "source": []
  },
  {
   "cell_type": "code",
   "execution_count": null,
   "id": "2890e977-6bbb-441c-8483-164539bb03c3",
   "metadata": {},
   "outputs": [],
   "source": []
  },
  {
   "cell_type": "code",
   "execution_count": null,
   "id": "7d2a5661-6b8c-4326-8c1c-d92c2b1ff430",
   "metadata": {},
   "outputs": [],
   "source": []
  },
  {
   "cell_type": "code",
   "execution_count": null,
   "id": "b8352d69-8a63-4880-862a-fe5e5c417d45",
   "metadata": {},
   "outputs": [],
   "source": []
  },
  {
   "cell_type": "code",
   "execution_count": null,
   "id": "7d71d7b5-05f7-48a6-b174-ff3b86c13649",
   "metadata": {},
   "outputs": [],
   "source": []
  },
  {
   "cell_type": "code",
   "execution_count": null,
   "id": "db5f06d1-e7c3-41fd-98a3-6170df1ca9f1",
   "metadata": {},
   "outputs": [],
   "source": []
  },
  {
   "cell_type": "code",
   "execution_count": null,
   "id": "27cbadb7-0159-4f65-b97c-fa1ba206485c",
   "metadata": {},
   "outputs": [],
   "source": []
  },
  {
   "cell_type": "code",
   "execution_count": null,
   "id": "afbed92b-a5f9-4375-90f2-b923ffe127ad",
   "metadata": {},
   "outputs": [],
   "source": []
  }
 ],
 "metadata": {
  "kernelspec": {
   "display_name": "Python 3 (ipykernel)",
   "language": "python",
   "name": "python3"
  },
  "language_info": {
   "codemirror_mode": {
    "name": "ipython",
    "version": 3
   },
   "file_extension": ".py",
   "mimetype": "text/x-python",
   "name": "python",
   "nbconvert_exporter": "python",
   "pygments_lexer": "ipython3",
   "version": "3.12.5"
  }
 },
 "nbformat": 4,
 "nbformat_minor": 5
}
