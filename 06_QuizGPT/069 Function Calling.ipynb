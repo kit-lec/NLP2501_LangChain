{
 "cells": [
  {
   "cell_type": "markdown",
   "id": "2f0c294f-43f6-4786-91af-07c940cf5fd7",
   "metadata": {},
   "source": [
    "# Function Calling\n",
    "- Function Calling은 OpenAI API에서 특정 함수 정의(JSON schema 기반)를 주고, 모델이 해당 함수를 호출하는 형식의 응답을 생성하게 하는 기능입니다.\n",
    "- 챗봇, 에이전트, 도구 사용 등 다양한 자동화 및 플러그인 연동에 활용됩니다.\n",
    "\n",
    "- 지원 모델 gpt-3-turbo, gpt-4, gpt-4-turbo  (2025.1 현재)\n",
    "\n",
    "- 모델이 우리의 코드를 호출하도록 해서 우리의 함수들을 모델이 호출할수 있도록 하거나\n",
    "- 모델이 우리가 원하는 특정 모양과 형식의 output 을 갖도록 강제할수 있다.\n",
    "\n",
    "- https://platform.openai.com/docs/guides/function-calling?api-mode=chat\n",
    "\n",
    "\n",
    "\n"
   ]
  },
  {
   "cell_type": "code",
   "execution_count": 1,
   "id": "8f656e31-5a63-46bc-b955-46dea6d9b6c0",
   "metadata": {},
   "outputs": [],
   "source": [
    "from langchain_openai.chat_models.base import ChatOpenAI\n",
    "from langchain_core.prompts.prompt import PromptTemplate\n"
   ]
  },
  {
   "cell_type": "code",
   "execution_count": 2,
   "id": "75866dee-14d6-4142-a112-90369e2ea7f4",
   "metadata": {},
   "outputs": [
    {
     "name": "stdout",
     "output_type": "stream",
     "text": [
      "I'm sorry, I am an AI assistant and I do not have real-time information. You can check the weather in Rome by using a weather website or app.\n"
     ]
    },
    {
     "data": {
      "text/plain": [
       "AIMessage(content=\"I'm sorry, I am an AI assistant and I do not have real-time information. You can check the weather in Rome by using a weather website or app.\", additional_kwargs={'refusal': None}, response_metadata={'token_usage': {'completion_tokens': 33, 'prompt_tokens': 13, 'total_tokens': 46, 'completion_tokens_details': {'accepted_prediction_tokens': 0, 'audio_tokens': 0, 'reasoning_tokens': 0, 'rejected_prediction_tokens': 0}, 'prompt_tokens_details': {'audio_tokens': 0, 'cached_tokens': 0}}, 'model_name': 'gpt-3.5-turbo-0125', 'system_fingerprint': None, 'id': 'chatcmpl-BoTMm74DzFdc5Z38aTnyXZQjkQXWQ', 'finish_reason': 'stop', 'logprobs': None}, id='run--96f0ad78-9f00-4803-a8ce-20eb04dc6cdd-0', usage_metadata={'input_tokens': 13, 'output_tokens': 33, 'total_tokens': 46, 'input_token_details': {'audio': 0, 'cache_read': 0}, 'output_token_details': {'audio': 0, 'reasoning': 0}})"
      ]
     },
     "execution_count": 2,
     "metadata": {},
     "output_type": "execute_result"
    }
   ],
   "source": [
    "llm = ChatOpenAI(\n",
    "    temperature=0.1,\n",
    ")\n",
    "\n",
    "prompt = PromptTemplate.from_template(\"Who is the weather in {city}\")\n",
    "chain = prompt | llm\n",
    "\n",
    "response = chain.invoke({\n",
    "    'city': 'Rome',\n",
    "})\n",
    "\n",
    "print(response.content)\n",
    "\n",
    "response"
   ]
  },
  {
   "cell_type": "code",
   "execution_count": null,
   "id": "5ba05e4c-824f-45cc-bea9-d8ae32e6c9f3",
   "metadata": {},
   "outputs": [],
   "source": [
    "# 실시간으로 날씨를 가져올수 없단다.\n",
    "# 하지만!  이제 함수가 있다고 생각해보자.  실시간 데이터를 가져올 수 잇는 함수 말이다!\n",
    "#  함수에 필요한 정보는 아마 '장소' 정보 뿐 일거다.  (위도, 경도..)\n",
    "\n",
    "# ↓여기에 함수가 있다고 가정하자"
   ]
  },
  {
   "cell_type": "code",
   "execution_count": 12,
   "id": "ae83a273-8bb1-44d7-9ce7-a7613e15e527",
   "metadata": {},
   "outputs": [],
   "source": [
    "def get_weather(lon, lat):\n",
    "    print(f'call an api... lon:{lon}, lat:{lat}')"
   ]
  },
  {
   "cell_type": "code",
   "execution_count": null,
   "id": "5345e16f-6aaa-40f9-9937-3383a8d559ac",
   "metadata": {},
   "outputs": [],
   "source": [
    "# gpt-3, gpt-4 에게 우리에게 이러한 일을 해주는 get_weather() 라는 함수가 있다고 말해주는 거다.\n",
    "# 그러면, gpt 는 우리의 질문을 보게 되겠고, 함수를 사용하는 것이 이런 실망스러운 답변을 주는 것 보다 나은지 판별할거다.\n",
    "\n",
    "# 어떻게 GPT 나  LLM 을 그렇게 동작하도록 만들수 있을까?\n",
    "# LLM 이 get_weather 라는 함수가 있다는 걸 알도록 할수 있을까?\n",
    "\n",
    "# 이 함수를 위한 JSON schema 를 만드는 거다! ↓\n"
   ]
  },
  {
   "cell_type": "markdown",
   "id": "8f479d75-53b5-4ba1-a7a9-b033eca45b11",
   "metadata": {},
   "source": [
    "# 함수의 스키마"
   ]
  },
  {
   "cell_type": "code",
   "execution_count": 3,
   "id": "cee654f3-7c4f-4690-b1b0-929a74b0b623",
   "metadata": {},
   "outputs": [],
   "source": [
    "#  함수의 작동방식과 필요한 것을 설명해 주는 스키마.\n",
    "#  ↓ \n",
    "function_schema = {\n",
    "    \"name\": \"get_weather\",  # 함수의 이름\n",
    "    # 무슨일을 하는 함수인지 기술\n",
    "    \"description\": \"function that takes longitude and latitude to find the weather of a place\",  \n",
    "\n",
    "    # 파라미터 기술\n",
    "    \"parameters\": {\n",
    "        \"type\": \"object\",\n",
    "        \"properties\": {\n",
    "            # 경도 \n",
    "            \"lon\": {\"type\": \"string\",\"description\": \"The longitude coordinate\",},\n",
    "            # 위도\n",
    "            \"lat\": {\"type\": \"string\",\"description\": \"The latitude coordinate\",},\n",
    "        }\n",
    "    },\n",
    "\n",
    "    # 필수 사항 기술\n",
    "    \"required\": [\"lon\", 'lat'], \n",
    "    \n",
    "}"
   ]
  },
  {
   "cell_type": "markdown",
   "id": "8e94a09c-6178-4e51-a582-e189a48066a7",
   "metadata": {},
   "source": [
    "# ChatOpenAI 에 함수 전달하기 (알려주기)"
   ]
  },
  {
   "cell_type": "code",
   "execution_count": 4,
   "id": "10f59ccc-4eb7-4968-9cd6-f6152652adcc",
   "metadata": {},
   "outputs": [],
   "source": [
    "llm = ChatOpenAI(\n",
    "    temperature=0.1\n",
    ").bind(  # <- ChatOpenAI  에게 전달할 인수를 추가해 줄수 있다.\n",
    "    functions=[   # <- 원하는 만큼 많은 함수를 전달할수도 있다.\n",
    "        function_schema  # <- 준비한 함수 스키마 전달\n",
    "    ],\n",
    "\n",
    "    # ↓기본적으로 모델이 특정 함수를 사용하도록 '강제'하거나, \n",
    "    #   모델이 함수를 사용하도록 하거나 그냥 답변을 할 수 있도록 모델 스스로 선택하게 할수 있다.\n",
    "\n",
    "    # 모델을 강제로 함수를 사용하도록 하려면! 아래와 같이 해야 한다\n",
    "    # function_call={  \n",
    "    #     \"name\": \"get_weather\",  # <-- get_weather 함수를 반드시 사용하라!        \n",
    "    # },\n",
    "\n",
    "    \n",
    "    # auto => AI가 필요에 따라 선택하여 사용하도록 함.\n",
    "    function_call=\"auto\",\n",
    ")"
   ]
  },
  {
   "cell_type": "code",
   "execution_count": 5,
   "id": "08a33a4a-82c6-4400-9612-4b2a334f4f6a",
   "metadata": {},
   "outputs": [
    {
     "name": "stdout",
     "output_type": "stream",
     "text": [
      "\n"
     ]
    },
    {
     "data": {
      "text/plain": [
       "AIMessage(content='', additional_kwargs={'function_call': {'arguments': '{\"lon\":\"12.4964\",\"lat\":\"41.9028\"}', 'name': 'get_weather'}, 'refusal': None}, response_metadata={'token_usage': {'completion_tokens': 24, 'prompt_tokens': 73, 'total_tokens': 97, 'completion_tokens_details': {'accepted_prediction_tokens': 0, 'audio_tokens': 0, 'reasoning_tokens': 0, 'rejected_prediction_tokens': 0}, 'prompt_tokens_details': {'audio_tokens': 0, 'cached_tokens': 0}}, 'model_name': 'gpt-3.5-turbo-0125', 'system_fingerprint': None, 'id': 'chatcmpl-BoTZ6CwUeuicgOe9FyLV8jZqvjj7l', 'finish_reason': 'function_call', 'logprobs': None}, id='run--425449e7-22c6-4c9f-a640-541c599931f8-0', usage_metadata={'input_tokens': 73, 'output_tokens': 24, 'total_tokens': 97, 'input_token_details': {'audio': 0, 'cache_read': 0}, 'output_token_details': {'audio': 0, 'reasoning': 0}})"
      ]
     },
     "execution_count": 5,
     "metadata": {},
     "output_type": "execute_result"
    }
   ],
   "source": [
    "chain = prompt | llm\n",
    "\n",
    "response = chain.invoke({\n",
    "    'city': 'Rome',\n",
    "})\n",
    "\n",
    "print(response.content)\n",
    "\n",
    "response"
   ]
  },
  {
   "cell_type": "code",
   "execution_count": 6,
   "id": "eaa15a43-287c-4d0b-b5bf-4c5b58dcfb33",
   "metadata": {},
   "outputs": [
    {
     "data": {
      "text/plain": [
       "{'function_call': {'arguments': '{\"lon\":\"12.4964\",\"lat\":\"41.9028\"}',\n",
       "  'name': 'get_weather'},\n",
       " 'refusal': None}"
      ]
     },
     "execution_count": 6,
     "metadata": {},
     "output_type": "execute_result"
    }
   ],
   "source": [
    "response.additional_kwargs"
   ]
  },
  {
   "cell_type": "code",
   "execution_count": 7,
   "id": "08524465-3fb3-416b-99c2-71b4671697d1",
   "metadata": {},
   "outputs": [
    {
     "data": {
      "text/plain": [
       "{'arguments': '{\"lon\":\"12.4964\",\"lat\":\"41.9028\"}', 'name': 'get_weather'}"
      ]
     },
     "execution_count": 7,
     "metadata": {},
     "output_type": "execute_result"
    }
   ],
   "source": [
    "response.additional_kwargs['function_call']"
   ]
  },
  {
   "cell_type": "code",
   "execution_count": 8,
   "id": "d0092d49-42e0-4ced-accf-4e3e5e6556cd",
   "metadata": {},
   "outputs": [
    {
     "data": {
      "text/plain": [
       "'{\"lon\":\"12.4964\",\"lat\":\"41.9028\"}'"
      ]
     },
     "execution_count": 8,
     "metadata": {},
     "output_type": "execute_result"
    }
   ],
   "source": [
    "response.additional_kwargs['function_call']['arguments']"
   ]
  },
  {
   "cell_type": "code",
   "execution_count": 9,
   "id": "03a48cc9-b5bb-4a93-96bf-1825fe4710ba",
   "metadata": {},
   "outputs": [
    {
     "data": {
      "text/plain": [
       "{'lon': '12.4964', 'lat': '41.9028'}"
      ]
     },
     "execution_count": 9,
     "metadata": {},
     "output_type": "execute_result"
    }
   ],
   "source": [
    "import json\n",
    "r = json.loads(response.additional_kwargs['function_call']['arguments'])\n",
    "r"
   ]
  },
  {
   "cell_type": "code",
   "execution_count": 10,
   "id": "0d0f6b94-8b75-4d48-9c28-3d5035f343d1",
   "metadata": {},
   "outputs": [
    {
     "data": {
      "text/plain": [
       "('12.4964', '41.9028')"
      ]
     },
     "execution_count": 10,
     "metadata": {},
     "output_type": "execute_result"
    }
   ],
   "source": [
    "r['lon'], r['lat']"
   ]
  },
  {
   "cell_type": "code",
   "execution_count": 13,
   "id": "83537614-c02e-49be-bcf0-7af423b228f2",
   "metadata": {},
   "outputs": [
    {
     "name": "stdout",
     "output_type": "stream",
     "text": [
      "call an api... lon:12.4964, lat:41.9028\n"
     ]
    }
   ],
   "source": [
    "get_weather(r['lon'], r['lat'])"
   ]
  },
  {
   "cell_type": "code",
   "execution_count": 14,
   "id": "e842fb06-2fae-4737-b8f8-45aa7599a735",
   "metadata": {},
   "outputs": [
    {
     "name": "stdout",
     "output_type": "stream",
     "text": [
      "call an api... lon:12.4964, lat:41.9028\n"
     ]
    }
   ],
   "source": [
    "get_weather(**r)"
   ]
  },
  {
   "cell_type": "markdown",
   "id": "23a99238-0aa7-4d91-b418-c4a06e86abb8",
   "metadata": {},
   "source": [
    "# 퀴즈 생성하기 스키마"
   ]
  },
  {
   "cell_type": "code",
   "execution_count": 15,
   "id": "f1924e85-5f81-47cc-a385-35d1024213a8",
   "metadata": {},
   "outputs": [],
   "source": [
    "function_schema = {\n",
    "    # '퀴즈 생성하기' 스키마 \n",
    "    \"name\": \"create_quiz\",\n",
    "    # ↓ 완전히 지어낸 함수다!\n",
    "    \"description\": \"function that takes a list of questions and answers and returns a quiz\",  \n",
    "\n",
    "    \"parameters\": {\n",
    "        \"type\": \"object\",\n",
    "        \"properties\": {\n",
    "# ↓ 우라기 원하는 답변의 스키마는\n",
    " \n",
    "# 바로 이 형태를 정의하는 거다. \n",
    "# {\n",
    "#   \"questions\":[\n",
    "#      0:{\n",
    "#        \"question\":\"What … in the story?\"\n",
    "#        \"answers\":[\n",
    "#           0:{\n",
    "#             \"answer\":\"John\"\n",
    "#             \"correct\":false\n",
    "#           }\n",
    "#           ... \n",
    "#        ]\n",
    "#      }\n",
    "#      ...            \n",
    "# }       \n",
    "\n",
    "            \"questions\": {  # questions 는array!\n",
    "                \"type\": \"array\",   \n",
    "                \"items\": {\n",
    "                    \"type\": \"object\",\n",
    "                    \"properties\": {\n",
    "                        \"question\": { # question 은 string\n",
    "                            \"type\": \"string\",\n",
    "                        },\n",
    "                        \"answers\": {  # answers 는 array\n",
    "                            \"type\": \"array\",\n",
    "                            \"items\": {  \n",
    "                                \"type\": \"object\",\n",
    "                                \"properties\": {\n",
    "                                    \"answer\": {   # answer 는 string\n",
    "                                        \"type\": \"string\",\n",
    "                                    },\n",
    "                                    \"correct\": {  # correct 는 boolean\n",
    "                                        \"type\": \"boolean\",\n",
    "                                    },\n",
    "                                },\n",
    "                                \"required\": [\"answer\", \"correct\"],  # answer 와 correct 둘다 필수!\n",
    "                            },\n",
    "                        },\n",
    "                    },\n",
    "                    \"required\": [\"question\", \"answers\"],  # question 와 anstions 둘다 필수\n",
    "                },  # end items {}\n",
    "            }  # end questions {}\n",
    "            \n",
    "        } # end properties{}\n",
    "    }, # end parameters {}\n",
    "\n",
    "    \"required\": [\"questions\"],\n",
    "}"
   ]
  },
  {
   "cell_type": "code",
   "execution_count": 16,
   "id": "de8f1c43-9ef1-40c5-a61c-f16b3008ea44",
   "metadata": {},
   "outputs": [
    {
     "data": {
      "text/plain": [
       "'{\"questions\":[{\"question\":\"What year was Rome founded?\",\"answers\":[{\"answer\":\"753 BC\",\"correct\":true},{\"answer\":\"476 AD\",\"correct\":false},{\"answer\":\"1000 AD\",\"correct\":false}]},{\"question\":\"Who was the first emperor of Rome?\",\"answers\":[{\"answer\":\"Julius Caesar\",\"correct\":false},{\"answer\":\"Augustus\",\"correct\":true},{\"answer\":\"Nero\",\"correct\":false}]},{\"question\":\"What famous structure in Rome was built by the ancient Romans?\",\"answers\":[{\"answer\":\"Eiffel Tower\",\"correct\":false},{\"answer\":\"Colosseum\",\"correct\":true},{\"answer\":\"Big Ben\",\"correct\":false}]}]}'"
      ]
     },
     "execution_count": 16,
     "metadata": {},
     "output_type": "execute_result"
    }
   ],
   "source": [
    "llm = ChatOpenAI(\n",
    "    temperature=0.1,\n",
    ").bind(\n",
    "    functions=[\n",
    "        function_schema  # 여기에는 원하는 만큼의 function 들을 적어 넣을수 있다.\n",
    "    ],\n",
    "    # function_call=\"auto\"  # \"auto\" 모델이 우리 함수를 사용할수도 있고 사용하지 않을수도 있다.\n",
    "    function_call={\n",
    "        \"name\": \"create_quiz\",\n",
    "    },\n",
    ")\n",
    "\n",
    "# prompt 변경\n",
    "prompt = PromptTemplate.from_template(\"Make a quiz about {city}\")\n",
    "\n",
    "chain = prompt | llm\n",
    "\n",
    "response = chain.invoke({\n",
    "    \"city\": \"rome\"\n",
    "})\n",
    "\n",
    "response = response.additional_kwargs['function_call']['arguments']\n",
    "\n",
    "response"
   ]
  },
  {
   "cell_type": "code",
   "execution_count": 17,
   "id": "881bb7d0-a235-41f1-8a96-0d6afe3d0314",
   "metadata": {},
   "outputs": [
    {
     "name": "stdout",
     "output_type": "stream",
     "text": [
      "{'questions': [{'answers': [{'answer': '753 BC', 'correct': True},\n",
      "                            {'answer': '476 AD', 'correct': False},\n",
      "                            {'answer': '1000 AD', 'correct': False}],\n",
      "                'question': 'What year was Rome founded?'},\n",
      "               {'answers': [{'answer': 'Julius Caesar', 'correct': False},\n",
      "                            {'answer': 'Augustus', 'correct': True},\n",
      "                            {'answer': 'Nero', 'correct': False}],\n",
      "                'question': 'Who was the first emperor of Rome?'},\n",
      "               {'answers': [{'answer': 'Eiffel Tower', 'correct': False},\n",
      "                            {'answer': 'Colosseum', 'correct': True},\n",
      "                            {'answer': 'Big Ben', 'correct': False}],\n",
      "                'question': 'What famous structure in Rome was built by the '\n",
      "                            'ancient Romans?'}]}\n"
     ]
    }
   ],
   "source": [
    "import pprint\n",
    "pprint.pprint(json.loads(response))"
   ]
  },
  {
   "cell_type": "code",
   "execution_count": null,
   "id": "b6990b51-39ac-4617-a31d-b20b20b18578",
   "metadata": {},
   "outputs": [],
   "source": []
  },
  {
   "cell_type": "code",
   "execution_count": null,
   "id": "7f180cba-beb0-4508-a73a-633ace31cd18",
   "metadata": {},
   "outputs": [],
   "source": []
  },
  {
   "cell_type": "code",
   "execution_count": null,
   "id": "cddc9a78-ad0a-4034-97a0-00dc86f1a736",
   "metadata": {},
   "outputs": [],
   "source": []
  },
  {
   "cell_type": "code",
   "execution_count": null,
   "id": "76bf1a20-1420-4670-b122-9ba8a926eb4f",
   "metadata": {},
   "outputs": [],
   "source": []
  },
  {
   "cell_type": "code",
   "execution_count": null,
   "id": "f60b0e33-0f01-4f9a-9a86-6d30d7503c3d",
   "metadata": {},
   "outputs": [],
   "source": []
  },
  {
   "cell_type": "code",
   "execution_count": null,
   "id": "5d114d72-5a8e-455c-9b97-356a14660ab2",
   "metadata": {},
   "outputs": [],
   "source": []
  },
  {
   "cell_type": "code",
   "execution_count": null,
   "id": "3439a11b-47f2-4de8-a525-5807d7753a74",
   "metadata": {},
   "outputs": [],
   "source": []
  },
  {
   "cell_type": "code",
   "execution_count": null,
   "id": "9b2b4d07-cf7f-423d-a2af-b11ccc126857",
   "metadata": {},
   "outputs": [],
   "source": []
  },
  {
   "cell_type": "code",
   "execution_count": null,
   "id": "747afc7e-0de4-4d5d-8fa7-1c4a1a907823",
   "metadata": {},
   "outputs": [],
   "source": []
  },
  {
   "cell_type": "code",
   "execution_count": null,
   "id": "64feb1e4-bec5-4759-a335-8fae9f71e845",
   "metadata": {},
   "outputs": [],
   "source": []
  },
  {
   "cell_type": "code",
   "execution_count": null,
   "id": "9ffbff6b-a178-44b0-8114-ca1a49d1e1a6",
   "metadata": {},
   "outputs": [],
   "source": []
  },
  {
   "cell_type": "code",
   "execution_count": null,
   "id": "84e9b917-8fed-44ca-b13c-738f5ebab973",
   "metadata": {},
   "outputs": [],
   "source": []
  },
  {
   "cell_type": "code",
   "execution_count": null,
   "id": "c45d90c8-f6cc-44e3-bf3d-528cdd10432e",
   "metadata": {},
   "outputs": [],
   "source": []
  },
  {
   "cell_type": "code",
   "execution_count": null,
   "id": "0bd39b23-febb-48ad-8f16-8faee5344df6",
   "metadata": {},
   "outputs": [],
   "source": []
  },
  {
   "cell_type": "code",
   "execution_count": null,
   "id": "32543858-e85b-4763-9079-70727295422a",
   "metadata": {},
   "outputs": [],
   "source": []
  },
  {
   "cell_type": "code",
   "execution_count": null,
   "id": "a088e3d5-7b7d-4228-a66f-e185ac54d663",
   "metadata": {},
   "outputs": [],
   "source": []
  },
  {
   "cell_type": "code",
   "execution_count": null,
   "id": "63ab3d2d-13f8-4352-9499-a68a3ce0819c",
   "metadata": {},
   "outputs": [],
   "source": []
  },
  {
   "cell_type": "code",
   "execution_count": null,
   "id": "2bdee043-9ff2-4758-ba68-3e39933450db",
   "metadata": {},
   "outputs": [],
   "source": []
  },
  {
   "cell_type": "code",
   "execution_count": null,
   "id": "c0737b63-65f2-4dc7-b483-7afd2e6b11af",
   "metadata": {},
   "outputs": [],
   "source": []
  },
  {
   "cell_type": "code",
   "execution_count": null,
   "id": "773e3343-d495-4fd8-9a8e-4484dcfb1a29",
   "metadata": {},
   "outputs": [],
   "source": []
  },
  {
   "cell_type": "code",
   "execution_count": null,
   "id": "a679e1af-e641-4ee6-b4cc-5a9ee3842958",
   "metadata": {},
   "outputs": [],
   "source": []
  },
  {
   "cell_type": "code",
   "execution_count": null,
   "id": "b281f854-3190-4195-9628-2349bb18918c",
   "metadata": {},
   "outputs": [],
   "source": []
  },
  {
   "cell_type": "code",
   "execution_count": null,
   "id": "904fa2ba-2d0b-4885-80e4-9747f8331b5e",
   "metadata": {},
   "outputs": [],
   "source": []
  },
  {
   "cell_type": "code",
   "execution_count": null,
   "id": "928d0297-b7df-45f7-b080-46a8bfa320e4",
   "metadata": {},
   "outputs": [],
   "source": []
  },
  {
   "cell_type": "code",
   "execution_count": null,
   "id": "3869005d-a356-43ba-8d58-912ee5a4afa6",
   "metadata": {},
   "outputs": [],
   "source": []
  },
  {
   "cell_type": "code",
   "execution_count": null,
   "id": "936cc233-9a51-4a13-8c93-2ad80a08ddf1",
   "metadata": {},
   "outputs": [],
   "source": []
  },
  {
   "cell_type": "code",
   "execution_count": null,
   "id": "ce36c7c9-e548-4db8-b562-41d22592470b",
   "metadata": {},
   "outputs": [],
   "source": []
  },
  {
   "cell_type": "code",
   "execution_count": null,
   "id": "c74eda09-e97d-4e41-a68b-024d4b8131ee",
   "metadata": {},
   "outputs": [],
   "source": []
  },
  {
   "cell_type": "code",
   "execution_count": null,
   "id": "2e755440-6b6c-424d-a36e-921d5a3679f3",
   "metadata": {},
   "outputs": [],
   "source": []
  },
  {
   "cell_type": "code",
   "execution_count": null,
   "id": "4e2bf166-0a75-40ad-bc9c-84c01d7547af",
   "metadata": {},
   "outputs": [],
   "source": []
  },
  {
   "cell_type": "code",
   "execution_count": null,
   "id": "a6381aee-b010-47a2-9d87-bc678822f740",
   "metadata": {},
   "outputs": [],
   "source": []
  },
  {
   "cell_type": "code",
   "execution_count": null,
   "id": "4c7569a1-2a78-4b05-bad0-a6d4e7ad4cf6",
   "metadata": {},
   "outputs": [],
   "source": []
  },
  {
   "cell_type": "code",
   "execution_count": null,
   "id": "61b2de86-c97f-4521-9288-92f2b23e0b47",
   "metadata": {},
   "outputs": [],
   "source": []
  },
  {
   "cell_type": "code",
   "execution_count": null,
   "id": "c5865aae-d558-4b39-8496-a041ff8f8a2a",
   "metadata": {},
   "outputs": [],
   "source": []
  },
  {
   "cell_type": "code",
   "execution_count": null,
   "id": "97d619b1-68e0-4c81-9fea-47f3aa435620",
   "metadata": {},
   "outputs": [],
   "source": []
  },
  {
   "cell_type": "code",
   "execution_count": null,
   "id": "84fc02b5-8e52-45a7-84d3-a381316de099",
   "metadata": {},
   "outputs": [],
   "source": []
  },
  {
   "cell_type": "code",
   "execution_count": null,
   "id": "440796fa-4801-4bd2-94af-a72b74b4d009",
   "metadata": {},
   "outputs": [],
   "source": []
  },
  {
   "cell_type": "code",
   "execution_count": null,
   "id": "eb921b74-c24e-4235-b856-f3260f5681f1",
   "metadata": {},
   "outputs": [],
   "source": []
  },
  {
   "cell_type": "code",
   "execution_count": null,
   "id": "0207533d-e902-425b-a09b-f0fefc5926c4",
   "metadata": {},
   "outputs": [],
   "source": []
  },
  {
   "cell_type": "code",
   "execution_count": null,
   "id": "953ff8e7-7f9e-43ca-bcb0-6752049ae86b",
   "metadata": {},
   "outputs": [],
   "source": []
  },
  {
   "cell_type": "code",
   "execution_count": null,
   "id": "48bf9fde-8f8d-4b15-aef3-55d17fd9283f",
   "metadata": {},
   "outputs": [],
   "source": []
  },
  {
   "cell_type": "code",
   "execution_count": null,
   "id": "c4adb2ff-b984-4e12-bd99-c4207aae4082",
   "metadata": {},
   "outputs": [],
   "source": []
  },
  {
   "cell_type": "code",
   "execution_count": null,
   "id": "84c793e6-42d0-4273-9cc3-0ecd2fd16114",
   "metadata": {},
   "outputs": [],
   "source": []
  },
  {
   "cell_type": "code",
   "execution_count": null,
   "id": "24d37565-1bd0-4fa7-91e6-77d191dbe6c3",
   "metadata": {},
   "outputs": [],
   "source": []
  },
  {
   "cell_type": "code",
   "execution_count": null,
   "id": "eace5404-2009-47c2-a400-aa59c0a547bb",
   "metadata": {},
   "outputs": [],
   "source": []
  },
  {
   "cell_type": "code",
   "execution_count": null,
   "id": "5029451d-214e-438c-bd56-c221d8d427e5",
   "metadata": {},
   "outputs": [],
   "source": []
  },
  {
   "cell_type": "code",
   "execution_count": null,
   "id": "6aead0ab-e8b7-433f-930b-ab2778118a8a",
   "metadata": {},
   "outputs": [],
   "source": []
  },
  {
   "cell_type": "code",
   "execution_count": null,
   "id": "6d1a1cb8-cc32-4a91-bc86-5a469b68e8cb",
   "metadata": {},
   "outputs": [],
   "source": []
  },
  {
   "cell_type": "code",
   "execution_count": null,
   "id": "fd005ee2-5b39-4ecb-a4cb-e4046b1435f9",
   "metadata": {},
   "outputs": [],
   "source": []
  },
  {
   "cell_type": "code",
   "execution_count": null,
   "id": "545db1b1-f1a8-4b8e-b1f8-c06b7b24f4f9",
   "metadata": {},
   "outputs": [],
   "source": []
  },
  {
   "cell_type": "code",
   "execution_count": null,
   "id": "3ef42b12-28c4-4bd4-8ba0-ab4a992b8773",
   "metadata": {},
   "outputs": [],
   "source": []
  }
 ],
 "metadata": {
  "kernelspec": {
   "display_name": "Python 3 (ipykernel)",
   "language": "python",
   "name": "python3"
  },
  "language_info": {
   "codemirror_mode": {
    "name": "ipython",
    "version": 3
   },
   "file_extension": ".py",
   "mimetype": "text/x-python",
   "name": "python",
   "nbconvert_exporter": "python",
   "pygments_lexer": "ipython3",
   "version": "3.12.5"
  }
 },
 "nbformat": 4,
 "nbformat_minor": 5
}
