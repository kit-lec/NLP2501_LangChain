{
 "cells": [
  {
   "cell_type": "markdown",
   "id": "46c3094b-614f-4ff2-9144-eef88d3a40c8",
   "metadata": {},
   "source": [
    "# RAG\n",
    "Retrieval Augmented Generation (검색증강생성)"
   ]
  },
  {
   "cell_type": "markdown",
   "id": "a8f0999c-43f1-447d-8f2e-6c047c47c880",
   "metadata": {},
   "source": [
    "# data 준비"
   ]
  },
  {
   "cell_type": "code",
   "execution_count": 2,
   "id": "611ddc74-347b-4693-932f-5540f31a341d",
   "metadata": {},
   "outputs": [],
   "source": [
    "# 아래와 같이 파일들을 준비합니다\n",
    "# 구글드라이브 사용자는 자신의 구글드라이브 공간에 생성해두시길 바랍니다\n",
    "\n",
    "# 출처는  조지오웰의 소설 '1984' Part1 Chapter1\n",
    "#  http://www.george-orwell.org/1984/0.html\n",
    "\n",
    "# 너무 길거나, 너무 짧지 않으면 좋습니다\n",
    "# 파일이 너무 길면 나중에 임베딩 과정에서 비용지출이 발생."
   ]
  },
  {
   "cell_type": "code",
   "execution_count": 3,
   "id": "4159c09a-c8cc-4bfe-aeaf-2796c1f923e5",
   "metadata": {},
   "outputs": [],
   "source": [
    "import os\n",
    "base_path = r'D:\\NLP2501\\dataset\\files'"
   ]
  },
  {
   "cell_type": "code",
   "execution_count": 4,
   "id": "6ad997e5-b8ee-4c5b-8cc1-2fa8f50e1534",
   "metadata": {},
   "outputs": [],
   "source": [
    "from langchain_openai.chat_models.base import ChatOpenAI"
   ]
  },
  {
   "cell_type": "code",
   "execution_count": 5,
   "id": "9b9f124b-e0a1-4bfc-862f-fcceebddce93",
   "metadata": {},
   "outputs": [],
   "source": [
    "llm = ChatOpenAI(temperature=0.1)"
   ]
  },
  {
   "cell_type": "markdown",
   "id": "298b2385-3079-4339-9cb2-61669ed276cd",
   "metadata": {},
   "source": [
    "# DataLoaders"
   ]
  },
  {
   "cell_type": "markdown",
   "id": "fa52881d-b83a-4b79-a9ec-e4bd5e538898",
   "metadata": {},
   "source": [
    "## Retrieve 란\n",
    "\n",
    "https://python.langchain.com/v0.1/docs/modules/data_connection/\n",
    "\n",
    "![](https://python.langchain.com/v0.1/assets/images/data_connection-95ff2033a8faa5f3ba41376c0f6dd32a.jpg)\n"
   ]
  },
  {
   "cell_type": "code",
   "execution_count": 6,
   "id": "5899f30d-f526-4620-b2aa-3d89c06b52c3",
   "metadata": {},
   "outputs": [],
   "source": [
    "# RAG 의 첫번째 단계인 Retrieval 의 일반적인 과정\n",
    "# - data source 에서 데이터 load\n",
    "# - 데이터는 split 하면서 transform\n",
    "# - transform 한 데이터를 embed.\n",
    "# - embed 된 데이터를 store 에 저장.\n"
   ]
  },
  {
   "cell_type": "markdown",
   "id": "e3bb7612-1380-4f29-861a-cf4d0225fcf5",
   "metadata": {},
   "source": [
    "## DataLoader 란"
   ]
  },
  {
   "cell_type": "code",
   "execution_count": 7,
   "id": "b6cf640f-8974-496b-81c6-6ce48b1113f2",
   "metadata": {},
   "outputs": [],
   "source": [
    "# 랭체인에서 제공하는 다양한 document loader 들이 있다\n",
    "# CSV, File Directory, HTML, JSON, Markdown, PDF 등\n",
    "# ※그 밖에서도 3rd party loader 들도 있다."
   ]
  },
  {
   "cell_type": "code",
   "execution_count": 8,
   "id": "8434afa3-a906-4c9a-a21e-1799f1ff5913",
   "metadata": {},
   "outputs": [],
   "source": [
    "\"\"\"\n",
    "Data Loader 는 소스에서 데이터를 추출하고 langchain 에 가져다 주는 코드다.\n",
    "\n",
    "정말 많은 document loader source 들이 제공된다. (함 보자 ↓)\n",
    "https://python.langchain.com/docs/integrations/document_loaders/#all-document-loaders\n",
    "\n",
    "GitHub, Figma, Facebook Caht, MS power point, slack, telegram, trello, Twitter 등..\n",
    "전부다 랭체인에서 활용해볼수 있다는 것이다.\n",
    "\n",
    "다양한 Data Loader 이지만 거의 동일한 API 인터페이스로 설계되어 있다.\n",
    "\"\"\"\n",
    "None"
   ]
  },
  {
   "cell_type": "markdown",
   "id": "759674c7-a257-4598-b703-0fbddbda0720",
   "metadata": {},
   "source": [
    "## TextLoader"
   ]
  },
  {
   "cell_type": "code",
   "execution_count": 9,
   "id": "30ec45fd-69be-40dc-a014-caa81fca192f",
   "metadata": {},
   "outputs": [],
   "source": [
    "# v0.3\n",
    "from langchain_community.document_loaders.text import TextLoader\n",
    "# https://python.langchain.com/api_reference/community/document_loaders/langchain_community.document_loaders.text.TextLoader.html\n",
    "# Load text file.\n"
   ]
  },
  {
   "cell_type": "code",
   "execution_count": 10,
   "id": "eb26b27f-cb3e-4271-bc75-7f05ad1c3c22",
   "metadata": {},
   "outputs": [],
   "source": [
    "loader = TextLoader(os.path.join(base_path, 'chapter_one.txt'))"
   ]
  },
  {
   "cell_type": "code",
   "execution_count": 11,
   "id": "e99c3c7f-1b34-41ad-9990-b1df5d15e019",
   "metadata": {},
   "outputs": [
    {
     "data": {
      "text/plain": [
       "[Document(metadata={'source': 'D:\\\\NLP2501\\\\dataset\\\\files\\\\chapter_one.txt'}, page_content=\"Part 1, Chapter 1\\n\\nPart One\\n\\n\\n1\\nIt was a bright cold day in April, and the clocks were striking thirteen. Winston Smith, his chin nuzzled into his breast in an effort to escape the vile wind, slipped quickly through the glass doors of Victory Mansions, though not quickly enough to prevent a swirl of gritty dust from entering along with him.\\n\\nThe hallway smelt of boiled cabbage and old rag mats. At one end of it a coloured poster, too large for indoor display, had been tacked to the wall. It depicted simply an enormous face, more than a metre wide: the face of a man of about forty-five, with a heavy black moustache and ruggedly handsome features. Winston made for the stairs. It was no use trying the lift. Even at the best of times it was seldom working, and at present the electric current was cut off during daylight hours. It was part of the economy drive in preparation for Hate Week. The flat was seven flights up, and Winston, who was thirty-nine and had a varicose ulcer above his right ankle, went slowly, resting several times on the way. On each landing, opposite the lift-shaft, the poster with the enormous face gazed from the wall. It was one of those pictures which are so contrived that the eyes follow you about when you move. BIG BROTHER IS WATCHING YOU, the caption beneath it ran.\\n\\nInside the flat a fruity voice was reading out a list of figures which had something to do with the production of pig-iron. The voice came from an oblong metal plaque like a dulled mirror which formed part of the surface of the right-hand wall. Winston turned a switch and the voice sank somewhat, though the words were still distinguishable. The instrument (the telescreen, it was called) could be dimmed, but there was no way of shutting it off completely. He moved over to the window: a smallish, frail figure, the meagreness of his body merely emphasized by the blue overalls which were the uniform of the party. His hair was very fair, his face naturally sanguine, his skin roughened by coarse soap and blunt razor blades and the cold of the winter that had just ended.\\n\\nOutside, even through the shut window-pane, the world looked cold. Down in the street little eddies of wind were whirling dust and torn paper into spirals, and though the sun was shining and the sky a harsh blue, there seemed to be no colour in anything, except the posters that were plastered everywhere. The blackmoustachio'd face gazed down from every commanding corner. There was one on the house-front immediately opposite. BIG BROTHER IS WATCHING YOU, the caption said, while the dark eyes looked deep into Winston's own. Down at streetlevel another poster, torn at one corner, flapped fitfully in the wind, alternately covering and uncovering the single word INGSOC. In the far distance a helicopter skimmed down between the roofs, hovered for an instant like a bluebottle, and darted away again with a curving flight. It was the police patrol, snooping into people's windows. The patrols did not matter, however. Only the Thought Police mattered.\\n\\nBehind Winston's back the voice from the telescreen was still babbling away about pig-iron and the overfulfilment of the Ninth Three-Year Plan. The telescreen received and transmitted simultaneously. Any sound that Winston made, above the level of a very low whisper, would be picked up by it, moreover, so long as he remained within the field of vision which the metal plaque commanded, he could be seen as well as heard. There was of course no way of knowing whether you were being watched at any given moment. How often, or on what system, the Thought Police plugged in on any individual wire was guesswork. It was even conceivable that they watched everybody all the time. But at any rate they could plug in your wire whenever they wanted to. You had to live -- did live, from habit that became instinct -- in the assumption that every sound you made was overheard, and, except in darkness, every movement scrutinized.\\n\\nWinston kept his back turned to the telescreen. It was safer, though, as he well knew, even a back can be revealing. A kilometre away the Ministry of Truth, his place of work, towered vast and white above the grimy landscape. This, he thought with a sort of vague distaste -- this was London, chief city of Airstrip One, itself the third most populous of the provinces of Oceania. He tried to squeeze out some childhood memory that should tell him whether London had always been quite like this. Were there always these vistas of rotting nineteenth-century houses, their sides shored up with baulks of timber, their windows patched with cardboard and their roofs with corrugated iron, their crazy garden walls sagging in all directions? And the bombed sites where the plaster dust swirled in the air and the willow-herb straggled over the heaps of rubble; and the places where the bombs had cleared a larger patch and there had sprung up sordid colonies of wooden dwellings like chicken-houses? But it was no use, he could not remember: nothing remained of his childhood except a series of bright-lit tableaux occurring against no background and mostly unintelligible.\\n\\nThe Ministry of Truth -- Minitrue, in Newspeak -- was startlingly different from any other object in sight. It was an enormous pyramidal structure of glittering white concrete, soaring up, terrace after terrace, 300 metres into the air. From where Winston stood it was just possible to read, picked out on its white face in elegant lettering, the three slogans of the Party:\\n\\nWAR IS PEACE\\n\\nFREEDOM IS SLAVERY\\n\\nIGNORANCE IS STRENGTH\\n\\nThe Ministry of Truth contained, it was said, three thousand rooms above ground level, and corresponding ramifications below. Scattered about London there were just three other buildings of similar appearance and size. So completely did they dwarf the surrounding architecture that from the roof of Victory Mansions you could see all four of them simultaneously. They were the homes of the four Ministries between which the entire apparatus of government was divided. The Ministry of Truth, which concerned itself with news, entertainment, education, and the fine arts. The Ministry of Peace, which concerned itself with war. The Ministry of Love, which maintained law and order. And the Ministry of Plenty, which was responsible for economic affairs. Their names, in Newspeak: Minitrue, Minipax, Miniluv, and Miniplenty.\\n\\nThe Ministry of Love was the really frightening one. There were no windows in it at all. Winston had never been inside the Ministry of Love, nor within half a kilometre of it. It was a place impossible to enter except on official business, and then only by penetrating through a maze of barbed-wire entanglements, steel doors, and hidden machine-gun nests. Even the streets leading up to its outer barriers were roamed by gorilla-faced guards in black uniforms, armed with jointed truncheons.\\n\\nWinston turned round abruptly. He had set his features into the expression of quiet optimism which it was advisable to wear when facing the telescreen. He crossed the room into the tiny kitchen. By leaving the Ministry at this time of day he had sacrificed his lunch in the canteen, and he was aware that there was no food in the kitchen except a hunk of dark-coloured bread which had got to be saved for tomorrow's breakfast. He took down from the shelf a bottle of colourless liquid with a plain white label marked VICTORY GIN. It gave off a sickly, oily smell, as of Chinese ricespirit. Winston poured out nearly a teacupful, nerved himself for a shock, and gulped it down like a dose of medicine.\\n\\nInstantly his face turned scarlet and the water ran out of his eyes. The stuff was like nitric acid, and moreover, in swallowing it one had the sensation of being hit on the back of the head with a rubber club. The next moment, however, the burning in his belly died down and the world began to look more cheerful. He took a cigarette from a crumpled packet marked VICTORY CIGARETTES and incautiously held it upright, whereupon the tobacco fell out on to the floor. With the next he was more successful. He went back to the living-room and sat down at a small table that stood to the left of the telescreen. From the table drawer he took out a penholder, a bottle of ink, and a thick, quarto-sized blank book with a red back and a marbled cover.\\n\\nFor some reason the telescreen in the living-room was in an unusual position. Instead of being placed, as was normal, in the end wall, where it could command the whole room, it was in the longer wall, opposite the window. To one side of it there was a shallow alcove in which Winston was now sitting, and which, when the flats were built, had probably been intended to hold bookshelves. By sitting in the alcove, and keeping well back, Winston was able to remain outside the range of the telescreen, so far as sight went. He could be heard, of course, but so long as he stayed in his present position he could not be seen. It was partly the unusual geography of the room that had suggested to him the thing that he was now about to do.\\n\\nBut it had also been suggested by the book that he had just taken out of the drawer. It was a peculiarly beautiful book. Its smooth creamy paper, a little yellowed by age, was of a kind that had not been manufactured for at least forty years past. He could guess, however, that the book was much older than that. He had seen it lying in the window of a frowsy little junk-shop in a slummy quarter of the town (just what quarter he did not now remember) and had been stricken immediately by an overwhelming desire to possess it. Party members were supposed not to go into ordinary shops ('dealing on the free market', it was called), but the rule was not strictly kept, because there were various things, such as shoelaces and razor blades, which it was impossible to get hold of in any other way. He had given a quick glance up and down the street and then had slipped inside and bought the book for two dollars fifty. At the time he was not conscious of wanting it for any particular purpose. He had carried it guiltily home in his briefcase. Even with nothing written in it, it was a compromising possession.\\n\\nThe thing that he was about to do was to open a diary. This was not illegal (nothing was illegal, since there were no longer any laws), but if detected it was reasonably certain that it would be punished by death, or at least by twenty-five years in a forced-labour camp. Winston fitted a nib into the penholder and sucked it to get the grease off. The pen was an archaic instrument, seldom used even for signatures, and he had procured one, furtively and with some difficulty, simply because of a feeling that the beautiful creamy paper deserved to be written on with a real nib instead of being scratched with an ink-pencil. Actually he was not used to writing by hand. Apart from very short notes, it was usual to dictate everything into the speakwrite which was of course impossible for his present purpose. He dipped the pen into the ink and then faltered for just a second. A tremor had gone through his bowels. To mark the paper was the decisive act. In small clumsy letters he wrote:\\n\\nApril 4th, 1984.\\n\\nHe sat back. A sense of complete helplessness had descended upon him. To begin with, he did not know with any certainty that this was 1984. It must be round about that date, since he was fairly sure that his age was thirty-nine, and he believed that he had been born in 1944 or 1945; but it was never possible nowadays to pin down any date within a year or two.\\n\\nFor whom, it suddenly occurred to him to wonder, was he writing this diary? For the future, for the unborn. His mind hovered for a moment round the doubtful date on the page, and then fetched up with a bump against the Newspeak word doublethink. For the first time the magnitude of what he had undertaken came home to him. How could you communicate with the future? It was of its nature impossible. Either the future would resemble the present, in which case it would not listen to him: or it would be different from it, and his predicament would be meaningless.\\n\\nFor some time he sat gazing stupidly at the paper. The telescreen had changed over to strident military music. It was curious that he seemed not merely to have lost the power of expressing himself, but even to have forgotten what it was that he had originally intended to say. For weeks past he had been making ready for this moment, and it had never crossed his mind that anything would be needed except courage. The actual writing would be easy. All he had to do was to transfer to paper the interminable restless monologue that had been running inside his head, literally for years. At this moment, however, even the monologue had dried up. Moreover his varicose ulcer had begun itching unbearably. He dared not scratch it, because if he did so it always became inflamed. The seconds were ticking by. He was conscious of nothing except the blankness of the page in front of him, the itching of the skin above his ankle, the blaring of the music, and a slight booziness caused by the gin.\\n\\nSuddenly he began writing in sheer panic, only imperfectly aware of what he was setting down. His small but childish handwriting straggled up and down the page, shedding first its capital letters and finally even its full stops:\\n\\nApril 4th, 1984. Last night to the flicks. All war films. One very good one of a ship full of refugees being bombed somewhere in the Mediterranean. Audience much amused by shots of a great huge fat man trying to swim away with a helicopter after him, first you saw him wallowing along in the water like a porpoise, then you saw him through the helicopters gunsights, then he was full of holes and the sea round him turned pink and he sank as suddenly as though the holes had let in the water, audience shouting with laughter when he sank. then you saw a lifeboat full of children with a helicopter hovering over it. there was a middle-aged woman might have been a jewess sitting up in the bow with a little boy about three years old in her arms. little boy screaming with fright and hiding his head between her breasts as if he was trying to burrow right into her and the woman putting her arms round him and comforting him although she was blue with fright herself, all the time covering him up as much as possible as if she thought her arms could keep the bullets off him. then the helicopter planted a 20 kilo bomb in among them terrific flash and the boat went all to matchwood. then there was a wonderful shot of a child's arm going up up up right up into the air a helicopter with a camera in its nose must have followed it up and there was a lot of applause from the party seats but a woman down in the prole part of the house suddenly started kicking up a fuss and shouting they didnt oughter of showed it not in front of kids they didnt it aint right not in front of kids it aint until the police turned her turned her out i dont suppose anything happened to her nobody cares what the proles say typical prole reaction they never --\\n\\nWinston stopped writing, partly because he was suffering from cramp. He did not know what had made him pour out this stream of rubbish. But the curious thing was that while he was doing so a totally different memory had clarified itself in his mind, to the point where he almost felt equal to writing it down. It was, he now realized, because of this other incident that he had suddenly decided to come home and begin the diary today.\\n\\nIt had happened that morning at the Ministry, if anything so nebulous could be said to happen.\\n\\nIt was nearly eleven hundred, and in the Records Department, where Winston worked, they were dragging the chairs out of the cubicles and grouping them in the centre of the hall opposite the big telescreen, in preparation for the Two Minutes Hate. Winston was just taking his place in one of the middle rows when two people whom he knew by sight, but had never spoken to, came unexpectedly into the room. One of them was a girl whom he often passed in the corridors. He did not know her name, but he knew that she worked in the Fiction Department. Presumably -- since he had sometimes seen her with oily hands and carrying a spanner she had some mechanical job on one of the novel-writing machines. She was a bold-looking girl, of about twenty-seven, with thick hair, a freckled face, and swift, athletic movements. A narrow scarlet sash, emblem of the Junior Anti-Sex League, was wound several times round the waist of her overalls, just tightly enough to bring out the shapeliness of her hips. Winston had disliked her from the very first moment of seeing her. He knew the reason. It was because of the atmosphere of hockey-fields and cold baths and community hikes and general clean-mindedness which she managed to carry about with her. He disliked nearly all women, and especially the young and pretty ones. It was always the women, and above all the young ones, who were the most bigoted adherents of the Party, the swallowers of slogans, the amateur spies and nosers-out of unorthodoxy. But this particular girl gave him the impression of being more dangerous than most. Once when they passed in the corridor she gave him a quick sidelong glance which seemed to pierce right into him and for a moment had filled him with black terror. The idea had even crossed his mind that she might be an agent of the Thought Police. That, it was true, was very unlikely. Still, he continued to feel a peculiar uneasiness, which had fear mixed up in it as well as hostility, whenever she was anywhere near him.\\n\\nThe other person was a man named O'Brien, a member of the Inner Party and holder of some post so important and remote that Winston had only a dim idea of its nature. A momentary hush passed over the group of people round the chairs as they saw the black overalls of an Inner Party member approaching. O'Brien was a large, burly man with a thick neck and a coarse, humorous, brutal face. In spite of his formidable appearance he had a certain charm of manner. He had a trick of resettling his spectacles on his nose which was curiously disarming -- in some indefinable way, curiously civilized. It was a gesture which, if anyone had still thought in such terms, might have recalled an eighteenth-century nobleman offering his snuffbox. Winston had seen O'Brien perhaps a dozen times in almost as many years. He felt deeply drawn to him, and not solely because he was intrigued by the contrast between O'Brien's urbane manner and his prize-fighter's physique. Much more it was because of a secretly held belief -- or perhaps not even a belief, merely a hope -- that O'Brien's political orthodoxy was not perfect. Something in his face suggested it irresistibly. And again, perhaps it was not even unorthodoxy that was written in his face, but simply intelligence. But at any rate he had the appearance of being a person that you could talk to if somehow you could cheat the telescreen and get him alone. Winston had never made the smallest effort to verify this guess: indeed, there was no way of doing so. At this moment O'Brien glanced at his wrist-watch, saw that it was nearly eleven hundred, and evidently decided to stay in the Records Department until the Two Minutes Hate was over. He took a chair in the same row as Winston, a couple of places away. A small, sandy-haired woman who worked in the next cubicle to Winston was between them. The girl with dark hair was sitting immediately behind.\\n\\nThe next moment a hideous, grinding speech, as of some monstrous machine running without oil, burst from the big telescreen at the end of the room. It was a noise that set one's teeth on edge and bristled the hair at the back of one's neck. The Hate had started.\\n\\nAs usual, the face of Emmanuel Goldstein, the Enemy of the People, had flashed on to the screen. There were hisses here and there among the audience. The little sandy-haired woman gave a squeak of mingled fear and disgust. Goldstein was the renegade and backslider who once, long ago (how long ago, nobody quite remembered), had been one of the leading figures of the Party, almost on a level with Big Brother himself, and then had engaged in counter-revolutionary activities, had been condemned to death, and had mysteriously escaped and disappeared. The programmes of the Two Minutes Hate varied from day to day, but there was none in which Goldstein was not the principal figure. He was the primal traitor, the earliest defiler of the Party's purity. All subsequent crimes against the Party, all treacheries, acts of sabotage, heresies, deviations, sprang directly out of his teaching. Somewhere or other he was still alive and hatching his conspiracies: perhaps somewhere beyond the sea, under the protection of his foreign paymasters, perhaps even -- so it was occasionally rumoured -- in some hiding-place in Oceania itself.\\n\\nWinston's diaphragm was constricted. He could never see the face of Goldstein without a painful mixture of emotions. It was a lean Jewish face, with a great fuzzy aureole of white hair and a small goatee beard -- a clever face, and yet somehow inherently despicable, with a kind of senile silliness in the long thin nose, near the end of which a pair of spectacles was perched. It resembled the face of a sheep, and the voice, too, had a sheep-like quality. Goldstein was delivering his usual venomous attack upon the doctrines of the Party -- an attack so exaggerated and perverse that a child should have been able to see through it, and yet just plausible enough to fill one with an alarmed feeling that other people, less level-headed than oneself, might be taken in by it. He was abusing Big Brother, he was denouncing the dictatorship of the Party, he was demanding the immediate conclusion of peace with Eurasia, he was advocating freedom of speech, freedom of the Press, freedom of assembly, freedom of thought, he was crying hysterically that the revolution had been betrayed -- and all this in rapid polysyllabic speech which was a sort of parody of the habitual style of the orators of the Party, and even contained Newspeak words: more Newspeak words, indeed, than any Party member would normally use in real life. And all the while, lest one should be in any doubt as to the reality which Goldstein's specious claptrap covered, behind his head on the telescreen there marched the endless columns of the Eurasian army -- row after row of solid-looking men with expressionless Asiatic faces, who swam up to the surface of the screen and vanished, to be replaced by others exactly similar. The dull rhythmic tramp of the soldiers' boots formed the background to Goldstein's bleating voice.\\n\\nBefore the Hate had proceeded for thirty seconds, uncontrollable exclamations of rage were breaking out from half the people in the room. The self-satisfied sheep-like face on the screen, and the terrifying power of the Eurasian army behind it, were too much to be borne: besides, the sight or even the thought of Goldstein produced fear and anger automatically. He was an object of hatred more constant than either Eurasia or Eastasia, since when Oceania was at war with one of these Powers it was generally at peace with the other. But what was strange was that although Goldstein was hated and despised by everybody, although every day and a thousand times a day, on platforms, on the telescreen, in newspapers, in books, his theories were refuted, smashed, ridiculed, held up to the general gaze for the pitiful rubbish that they were in spite of all this, his influence never seemed to grow less. Always there were fresh dupes waiting to be seduced by him. A day never passed when spies and saboteurs acting under his directions were not unmasked by the Thought Police. He was the commander of a vast shadowy army, an underground network of conspirators dedicated to the overthrow of the State. The Brotherhood, its name was supposed to be. There were also whispered stories of a terrible book, a compendium of all the heresies, of which Goldstein was the author and which circulated clandestinely here and there. It was a book without a title. People referred to it, if at all, simply as the book. But one knew of such things only through vague rumours. Neither the Brotherhood nor the book was a subject that any ordinary Party member would mention if there was a way of avoiding it.\\n\\nIn its second minute the Hate rose to a frenzy. People were leaping up and down in their places and shouting at the tops of their voices in an effort to drown the maddening bleating voice that came from the screen. The little sandy-haired woman had turned bright pink, and her mouth was opening and shutting like that of a landed fish. Even O'Brien's heavy face was flushed. He was sitting very straight in his chair, his powerful chest swelling and quivering as though he were standing up to the assault of a wave. The dark-haired girl behind Winston had begun crying out 'Swine! Swine! Swine!' and suddenly she picked up a heavy Newspeak dictionary and flung it at the screen. It struck Goldstein's nose and bounced off; the voice continued inexorably. In a lucid moment Winston found that he was shouting with the others and kicking his heel violently against the rung of his chair. The horrible thing about the Two Minutes Hate was not that one was obliged to act a part, but, on the contrary, that it was impossible to avoid joining in. Within thirty seconds any pretence was always unnecessary. A hideous ecstasy of fear and vindictiveness, a desire to kill, to torture, to smash faces in with a sledge-hammer, seemed to flow through the whole group of people like an electric current, turning one even against one's will into a grimacing, screaming lunatic. And yet the rage that one felt was an abstract, undirected emotion which could be switched from one object to another like the flame of a blowlamp. Thus, at one moment Winston's hatred was not turned against Goldstein at all, but, on the contrary, against Big Brother, the Party, and the Thought Police; and at such moments his heart went out to the lonely, derided heretic on the screen, sole guardian of truth and sanity in a world of lies. And yet the very next instant he was at one with the people about him, and all that was said of Goldstein seemed to him to be true. At those moments his secret loathing of Big Brother changed into adoration, and Big Brother seemed to tower up, an invincible, fearless protector, standing like a rock against the hordes of Asia, and Goldstein, in spite of his isolation, his helplessness, and the doubt that hung about his very existence, seemed like some sinister enchanter, capable by the mere power of his voice of wrecking the structure of civilization.\\n\\nIt was even possible, at moments, to switch one's hatred this way or that by a voluntary act. Suddenly, by the sort of violent effort with which one wrenches one's head away from the pillow in a nightmare, Winston succeeded in transferring his hatred from the face on the screen to the dark-haired girl behind him. Vivid, beautiful hallucinations flashed through his mind. He would flog her to death with a rubber truncheon. He would tie her naked to a stake and shoot her full of arrows like Saint Sebastian. He would ravish her and cut her throat at the moment of climax. Better than before, moreover, he realized why it was that he hated her. He hated her because she was young and pretty and sexless, because he wanted to go to bed with her and would never do so, because round her sweet supple waist, which seemed to ask you to encircle it with your arm, there was only the odious scarlet sash, aggressive symbol of chastity.\\n\\nThe Hate rose to its climax. The voice of Goldstein had become an actual sheep's bleat, and for an instant the face changed into that of a sheep. Then the sheep-face melted into the figure of a Eurasian soldier who seemed to be advancing, huge and terrible, his sub-machine gun roaring, and seeming to spring out of the surface of the screen, so that some of the people in the front row actually flinched backwards in their seats. But in the same moment, drawing a deep sigh of relief from everybody, the hostile figure melted into the face of Big Brother, black-haired, black-moustachio'd, full of power and mysterious calm, and so vast that it almost filled up the screen. Nobody heard what Big Brother was saying. It was merely a few words of encouragement, the sort of words that are uttered in the din of battle, not distinguishable individually but restoring confidence by the fact of being spoken. Then the face of Big Brother faded away again, and instead the three slogans of the Party stood out in bold capitals:\\n\\nWAR IS PEACE\\n\\nFREEDOM IS SLAVERY\\n\\nIGNORANCE IS STRENGTH\\n\\nBut the face of Big Brother seemed to persist for several seconds on the screen, as though the impact that it had made on everyone's eyeballs was too vivid to wear off immediately. The little sandyhaired woman had flung herself forward over the back of the chair in front of her. With a tremulous murmur that sounded like 'My Saviour!' she extended her arms towards the screen. Then she buried her face in her hands. It was apparent that she was uttering a prayer.\\n\\nAt this moment the entire group of people broke into a deep, slow, rhythmical chant of 'B-B! ...B-B!' -- over and over again, very slowly, with a long pause between the first 'B' and the second-a heavy, murmurous sound, somehow curiously savage, in the background of which one seemed to hear the stamp of naked feet and the throbbing of tom-toms. For perhaps as much as thirty seconds they kept it up. It was a refrain that was often heard in moments of overwhelming emotion. Partly it was a sort of hymn to the wisdom and majesty of Big Brother, but still more it was an act of self-hypnosis, a deliberate drowning of consciousness by means of rhythmic noise. Winston's entrails seemed to grow cold. In the Two Minutes Hate he could not help sharing in the general delirium, but this sub-human chanting of 'B-B! ...B-B!' always filled him with horror. Of course he chanted with the rest: it was impossible to do otherwise. To dissemble your feelings, to control your face, to do what everyone else was doing, was an instinctive reaction. But there was a space of a couple of seconds during which the expression of his eyes might conceivably have betrayed him. And it was exactly at this moment that the significant thing happened -- if, indeed, it did happen.\\n\\nMomentarily he caught O'Brien's eye. O'Brien had stood up. He had taken off his spectacles and was in the act of resettling them on his nose with his characteristic gesture. But there was a fraction of a second when their eyes met, and for as long as it took to happen Winston knew-yes, he knew!-that O'Brien was thinking the same thing as himself. An unmistakable message had passed. It was as though their two minds had opened and the thoughts were flowing from one into the other through their eyes. 'I am with you,' O'Brien seemed to be saying to him. 'I know precisely what you are feeling. I know all about your contempt, your hatred, your disgust. But don't worry, I am on your side!' And then the flash of intelligence was gone, and O'Brien's face was as inscrutable as everybody else's.\\n\\nThat was all, and he was already uncertain whether it had happened. Such incidents never had any sequel. All that they did was to keep alive in him the belief, or hope, that others besides himself were the enemies of the Party. Perhaps the rumours of vast underground conspiracies were true after all -- perhaps the Brotherhood really existed! It was impossible, in spite of the endless arrests and confessions and executions, to be sure that the Brotherhood was not simply a myth. Some days he believed in it, some days not. There was no evidence, only fleeting glimpses that might mean anything or nothing: snatches of overheard conversation, faint scribbles on lavatory walls -- once, even, when two strangers met, a small movement of the hand which had looked as though it might be a signal of recognition. It was all guesswork: very likely he had imagined everything. He had gone back to his cubicle without looking at O'Brien again. The idea of following up their momentary contact hardly crossed his mind. It would have been inconceivably dangerous even if he had known how to set about doing it. For a second, two seconds, they had exchanged an equivocal glance, and that was the end of the story. But even that was a memorable event, in the locked loneliness in which one had to live.\\n\\nWinston roused himself and sat up straighter. He let out a belch. The gin was rising from his stomach.\\n\\nHis eyes re-focused on the page. He discovered that while he sat helplessly musing he had also been writing, as though by automatic action. And it was no longer the same cramped, awkward handwriting as before. His pen had slid voluptuously over the smooth paper, printing in large neat capitals -\\n\\nDOWN WITH BIG BROTHER\\n\\nDOWN WITH BIG BROTHER\\n\\nDOWN WITH BIG BROTHER\\n\\nDOWN WITH BIG BROTHER\\n\\nDOWN WITH BIG BROTHER\\n\\nover and over again, filling half a page.\\n\\nHe could not help feeling a twinge of panic. It was absurd, since the writing of those particular words was not more dangerous than the initial act of opening the diary, but for a moment he was tempted to tear out the spoiled pages and abandon the enterprise altogether.\\n\\nHe did not do so, however, because he knew that it was useless. Whether he wrote DOWN WITH BIG BROTHER, or whether he refrained from writing it, made no difference. Whether he went on with the diary, or whether he did not go on with it, made no difference. The Thought Police would get him just the same. He had committed -- would still have committed, even if he had never set pen to paper -- the essential crime that contained all others in itself. Thoughtcrime, they called it. Thoughtcrime was not a thing that could be concealed for ever. You might dodge successfully for a while, even for years, but sooner or later they were bound to get you.\\n\\nIt was always at night -- the arrests invariably happened at night. The sudden jerk out of sleep, the rough hand shaking your shoulder, the lights glaring in your eyes, the ring of hard faces round the bed. In the vast majority of cases there was no trial, no report of the arrest. People simply disappeared, always during the night. Your name was removed from the registers, every record of everything you had ever done was wiped out, your one-time existence was denied and then forgotten. You were abolished, annihilated: vaporized was the usual word.\\n\\nFor a moment he was seized by a kind of hysteria. He began writing in a hurried untidy scrawl:\\n\\ntheyll shoot me i don't care theyll shoot me in the back of the neck i dont care down with big brother they always shoot you in the back of the neck i dont care down with big brother --\\n\\nHe sat back in his chair, slightly ashamed of himself, and laid down the pen. The next moment he started violently. There was a knocking at the door.\\n\\nAlready! He sat as still as a mouse, in the futile hope that whoever it was might go away after a single attempt. But no, the knocking was repeated. The worst thing of all would be to delay. His heart was thumping like a drum, but his face, from long habit, was probably expressionless. He got up and moved heavily towards the door.\")]"
      ]
     },
     "execution_count": 11,
     "metadata": {},
     "output_type": "execute_result"
    }
   ],
   "source": [
    "loader.load()\n",
    "\n",
    "# ↓ List[Document] 객체 리턴\n",
    "# [Document(\n",
    "#   metadata={..},\n",
    "#   page_content=\"...\",\n",
    "# )]"
   ]
  },
  {
   "cell_type": "markdown",
   "id": "a11071f1-28cf-43df-906c-268182703f8a",
   "metadata": {},
   "source": [
    "## PyPDFLoader"
   ]
  },
  {
   "cell_type": "code",
   "execution_count": 12,
   "id": "1ba8f68d-3f6e-4b64-90d5-b88e6852cd25",
   "metadata": {},
   "outputs": [],
   "source": [
    "# v0.3\n",
    "from langchain_community.document_loaders.pdf import PyPDFLoader\n",
    "\n",
    "# https://python.langchain.com/api_reference/community/document_loaders/langchain_community.document_loaders.pdf.PyPDFLoader.html\n",
    "# PyPDFLoader document loader integration"
   ]
  },
  {
   "cell_type": "code",
   "execution_count": 13,
   "id": "9213d2d5-84f7-4978-8b91-efa24fbf4c44",
   "metadata": {},
   "outputs": [
    {
     "data": {
      "text/plain": [
       "[Document(metadata={'producer': 'Microsoft® Word 2016', 'creator': 'Microsoft® Word 2016', 'creationdate': '2025-01-30T23:19:00+09:00', 'author': 'Yeonchul Sung', 'moddate': '2025-01-30T23:19:00+09:00', 'source': 'D:\\\\NLP2501\\\\dataset\\\\files\\\\chapter_one.pdf', 'total_pages': 15, 'page': 0, 'page_label': '1'}, page_content='Part 1, Chapter 1 \\n \\n \\nPart One \\n \\n \\n1 \\nIt was a bright cold day in April, and the clocks were striking thirteen. Winston Smith, his \\nchin nuzzled into his breast in an effort to escape the vile wind, slipped quickly through \\nthe glass doors of Victory Mansions, though not quickly enough to prevent a swirl of \\ngritty dust from entering along with him. \\n \\nThe hallway smelt of boiled cabbage and old rag mats. At one end of it a coloured \\nposter, too large for indoor display, had been tacked to the wall. It depicted simply an \\nenormous face, more than a metre wide: the face of a man of about forty-five, with a \\nheavy black moustache and ruggedly handsome features. Winston made for the stairs. It \\nwas no use trying the lift. Even at the best of times it was seldom working, and at \\npresent the electric current was cut off during daylight hours. It was part of the economy \\ndrive in preparation for Hate Week. The flat was seven flights up, and Winston, who was \\nthirty-nine and had a varicose ulcer above his right ankle, went slowly, resting several \\ntimes on the way. On each landing, opposite the lift-shaft, the poster with the enormous \\nface gazed from the wall. It was one of those pictures which are so contrived that the \\neyes follow you about when you move. BIG BROTHER IS WATCHING YOU, the caption \\nbeneath it ran. \\n \\nInside the flat a fruity voice was reading out a list of figures which had something to do \\nwith the production of pig-iron. The voice came from an oblong metal plaque like a \\ndulled mirror which formed part of the surface of the right-hand wall. Winston turned a \\nswitch and the voice sank somewhat, though the words were still distinguishable. The \\ninstrument (the telescreen, it was called) could be dimmed, but there was no way of \\nshutting it off completely. He moved over to the window: a smallish, frail figure, the \\nmeagreness of his body merely emphasized by the blue overalls which were the uniform \\nof the party. His hair was very fair, his face naturally sanguine, his skin roughened by \\ncoarse soap and blunt razor blades and the cold of the winter that had just ended.'),\n",
       " Document(metadata={'producer': 'Microsoft® Word 2016', 'creator': 'Microsoft® Word 2016', 'creationdate': '2025-01-30T23:19:00+09:00', 'author': 'Yeonchul Sung', 'moddate': '2025-01-30T23:19:00+09:00', 'source': 'D:\\\\NLP2501\\\\dataset\\\\files\\\\chapter_one.pdf', 'total_pages': 15, 'page': 1, 'page_label': '2'}, page_content=\"Outside, even through the shut window-pane, the world looked cold. Down in the street \\nlittle eddies of wind were whirling dust and torn paper into spirals, and though the sun \\nwas shining and the sky a harsh blue, there seemed to be no colour in anything, except \\nthe posters that were plastered everywhere. The blackmoustachio'd face gazed down \\nfrom every commanding corner. There was one on the house-front immediately \\nopposite. BIG BROTHER IS WATCHING YOU, the caption said, while the dark eyes looked \\ndeep into Winston's own. Down at streetlevel another poster, torn at one corner, flapped \\nfitfully in the wind, alternately covering and uncovering the single word INGSOC. In the \\nfar distance a helicopter skimmed down between the roofs, hovered for an instant like a \\nbluebottle, and darted away again with a curving flight. It was the police patrol, \\nsnooping into people's windows. The patrols did not matter, however. Only the Thought \\nPolice mattered. \\n \\nBehind Winston's back the voice from the telescreen was still babbling away about pig-\\niron and the overfulfilment of the Ninth Three-Year Plan. The telescreen received and \\ntransmitted simultaneously. Any sound that Winston made, above the level of a very low \\nwhisper, would be picked up by it, moreover, so long as he remained within the field of \\nvision which the metal plaque commanded, he could be seen as well as heard. There was \\nof course no way of knowing whether you were being watched at any given moment. \\nHow often, or on what system, the Thought Police plugged in on any individual wire was \\nguesswork. It was even conceivable that they watched everybody all the time. But at any \\nrate they could plug in your wire whenever they wanted to. You had to live -- did live, \\nfrom habit that became instinct -- in the assumption that every sound you made was \\noverheard, and, except in darkness, every movement scrutinized. \\n \\nWinston kept his back turned to the telescreen. It was safer, though, as he well knew, \\neven a back can be revealing. A kilometre away the Ministry of Truth, his place of work, \\ntowered vast and white above the grimy landscape. This, he thought with a sort of vague \\ndistaste -- this was London, chief city of Airstrip One, itself the third most populous of \\nthe provinces of Oceania. He tried to squeeze out some childhood memory that should \\ntell him whether London had always been quite like this. Were there always these vistas \\nof rotting nineteenth-century houses, their sides shored up with baulks of timber, their \\nwindows patched with cardboard and their roofs with corrugated iron, their crazy garden \\nwalls sagging in all directions? And the bombed sites where the plaster dust swirled in \\nthe air and the willow-herb straggled over the heaps of rubble; and the places where the\"),\n",
       " Document(metadata={'producer': 'Microsoft® Word 2016', 'creator': 'Microsoft® Word 2016', 'creationdate': '2025-01-30T23:19:00+09:00', 'author': 'Yeonchul Sung', 'moddate': '2025-01-30T23:19:00+09:00', 'source': 'D:\\\\NLP2501\\\\dataset\\\\files\\\\chapter_one.pdf', 'total_pages': 15, 'page': 2, 'page_label': '3'}, page_content='bombs had cleared a larger patch and there had sprung up sordid colonies of wooden \\ndwellings like chicken-houses? But it was no use, he could not remember: nothing \\nremained of his childhood except a series of bright-lit tableaux occurring against no \\nbackground and mostly unintelligible. \\n \\nThe Ministry of Truth -- Minitrue, in Newspeak -- was startlingly different from any other \\nobject in sight. It was an enormous pyramidal structure of glittering white concrete, \\nsoaring up, terrace after terrace, 300 metres into the air. From where Winston stood it \\nwas just possible to read, picked out on its white face in elegant lettering, the three \\nslogans of the Party: \\n \\nWAR IS PEACE \\n \\nFREEDOM IS SLAVERY \\n \\nIGNORANCE IS STRENGTH \\n \\nThe Ministry of Truth contained, it was said, three thousand rooms above ground level, \\nand corresponding ramifications below. Scattered about London there were just three \\nother buildings of similar appearance and size. So completely did they dwarf the \\nsurrounding architecture that from the roof of Victory Mansions you could see all four of \\nthem simultaneously. They were the homes of the four Ministries between which the \\nentire apparatus of government was divided. The Ministry of Truth, which concerned \\nitself with news, entertainment, education, and the fine arts. The Ministry of Peace, which \\nconcerned itself with war. The Ministry of Love, which maintained law and order. And the \\nMinistry of Plenty, which was responsible for economic affairs. Their names, in Newspeak: \\nMinitrue, Minipax, Miniluv, and Miniplenty. \\n \\nThe Ministry of Love was the really frightening one. There were no windows in it at all. \\nWinston had never been inside the Ministry of Love, nor within half a kilometre of it. It \\nwas a place impossible to enter except on official business, and then only by penetrating \\nthrough a maze of barbed-wire entanglements, steel doors, and hidden machine-gun \\nnests. Even the streets leading up to its outer barriers were roamed by gorilla-faced \\nguards in black uniforms, armed with jointed truncheons.'),\n",
       " Document(metadata={'producer': 'Microsoft® Word 2016', 'creator': 'Microsoft® Word 2016', 'creationdate': '2025-01-30T23:19:00+09:00', 'author': 'Yeonchul Sung', 'moddate': '2025-01-30T23:19:00+09:00', 'source': 'D:\\\\NLP2501\\\\dataset\\\\files\\\\chapter_one.pdf', 'total_pages': 15, 'page': 3, 'page_label': '4'}, page_content=\"Winston turned round abruptly. He had set his features into the expression of quiet \\noptimism which it was advisable to wear when facing the telescreen. He crossed the \\nroom into the tiny kitchen. By leaving the Ministry at this time of day he had sacrificed \\nhis lunch in the canteen, and he was aware that there was no food in the kitchen except \\na hunk of dark-coloured bread which had got to be saved for tomorrow's breakfast. He \\ntook down from the shelf a bottle of colourless liquid with a plain white label marked \\nVICTORY GIN. It gave off a sickly, oily smell, as of Chinese ricespirit. Winston poured out \\nnearly a teacupful, nerved himself for a shock, and gulped it down like a dose of \\nmedicine. \\n \\nInstantly his face turned scarlet and the water ran out of his eyes. The stuff was like nitric \\nacid, and moreover, in swallowing it one had the sensation of being hit on the back of \\nthe head with a rubber club. The next moment, however, the burning in his belly died \\ndown and the world began to look more cheerful. He took a cigarette from a crumpled \\npacket marked VICTORY CIGARETTES and incautiously held it upright, whereupon the \\ntobacco fell out on to the floor. With the next he was more successful. He went back to \\nthe living-room and sat down at a small table that stood to the left of the telescreen. \\nFrom the table drawer he took out a penholder, a bottle of ink, and a thick, quarto-sized \\nblank book with a red back and a marbled cover. \\n \\nFor some reason the telescreen in the living-room was in an unusual position. Instead of \\nbeing placed, as was normal, in the end wall, where it could command the whole room, \\nit was in the longer wall, opposite the window. To one side of it there was a shallow \\nalcove in which Winston was now sitting, and which, when the flats were built, had \\nprobably been intended to hold bookshelves. By sitting in the alcove, and keeping well \\nback, Winston was able to remain outside the range of the telescreen, so far as sight \\nwent. He could be heard, of course, but so long as he stayed in his present position he \\ncould not be seen. It was partly the unusual geography of the room that had suggested \\nto him the thing that he was now about to do. \\n \\nBut it had also been suggested by the book that he had just taken out of the drawer. It \\nwas a peculiarly beautiful book. Its smooth creamy paper, a little yellowed by age, was of \\na kind that had not been manufactured for at least forty years past. He could guess, \\nhowever, that the book was much older than that. He had seen it lying in the window of \\na frowsy little junk-shop in a slummy quarter of the town (just what quarter he did not\"),\n",
       " Document(metadata={'producer': 'Microsoft® Word 2016', 'creator': 'Microsoft® Word 2016', 'creationdate': '2025-01-30T23:19:00+09:00', 'author': 'Yeonchul Sung', 'moddate': '2025-01-30T23:19:00+09:00', 'source': 'D:\\\\NLP2501\\\\dataset\\\\files\\\\chapter_one.pdf', 'total_pages': 15, 'page': 4, 'page_label': '5'}, page_content=\"now remember) and had been stricken immediately by an overwhelming desire to \\npossess it. Party members were supposed not to go into ordinary shops ('dealing on the \\nfree market', it was called), but the rule was not strictly kept, because there were various \\nthings, such as shoelaces and razor blades, which it was impossible to get hold of in any \\nother way. He had given a quick glance up and down the street and then had slipped \\ninside and bought the book for two dollars fifty. At the time he was not conscious of \\nwanting it for any particular purpose. He had carried it guiltily home in his briefcase. \\nEven with nothing written in it, it was a compromising possession. \\n \\nThe thing that he was about to do was to open a diary. This was not illegal (nothing was \\nillegal, since there were no longer any laws), but if detected it was reasonably certain \\nthat it would be punished by death, or at least by twenty-five years in a forced-labour \\ncamp. Winston fitted a nib into the penholder and sucked it to get the grease off. The \\npen was an archaic instrument, seldom used even for signatures, and he had procured \\none, furtively and with some difficulty, simply because of a feeling that the beautiful \\ncreamy paper deserved to be written on with a real nib instead of being scratched with \\nan ink-pencil. Actually he was not used to writing by hand. Apart from very short notes, \\nit was usual to dictate everything into the speakwrite which was of course impossible for \\nhis present purpose. He dipped the pen into the ink and then faltered for just a second. \\nA tremor had gone through his bowels. To mark the paper was the decisive act. In small \\nclumsy letters he wrote: \\n \\nApril 4th, 1984. \\n \\nHe sat back. A sense of complete helplessness had descended upon him. To begin with, \\nhe did not know with any certainty that this was 1984. It must be round about that date, \\nsince he was fairly sure that his age was thirty-nine, and he believed that he had been \\nborn in 1944 or 1945; but it was never possible nowadays to pin down any date within a \\nyear or two. \\n \\nFor whom, it suddenly occurred to him to wonder, was he writing this diary? For the \\nfuture, for the unborn. His mind hovered for a moment round the doubtful date on the \\npage, and then fetched up with a bump against the Newspeak word doublethink. For the \\nfirst time the magnitude of what he had undertaken came home to him. How could you \\ncommunicate with the future? It was of its nature impossible. Either the future would\"),\n",
       " Document(metadata={'producer': 'Microsoft® Word 2016', 'creator': 'Microsoft® Word 2016', 'creationdate': '2025-01-30T23:19:00+09:00', 'author': 'Yeonchul Sung', 'moddate': '2025-01-30T23:19:00+09:00', 'source': 'D:\\\\NLP2501\\\\dataset\\\\files\\\\chapter_one.pdf', 'total_pages': 15, 'page': 5, 'page_label': '6'}, page_content=\"resemble the present, in which case it would not listen to him: or it would be different \\nfrom it, and his predicament would be meaningless. \\n \\nFor some time he sat gazing stupidly at the paper. The telescreen had changed over to \\nstrident military music. It was curious that he seemed not merely to have lost the power \\nof expressing himself, but even to have forgotten what it was that he had originally \\nintended to say. For weeks past he had been making ready for this moment, and it had \\nnever crossed his mind that anything would be needed except courage. The actual \\nwriting would be easy. All he had to do was to transfer to paper the interminable restless \\nmonologue that had been running inside his head, literally for years. At this moment, \\nhowever, even the monologue had dried up. Moreover his varicose ulcer had begun \\nitching unbearably. He dared not scratch it, because if he did so it always became \\ninflamed. The seconds were ticking by. He was conscious of nothing except the \\nblankness of the page in front of him, the itching of the skin above his ankle, the blaring \\nof the music, and a slight booziness caused by the gin. \\n \\nSuddenly he began writing in sheer panic, only imperfectly aware of what he was setting \\ndown. His small but childish handwriting straggled up and down the page, shedding first \\nits capital letters and finally even its full stops: \\n \\nApril 4th, 1984. Last night to the flicks. All war films. One very good one of a ship full of \\nrefugees being bombed somewhere in the Mediterranean. Audience much amused by \\nshots of a great huge fat man trying to swim away with a helicopter after him, first you \\nsaw him wallowing along in the water like a porpoise, then you saw him through the \\nhelicopters gunsights, then he was full of holes and the sea round him turned pink and \\nhe sank as suddenly as though the holes had let in the water, audience shouting with \\nlaughter when he sank. then you saw a lifeboat full of children with a helicopter hovering \\nover it. there was a middle-aged woman might have been a jewess sitting up in the bow \\nwith a little boy about three years old in her arms. little boy screaming with fright and \\nhiding his head between her breasts as if he was trying to burrow right into her and the \\nwoman putting her arms round him and comforting him although she was blue with \\nfright herself, all the time covering him up as much as possible as if she thought her \\narms could keep the bullets off him. then the helicopter planted a 20 kilo bomb in \\namong them terrific flash and the boat went all to matchwood. then there was a \\nwonderful shot of a child's arm going up up up right up into the air a helicopter with a\"),\n",
       " Document(metadata={'producer': 'Microsoft® Word 2016', 'creator': 'Microsoft® Word 2016', 'creationdate': '2025-01-30T23:19:00+09:00', 'author': 'Yeonchul Sung', 'moddate': '2025-01-30T23:19:00+09:00', 'source': 'D:\\\\NLP2501\\\\dataset\\\\files\\\\chapter_one.pdf', 'total_pages': 15, 'page': 6, 'page_label': '7'}, page_content='camera in its nose must have followed it up and there was a lot of applause from the \\nparty seats but a woman down in the prole part of the house suddenly started kicking \\nup a fuss and shouting they didnt oughter of showed it not in front of kids they didnt it \\naint right not in front of kids it aint until the police turned her turned her out i dont \\nsuppose anything happened to her nobody cares what the proles say typical prole \\nreaction they never -- \\n \\nWinston stopped writing, partly because he was suffering from cramp. He did not know \\nwhat had made him pour out this stream of rubbish. But the curious thing was that while \\nhe was doing so a totally different memory had clarified itself in his mind, to the point \\nwhere he almost felt equal to writing it down. It was, he now realized, because of this \\nother incident that he had suddenly decided to come home and begin the diary today. \\n \\nIt had happened that morning at the Ministry, if anything so nebulous could be said to \\nhappen. \\n \\nIt was nearly eleven hundred, and in the Records Department, where Winston worked, \\nthey were dragging the chairs out of the cubicles and grouping them in the centre of \\nthe hall opposite the big telescreen, in preparation for the Two Minutes Hate. Winston \\nwas just taking his place in one of the middle rows when two people whom he knew by \\nsight, but had never spoken to, came unexpectedly into the room. One of them was a \\ngirl whom he often passed in the corridors. He did not know her name, but he knew that \\nshe worked in the Fiction Department. Presumably -- since he had sometimes seen her \\nwith oily hands and carrying a spanner she had some mechanical job on one of the \\nnovel-writing machines. She was a bold-looking girl, of about twenty-seven, with thick \\nhair, a freckled face, and swift, athletic movements. A narrow scarlet sash, emblem of the \\nJunior Anti-Sex League, was wound several times round the waist of her overalls, just \\ntightly enough to bring out the shapeliness of her hips. Winston had disliked her from \\nthe very first moment of seeing her. He knew the reason. It was because of the \\natmosphere of hockey-fields and cold baths and community hikes and general clean-\\nmindedness which she managed to carry about with her. He disliked nearly all women, \\nand especially the young and pretty ones. It was always the women, and above all the \\nyoung ones, who were the most bigoted adherents of the Party, the swallowers of \\nslogans, the amateur spies and nosers-out of unorthodoxy. But this particular girl gave \\nhim the impression of being more dangerous than most. Once when they passed in the'),\n",
       " Document(metadata={'producer': 'Microsoft® Word 2016', 'creator': 'Microsoft® Word 2016', 'creationdate': '2025-01-30T23:19:00+09:00', 'author': 'Yeonchul Sung', 'moddate': '2025-01-30T23:19:00+09:00', 'source': 'D:\\\\NLP2501\\\\dataset\\\\files\\\\chapter_one.pdf', 'total_pages': 15, 'page': 7, 'page_label': '8'}, page_content=\"corridor she gave him a quick sidelong glance which seemed to pierce right into him \\nand for a moment had filled him with black terror. The idea had even crossed his mind \\nthat she might be an agent of the Thought Police. That, it was true, was very unlikely. \\nStill, he continued to feel a peculiar uneasiness, which had fear mixed up in it as well as \\nhostility, whenever she was anywhere near him. \\n \\nThe other person was a man named O'Brien, a member of the Inner Party and holder of \\nsome post so important and remote that Winston had only a dim idea of its nature. A \\nmomentary hush passed over the group of people round the chairs as they saw the \\nblack overalls of an Inner Party member approaching. O'Brien was a large, burly man \\nwith a thick neck and a coarse, humorous, brutal face. In spite of his formidable \\nappearance he had a certain charm of manner. He had a trick of resettling his spectacles \\non his nose which was curiously disarming -- in some indefinable way, curiously civilized. \\nIt was a gesture which, if anyone had still thought in such terms, might have recalled an \\neighteenth-century nobleman offering his snuffbox. Winston had seen O'Brien perhaps a \\ndozen times in almost as many years. He felt deeply drawn to him, and not solely \\nbecause he was intrigued by the contrast between O'Brien's urbane manner and his \\nprize-fighter's physique. Much more it was because of a secretly held belief -- or perhaps \\nnot even a belief, merely a hope -- that O'Brien's political orthodoxy was not perfect. \\nSomething in his face suggested it irresistibly. And again, perhaps it was not even \\nunorthodoxy that was written in his face, but simply intelligence. But at any rate he had \\nthe appearance of being a person that you could talk to if somehow you could cheat the \\ntelescreen and get him alone. Winston had never made the smallest effort to verify this \\nguess: indeed, there was no way of doing so. At this moment O'Brien glanced at his \\nwrist-watch, saw that it was nearly eleven hundred, and evidently decided to stay in the \\nRecords Department until the Two Minutes Hate was over. He took a chair in the same \\nrow as Winston, a couple of places away. A small, sandy-haired woman who worked in \\nthe next cubicle to Winston was between them. The girl with dark hair was sitting \\nimmediately behind. \\n \\nThe next moment a hideous, grinding speech, as of some monstrous machine running \\nwithout oil, burst from the big telescreen at the end of the room. It was a noise that set \\none's teeth on edge and bristled the hair at the back of one's neck. The Hate had \\nstarted.\"),\n",
       " Document(metadata={'producer': 'Microsoft® Word 2016', 'creator': 'Microsoft® Word 2016', 'creationdate': '2025-01-30T23:19:00+09:00', 'author': 'Yeonchul Sung', 'moddate': '2025-01-30T23:19:00+09:00', 'source': 'D:\\\\NLP2501\\\\dataset\\\\files\\\\chapter_one.pdf', 'total_pages': 15, 'page': 8, 'page_label': '9'}, page_content=\"As usual, the face of Emmanuel Goldstein, the Enemy of the People, had flashed on to \\nthe screen. There were hisses here and there among the audience. The little sandy-haired \\nwoman gave a squeak of mingled fear and disgust. Goldstein was the renegade and \\nbackslider who once, long ago (how long ago, nobody quite remembered), had been \\none of the leading figures of the Party, almost on a level with Big Brother himself, and \\nthen had engaged in counter-revolutionary activities, had been condemned to death, \\nand had mysteriously escaped and disappeared. The programmes of the Two Minutes \\nHate varied from day to day, but there was none in which Goldstein was not the \\nprincipal figure. He was the primal traitor, the earliest defiler of the Party's purity. All \\nsubsequent crimes against the Party, all treacheries, acts of sabotage, heresies, \\ndeviations, sprang directly out of his teaching. Somewhere or other he was still alive and \\nhatching his conspiracies: perhaps somewhere beyond the sea, under the protection of \\nhis foreign paymasters, perhaps even -- so it was occasionally rumoured -- in some \\nhiding-place in Oceania itself. \\n \\nWinston's diaphragm was constricted. He could never see the face of Goldstein without a \\npainful mixture of emotions. It was a lean Jewish face, with a great fuzzy aureole of white \\nhair and a small goatee beard -- a clever face, and yet somehow inherently despicable, \\nwith a kind of senile silliness in the long thin nose, near the end of which a pair of \\nspectacles was perched. It resembled the face of a sheep, and the voice, too, had a \\nsheep-like quality. Goldstein was delivering his usual venomous attack upon the \\ndoctrines of the Party -- an attack so exaggerated and perverse that a child should have \\nbeen able to see through it, and yet just plausible enough to fill one with an alarmed \\nfeeling that other people, less level-headed than oneself, might be taken in by it. He was \\nabusing Big Brother, he was denouncing the dictatorship of the Party, he was demanding \\nthe immediate conclusion of peace with Eurasia, he was advocating freedom of speech, \\nfreedom of the Press, freedom of assembly, freedom of thought, he was crying \\nhysterically that the revolution had been betrayed -- and all this in rapid polysyllabic \\nspeech which was a sort of parody of the habitual style of the orators of the Party, and \\neven contained Newspeak words: more Newspeak words, indeed, than any Party member \\nwould normally use in real life. And all the while, lest one should be in any doubt as to \\nthe reality which Goldstein's specious claptrap covered, behind his head on the \\ntelescreen there marched the endless columns of the Eurasian army -- row after row of \\nsolid-looking men with expressionless Asiatic faces, who swam up to the surface of the \\nscreen and vanished, to be replaced by others exactly similar. The dull rhythmic tramp of\"),\n",
       " Document(metadata={'producer': 'Microsoft® Word 2016', 'creator': 'Microsoft® Word 2016', 'creationdate': '2025-01-30T23:19:00+09:00', 'author': 'Yeonchul Sung', 'moddate': '2025-01-30T23:19:00+09:00', 'source': 'D:\\\\NLP2501\\\\dataset\\\\files\\\\chapter_one.pdf', 'total_pages': 15, 'page': 9, 'page_label': '10'}, page_content=\"the soldiers' boots formed the background to Goldstein's bleating voice. \\n \\nBefore the Hate had proceeded for thirty seconds, uncontrollable exclamations of rage \\nwere breaking out from half the people in the room. The self-satisfied sheep-like face on \\nthe screen, and the terrifying power of the Eurasian army behind it, were too much to be \\nborne: besides, the sight or even the thought of Goldstein produced fear and anger \\nautomatically. He was an object of hatred more constant than either Eurasia or Eastasia, \\nsince when Oceania was at war with one of these Powers it was generally at peace with \\nthe other. But what was strange was that although Goldstein was hated and despised by \\neverybody, although every day and a thousand times a day, on platforms, on the \\ntelescreen, in newspapers, in books, his theories were refuted, smashed, ridiculed, held \\nup to the general gaze for the pitiful rubbish that they were in spite of all this, his \\ninfluence never seemed to grow less. Always there were fresh dupes waiting to be \\nseduced by him. A day never passed when spies and saboteurs acting under his \\ndirections were not unmasked by the Thought Police. He was the commander of a vast \\nshadowy army, an underground network of conspirators dedicated to the overthrow of \\nthe State. The Brotherhood, its name was supposed to be. There were also whispered \\nstories of a terrible book, a compendium of all the heresies, of which Goldstein was the \\nauthor and which circulated clandestinely here and there. It was a book without a title. \\nPeople referred to it, if at all, simply as the book. But one knew of such things only \\nthrough vague rumours. Neither the Brotherhood nor the book was a subject that any \\nordinary Party member would mention if there was a way of avoiding it. \\n \\nIn its second minute the Hate rose to a frenzy. People were leaping up and down in their \\nplaces and shouting at the tops of their voices in an effort to drown the maddening \\nbleating voice that came from the screen. The little sandy-haired woman had turned \\nbright pink, and her mouth was opening and shutting like that of a landed fish. Even \\nO'Brien's heavy face was flushed. He was sitting very straight in his chair, his powerful \\nchest swelling and quivering as though he were standing up to the assault of a wave. \\nThe dark-haired girl behind Winston had begun crying out 'Swine! Swine! Swine!' and \\nsuddenly she picked up a heavy Newspeak dictionary and flung it at the screen. It struck \\nGoldstein's nose and bounced off; the voice continued inexorably. In a lucid moment \\nWinston found that he was shouting with the others and kicking his heel violently \\nagainst the rung of his chair. The horrible thing about the Two Minutes Hate was not \\nthat one was obliged to act a part, but, on the contrary, that it was impossible to avoid\"),\n",
       " Document(metadata={'producer': 'Microsoft® Word 2016', 'creator': 'Microsoft® Word 2016', 'creationdate': '2025-01-30T23:19:00+09:00', 'author': 'Yeonchul Sung', 'moddate': '2025-01-30T23:19:00+09:00', 'source': 'D:\\\\NLP2501\\\\dataset\\\\files\\\\chapter_one.pdf', 'total_pages': 15, 'page': 10, 'page_label': '11'}, page_content=\"joining in. Within thirty seconds any pretence was always unnecessary. A hideous ecstasy \\nof fear and vindictiveness, a desire to kill, to torture, to smash faces in with a sledge-\\nhammer, seemed to flow through the whole group of people like an electric current, \\nturning one even against one's will into a grimacing, screaming lunatic. And yet the rage \\nthat one felt was an abstract, undirected emotion which could be switched from one \\nobject to another like the flame of a blowlamp. Thus, at one moment Winston's hatred \\nwas not turned against Goldstein at all, but, on the contrary, against Big Brother, the \\nParty, and the Thought Police; and at such moments his heart went out to the lonely, \\nderided heretic on the screen, sole guardian of truth and sanity in a world of lies. And \\nyet the very next instant he was at one with the people about him, and all that was said \\nof Goldstein seemed to him to be true. At those moments his secret loathing of Big \\nBrother changed into adoration, and Big Brother seemed to tower up, an invincible, \\nfearless protector, standing like a rock against the hordes of Asia, and Goldstein, in spite \\nof his isolation, his helplessness, and the doubt that hung about his very existence, \\nseemed like some sinister enchanter, capable by the mere power of his voice of wrecking \\nthe structure of civilization. \\n \\nIt was even possible, at moments, to switch one's hatred this way or that by a voluntary \\nact. Suddenly, by the sort of violent effort with which one wrenches one's head away \\nfrom the pillow in a nightmare, Winston succeeded in transferring his hatred from the \\nface on the screen to the dark-haired girl behind him. Vivid, beautiful hallucinations \\nflashed through his mind. He would flog her to death with a rubber truncheon. He would \\ntie her naked to a stake and shoot her full of arrows like Saint Sebastian. He would \\nravish her and cut her throat at the moment of climax. Better than before, moreover, he \\nrealized why it was that he hated her. He hated her because she was young and pretty \\nand sexless, because he wanted to go to bed with her and would never do so, because \\nround her sweet supple waist, which seemed to ask you to encircle it with your arm, \\nthere was only the odious scarlet sash, aggressive symbol of chastity. \\n \\nThe Hate rose to its climax. The voice of Goldstein had become an actual sheep's bleat, \\nand for an instant the face changed into that of a sheep. Then the sheep-face melted \\ninto the figure of a Eurasian soldier who seemed to be advancing, huge and terrible, his \\nsub-machine gun roaring, and seeming to spring out of the surface of the screen, so \\nthat some of the people in the front row actually flinched backwards in their seats. But in \\nthe same moment, drawing a deep sigh of relief from everybody, the hostile figure\"),\n",
       " Document(metadata={'producer': 'Microsoft® Word 2016', 'creator': 'Microsoft® Word 2016', 'creationdate': '2025-01-30T23:19:00+09:00', 'author': 'Yeonchul Sung', 'moddate': '2025-01-30T23:19:00+09:00', 'source': 'D:\\\\NLP2501\\\\dataset\\\\files\\\\chapter_one.pdf', 'total_pages': 15, 'page': 11, 'page_label': '12'}, page_content=\"melted into the face of Big Brother, black-haired, black-moustachio'd, full of power and \\nmysterious calm, and so vast that it almost filled up the screen. Nobody heard what Big \\nBrother was saying. It was merely a few words of encouragement, the sort of words that \\nare uttered in the din of battle, not distinguishable individually but restoring confidence \\nby the fact of being spoken. Then the face of Big Brother faded away again, and instead \\nthe three slogans of the Party stood out in bold capitals: \\n \\nWAR IS PEACE \\n \\nFREEDOM IS SLAVERY \\n \\nIGNORANCE IS STRENGTH \\n \\nBut the face of Big Brother seemed to persist for several seconds on the screen, as \\nthough the impact that it had made on everyone's eyeballs was too vivid to wear off \\nimmediately. The little sandyhaired woman had flung herself forward over the back of \\nthe chair in front of her. With a tremulous murmur that sounded like 'My Saviour!' she \\nextended her arms towards the screen. Then she buried her face in her hands. It was \\napparent that she was uttering a prayer. \\n \\nAt this moment the entire group of people broke into a deep, slow, rhythmical chant of \\n'B-B! ...B-B!' -- over and over again, very slowly, with a long pause between the first 'B' \\nand the second-a heavy, murmurous sound, somehow curiously savage, in the \\nbackground of which one seemed to hear the stamp of naked feet and the throbbing of \\ntom-toms. For perhaps as much as thirty seconds they kept it up. It was a refrain that \\nwas often heard in moments of overwhelming emotion. Partly it was a sort of hymn to \\nthe wisdom and majesty of Big Brother, but still more it was an act of self-hypnosis, a \\ndeliberate drowning of consciousness by means of rhythmic noise. Winston's entrails \\nseemed to grow cold. In the Two Minutes Hate he could not help sharing in the general \\ndelirium, but this sub-human chanting of 'B-B! ...B-B!' always filled him with horror. Of \\ncourse he chanted with the rest: it was impossible to do otherwise. To dissemble your \\nfeelings, to control your face, to do what everyone else was doing, was an instinctive \\nreaction. But there was a space of a couple of seconds during which the expression of \\nhis eyes might conceivably have betrayed him. And it was exactly at this moment that \\nthe significant thing happened -- if, indeed, it did happen.\"),\n",
       " Document(metadata={'producer': 'Microsoft® Word 2016', 'creator': 'Microsoft® Word 2016', 'creationdate': '2025-01-30T23:19:00+09:00', 'author': 'Yeonchul Sung', 'moddate': '2025-01-30T23:19:00+09:00', 'source': 'D:\\\\NLP2501\\\\dataset\\\\files\\\\chapter_one.pdf', 'total_pages': 15, 'page': 12, 'page_label': '13'}, page_content=\"Momentarily he caught O'Brien's eye. O'Brien had stood up. He had taken off his \\nspectacles and was in the act of resettling them on his nose with his characteristic \\ngesture. But there was a fraction of a second when their eyes met, and for as long as it \\ntook to happen Winston knew-yes, he knew!-that O'Brien was thinking the same thing as \\nhimself. An unmistakable message had passed. It was as though their two minds had \\nopened and the thoughts were flowing from one into the other through their eyes. 'I am \\nwith you,' O'Brien seemed to be saying to him. 'I know precisely what you are feeling. I \\nknow all about your contempt, your hatred, your disgust. But don't worry, I am on your \\nside!' And then the flash of intelligence was gone, and O'Brien's face was as inscrutable \\nas everybody else's. \\n \\nThat was all, and he was already uncertain whether it had happened. Such incidents \\nnever had any sequel. All that they did was to keep alive in him the belief, or hope, that \\nothers besides himself were the enemies of the Party. Perhaps the rumours of vast \\nunderground conspiracies were true after all -- perhaps the Brotherhood really existed! It \\nwas impossible, in spite of the endless arrests and confessions and executions, to be sure \\nthat the Brotherhood was not simply a myth. Some days he believed in it, some days \\nnot. There was no evidence, only fleeting glimpses that might mean anything or nothing: \\nsnatches of overheard conversation, faint scribbles on lavatory walls -- once, even, when \\ntwo strangers met, a small movement of the hand which had looked as though it might \\nbe a signal of recognition. It was all guesswork: very likely he had imagined everything. \\nHe had gone back to his cubicle without looking at O'Brien again. The idea of following \\nup their momentary contact hardly crossed his mind. It would have been inconceivably \\ndangerous even if he had known how to set about doing it. For a second, two seconds, \\nthey had exchanged an equivocal glance, and that was the end of the story. But even \\nthat was a memorable event, in the locked loneliness in which one had to live. \\n \\nWinston roused himself and sat up straighter. He let out a belch. The gin was rising from \\nhis stomach. \\n \\nHis eyes re-focused on the page. He discovered that while he sat helplessly musing he \\nhad also been writing, as though by automatic action. And it was no longer the same \\ncramped, awkward handwriting as before. His pen had slid voluptuously over the smooth \\npaper, printing in large neat capitals -\"),\n",
       " Document(metadata={'producer': 'Microsoft® Word 2016', 'creator': 'Microsoft® Word 2016', 'creationdate': '2025-01-30T23:19:00+09:00', 'author': 'Yeonchul Sung', 'moddate': '2025-01-30T23:19:00+09:00', 'source': 'D:\\\\NLP2501\\\\dataset\\\\files\\\\chapter_one.pdf', 'total_pages': 15, 'page': 13, 'page_label': '14'}, page_content='DOWN WITH BIG BROTHER \\n \\nDOWN WITH BIG BROTHER \\n \\nDOWN WITH BIG BROTHER \\n \\nDOWN WITH BIG BROTHER \\n \\nDOWN WITH BIG BROTHER \\n \\nover and over again, filling half a page. \\n \\nHe could not help feeling a twinge of panic. It was absurd, since the writing of those \\nparticular words was not more dangerous than the initial act of opening the diary, but \\nfor a moment he was tempted to tear out the spoiled pages and abandon the enterprise \\naltogether. \\n \\nHe did not do so, however, because he knew that it was useless. Whether he wrote \\nDOWN WITH BIG BROTHER, or whether he refrained from writing it, made no difference. \\nWhether he went on with the diary, or whether he did not go on with it, made no \\ndifference. The Thought Police would get him just the same. He had committed -- would \\nstill have committed, even if he had never set pen to paper -- the essential crime that \\ncontained all others in itself. Thoughtcrime, they called it. Thoughtcrime was not a thing \\nthat could be concealed for ever. You might dodge successfully for a while, even for \\nyears, but sooner or later they were bound to get you. \\n \\nIt was always at night -- the arrests invariably happened at night. The sudden jerk out of \\nsleep, the rough hand shaking your shoulder, the lights glaring in your eyes, the ring of \\nhard faces round the bed. In the vast majority of cases there was no trial, no report of \\nthe arrest. People simply disappeared, always during the night. Your name was removed \\nfrom the registers, every record of everything you had ever done was wiped out, your \\none-time existence was denied and then forgotten. You were abolished, annihilated: \\nvaporized was the usual word.'),\n",
       " Document(metadata={'producer': 'Microsoft® Word 2016', 'creator': 'Microsoft® Word 2016', 'creationdate': '2025-01-30T23:19:00+09:00', 'author': 'Yeonchul Sung', 'moddate': '2025-01-30T23:19:00+09:00', 'source': 'D:\\\\NLP2501\\\\dataset\\\\files\\\\chapter_one.pdf', 'total_pages': 15, 'page': 14, 'page_label': '15'}, page_content=\"For a moment he was seized by a kind of hysteria. He began writing in a hurried untidy \\nscrawl: \\n \\ntheyll shoot me i don't care theyll shoot me in the back of the neck i dont care down \\nwith big brother they always shoot you in the back of the neck i dont care down with \\nbig brother -- \\n \\nHe sat back in his chair, slightly ashamed of himself, and laid down the pen. The next \\nmoment he started violently. There was a knocking at the door. \\n \\nAlready! He sat as still as a mouse, in the futile hope that whoever it was might go away \\nafter a single attempt. But no, the knocking was repeated. The worst thing of all would \\nbe to delay. His heart was thumping like a drum, but his face, from long habit, was \\nprobably expressionless. He got up and moved heavily towards the door.\")]"
      ]
     },
     "execution_count": 13,
     "metadata": {},
     "output_type": "execute_result"
    }
   ],
   "source": [
    "loader = PyPDFLoader(os.path.join(base_path, 'chapter_one.pdf'))\n",
    "loader.load()"
   ]
  },
  {
   "cell_type": "markdown",
   "id": "4afde3bf-050b-4b64-88a1-99b3607f9b01",
   "metadata": {},
   "source": [
    "## UnstructuredFileLoader"
   ]
  },
  {
   "cell_type": "code",
   "execution_count": 14,
   "id": "b5d38656-3d1a-4783-8a2e-920e0a68d193",
   "metadata": {},
   "outputs": [],
   "source": [
    "# 위와 같이 서로 다른 포맷의 데이터를 따로따로 읽어올수도 있지만\n",
    "# UnstructuredFileLoader 를 통해 다양한 포맷의 파일을 읽어올수도 있다."
   ]
  },
  {
   "cell_type": "code",
   "execution_count": 15,
   "id": "601e2e68-9645-4ee1-a1ab-901be37c0b54",
   "metadata": {},
   "outputs": [],
   "source": [
    "# v0.3\n",
    "from langchain_community.document_loaders.unstructured import UnstructuredFileLoader\n",
    "\n",
    "# https://python.langchain.com/api_reference/community/document_loaders/langchain_community.document_loaders.unstructured.UnstructuredFileLoader.html"
   ]
  },
  {
   "cell_type": "code",
   "execution_count": 16,
   "id": "b346662d-ea01-4cf7-9f73-c0f14a2fe144",
   "metadata": {},
   "outputs": [
    {
     "name": "stderr",
     "output_type": "stream",
     "text": [
      "C:\\Users\\User\\AppData\\Local\\Temp\\ipykernel_19796\\2677622240.py:1: LangChainDeprecationWarning: The class `UnstructuredFileLoader` was deprecated in LangChain 0.2.8 and will be removed in 1.0. An updated version of the class exists in the :class:`~langchain-unstructured package and should be used instead. To use it run `pip install -U :class:`~langchain-unstructured` and import as `from :class:`~langchain_unstructured import UnstructuredLoader``.\n",
      "  loader = UnstructuredFileLoader(os.path.join(base_path, 'chapter_one.pdf'))\n",
      "CropBox missing from /Page, defaulting to MediaBox\n",
      "CropBox missing from /Page, defaulting to MediaBox\n",
      "CropBox missing from /Page, defaulting to MediaBox\n",
      "CropBox missing from /Page, defaulting to MediaBox\n",
      "CropBox missing from /Page, defaulting to MediaBox\n",
      "CropBox missing from /Page, defaulting to MediaBox\n",
      "CropBox missing from /Page, defaulting to MediaBox\n",
      "CropBox missing from /Page, defaulting to MediaBox\n",
      "CropBox missing from /Page, defaulting to MediaBox\n",
      "CropBox missing from /Page, defaulting to MediaBox\n",
      "CropBox missing from /Page, defaulting to MediaBox\n",
      "CropBox missing from /Page, defaulting to MediaBox\n",
      "CropBox missing from /Page, defaulting to MediaBox\n",
      "CropBox missing from /Page, defaulting to MediaBox\n",
      "CropBox missing from /Page, defaulting to MediaBox\n"
     ]
    },
    {
     "data": {
      "text/plain": [
       "[Document(metadata={'source': 'D:\\\\NLP2501\\\\dataset\\\\files\\\\chapter_one.pdf'}, page_content=\"Part 1, Chapter 1\\n\\nPart One\\n\\n1\\n\\nIt was a bright cold day in April, and the clocks were striking thirteen. Winston Smith, his\\n\\nchin nuzzled into his breast in an effort to escape the vile wind, slipped quickly through\\n\\nthe glass doors of Victory Mansions, though not quickly enough to prevent a swirl of\\n\\ngritty dust from entering along with him.\\n\\nThe hallway smelt of boiled cabbage and old rag mats. At one end of it a coloured\\n\\nposter, too large for indoor display, had been tacked to the wall. It depicted simply an\\n\\nenormous face, more than a metre wide: the face of a man of about forty-five, with a\\n\\nheavy black moustache and ruggedly handsome features. Winston made for the stairs. It\\n\\nwas no use trying the lift. Even at the best of times it was seldom working, and at\\n\\npresent the electric current was cut off during daylight hours. It was part of the economy\\n\\ndrive in preparation for Hate Week. The flat was seven flights up, and Winston, who was\\n\\nthirty-nine and had a varicose ulcer above his right ankle, went slowly, resting several\\n\\ntimes on the way. On each landing, opposite the lift-shaft, the poster with the enormous\\n\\nface gazed from the wall. It was one of those pictures which are so contrived that the\\n\\neyes follow you about when you move. BIG BROTHER IS WATCHING YOU, the caption\\n\\nbeneath it ran.\\n\\nInside the flat a fruity voice was reading out a list of figures which had something to do\\n\\nwith the production of pig-iron. The voice came from an oblong metal plaque like a\\n\\ndulled mirror which formed part of the surface of the right-hand wall. Winston turned a\\n\\nswitch and the voice sank somewhat, though the words were still distinguishable. The\\n\\ninstrument (the telescreen, it was called) could be dimmed, but there was no way of\\n\\nshutting it off completely. He moved over to the window: a smallish, frail figure, the\\n\\nmeagreness of his body merely emphasized by the blue overalls which were the uniform\\n\\nof the party. His hair was very fair, his face naturally sanguine, his skin roughened by\\n\\ncoarse soap and blunt razor blades and the cold of the winter that had just ended.\\n\\nOutside, even through the shut window-pane, the world looked cold. Down in the street\\n\\nlittle eddies of wind were whirling dust and torn paper into spirals, and though the sun\\n\\nwas shining and the sky a harsh blue, there seemed to be no colour in anything, except\\n\\nthe posters that were plastered everywhere. The blackmoustachio'd face gazed down\\n\\nfrom every commanding corner. There was one on the house-front immediately\\n\\nopposite. BIG BROTHER IS WATCHING YOU, the caption said, while the dark eyes looked\\n\\ndeep into Winston's own. Down at streetlevel another poster, torn at one corner, flapped\\n\\nfitfully in the wind, alternately covering and uncovering the single word INGSOC. In the\\n\\nfar distance a helicopter skimmed down between the roofs, hovered for an instant like a\\n\\nbluebottle, and darted away again with a curving flight. It was the police patrol,\\n\\nsnooping into people's windows. The patrols did not matter, however. Only the Thought\\n\\nPolice mattered.\\n\\nBehind Winston's back the voice from the telescreen was still babbling away about pig-\\n\\niron and the overfulfilment of the Ninth Three-Year Plan. The telescreen received and\\n\\ntransmitted simultaneously. Any sound that Winston made, above the level of a very low\\n\\nwhisper, would be picked up by it, moreover, so long as he remained within the field of\\n\\nvision which the metal plaque commanded, he could be seen as well as heard. There was\\n\\nof course no way of knowing whether you were being watched at any given moment.\\n\\nHow often, or on what system, the Thought Police plugged in on any individual wire was\\n\\nguesswork. It was even conceivable that they watched everybody all the time. But at any\\n\\nrate they could plug in your wire whenever they wanted to. You had to live -- did live,\\n\\nfrom habit that became instinct -- in the assumption that every sound you made was\\n\\noverheard, and, except in darkness, every movement scrutinized.\\n\\nWinston kept his back turned to the telescreen. It was safer, though, as he well knew,\\n\\neven a back can be revealing. A kilometre away the Ministry of Truth, his place of work,\\n\\ntowered vast and white above the grimy landscape. This, he thought with a sort of vague\\n\\ndistaste -- this was London, chief city of Airstrip One, itself the third most populous of\\n\\nthe provinces of Oceania. He tried to squeeze out some childhood memory that should\\n\\ntell him whether London had always been quite like this. Were there always these vistas\\n\\nof rotting nineteenth-century houses, their sides shored up with baulks of timber, their\\n\\nwindows patched with cardboard and their roofs with corrugated iron, their crazy garden\\n\\nwalls sagging in all directions? And the bombed sites where the plaster dust swirled in\\n\\nthe air and the willow-herb straggled over the heaps of rubble; and the places where the\\n\\nbombs had cleared a larger patch and there had sprung up sordid colonies of wooden\\n\\ndwellings like chicken-houses? But it was no use, he could not remember: nothing\\n\\nremained of his childhood except a series of bright-lit tableaux occurring against no\\n\\nbackground and mostly unintelligible.\\n\\nThe Ministry of Truth -- Minitrue, in Newspeak -- was startlingly different from any other\\n\\nobject in sight. It was an enormous pyramidal structure of glittering white concrete,\\n\\nsoaring up, terrace after terrace, 300 metres into the air. From where Winston stood it\\n\\nwas just possible to read, picked out on its white face in elegant lettering, the three\\n\\nslogans of the Party:\\n\\nWAR IS PEACE\\n\\nFREEDOM IS SLAVERY\\n\\nIGNORANCE IS STRENGTH\\n\\nThe Ministry of Truth contained, it was said, three thousand rooms above ground level,\\n\\nand corresponding ramifications below. Scattered about London there were just three\\n\\nother buildings of similar appearance and size. So completely did they dwarf the\\n\\nsurrounding architecture that from the roof of Victory Mansions you could see all four of\\n\\nthem simultaneously. They were the homes of the four Ministries between which the\\n\\nentire apparatus of government was divided. The Ministry of Truth, which concerned\\n\\nitself with news, entertainment, education, and the fine arts. The Ministry of Peace, which\\n\\nconcerned itself with war. The Ministry of Love, which maintained law and order. And the\\n\\nMinistry of Plenty, which was responsible for economic affairs. Their names, in Newspeak:\\n\\nMinitrue, Minipax, Miniluv, and Miniplenty.\\n\\nThe Ministry of Love was the really frightening one. There were no windows in it at all.\\n\\nWinston had never been inside the Ministry of Love, nor within half a kilometre of it. It\\n\\nwas a place impossible to enter except on official business, and then only by penetrating\\n\\nthrough a maze of barbed-wire entanglements, steel doors, and hidden machine-gun\\n\\nnests. Even the streets leading up to its outer barriers were roamed by gorilla-faced\\n\\nguards in black uniforms, armed with jointed truncheons.\\n\\nWinston turned round abruptly. He had set his features into the expression of quiet\\n\\noptimism which it was advisable to wear when facing the telescreen. He crossed the\\n\\nroom into the tiny kitchen. By leaving the Ministry at this time of day he had sacrificed\\n\\nhis lunch in the canteen, and he was aware that there was no food in the kitchen except\\n\\na hunk of dark-coloured bread which had got to be saved for tomorrow's breakfast. He\\n\\ntook down from the shelf a bottle of colourless liquid with a plain white label marked\\n\\nVICTORY GIN. It gave off a sickly, oily smell, as of Chinese ricespirit. Winston poured out\\n\\nnearly a teacupful, nerved himself for a shock, and gulped it down like a dose of\\n\\nmedicine.\\n\\nInstantly his face turned scarlet and the water ran out of his eyes. The stuff was like nitric\\n\\nacid, and moreover, in swallowing it one had the sensation of being hit on the back of\\n\\nthe head with a rubber club. The next moment, however, the burning in his belly died\\n\\ndown and the world began to look more cheerful. He took a cigarette from a crumpled\\n\\npacket marked VICTORY CIGARETTES and incautiously held it upright, whereupon the\\n\\ntobacco fell out on to the floor. With the next he was more successful. He went back to\\n\\nthe living-room and sat down at a small table that stood to the left of the telescreen.\\n\\nFrom the table drawer he took out a penholder, a bottle of ink, and a thick, quarto-sized\\n\\nblank book with a red back and a marbled cover.\\n\\nFor some reason the telescreen in the living-room was in an unusual position. Instead of\\n\\nbeing placed, as was normal, in the end wall, where it could command the whole room,\\n\\nit was in the longer wall, opposite the window. To one side of it there was a shallow\\n\\nalcove in which Winston was now sitting, and which, when the flats were built, had\\n\\nprobably been intended to hold bookshelves. By sitting in the alcove, and keeping well\\n\\nback, Winston was able to remain outside the range of the telescreen, so far as sight\\n\\nwent. He could be heard, of course, but so long as he stayed in his present position he\\n\\ncould not be seen. It was partly the unusual geography of the room that had suggested\\n\\nto him the thing that he was now about to do.\\n\\nBut it had also been suggested by the book that he had just taken out of the drawer. It\\n\\nwas a peculiarly beautiful book. Its smooth creamy paper, a little yellowed by age, was of\\n\\na kind that had not been manufactured for at least forty years past. He could guess,\\n\\nhowever, that the book was much older than that. He had seen it lying in the window of\\n\\na frowsy little junk-shop in a slummy quarter of the town (just what quarter he did not\\n\\nnow remember) and had been stricken immediately by an overwhelming desire to\\n\\npossess it. Party members were supposed not to go into ordinary shops ('dealing on the\\n\\nfree market', it was called), but the rule was not strictly kept, because there were various\\n\\nthings, such as shoelaces and razor blades, which it was impossible to get hold of in any\\n\\nother way. He had given a quick glance up and down the street and then had slipped\\n\\ninside and bought the book for two dollars fifty. At the time he was not conscious of\\n\\nwanting it for any particular purpose. He had carried it guiltily home in his briefcase.\\n\\nEven with nothing written in it, it was a compromising possession.\\n\\nThe thing that he was about to do was to open a diary. This was not illegal (nothing was\\n\\nillegal, since there were no longer any laws), but if detected it was reasonably certain\\n\\nthat it would be punished by death, or at least by twenty-five years in a forced-labour\\n\\ncamp. Winston fitted a nib into the penholder and sucked it to get the grease off. The\\n\\npen was an archaic instrument, seldom used even for signatures, and he had procured\\n\\none, furtively and with some difficulty, simply because of a feeling that the beautiful\\n\\ncreamy paper deserved to be written on with a real nib instead of being scratched with\\n\\nan ink-pencil. Actually he was not used to writing by hand. Apart from very short notes,\\n\\nit was usual to dictate everything into the speakwrite which was of course impossible for\\n\\nhis present purpose. He dipped the pen into the ink and then faltered for just a second.\\n\\nA tremor had gone through his bowels. To mark the paper was the decisive act. In small\\n\\nclumsy letters he wrote:\\n\\nApril 4th, 1984.\\n\\nHe sat back. A sense of complete helplessness had descended upon him. To begin with,\\n\\nhe did not know with any certainty that this was 1984. It must be round about that date,\\n\\nsince he was fairly sure that his age was thirty-nine, and he believed that he had been\\n\\nborn in 1944 or 1945; but it was never possible nowadays to pin down any date within a\\n\\nyear or two.\\n\\nFor whom, it suddenly occurred to him to wonder, was he writing this diary? For the\\n\\nfuture, for the unborn. His mind hovered for a moment round the doubtful date on the\\n\\npage, and then fetched up with a bump against the Newspeak word doublethink. For the\\n\\nfirst time the magnitude of what he had undertaken came home to him. How could you\\n\\ncommunicate with the future? It was of its nature impossible. Either the future would\\n\\nresemble the present, in which case it would not listen to him: or it would be different\\n\\nfrom it, and his predicament would be meaningless.\\n\\nFor some time he sat gazing stupidly at the paper. The telescreen had changed over to\\n\\nstrident military music. It was curious that he seemed not merely to have lost the power\\n\\nof expressing himself, but even to have forgotten what it was that he had originally\\n\\nintended to say. For weeks past he had been making ready for this moment, and it had\\n\\nnever crossed his mind that anything would be needed except courage. The actual\\n\\nwriting would be easy. All he had to do was to transfer to paper the interminable restless\\n\\nmonologue that had been running inside his head, literally for years. At this moment,\\n\\nhowever, even the monologue had dried up. Moreover his varicose ulcer had begun\\n\\nitching unbearably. He dared not scratch it, because if he did so it always became\\n\\ninflamed. The seconds were ticking by. He was conscious of nothing except the\\n\\nblankness of the page in front of him, the itching of the skin above his ankle, the blaring\\n\\nof the music, and a slight booziness caused by the gin.\\n\\nSuddenly he began writing in sheer panic, only imperfectly aware of what he was setting\\n\\ndown. His small but childish handwriting straggled up and down the page, shedding first\\n\\nits capital letters and finally even its full stops:\\n\\nApril 4th, 1984. Last night to the flicks. All war films. One very good one of a ship full of\\n\\nrefugees being bombed somewhere in the Mediterranean. Audience much amused by\\n\\nshots of a great huge fat man trying to swim away with a helicopter after him, first you\\n\\nsaw him wallowing along in the water like a porpoise, then you saw him through the\\n\\nhelicopters gunsights, then he was full of holes and the sea round him turned pink and\\n\\nhe sank as suddenly as though the holes had let in the water, audience shouting with\\n\\nlaughter when he sank. then you saw a lifeboat full of children with a helicopter hovering\\n\\nover it. there was a middle-aged woman might have been a jewess sitting up in the bow\\n\\nwith a little boy about three years old in her arms. little boy screaming with fright and\\n\\nhiding his head between her breasts as if he was trying to burrow right into her and the\\n\\nwoman putting her arms round him and comforting him although she was blue with\\n\\nfright herself, all the time covering him up as much as possible as if she thought her\\n\\narms could keep the bullets off him. then the helicopter planted a 20 kilo bomb in\\n\\namong them terrific flash and the boat went all to matchwood. then there was a\\n\\nwonderful shot of a child's arm going up up up right up into the air a helicopter with a\\n\\ncamera in its nose must have followed it up and there was a lot of applause from the\\n\\nparty seats but a woman down in the prole part of the house suddenly started kicking\\n\\nup a fuss and shouting they didnt oughter of showed it not in front of kids they didnt it\\n\\naint right not in front of kids it aint until the police turned her turned her out i dont\\n\\nsuppose anything happened to her nobody cares what the proles say typical prole\\n\\nreaction they never --\\n\\nWinston stopped writing, partly because he was suffering from cramp. He did not know\\n\\nwhat had made him pour out this stream of rubbish. But the curious thing was that while\\n\\nhe was doing so a totally different memory had clarified itself in his mind, to the point\\n\\nwhere he almost felt equal to writing it down. It was, he now realized, because of this\\n\\nother incident that he had suddenly decided to come home and begin the diary today.\\n\\nIt had happened that morning at the Ministry, if anything so nebulous could be said to\\n\\nhappen.\\n\\nIt was nearly eleven hundred, and in the Records Department, where Winston worked,\\n\\nthey were dragging the chairs out of the cubicles and grouping them in the centre of\\n\\nthe hall opposite the big telescreen, in preparation for the Two Minutes Hate. Winston\\n\\nwas just taking his place in one of the middle rows when two people whom he knew by\\n\\nsight, but had never spoken to, came unexpectedly into the room. One of them was a\\n\\ngirl whom he often passed in the corridors. He did not know her name, but he knew that\\n\\nshe worked in the Fiction Department. Presumably -- since he had sometimes seen her\\n\\nwith oily hands and carrying a spanner she had some mechanical job on one of the\\n\\nnovel-writing machines. She was a bold-looking girl, of about twenty-seven, with thick\\n\\nhair, a freckled face, and swift, athletic movements. A narrow scarlet sash, emblem of the\\n\\nJunior Anti-Sex League, was wound several times round the waist of her overalls, just\\n\\ntightly enough to bring out the shapeliness of her hips. Winston had disliked her from\\n\\nthe very first moment of seeing her. He knew the reason. It was because of the\\n\\natmosphere of hockey-fields and cold baths and community hikes and general clean-\\n\\nmindedness which she managed to carry about with her. He disliked nearly all women,\\n\\nand especially the young and pretty ones. It was always the women, and above all the\\n\\nyoung ones, who were the most bigoted adherents of the Party, the swallowers of\\n\\nslogans, the amateur spies and nosers-out of unorthodoxy. But this particular girl gave\\n\\nhim the impression of being more dangerous than most. Once when they passed in the\\n\\ncorridor she gave him a quick sidelong glance which seemed to pierce right into him\\n\\nand for a moment had filled him with black terror. The idea had even crossed his mind\\n\\nthat she might be an agent of the Thought Police. That, it was true, was very unlikely.\\n\\nStill, he continued to feel a peculiar uneasiness, which had fear mixed up in it as well as\\n\\nhostility, whenever she was anywhere near him.\\n\\nThe other person was a man named O'Brien, a member of the Inner Party and holder of\\n\\nsome post so important and remote that Winston had only a dim idea of its nature. A\\n\\nmomentary hush passed over the group of people round the chairs as they saw the\\n\\nblack overalls of an Inner Party member approaching. O'Brien was a large, burly man\\n\\nwith a thick neck and a coarse, humorous, brutal face. In spite of his formidable\\n\\nappearance he had a certain charm of manner. He had a trick of resettling his spectacles\\n\\non his nose which was curiously disarming -- in some indefinable way, curiously civilized.\\n\\nIt was a gesture which, if anyone had still thought in such terms, might have recalled an\\n\\neighteenth-century nobleman offering his snuffbox. Winston had seen O'Brien perhaps a\\n\\ndozen times in almost as many years. He felt deeply drawn to him, and not solely\\n\\nbecause he was intrigued by the contrast between O'Brien's urbane manner and his\\n\\nprize-fighter's physique. Much more it was because of a secretly held belief -- or perhaps\\n\\nnot even a belief, merely a hope -- that O'Brien's political orthodoxy was not perfect.\\n\\nSomething in his face suggested it irresistibly. And again, perhaps it was not even\\n\\nunorthodoxy that was written in his face, but simply intelligence. But at any rate he had\\n\\nthe appearance of being a person that you could talk to if somehow you could cheat the\\n\\ntelescreen and get him alone. Winston had never made the smallest effort to verify this\\n\\nguess: indeed, there was no way of doing so. At this moment O'Brien glanced at his\\n\\nwrist-watch, saw that it was nearly eleven hundred, and evidently decided to stay in the\\n\\nRecords Department until the Two Minutes Hate was over. He took a chair in the same\\n\\nrow as Winston, a couple of places away. A small, sandy-haired woman who worked in\\n\\nthe next cubicle to Winston was between them. The girl with dark hair was sitting\\n\\nimmediately behind.\\n\\nThe next moment a hideous, grinding speech, as of some monstrous machine running\\n\\nwithout oil, burst from the big telescreen at the end of the room. It was a noise that set\\n\\none's teeth on edge and bristled the hair at the back of one's neck. The Hate had\\n\\nstarted.\\n\\nAs usual, the face of Emmanuel Goldstein, the Enemy of the People, had flashed on to\\n\\nthe screen. There were hisses here and there among the audience. The little sandy-haired\\n\\nwoman gave a squeak of mingled fear and disgust. Goldstein was the renegade and\\n\\nbackslider who once, long ago (how long ago, nobody quite remembered), had been\\n\\none of the leading figures of the Party, almost on a level with Big Brother himself, and\\n\\nthen had engaged in counter-revolutionary activities, had been condemned to death,\\n\\nand had mysteriously escaped and disappeared. The programmes of the Two Minutes\\n\\nHate varied from day to day, but there was none in which Goldstein was not the\\n\\nprincipal figure. He was the primal traitor, the earliest defiler of the Party's purity. All\\n\\nsubsequent crimes against the Party, all treacheries, acts of sabotage, heresies,\\n\\ndeviations, sprang directly out of his teaching. Somewhere or other he was still alive and\\n\\nhatching his conspiracies: perhaps somewhere beyond the sea, under the protection of\\n\\nhis foreign paymasters, perhaps even -- so it was occasionally rumoured -- in some\\n\\nhiding-place in Oceania itself.\\n\\nWinston's diaphragm was constricted. He could never see the face of Goldstein without a\\n\\npainful mixture of emotions. It was a lean Jewish face, with a great fuzzy aureole of white\\n\\nhair and a small goatee beard -- a clever face, and yet somehow inherently despicable,\\n\\nwith a kind of senile silliness in the long thin nose, near the end of which a pair of\\n\\nspectacles was perched. It resembled the face of a sheep, and the voice, too, had a\\n\\nsheep-like quality. Goldstein was delivering his usual venomous attack upon the\\n\\ndoctrines of the Party -- an attack so exaggerated and perverse that a child should have\\n\\nbeen able to see through it, and yet just plausible enough to fill one with an alarmed\\n\\nfeeling that other people, less level-headed than oneself, might be taken in by it. He was\\n\\nabusing Big Brother, he was denouncing the dictatorship of the Party, he was demanding\\n\\nthe immediate conclusion of peace with Eurasia, he was advocating freedom of speech,\\n\\nfreedom of the Press, freedom of assembly, freedom of thought, he was crying\\n\\nhysterically that the revolution had been betrayed -- and all this in rapid polysyllabic\\n\\nspeech which was a sort of parody of the habitual style of the orators of the Party, and\\n\\neven contained Newspeak words: more Newspeak words, indeed, than any Party member\\n\\nwould normally use in real life. And all the while, lest one should be in any doubt as to\\n\\nthe reality which Goldstein's specious claptrap covered, behind his head on the\\n\\ntelescreen there marched the endless columns of the Eurasian army -- row after row of\\n\\nsolid-looking men with expressionless Asiatic faces, who swam up to the surface of the\\n\\nscreen and vanished, to be replaced by others exactly similar. The dull rhythmic tramp of\\n\\nthe soldiers' boots formed the background to Goldstein's bleating voice.\\n\\nBefore the Hate had proceeded for thirty seconds, uncontrollable exclamations of rage\\n\\nwere breaking out from half the people in the room. The self-satisfied sheep-like face on\\n\\nthe screen, and the terrifying power of the Eurasian army behind it, were too much to be\\n\\nborne: besides, the sight or even the thought of Goldstein produced fear and anger\\n\\nautomatically. He was an object of hatred more constant than either Eurasia or Eastasia,\\n\\nsince when Oceania was at war with one of these Powers it was generally at peace with\\n\\nthe other. But what was strange was that although Goldstein was hated and despised by\\n\\neverybody, although every day and a thousand times a day, on platforms, on the\\n\\ntelescreen, in newspapers, in books, his theories were refuted, smashed, ridiculed, held\\n\\nup to the general gaze for the pitiful rubbish that they were in spite of all this, his\\n\\ninfluence never seemed to grow less. Always there were fresh dupes waiting to be\\n\\nseduced by him. A day never passed when spies and saboteurs acting under his\\n\\ndirections were not unmasked by the Thought Police. He was the commander of a vast\\n\\nshadowy army, an underground network of conspirators dedicated to the overthrow of\\n\\nthe State. The Brotherhood, its name was supposed to be. There were also whispered\\n\\nstories of a terrible book, a compendium of all the heresies, of which Goldstein was the\\n\\nauthor and which circulated clandestinely here and there. It was a book without a title.\\n\\nPeople referred to it, if at all, simply as the book. But one knew of such things only\\n\\nthrough vague rumours. Neither the Brotherhood nor the book was a subject that any\\n\\nordinary Party member would mention if there was a way of avoiding it.\\n\\nIn its second minute the Hate rose to a frenzy. People were leaping up and down in their\\n\\nplaces and shouting at the tops of their voices in an effort to drown the maddening\\n\\nbleating voice that came from the screen. The little sandy-haired woman had turned\\n\\nbright pink, and her mouth was opening and shutting like that of a landed fish. Even\\n\\nO'Brien's heavy face was flushed. He was sitting very straight in his chair, his powerful\\n\\nchest swelling and quivering as though he were standing up to the assault of a wave.\\n\\nThe dark-haired girl behind Winston had begun crying out 'Swine! Swine! Swine!' and\\n\\nsuddenly she picked up a heavy Newspeak dictionary and flung it at the screen. It struck\\n\\nGoldstein's nose and bounced off; the voice continued inexorably. In a lucid moment\\n\\nWinston found that he was shouting with the others and kicking his heel violently\\n\\nagainst the rung of his chair. The horrible thing about the Two Minutes Hate was not\\n\\nthat one was obliged to act a part, but, on the contrary, that it was impossible to avoid\\n\\njoining in. Within thirty seconds any pretence was always unnecessary. A hideous ecstasy\\n\\nof fear and vindictiveness, a desire to kill, to torture, to smash faces in with a sledge-\\n\\nhammer, seemed to flow through the whole group of people like an electric current,\\n\\nturning one even against one's will into a grimacing, screaming lunatic. And yet the rage\\n\\nthat one felt was an abstract, undirected emotion which could be switched from one\\n\\nobject to another like the flame of a blowlamp. Thus, at one moment Winston's hatred\\n\\nwas not turned against Goldstein at all, but, on the contrary, against Big Brother, the\\n\\nParty, and the Thought Police; and at such moments his heart went out to the lonely,\\n\\nderided heretic on the screen, sole guardian of truth and sanity in a world of lies. And\\n\\nyet the very next instant he was at one with the people about him, and all that was said\\n\\nof Goldstein seemed to him to be true. At those moments his secret loathing of Big\\n\\nBrother changed into adoration, and Big Brother seemed to tower up, an invincible,\\n\\nfearless protector, standing like a rock against the hordes of Asia, and Goldstein, in spite\\n\\nof his isolation, his helplessness, and the doubt that hung about his very existence,\\n\\nseemed like some sinister enchanter, capable by the mere power of his voice of wrecking\\n\\nthe structure of civilization.\\n\\nIt was even possible, at moments, to switch one's hatred this way or that by a voluntary\\n\\nact. Suddenly, by the sort of violent effort with which one wrenches one's head away\\n\\nfrom the pillow in a nightmare, Winston succeeded in transferring his hatred from the\\n\\nface on the screen to the dark-haired girl behind him. Vivid, beautiful hallucinations\\n\\nflashed through his mind. He would flog her to death with a rubber truncheon. He would\\n\\ntie her naked to a stake and shoot her full of arrows like Saint Sebastian. He would\\n\\nravish her and cut her throat at the moment of climax. Better than before, moreover, he\\n\\nrealized why it was that he hated her. He hated her because she was young and pretty\\n\\nand sexless, because he wanted to go to bed with her and would never do so, because\\n\\nround her sweet supple waist, which seemed to ask you to encircle it with your arm,\\n\\nthere was only the odious scarlet sash, aggressive symbol of chastity.\\n\\nThe Hate rose to its climax. The voice of Goldstein had become an actual sheep's bleat,\\n\\nand for an instant the face changed into that of a sheep. Then the sheep-face melted\\n\\ninto the figure of a Eurasian soldier who seemed to be advancing, huge and terrible, his\\n\\nsub-machine gun roaring, and seeming to spring out of the surface of the screen, so\\n\\nthat some of the people in the front row actually flinched backwards in their seats. But in\\n\\nthe same moment, drawing a deep sigh of relief from everybody, the hostile figure\\n\\nmelted into the face of Big Brother, black-haired, black-moustachio'd, full of power and\\n\\nmysterious calm, and so vast that it almost filled up the screen. Nobody heard what Big\\n\\nBrother was saying. It was merely a few words of encouragement, the sort of words that\\n\\nare uttered in the din of battle, not distinguishable individually but restoring confidence\\n\\nby the fact of being spoken. Then the face of Big Brother faded away again, and instead\\n\\nthe three slogans of the Party stood out in bold capitals:\\n\\nWAR IS PEACE\\n\\nFREEDOM IS SLAVERY\\n\\nIGNORANCE IS STRENGTH\\n\\nBut the face of Big Brother seemed to persist for several seconds on the screen, as\\n\\nthough the impact that it had made on everyone's eyeballs was too vivid to wear off\\n\\nimmediately. The little sandyhaired woman had flung herself forward over the back of\\n\\nthe chair in front of her. With a tremulous murmur that sounded like 'My Saviour!' she\\n\\nextended her arms towards the screen. Then she buried her face in her hands. It was\\n\\napparent that she was uttering a prayer.\\n\\nAt this moment the entire group of people broke into a deep, slow, rhythmical chant of\\n\\n'B-B! ...B-B!' -- over and over again, very slowly, with a long pause between the first 'B'\\n\\nand the second-a heavy, murmurous sound, somehow curiously savage, in the\\n\\nbackground of which one seemed to hear the stamp of naked feet and the throbbing of\\n\\ntom-toms. For perhaps as much as thirty seconds they kept it up. It was a refrain that\\n\\nwas often heard in moments of overwhelming emotion. Partly it was a sort of hymn to\\n\\nthe wisdom and majesty of Big Brother, but still more it was an act of self-hypnosis, a\\n\\ndeliberate drowning of consciousness by means of rhythmic noise. Winston's entrails\\n\\nseemed to grow cold. In the Two Minutes Hate he could not help sharing in the general\\n\\ndelirium, but this sub-human chanting of 'B-B! ...B-B!' always filled him with horror. Of\\n\\ncourse he chanted with the rest: it was impossible to do otherwise. To dissemble your\\n\\nfeelings, to control your face, to do what everyone else was doing, was an instinctive\\n\\nreaction. But there was a space of a couple of seconds during which the expression of\\n\\nhis eyes might conceivably have betrayed him. And it was exactly at this moment that\\n\\nthe significant thing happened -- if, indeed, it did happen.\\n\\nMomentarily he caught O'Brien's eye. O'Brien had stood up. He had taken off his\\n\\nspectacles and was in the act of resettling them on his nose with his characteristic\\n\\ngesture. But there was a fraction of a second when their eyes met, and for as long as it\\n\\ntook to happen Winston knew-yes, he knew!-that O'Brien was thinking the same thing as\\n\\nhimself. An unmistakable message had passed. It was as though their two minds had\\n\\nopened and the thoughts were flowing from one into the other through their eyes. 'I am\\n\\nwith you,' O'Brien seemed to be saying to him. 'I know precisely what you are feeling. I\\n\\nknow all about your contempt, your hatred, your disgust. But don't worry, I am on your\\n\\nside!' And then the flash of intelligence was gone, and O'Brien's face was as inscrutable\\n\\nas everybody else's.\\n\\nThat was all, and he was already uncertain whether it had happened. Such incidents\\n\\nnever had any sequel. All that they did was to keep alive in him the belief, or hope, that\\n\\nothers besides himself were the enemies of the Party. Perhaps the rumours of vast\\n\\nunderground conspiracies were true after all -- perhaps the Brotherhood really existed! It\\n\\nwas impossible, in spite of the endless arrests and confessions and executions, to be sure\\n\\nthat the Brotherhood was not simply a myth. Some days he believed in it, some days\\n\\nnot. There was no evidence, only fleeting glimpses that might mean anything or nothing:\\n\\nsnatches of overheard conversation, faint scribbles on lavatory walls -- once, even, when\\n\\ntwo strangers met, a small movement of the hand which had looked as though it might\\n\\nbe a signal of recognition. It was all guesswork: very likely he had imagined everything.\\n\\nHe had gone back to his cubicle without looking at O'Brien again. The idea of following\\n\\nup their momentary contact hardly crossed his mind. It would have been inconceivably\\n\\ndangerous even if he had known how to set about doing it. For a second, two seconds,\\n\\nthey had exchanged an equivocal glance, and that was the end of the story. But even\\n\\nthat was a memorable event, in the locked loneliness in which one had to live.\\n\\nWinston roused himself and sat up straighter. He let out a belch. The gin was rising from\\n\\nhis stomach.\\n\\nHis eyes re-focused on the page. He discovered that while he sat helplessly musing he\\n\\nhad also been writing, as though by automatic action. And it was no longer the same\\n\\ncramped, awkward handwriting as before. His pen had slid voluptuously over the smooth\\n\\npaper, printing in large neat capitals -\\n\\nDOWN WITH BIG BROTHER\\n\\nDOWN WITH BIG BROTHER\\n\\nDOWN WITH BIG BROTHER\\n\\nDOWN WITH BIG BROTHER\\n\\nDOWN WITH BIG BROTHER\\n\\nover and over again, filling half a page.\\n\\nHe could not help feeling a twinge of panic. It was absurd, since the writing of those\\n\\nparticular words was not more dangerous than the initial act of opening the diary, but\\n\\nfor a moment he was tempted to tear out the spoiled pages and abandon the enterprise\\n\\naltogether.\\n\\nHe did not do so, however, because he knew that it was useless. Whether he wrote\\n\\nDOWN WITH BIG BROTHER, or whether he refrained from writing it, made no difference.\\n\\nWhether he went on with the diary, or whether he did not go on with it, made no\\n\\ndifference. The Thought Police would get him just the same. He had committed -- would\\n\\nstill have committed, even if he had never set pen to paper -- the essential crime that\\n\\ncontained all others in itself. Thoughtcrime, they called it. Thoughtcrime was not a thing\\n\\nthat could be concealed for ever. You might dodge successfully for a while, even for\\n\\nyears, but sooner or later they were bound to get you.\\n\\nIt was always at night -- the arrests invariably happened at night. The sudden jerk out of\\n\\nsleep, the rough hand shaking your shoulder, the lights glaring in your eyes, the ring of\\n\\nhard faces round the bed. In the vast majority of cases there was no trial, no report of\\n\\nthe arrest. People simply disappeared, always during the night. Your name was removed\\n\\nfrom the registers, every record of everything you had ever done was wiped out, your\\n\\none-time existence was denied and then forgotten. You were abolished, annihilated:\\n\\nvaporized was the usual word.\\n\\nFor a moment he was seized by a kind of hysteria. He began writing in a hurried untidy\\n\\nscrawl:\\n\\ntheyll shoot me i don't care theyll shoot me in the back of the neck i dont care down\\n\\nwith big brother they always shoot you in the back of the neck i dont care down with\\n\\nbig brother --\\n\\nHe sat back in his chair, slightly ashamed of himself, and laid down the pen. The next\\n\\nmoment he started violently. There was a knocking at the door.\\n\\nAlready! He sat as still as a mouse, in the futile hope that whoever it was might go away\\n\\nafter a single attempt. But no, the knocking was repeated. The worst thing of all would\\n\\nbe to delay. His heart was thumping like a drum, but his face, from long habit, was\\n\\nprobably expressionless. He got up and moved heavily towards the door.\")]"
      ]
     },
     "execution_count": 16,
     "metadata": {},
     "output_type": "execute_result"
    }
   ],
   "source": [
    "loader = UnstructuredFileLoader(os.path.join(base_path, 'chapter_one.pdf'))\n",
    "loader.load()"
   ]
  },
  {
   "cell_type": "code",
   "execution_count": 17,
   "id": "e156863e-1005-4067-9ac9-d51219a5bb37",
   "metadata": {},
   "outputs": [
    {
     "name": "stderr",
     "output_type": "stream",
     "text": [
      "libmagic is unavailable but assists in filetype detection. Please consider installing libmagic for better results.\n"
     ]
    },
    {
     "data": {
      "text/plain": [
       "[Document(metadata={'source': 'D:\\\\NLP2501\\\\dataset\\\\files\\\\chapter_one.txt'}, page_content=\"Part 1, Chapter 1\\n\\nPart One\\n\\n1 It was a bright cold day in April, and the clocks were striking thirteen. Winston Smith, his chin nuzzled into his breast in an effort to escape the vile wind, slipped quickly through the glass doors of Victory Mansions, though not quickly enough to prevent a swirl of gritty dust from entering along with him.\\n\\nThe hallway smelt of boiled cabbage and old rag mats. At one end of it a coloured poster, too large for indoor display, had been tacked to the wall. It depicted simply an enormous face, more than a metre wide: the face of a man of about forty-five, with a heavy black moustache and ruggedly handsome features. Winston made for the stairs. It was no use trying the lift. Even at the best of times it was seldom working, and at present the electric current was cut off during daylight hours. It was part of the economy drive in preparation for Hate Week. The flat was seven flights up, and Winston, who was thirty-nine and had a varicose ulcer above his right ankle, went slowly, resting several times on the way. On each landing, opposite the lift-shaft, the poster with the enormous face gazed from the wall. It was one of those pictures which are so contrived that the eyes follow you about when you move. BIG BROTHER IS WATCHING YOU, the caption beneath it ran.\\n\\nInside the flat a fruity voice was reading out a list of figures which had something to do with the production of pig-iron. The voice came from an oblong metal plaque like a dulled mirror which formed part of the surface of the right-hand wall. Winston turned a switch and the voice sank somewhat, though the words were still distinguishable. The instrument (the telescreen, it was called) could be dimmed, but there was no way of shutting it off completely. He moved over to the window: a smallish, frail figure, the meagreness of his body merely emphasized by the blue overalls which were the uniform of the party. His hair was very fair, his face naturally sanguine, his skin roughened by coarse soap and blunt razor blades and the cold of the winter that had just ended.\\n\\nOutside, even through the shut window-pane, the world looked cold. Down in the street little eddies of wind were whirling dust and torn paper into spirals, and though the sun was shining and the sky a harsh blue, there seemed to be no colour in anything, except the posters that were plastered everywhere. The blackmoustachio'd face gazed down from every commanding corner. There was one on the house-front immediately opposite. BIG BROTHER IS WATCHING YOU, the caption said, while the dark eyes looked deep into Winston's own. Down at streetlevel another poster, torn at one corner, flapped fitfully in the wind, alternately covering and uncovering the single word INGSOC. In the far distance a helicopter skimmed down between the roofs, hovered for an instant like a bluebottle, and darted away again with a curving flight. It was the police patrol, snooping into people's windows. The patrols did not matter, however. Only the Thought Police mattered.\\n\\nBehind Winston's back the voice from the telescreen was still babbling away about pig-iron and the overfulfilment of the Ninth Three-Year Plan. The telescreen received and transmitted simultaneously. Any sound that Winston made, above the level of a very low whisper, would be picked up by it, moreover, so long as he remained within the field of vision which the metal plaque commanded, he could be seen as well as heard. There was of course no way of knowing whether you were being watched at any given moment. How often, or on what system, the Thought Police plugged in on any individual wire was guesswork. It was even conceivable that they watched everybody all the time. But at any rate they could plug in your wire whenever they wanted to. You had to live -- did live, from habit that became instinct -- in the assumption that every sound you made was overheard, and, except in darkness, every movement scrutinized.\\n\\nWinston kept his back turned to the telescreen. It was safer, though, as he well knew, even a back can be revealing. A kilometre away the Ministry of Truth, his place of work, towered vast and white above the grimy landscape. This, he thought with a sort of vague distaste -- this was London, chief city of Airstrip One, itself the third most populous of the provinces of Oceania. He tried to squeeze out some childhood memory that should tell him whether London had always been quite like this. Were there always these vistas of rotting nineteenth-century houses, their sides shored up with baulks of timber, their windows patched with cardboard and their roofs with corrugated iron, their crazy garden walls sagging in all directions? And the bombed sites where the plaster dust swirled in the air and the willow-herb straggled over the heaps of rubble; and the places where the bombs had cleared a larger patch and there had sprung up sordid colonies of wooden dwellings like chicken-houses? But it was no use, he could not remember: nothing remained of his childhood except a series of bright-lit tableaux occurring against no background and mostly unintelligible.\\n\\nThe Ministry of Truth -- Minitrue, in Newspeak -- was startlingly different from any other object in sight. It was an enormous pyramidal structure of glittering white concrete, soaring up, terrace after terrace, 300 metres into the air. From where Winston stood it was just possible to read, picked out on its white face in elegant lettering, the three slogans of the Party:\\n\\nWAR IS PEACE\\n\\nFREEDOM IS SLAVERY\\n\\nIGNORANCE IS STRENGTH\\n\\nThe Ministry of Truth contained, it was said, three thousand rooms above ground level, and corresponding ramifications below. Scattered about London there were just three other buildings of similar appearance and size. So completely did they dwarf the surrounding architecture that from the roof of Victory Mansions you could see all four of them simultaneously. They were the homes of the four Ministries between which the entire apparatus of government was divided. The Ministry of Truth, which concerned itself with news, entertainment, education, and the fine arts. The Ministry of Peace, which concerned itself with war. The Ministry of Love, which maintained law and order. And the Ministry of Plenty, which was responsible for economic affairs. Their names, in Newspeak: Minitrue, Minipax, Miniluv, and Miniplenty.\\n\\nThe Ministry of Love was the really frightening one. There were no windows in it at all. Winston had never been inside the Ministry of Love, nor within half a kilometre of it. It was a place impossible to enter except on official business, and then only by penetrating through a maze of barbed-wire entanglements, steel doors, and hidden machine-gun nests. Even the streets leading up to its outer barriers were roamed by gorilla-faced guards in black uniforms, armed with jointed truncheons.\\n\\nWinston turned round abruptly. He had set his features into the expression of quiet optimism which it was advisable to wear when facing the telescreen. He crossed the room into the tiny kitchen. By leaving the Ministry at this time of day he had sacrificed his lunch in the canteen, and he was aware that there was no food in the kitchen except a hunk of dark-coloured bread which had got to be saved for tomorrow's breakfast. He took down from the shelf a bottle of colourless liquid with a plain white label marked VICTORY GIN. It gave off a sickly, oily smell, as of Chinese ricespirit. Winston poured out nearly a teacupful, nerved himself for a shock, and gulped it down like a dose of medicine.\\n\\nInstantly his face turned scarlet and the water ran out of his eyes. The stuff was like nitric acid, and moreover, in swallowing it one had the sensation of being hit on the back of the head with a rubber club. The next moment, however, the burning in his belly died down and the world began to look more cheerful. He took a cigarette from a crumpled packet marked VICTORY CIGARETTES and incautiously held it upright, whereupon the tobacco fell out on to the floor. With the next he was more successful. He went back to the living-room and sat down at a small table that stood to the left of the telescreen. From the table drawer he took out a penholder, a bottle of ink, and a thick, quarto-sized blank book with a red back and a marbled cover.\\n\\nFor some reason the telescreen in the living-room was in an unusual position. Instead of being placed, as was normal, in the end wall, where it could command the whole room, it was in the longer wall, opposite the window. To one side of it there was a shallow alcove in which Winston was now sitting, and which, when the flats were built, had probably been intended to hold bookshelves. By sitting in the alcove, and keeping well back, Winston was able to remain outside the range of the telescreen, so far as sight went. He could be heard, of course, but so long as he stayed in his present position he could not be seen. It was partly the unusual geography of the room that had suggested to him the thing that he was now about to do.\\n\\nBut it had also been suggested by the book that he had just taken out of the drawer. It was a peculiarly beautiful book. Its smooth creamy paper, a little yellowed by age, was of a kind that had not been manufactured for at least forty years past. He could guess, however, that the book was much older than that. He had seen it lying in the window of a frowsy little junk-shop in a slummy quarter of the town (just what quarter he did not now remember) and had been stricken immediately by an overwhelming desire to possess it. Party members were supposed not to go into ordinary shops ('dealing on the free market', it was called), but the rule was not strictly kept, because there were various things, such as shoelaces and razor blades, which it was impossible to get hold of in any other way. He had given a quick glance up and down the street and then had slipped inside and bought the book for two dollars fifty. At the time he was not conscious of wanting it for any particular purpose. He had carried it guiltily home in his briefcase. Even with nothing written in it, it was a compromising possession.\\n\\nThe thing that he was about to do was to open a diary. This was not illegal (nothing was illegal, since there were no longer any laws), but if detected it was reasonably certain that it would be punished by death, or at least by twenty-five years in a forced-labour camp. Winston fitted a nib into the penholder and sucked it to get the grease off. The pen was an archaic instrument, seldom used even for signatures, and he had procured one, furtively and with some difficulty, simply because of a feeling that the beautiful creamy paper deserved to be written on with a real nib instead of being scratched with an ink-pencil. Actually he was not used to writing by hand. Apart from very short notes, it was usual to dictate everything into the speakwrite which was of course impossible for his present purpose. He dipped the pen into the ink and then faltered for just a second. A tremor had gone through his bowels. To mark the paper was the decisive act. In small clumsy letters he wrote:\\n\\nApril 4th, 1984.\\n\\nHe sat back. A sense of complete helplessness had descended upon him. To begin with, he did not know with any certainty that this was 1984. It must be round about that date, since he was fairly sure that his age was thirty-nine, and he believed that he had been born in 1944 or 1945; but it was never possible nowadays to pin down any date within a year or two.\\n\\nFor whom, it suddenly occurred to him to wonder, was he writing this diary? For the future, for the unborn. His mind hovered for a moment round the doubtful date on the page, and then fetched up with a bump against the Newspeak word doublethink. For the first time the magnitude of what he had undertaken came home to him. How could you communicate with the future? It was of its nature impossible. Either the future would resemble the present, in which case it would not listen to him: or it would be different from it, and his predicament would be meaningless.\\n\\nFor some time he sat gazing stupidly at the paper. The telescreen had changed over to strident military music. It was curious that he seemed not merely to have lost the power of expressing himself, but even to have forgotten what it was that he had originally intended to say. For weeks past he had been making ready for this moment, and it had never crossed his mind that anything would be needed except courage. The actual writing would be easy. All he had to do was to transfer to paper the interminable restless monologue that had been running inside his head, literally for years. At this moment, however, even the monologue had dried up. Moreover his varicose ulcer had begun itching unbearably. He dared not scratch it, because if he did so it always became inflamed. The seconds were ticking by. He was conscious of nothing except the blankness of the page in front of him, the itching of the skin above his ankle, the blaring of the music, and a slight booziness caused by the gin.\\n\\nSuddenly he began writing in sheer panic, only imperfectly aware of what he was setting down. His small but childish handwriting straggled up and down the page, shedding first its capital letters and finally even its full stops:\\n\\nApril 4th, 1984. Last night to the flicks. All war films. One very good one of a ship full of refugees being bombed somewhere in the Mediterranean. Audience much amused by shots of a great huge fat man trying to swim away with a helicopter after him, first you saw him wallowing along in the water like a porpoise, then you saw him through the helicopters gunsights, then he was full of holes and the sea round him turned pink and he sank as suddenly as though the holes had let in the water, audience shouting with laughter when he sank. then you saw a lifeboat full of children with a helicopter hovering over it. there was a middle-aged woman might have been a jewess sitting up in the bow with a little boy about three years old in her arms. little boy screaming with fright and hiding his head between her breasts as if he was trying to burrow right into her and the woman putting her arms round him and comforting him although she was blue with fright herself, all the time covering him up as much as possible as if she thought her arms could keep the bullets off him. then the helicopter planted a 20 kilo bomb in among them terrific flash and the boat went all to matchwood. then there was a wonderful shot of a child's arm going up up up right up into the air a helicopter with a camera in its nose must have followed it up and there was a lot of applause from the party seats but a woman down in the prole part of the house suddenly started kicking up a fuss and shouting they didnt oughter of showed it not in front of kids they didnt it aint right not in front of kids it aint until the police turned her turned her out i dont suppose anything happened to her nobody cares what the proles say typical prole reaction they never --\\n\\nWinston stopped writing, partly because he was suffering from cramp. He did not know what had made him pour out this stream of rubbish. But the curious thing was that while he was doing so a totally different memory had clarified itself in his mind, to the point where he almost felt equal to writing it down. It was, he now realized, because of this other incident that he had suddenly decided to come home and begin the diary today.\\n\\nIt had happened that morning at the Ministry, if anything so nebulous could be said to happen.\\n\\nIt was nearly eleven hundred, and in the Records Department, where Winston worked, they were dragging the chairs out of the cubicles and grouping them in the centre of the hall opposite the big telescreen, in preparation for the Two Minutes Hate. Winston was just taking his place in one of the middle rows when two people whom he knew by sight, but had never spoken to, came unexpectedly into the room. One of them was a girl whom he often passed in the corridors. He did not know her name, but he knew that she worked in the Fiction Department. Presumably -- since he had sometimes seen her with oily hands and carrying a spanner she had some mechanical job on one of the novel-writing machines. She was a bold-looking girl, of about twenty-seven, with thick hair, a freckled face, and swift, athletic movements. A narrow scarlet sash, emblem of the Junior Anti-Sex League, was wound several times round the waist of her overalls, just tightly enough to bring out the shapeliness of her hips. Winston had disliked her from the very first moment of seeing her. He knew the reason. It was because of the atmosphere of hockey-fields and cold baths and community hikes and general clean-mindedness which she managed to carry about with her. He disliked nearly all women, and especially the young and pretty ones. It was always the women, and above all the young ones, who were the most bigoted adherents of the Party, the swallowers of slogans, the amateur spies and nosers-out of unorthodoxy. But this particular girl gave him the impression of being more dangerous than most. Once when they passed in the corridor she gave him a quick sidelong glance which seemed to pierce right into him and for a moment had filled him with black terror. The idea had even crossed his mind that she might be an agent of the Thought Police. That, it was true, was very unlikely. Still, he continued to feel a peculiar uneasiness, which had fear mixed up in it as well as hostility, whenever she was anywhere near him.\\n\\nThe other person was a man named O'Brien, a member of the Inner Party and holder of some post so important and remote that Winston had only a dim idea of its nature. A momentary hush passed over the group of people round the chairs as they saw the black overalls of an Inner Party member approaching. O'Brien was a large, burly man with a thick neck and a coarse, humorous, brutal face. In spite of his formidable appearance he had a certain charm of manner. He had a trick of resettling his spectacles on his nose which was curiously disarming -- in some indefinable way, curiously civilized. It was a gesture which, if anyone had still thought in such terms, might have recalled an eighteenth-century nobleman offering his snuffbox. Winston had seen O'Brien perhaps a dozen times in almost as many years. He felt deeply drawn to him, and not solely because he was intrigued by the contrast between O'Brien's urbane manner and his prize-fighter's physique. Much more it was because of a secretly held belief -- or perhaps not even a belief, merely a hope -- that O'Brien's political orthodoxy was not perfect. Something in his face suggested it irresistibly. And again, perhaps it was not even unorthodoxy that was written in his face, but simply intelligence. But at any rate he had the appearance of being a person that you could talk to if somehow you could cheat the telescreen and get him alone. Winston had never made the smallest effort to verify this guess: indeed, there was no way of doing so. At this moment O'Brien glanced at his wrist-watch, saw that it was nearly eleven hundred, and evidently decided to stay in the Records Department until the Two Minutes Hate was over. He took a chair in the same row as Winston, a couple of places away. A small, sandy-haired woman who worked in the next cubicle to Winston was between them. The girl with dark hair was sitting immediately behind.\\n\\nThe next moment a hideous, grinding speech, as of some monstrous machine running without oil, burst from the big telescreen at the end of the room. It was a noise that set one's teeth on edge and bristled the hair at the back of one's neck. The Hate had started.\\n\\nAs usual, the face of Emmanuel Goldstein, the Enemy of the People, had flashed on to the screen. There were hisses here and there among the audience. The little sandy-haired woman gave a squeak of mingled fear and disgust. Goldstein was the renegade and backslider who once, long ago (how long ago, nobody quite remembered), had been one of the leading figures of the Party, almost on a level with Big Brother himself, and then had engaged in counter-revolutionary activities, had been condemned to death, and had mysteriously escaped and disappeared. The programmes of the Two Minutes Hate varied from day to day, but there was none in which Goldstein was not the principal figure. He was the primal traitor, the earliest defiler of the Party's purity. All subsequent crimes against the Party, all treacheries, acts of sabotage, heresies, deviations, sprang directly out of his teaching. Somewhere or other he was still alive and hatching his conspiracies: perhaps somewhere beyond the sea, under the protection of his foreign paymasters, perhaps even -- so it was occasionally rumoured -- in some hiding-place in Oceania itself.\\n\\nWinston's diaphragm was constricted. He could never see the face of Goldstein without a painful mixture of emotions. It was a lean Jewish face, with a great fuzzy aureole of white hair and a small goatee beard -- a clever face, and yet somehow inherently despicable, with a kind of senile silliness in the long thin nose, near the end of which a pair of spectacles was perched. It resembled the face of a sheep, and the voice, too, had a sheep-like quality. Goldstein was delivering his usual venomous attack upon the doctrines of the Party -- an attack so exaggerated and perverse that a child should have been able to see through it, and yet just plausible enough to fill one with an alarmed feeling that other people, less level-headed than oneself, might be taken in by it. He was abusing Big Brother, he was denouncing the dictatorship of the Party, he was demanding the immediate conclusion of peace with Eurasia, he was advocating freedom of speech, freedom of the Press, freedom of assembly, freedom of thought, he was crying hysterically that the revolution had been betrayed -- and all this in rapid polysyllabic speech which was a sort of parody of the habitual style of the orators of the Party, and even contained Newspeak words: more Newspeak words, indeed, than any Party member would normally use in real life. And all the while, lest one should be in any doubt as to the reality which Goldstein's specious claptrap covered, behind his head on the telescreen there marched the endless columns of the Eurasian army -- row after row of solid-looking men with expressionless Asiatic faces, who swam up to the surface of the screen and vanished, to be replaced by others exactly similar. The dull rhythmic tramp of the soldiers' boots formed the background to Goldstein's bleating voice.\\n\\nBefore the Hate had proceeded for thirty seconds, uncontrollable exclamations of rage were breaking out from half the people in the room. The self-satisfied sheep-like face on the screen, and the terrifying power of the Eurasian army behind it, were too much to be borne: besides, the sight or even the thought of Goldstein produced fear and anger automatically. He was an object of hatred more constant than either Eurasia or Eastasia, since when Oceania was at war with one of these Powers it was generally at peace with the other. But what was strange was that although Goldstein was hated and despised by everybody, although every day and a thousand times a day, on platforms, on the telescreen, in newspapers, in books, his theories were refuted, smashed, ridiculed, held up to the general gaze for the pitiful rubbish that they were in spite of all this, his influence never seemed to grow less. Always there were fresh dupes waiting to be seduced by him. A day never passed when spies and saboteurs acting under his directions were not unmasked by the Thought Police. He was the commander of a vast shadowy army, an underground network of conspirators dedicated to the overthrow of the State. The Brotherhood, its name was supposed to be. There were also whispered stories of a terrible book, a compendium of all the heresies, of which Goldstein was the author and which circulated clandestinely here and there. It was a book without a title. People referred to it, if at all, simply as the book. But one knew of such things only through vague rumours. Neither the Brotherhood nor the book was a subject that any ordinary Party member would mention if there was a way of avoiding it.\\n\\nIn its second minute the Hate rose to a frenzy. People were leaping up and down in their places and shouting at the tops of their voices in an effort to drown the maddening bleating voice that came from the screen. The little sandy-haired woman had turned bright pink, and her mouth was opening and shutting like that of a landed fish. Even O'Brien's heavy face was flushed. He was sitting very straight in his chair, his powerful chest swelling and quivering as though he were standing up to the assault of a wave. The dark-haired girl behind Winston had begun crying out 'Swine! Swine! Swine!' and suddenly she picked up a heavy Newspeak dictionary and flung it at the screen. It struck Goldstein's nose and bounced off; the voice continued inexorably. In a lucid moment Winston found that he was shouting with the others and kicking his heel violently against the rung of his chair. The horrible thing about the Two Minutes Hate was not that one was obliged to act a part, but, on the contrary, that it was impossible to avoid joining in. Within thirty seconds any pretence was always unnecessary. A hideous ecstasy of fear and vindictiveness, a desire to kill, to torture, to smash faces in with a sledge-hammer, seemed to flow through the whole group of people like an electric current, turning one even against one's will into a grimacing, screaming lunatic. And yet the rage that one felt was an abstract, undirected emotion which could be switched from one object to another like the flame of a blowlamp. Thus, at one moment Winston's hatred was not turned against Goldstein at all, but, on the contrary, against Big Brother, the Party, and the Thought Police; and at such moments his heart went out to the lonely, derided heretic on the screen, sole guardian of truth and sanity in a world of lies. And yet the very next instant he was at one with the people about him, and all that was said of Goldstein seemed to him to be true. At those moments his secret loathing of Big Brother changed into adoration, and Big Brother seemed to tower up, an invincible, fearless protector, standing like a rock against the hordes of Asia, and Goldstein, in spite of his isolation, his helplessness, and the doubt that hung about his very existence, seemed like some sinister enchanter, capable by the mere power of his voice of wrecking the structure of civilization.\\n\\nIt was even possible, at moments, to switch one's hatred this way or that by a voluntary act. Suddenly, by the sort of violent effort with which one wrenches one's head away from the pillow in a nightmare, Winston succeeded in transferring his hatred from the face on the screen to the dark-haired girl behind him. Vivid, beautiful hallucinations flashed through his mind. He would flog her to death with a rubber truncheon. He would tie her naked to a stake and shoot her full of arrows like Saint Sebastian. He would ravish her and cut her throat at the moment of climax. Better than before, moreover, he realized why it was that he hated her. He hated her because she was young and pretty and sexless, because he wanted to go to bed with her and would never do so, because round her sweet supple waist, which seemed to ask you to encircle it with your arm, there was only the odious scarlet sash, aggressive symbol of chastity.\\n\\nThe Hate rose to its climax. The voice of Goldstein had become an actual sheep's bleat, and for an instant the face changed into that of a sheep. Then the sheep-face melted into the figure of a Eurasian soldier who seemed to be advancing, huge and terrible, his sub-machine gun roaring, and seeming to spring out of the surface of the screen, so that some of the people in the front row actually flinched backwards in their seats. But in the same moment, drawing a deep sigh of relief from everybody, the hostile figure melted into the face of Big Brother, black-haired, black-moustachio'd, full of power and mysterious calm, and so vast that it almost filled up the screen. Nobody heard what Big Brother was saying. It was merely a few words of encouragement, the sort of words that are uttered in the din of battle, not distinguishable individually but restoring confidence by the fact of being spoken. Then the face of Big Brother faded away again, and instead the three slogans of the Party stood out in bold capitals:\\n\\nWAR IS PEACE\\n\\nFREEDOM IS SLAVERY\\n\\nIGNORANCE IS STRENGTH\\n\\nBut the face of Big Brother seemed to persist for several seconds on the screen, as though the impact that it had made on everyone's eyeballs was too vivid to wear off immediately. The little sandyhaired woman had flung herself forward over the back of the chair in front of her. With a tremulous murmur that sounded like 'My Saviour!' she extended her arms towards the screen. Then she buried her face in her hands. It was apparent that she was uttering a prayer.\\n\\nAt this moment the entire group of people broke into a deep, slow, rhythmical chant of 'B-B! ...B-B!' -- over and over again, very slowly, with a long pause between the first 'B' and the second-a heavy, murmurous sound, somehow curiously savage, in the background of which one seemed to hear the stamp of naked feet and the throbbing of tom-toms. For perhaps as much as thirty seconds they kept it up. It was a refrain that was often heard in moments of overwhelming emotion. Partly it was a sort of hymn to the wisdom and majesty of Big Brother, but still more it was an act of self-hypnosis, a deliberate drowning of consciousness by means of rhythmic noise. Winston's entrails seemed to grow cold. In the Two Minutes Hate he could not help sharing in the general delirium, but this sub-human chanting of 'B-B! ...B-B!' always filled him with horror. Of course he chanted with the rest: it was impossible to do otherwise. To dissemble your feelings, to control your face, to do what everyone else was doing, was an instinctive reaction. But there was a space of a couple of seconds during which the expression of his eyes might conceivably have betrayed him. And it was exactly at this moment that the significant thing happened -- if, indeed, it did happen.\\n\\nMomentarily he caught O'Brien's eye. O'Brien had stood up. He had taken off his spectacles and was in the act of resettling them on his nose with his characteristic gesture. But there was a fraction of a second when their eyes met, and for as long as it took to happen Winston knew-yes, he knew!-that O'Brien was thinking the same thing as himself. An unmistakable message had passed. It was as though their two minds had opened and the thoughts were flowing from one into the other through their eyes. 'I am with you,' O'Brien seemed to be saying to him. 'I know precisely what you are feeling. I know all about your contempt, your hatred, your disgust. But don't worry, I am on your side!' And then the flash of intelligence was gone, and O'Brien's face was as inscrutable as everybody else's.\\n\\nThat was all, and he was already uncertain whether it had happened. Such incidents never had any sequel. All that they did was to keep alive in him the belief, or hope, that others besides himself were the enemies of the Party. Perhaps the rumours of vast underground conspiracies were true after all -- perhaps the Brotherhood really existed! It was impossible, in spite of the endless arrests and confessions and executions, to be sure that the Brotherhood was not simply a myth. Some days he believed in it, some days not. There was no evidence, only fleeting glimpses that might mean anything or nothing: snatches of overheard conversation, faint scribbles on lavatory walls -- once, even, when two strangers met, a small movement of the hand which had looked as though it might be a signal of recognition. It was all guesswork: very likely he had imagined everything. He had gone back to his cubicle without looking at O'Brien again. The idea of following up their momentary contact hardly crossed his mind. It would have been inconceivably dangerous even if he had known how to set about doing it. For a second, two seconds, they had exchanged an equivocal glance, and that was the end of the story. But even that was a memorable event, in the locked loneliness in which one had to live.\\n\\nWinston roused himself and sat up straighter. He let out a belch. The gin was rising from his stomach.\\n\\nHis eyes re-focused on the page. He discovered that while he sat helplessly musing he had also been writing, as though by automatic action. And it was no longer the same cramped, awkward handwriting as before. His pen had slid voluptuously over the smooth paper, printing in large neat capitals -\\n\\nDOWN WITH BIG BROTHER\\n\\nDOWN WITH BIG BROTHER\\n\\nDOWN WITH BIG BROTHER\\n\\nDOWN WITH BIG BROTHER\\n\\nDOWN WITH BIG BROTHER\\n\\nover and over again, filling half a page.\\n\\nHe could not help feeling a twinge of panic. It was absurd, since the writing of those particular words was not more dangerous than the initial act of opening the diary, but for a moment he was tempted to tear out the spoiled pages and abandon the enterprise altogether.\\n\\nHe did not do so, however, because he knew that it was useless. Whether he wrote DOWN WITH BIG BROTHER, or whether he refrained from writing it, made no difference. Whether he went on with the diary, or whether he did not go on with it, made no difference. The Thought Police would get him just the same. He had committed -- would still have committed, even if he had never set pen to paper -- the essential crime that contained all others in itself. Thoughtcrime, they called it. Thoughtcrime was not a thing that could be concealed for ever. You might dodge successfully for a while, even for years, but sooner or later they were bound to get you.\\n\\nIt was always at night -- the arrests invariably happened at night. The sudden jerk out of sleep, the rough hand shaking your shoulder, the lights glaring in your eyes, the ring of hard faces round the bed. In the vast majority of cases there was no trial, no report of the arrest. People simply disappeared, always during the night. Your name was removed from the registers, every record of everything you had ever done was wiped out, your one-time existence was denied and then forgotten. You were abolished, annihilated: vaporized was the usual word.\\n\\nFor a moment he was seized by a kind of hysteria. He began writing in a hurried untidy scrawl:\\n\\ntheyll shoot me i don't care theyll shoot me in the back of the neck i dont care down with big brother they always shoot you in the back of the neck i dont care down with big brother --\\n\\nHe sat back in his chair, slightly ashamed of himself, and laid down the pen. The next moment he started violently. There was a knocking at the door.\\n\\nAlready! He sat as still as a mouse, in the futile hope that whoever it was might go away after a single attempt. But no, the knocking was repeated. The worst thing of all would be to delay. His heart was thumping like a drum, but his face, from long habit, was probably expressionless. He got up and moved heavily towards the door.\")]"
      ]
     },
     "execution_count": 17,
     "metadata": {},
     "output_type": "execute_result"
    }
   ],
   "source": [
    "loader = UnstructuredFileLoader(os.path.join(base_path, 'chapter_one.txt'))\n",
    "loader.load()"
   ]
  },
  {
   "cell_type": "code",
   "execution_count": 18,
   "id": "f4ec186f-9a4b-43fa-907a-9b62146dc0b6",
   "metadata": {},
   "outputs": [
    {
     "data": {
      "text/plain": [
       "[Document(metadata={'source': 'D:\\\\NLP2501\\\\dataset\\\\files\\\\chapter_one.docx'}, page_content=\"Part 1, Chapter 1\\n\\nPart One\\n\\n\\n1\\nIt was a bright cold day in April, and the clocks were striking thirteen. Winston Smith, his chin nuzzled into his breast in an effort to escape the vile wind, slipped quickly through the glass doors of Victory Mansions, though not quickly enough to prevent a swirl of gritty dust from entering along with him.\\n\\nThe hallway smelt of boiled cabbage and old rag mats. At one end of it a coloured poster, too large for indoor display, had been tacked to the wall. It depicted simply an enormous face, more than a metre wide: the face of a man of about forty-five, with a heavy black moustache and ruggedly handsome features. Winston made for the stairs. It was no use trying the lift. Even at the best of times it was seldom working, and at present the electric current was cut off during daylight hours. It was part of the economy drive in preparation for Hate Week. The flat was seven flights up, and Winston, who was thirty-nine and had a varicose ulcer above his right ankle, went slowly, resting several times on the way. On each landing, opposite the lift-shaft, the poster with the enormous face gazed from the wall. It was one of those pictures which are so contrived that the eyes follow you about when you move. BIG BROTHER IS WATCHING YOU, the caption beneath it ran.\\n\\nInside the flat a fruity voice was reading out a list of figures which had something to do with the production of pig-iron. The voice came from an oblong metal plaque like a dulled mirror which formed part of the surface of the right-hand wall. Winston turned a switch and the voice sank somewhat, though the words were still distinguishable. The instrument (the telescreen, it was called) could be dimmed, but there was no way of shutting it off completely. He moved over to the window: a smallish, frail figure, the meagreness of his body merely emphasized by the blue overalls which were the uniform of the party. His hair was very fair, his face naturally sanguine, his skin roughened by coarse soap and blunt razor blades and the cold of the winter that had just ended.\\n\\n\\n\\n\\n\\nOutside, even through the shut window-pane, the world looked cold. Down in the street little eddies of wind were whirling dust and torn paper into spirals, and though the sun was shining and the sky a harsh blue, there seemed to be no colour in anything, except the posters that were plastered everywhere. The blackmoustachio'd face gazed down from every commanding corner. There was one on the house-front immediately opposite. BIG BROTHER IS WATCHING YOU, the caption said, while the dark eyes looked deep into Winston's own. Down at streetlevel another poster, torn at one corner, flapped fitfully in the wind, alternately covering and uncovering the single word INGSOC. In the far distance a helicopter skimmed down between the roofs, hovered for an instant like a bluebottle, and darted away again with a curving flight. It was the police patrol, snooping into people's windows. The patrols did not matter, however. Only the Thought Police mattered.\\n\\nBehind Winston's back the voice from the telescreen was still babbling away about pig-iron and the overfulfilment of the Ninth Three-Year Plan. The telescreen received and transmitted simultaneously. Any sound that Winston made, above the level of a very low whisper, would be picked up by it, moreover, so long as he remained within the field of vision which the metal plaque commanded, he could be seen as well as heard. There was of course no way of knowing whether you were being watched at any given moment. How often, or on what system, the Thought Police plugged in on any individual wire was guesswork. It was even conceivable that they watched everybody all the time. But at any rate they could plug in your wire whenever they wanted to. You had to live -- did live, from habit that became instinct -- in the assumption that every sound you made was overheard, and, except in darkness, every movement scrutinized.\\n\\nWinston kept his back turned to the telescreen. It was safer, though, as he well knew, even a back can be revealing. A kilometre away the Ministry of Truth, his place of work, towered vast and white above the grimy landscape. This, he thought with a sort of vague distaste -- this was London, chief city of Airstrip One, itself the third most populous of the provinces of Oceania. He tried to squeeze out some childhood memory that should tell him whether London had always been quite like this. Were there always these vistas of rotting nineteenth-century houses, their sides shored up with baulks of timber, their windows patched with cardboard and their roofs with corrugated iron, their crazy garden walls sagging in all directions? And the bombed sites where the plaster dust swirled in the air and the willow-herb straggled over the heaps of rubble; and the places where the \\n\\n\\n\\nbombs had cleared a larger patch and there had sprung up sordid colonies of wooden dwellings like chicken-houses? But it was no use, he could not remember: nothing remained of his childhood except a series of bright-lit tableaux occurring against no background and mostly unintelligible.\\n\\nThe Ministry of Truth -- Minitrue, in Newspeak -- was startlingly different from any other object in sight. It was an enormous pyramidal structure of glittering white concrete, soaring up, terrace after terrace, 300 metres into the air. From where Winston stood it was just possible to read, picked out on its white face in elegant lettering, the three slogans of the Party:\\n\\nWAR IS PEACE\\n\\nFREEDOM IS SLAVERY\\n\\nIGNORANCE IS STRENGTH\\n\\nThe Ministry of Truth contained, it was said, three thousand rooms above ground level, and corresponding ramifications below. Scattered about London there were just three other buildings of similar appearance and size. So completely did they dwarf the surrounding architecture that from the roof of Victory Mansions you could see all four of them simultaneously. They were the homes of the four Ministries between which the entire apparatus of government was divided. The Ministry of Truth, which concerned itself with news, entertainment, education, and the fine arts. The Ministry of Peace, which concerned itself with war. The Ministry of Love, which maintained law and order. And the Ministry of Plenty, which was responsible for economic affairs. Their names, in Newspeak: Minitrue, Minipax, Miniluv, and Miniplenty.\\n\\nThe Ministry of Love was the really frightening one. There were no windows in it at all. Winston had never been inside the Ministry of Love, nor within half a kilometre of it. It was a place impossible to enter except on official business, and then only by penetrating through a maze of barbed-wire entanglements, steel doors, and hidden machine-gun nests. Even the streets leading up to its outer barriers were roamed by gorilla-faced guards in black uniforms, armed with jointed truncheons.\\n\\n\\n\\n\\n\\nWinston turned round abruptly. He had set his features into the expression of quiet optimism which it was advisable to wear when facing the telescreen. He crossed the room into the tiny kitchen. By leaving the Ministry at this time of day he had sacrificed his lunch in the canteen, and he was aware that there was no food in the kitchen except a hunk of dark-coloured bread which had got to be saved for tomorrow's breakfast. He took down from the shelf a bottle of colourless liquid with a plain white label marked VICTORY GIN. It gave off a sickly, oily smell, as of Chinese ricespirit. Winston poured out nearly a teacupful, nerved himself for a shock, and gulped it down like a dose of medicine.\\n\\nInstantly his face turned scarlet and the water ran out of his eyes. The stuff was like nitric acid, and moreover, in swallowing it one had the sensation of being hit on the back of the head with a rubber club. The next moment, however, the burning in his belly died down and the world began to look more cheerful. He took a cigarette from a crumpled packet marked VICTORY CIGARETTES and incautiously held it upright, whereupon the tobacco fell out on to the floor. With the next he was more successful. He went back to the living-room and sat down at a small table that stood to the left of the telescreen. From the table drawer he took out a penholder, a bottle of ink, and a thick, quarto-sized blank book with a red back and a marbled cover.\\n\\nFor some reason the telescreen in the living-room was in an unusual position. Instead of being placed, as was normal, in the end wall, where it could command the whole room, it was in the longer wall, opposite the window. To one side of it there was a shallow alcove in which Winston was now sitting, and which, when the flats were built, had probably been intended to hold bookshelves. By sitting in the alcove, and keeping well back, Winston was able to remain outside the range of the telescreen, so far as sight went. He could be heard, of course, but so long as he stayed in his present position he could not be seen. It was partly the unusual geography of the room that had suggested to him the thing that he was now about to do.\\n\\nBut it had also been suggested by the book that he had just taken out of the drawer. It was a peculiarly beautiful book. Its smooth creamy paper, a little yellowed by age, was of a kind that had not been manufactured for at least forty years past. He could guess, however, that the book was much older than that. He had seen it lying in the window of a frowsy little junk-shop in a slummy quarter of the town (just what quarter he did not \\n\\n\\n\\nnow remember) and had been stricken immediately by an overwhelming desire to possess it. Party members were supposed not to go into ordinary shops ('dealing on the free market', it was called), but the rule was not strictly kept, because there were various things, such as shoelaces and razor blades, which it was impossible to get hold of in any other way. He had given a quick glance up and down the street and then had slipped inside and bought the book for two dollars fifty. At the time he was not conscious of wanting it for any particular purpose. He had carried it guiltily home in his briefcase. Even with nothing written in it, it was a compromising possession.\\n\\nThe thing that he was about to do was to open a diary. This was not illegal (nothing was illegal, since there were no longer any laws), but if detected it was reasonably certain that it would be punished by death, or at least by twenty-five years in a forced-labour camp. Winston fitted a nib into the penholder and sucked it to get the grease off. The pen was an archaic instrument, seldom used even for signatures, and he had procured one, furtively and with some difficulty, simply because of a feeling that the beautiful creamy paper deserved to be written on with a real nib instead of being scratched with an ink-pencil. Actually he was not used to writing by hand. Apart from very short notes, it was usual to dictate everything into the speakwrite which was of course impossible for his present purpose. He dipped the pen into the ink and then faltered for just a second. A tremor had gone through his bowels. To mark the paper was the decisive act. In small clumsy letters he wrote:\\n\\nApril 4th, 1984.\\n\\nHe sat back. A sense of complete helplessness had descended upon him. To begin with, he did not know with any certainty that this was 1984. It must be round about that date, since he was fairly sure that his age was thirty-nine, and he believed that he had been born in 1944 or 1945; but it was never possible nowadays to pin down any date within a year or two.\\n\\nFor whom, it suddenly occurred to him to wonder, was he writing this diary? For the future, for the unborn. His mind hovered for a moment round the doubtful date on the page, and then fetched up with a bump against the Newspeak word doublethink. For the first time the magnitude of what he had undertaken came home to him. How could you communicate with the future? It was of its nature impossible. Either the future would \\n\\n\\n\\nresemble the present, in which case it would not listen to him: or it would be different from it, and his predicament would be meaningless.\\n\\nFor some time he sat gazing stupidly at the paper. The telescreen had changed over to strident military music. It was curious that he seemed not merely to have lost the power of expressing himself, but even to have forgotten what it was that he had originally intended to say. For weeks past he had been making ready for this moment, and it had never crossed his mind that anything would be needed except courage. The actual writing would be easy. All he had to do was to transfer to paper the interminable restless monologue that had been running inside his head, literally for years. At this moment, however, even the monologue had dried up. Moreover his varicose ulcer had begun itching unbearably. He dared not scratch it, because if he did so it always became inflamed. The seconds were ticking by. He was conscious of nothing except the blankness of the page in front of him, the itching of the skin above his ankle, the blaring of the music, and a slight booziness caused by the gin.\\n\\nSuddenly he began writing in sheer panic, only imperfectly aware of what he was setting down. His small but childish handwriting straggled up and down the page, shedding first its capital letters and finally even its full stops:\\n\\nApril 4th, 1984. Last night to the flicks. All war films. One very good one of a ship full of refugees being bombed somewhere in the Mediterranean. Audience much amused by shots of a great huge fat man trying to swim away with a helicopter after him, first you saw him wallowing along in the water like a porpoise, then you saw him through the helicopters gunsights, then he was full of holes and the sea round him turned pink and he sank as suddenly as though the holes had let in the water, audience shouting with laughter when he sank. then you saw a lifeboat full of children with a helicopter hovering over it. there was a middle-aged woman might have been a jewess sitting up in the bow with a little boy about three years old in her arms. little boy screaming with fright and hiding his head between her breasts as if he was trying to burrow right into her and the woman putting her arms round him and comforting him although she was blue with fright herself, all the time covering him up as much as possible as if she thought her arms could keep the bullets off him. then the helicopter planted a 20 kilo bomb in among them terrific flash and the boat went all to matchwood. then there was a wonderful shot of a child's arm going up up up right up into the air a helicopter with a \\n\\n\\n\\ncamera in its nose must have followed it up and there was a lot of applause from the party seats but a woman down in the prole part of the house suddenly started kicking up a fuss and shouting they didnt oughter of showed it not in front of kids they didnt it aint right not in front of kids it aint until the police turned her turned her out i dont suppose anything happened to her nobody cares what the proles say typical prole reaction they never --\\n\\nWinston stopped writing, partly because he was suffering from cramp. He did not know what had made him pour out this stream of rubbish. But the curious thing was that while he was doing so a totally different memory had clarified itself in his mind, to the point where he almost felt equal to writing it down. It was, he now realized, because of this other incident that he had suddenly decided to come home and begin the diary today.\\n\\nIt had happened that morning at the Ministry, if anything so nebulous could be said to happen.\\n\\nIt was nearly eleven hundred, and in the Records Department, where Winston worked, they were dragging the chairs out of the cubicles and grouping them in the centre of the hall opposite the big telescreen, in preparation for the Two Minutes Hate. Winston was just taking his place in one of the middle rows when two people whom he knew by sight, but had never spoken to, came unexpectedly into the room. One of them was a girl whom he often passed in the corridors. He did not know her name, but he knew that she worked in the Fiction Department. Presumably -- since he had sometimes seen her with oily hands and carrying a spanner she had some mechanical job on one of the novel-writing machines. She was a bold-looking girl, of about twenty-seven, with thick hair, a freckled face, and swift, athletic movements. A narrow scarlet sash, emblem of the Junior Anti-Sex League, was wound several times round the waist of her overalls, just tightly enough to bring out the shapeliness of her hips. Winston had disliked her from the very first moment of seeing her. He knew the reason. It was because of the atmosphere of hockey-fields and cold baths and community hikes and general clean-mindedness which she managed to carry about with her. He disliked nearly all women, and especially the young and pretty ones. It was always the women, and above all the young ones, who were the most bigoted adherents of the Party, the swallowers of slogans, the amateur spies and nosers-out of unorthodoxy. But this particular girl gave him the impression of being more dangerous than most. Once when they passed in the \\n\\n\\n\\ncorridor she gave him a quick sidelong glance which seemed to pierce right into him and for a moment had filled him with black terror. The idea had even crossed his mind that she might be an agent of the Thought Police. That, it was true, was very unlikely. Still, he continued to feel a peculiar uneasiness, which had fear mixed up in it as well as hostility, whenever she was anywhere near him.\\n\\nThe other person was a man named O'Brien, a member of the Inner Party and holder of some post so important and remote that Winston had only a dim idea of its nature. A momentary hush passed over the group of people round the chairs as they saw the black overalls of an Inner Party member approaching. O'Brien was a large, burly man with a thick neck and a coarse, humorous, brutal face. In spite of his formidable appearance he had a certain charm of manner. He had a trick of resettling his spectacles on his nose which was curiously disarming -- in some indefinable way, curiously civilized. It was a gesture which, if anyone had still thought in such terms, might have recalled an eighteenth-century nobleman offering his snuffbox. Winston had seen O'Brien perhaps a dozen times in almost as many years. He felt deeply drawn to him, and not solely because he was intrigued by the contrast between O'Brien's urbane manner and his prize-fighter's physique. Much more it was because of a secretly held belief -- or perhaps not even a belief, merely a hope -- that O'Brien's political orthodoxy was not perfect. Something in his face suggested it irresistibly. And again, perhaps it was not even unorthodoxy that was written in his face, but simply intelligence. But at any rate he had the appearance of being a person that you could talk to if somehow you could cheat the telescreen and get him alone. Winston had never made the smallest effort to verify this guess: indeed, there was no way of doing so. At this moment O'Brien glanced at his wrist-watch, saw that it was nearly eleven hundred, and evidently decided to stay in the Records Department until the Two Minutes Hate was over. He took a chair in the same row as Winston, a couple of places away. A small, sandy-haired woman who worked in the next cubicle to Winston was between them. The girl with dark hair was sitting immediately behind.\\n\\nThe next moment a hideous, grinding speech, as of some monstrous machine running without oil, burst from the big telescreen at the end of the room. It was a noise that set one's teeth on edge and bristled the hair at the back of one's neck. The Hate had started.\\n\\n\\n\\n\\n\\nAs usual, the face of Emmanuel Goldstein, the Enemy of the People, had flashed on to the screen. There were hisses here and there among the audience. The little sandy-haired woman gave a squeak of mingled fear and disgust. Goldstein was the renegade and backslider who once, long ago (how long ago, nobody quite remembered), had been one of the leading figures of the Party, almost on a level with Big Brother himself, and then had engaged in counter-revolutionary activities, had been condemned to death, and had mysteriously escaped and disappeared. The programmes of the Two Minutes Hate varied from day to day, but there was none in which Goldstein was not the principal figure. He was the primal traitor, the earliest defiler of the Party's purity. All subsequent crimes against the Party, all treacheries, acts of sabotage, heresies, deviations, sprang directly out of his teaching. Somewhere or other he was still alive and hatching his conspiracies: perhaps somewhere beyond the sea, under the protection of his foreign paymasters, perhaps even -- so it was occasionally rumoured -- in some hiding-place in Oceania itself.\\n\\nWinston's diaphragm was constricted. He could never see the face of Goldstein without a painful mixture of emotions. It was a lean Jewish face, with a great fuzzy aureole of white hair and a small goatee beard -- a clever face, and yet somehow inherently despicable, with a kind of senile silliness in the long thin nose, near the end of which a pair of spectacles was perched. It resembled the face of a sheep, and the voice, too, had a sheep-like quality. Goldstein was delivering his usual venomous attack upon the doctrines of the Party -- an attack so exaggerated and perverse that a child should have been able to see through it, and yet just plausible enough to fill one with an alarmed feeling that other people, less level-headed than oneself, might be taken in by it. He was abusing Big Brother, he was denouncing the dictatorship of the Party, he was demanding the immediate conclusion of peace with Eurasia, he was advocating freedom of speech, freedom of the Press, freedom of assembly, freedom of thought, he was crying hysterically that the revolution had been betrayed -- and all this in rapid polysyllabic speech which was a sort of parody of the habitual style of the orators of the Party, and even contained Newspeak words: more Newspeak words, indeed, than any Party member would normally use in real life. And all the while, lest one should be in any doubt as to the reality which Goldstein's specious claptrap covered, behind his head on the telescreen there marched the endless columns of the Eurasian army -- row after row of solid-looking men with expressionless Asiatic faces, who swam up to the surface of the screen and vanished, to be replaced by others exactly similar. The dull rhythmic tramp of \\n\\n\\n\\nthe soldiers' boots formed the background to Goldstein's bleating voice.\\n\\nBefore the Hate had proceeded for thirty seconds, uncontrollable exclamations of rage were breaking out from half the people in the room. The self-satisfied sheep-like face on the screen, and the terrifying power of the Eurasian army behind it, were too much to be borne: besides, the sight or even the thought of Goldstein produced fear and anger automatically. He was an object of hatred more constant than either Eurasia or Eastasia, since when Oceania was at war with one of these Powers it was generally at peace with the other. But what was strange was that although Goldstein was hated and despised by everybody, although every day and a thousand times a day, on platforms, on the telescreen, in newspapers, in books, his theories were refuted, smashed, ridiculed, held up to the general gaze for the pitiful rubbish that they were in spite of all this, his influence never seemed to grow less. Always there were fresh dupes waiting to be seduced by him. A day never passed when spies and saboteurs acting under his directions were not unmasked by the Thought Police. He was the commander of a vast shadowy army, an underground network of conspirators dedicated to the overthrow of the State. The Brotherhood, its name was supposed to be. There were also whispered stories of a terrible book, a compendium of all the heresies, of which Goldstein was the author and which circulated clandestinely here and there. It was a book without a title. People referred to it, if at all, simply as the book. But one knew of such things only through vague rumours. Neither the Brotherhood nor the book was a subject that any ordinary Party member would mention if there was a way of avoiding it.\\n\\nIn its second minute the Hate rose to a frenzy. People were leaping up and down in their places and shouting at the tops of their voices in an effort to drown the maddening bleating voice that came from the screen. The little sandy-haired woman had turned bright pink, and her mouth was opening and shutting like that of a landed fish. Even O'Brien's heavy face was flushed. He was sitting very straight in his chair, his powerful chest swelling and quivering as though he were standing up to the assault of a wave. The dark-haired girl behind Winston had begun crying out 'Swine! Swine! Swine!' and suddenly she picked up a heavy Newspeak dictionary and flung it at the screen. It struck Goldstein's nose and bounced off; the voice continued inexorably. In a lucid moment Winston found that he was shouting with the others and kicking his heel violently against the rung of his chair. The horrible thing about the Two Minutes Hate was not that one was obliged to act a part, but, on the contrary, that it was impossible to avoid \\n\\n\\n\\njoining in. Within thirty seconds any pretence was always unnecessary. A hideous ecstasy of fear and vindictiveness, a desire to kill, to torture, to smash faces in with a sledge-hammer, seemed to flow through the whole group of people like an electric current, turning one even against one's will into a grimacing, screaming lunatic. And yet the rage that one felt was an abstract, undirected emotion which could be switched from one object to another like the flame of a blowlamp. Thus, at one moment Winston's hatred was not turned against Goldstein at all, but, on the contrary, against Big Brother, the Party, and the Thought Police; and at such moments his heart went out to the lonely, derided heretic on the screen, sole guardian of truth and sanity in a world of lies. And yet the very next instant he was at one with the people about him, and all that was said of Goldstein seemed to him to be true. At those moments his secret loathing of Big Brother changed into adoration, and Big Brother seemed to tower up, an invincible, fearless protector, standing like a rock against the hordes of Asia, and Goldstein, in spite of his isolation, his helplessness, and the doubt that hung about his very existence, seemed like some sinister enchanter, capable by the mere power of his voice of wrecking the structure of civilization.\\n\\nIt was even possible, at moments, to switch one's hatred this way or that by a voluntary act. Suddenly, by the sort of violent effort with which one wrenches one's head away from the pillow in a nightmare, Winston succeeded in transferring his hatred from the face on the screen to the dark-haired girl behind him. Vivid, beautiful hallucinations flashed through his mind. He would flog her to death with a rubber truncheon. He would tie her naked to a stake and shoot her full of arrows like Saint Sebastian. He would ravish her and cut her throat at the moment of climax. Better than before, moreover, he realized why it was that he hated her. He hated her because she was young and pretty and sexless, because he wanted to go to bed with her and would never do so, because round her sweet supple waist, which seemed to ask you to encircle it with your arm, there was only the odious scarlet sash, aggressive symbol of chastity.\\n\\nThe Hate rose to its climax. The voice of Goldstein had become an actual sheep's bleat, and for an instant the face changed into that of a sheep. Then the sheep-face melted into the figure of a Eurasian soldier who seemed to be advancing, huge and terrible, his sub-machine gun roaring, and seeming to spring out of the surface of the screen, so that some of the people in the front row actually flinched backwards in their seats. But in the same moment, drawing a deep sigh of relief from everybody, the hostile figure \\n\\n\\n\\nmelted into the face of Big Brother, black-haired, black-moustachio'd, full of power and mysterious calm, and so vast that it almost filled up the screen. Nobody heard what Big Brother was saying. It was merely a few words of encouragement, the sort of words that are uttered in the din of battle, not distinguishable individually but restoring confidence by the fact of being spoken. Then the face of Big Brother faded away again, and instead the three slogans of the Party stood out in bold capitals:\\n\\nWAR IS PEACE\\n\\nFREEDOM IS SLAVERY\\n\\nIGNORANCE IS STRENGTH\\n\\nBut the face of Big Brother seemed to persist for several seconds on the screen, as though the impact that it had made on everyone's eyeballs was too vivid to wear off immediately. The little sandyhaired woman had flung herself forward over the back of the chair in front of her. With a tremulous murmur that sounded like 'My Saviour!' she extended her arms towards the screen. Then she buried her face in her hands. It was apparent that she was uttering a prayer.\\n\\nAt this moment the entire group of people broke into a deep, slow, rhythmical chant of 'B-B! ...B-B!' -- over and over again, very slowly, with a long pause between the first 'B' and the second-a heavy, murmurous sound, somehow curiously savage, in the background of which one seemed to hear the stamp of naked feet and the throbbing of tom-toms. For perhaps as much as thirty seconds they kept it up. It was a refrain that was often heard in moments of overwhelming emotion. Partly it was a sort of hymn to the wisdom and majesty of Big Brother, but still more it was an act of self-hypnosis, a deliberate drowning of consciousness by means of rhythmic noise. Winston's entrails seemed to grow cold. In the Two Minutes Hate he could not help sharing in the general delirium, but this sub-human chanting of 'B-B! ...B-B!' always filled him with horror. Of course he chanted with the rest: it was impossible to do otherwise. To dissemble your feelings, to control your face, to do what everyone else was doing, was an instinctive reaction. But there was a space of a couple of seconds during which the expression of his eyes might conceivably have betrayed him. And it was exactly at this moment that the significant thing happened -- if, indeed, it did happen.\\n\\n\\n\\n\\n\\nMomentarily he caught O'Brien's eye. O'Brien had stood up. He had taken off his spectacles and was in the act of resettling them on his nose with his characteristic gesture. But there was a fraction of a second when their eyes met, and for as long as it took to happen Winston knew-yes, he knew!-that O'Brien was thinking the same thing as himself. An unmistakable message had passed. It was as though their two minds had opened and the thoughts were flowing from one into the other through their eyes. 'I am with you,' O'Brien seemed to be saying to him. 'I know precisely what you are feeling. I know all about your contempt, your hatred, your disgust. But don't worry, I am on your side!' And then the flash of intelligence was gone, and O'Brien's face was as inscrutable as everybody else's.\\n\\nThat was all, and he was already uncertain whether it had happened. Such incidents never had any sequel. All that they did was to keep alive in him the belief, or hope, that others besides himself were the enemies of the Party. Perhaps the rumours of vast underground conspiracies were true after all -- perhaps the Brotherhood really existed! It was impossible, in spite of the endless arrests and confessions and executions, to be sure that the Brotherhood was not simply a myth. Some days he believed in it, some days not. There was no evidence, only fleeting glimpses that might mean anything or nothing: snatches of overheard conversation, faint scribbles on lavatory walls -- once, even, when two strangers met, a small movement of the hand which had looked as though it might be a signal of recognition. It was all guesswork: very likely he had imagined everything. He had gone back to his cubicle without looking at O'Brien again. The idea of following up their momentary contact hardly crossed his mind. It would have been inconceivably dangerous even if he had known how to set about doing it. For a second, two seconds, they had exchanged an equivocal glance, and that was the end of the story. But even that was a memorable event, in the locked loneliness in which one had to live.\\n\\nWinston roused himself and sat up straighter. He let out a belch. The gin was rising from his stomach.\\n\\nHis eyes re-focused on the page. He discovered that while he sat helplessly musing he had also been writing, as though by automatic action. And it was no longer the same cramped, awkward handwriting as before. His pen had slid voluptuously over the smooth paper, printing in large neat capitals -\\n\\n\\n\\n\\n\\nDOWN WITH BIG BROTHER\\n\\nDOWN WITH BIG BROTHER\\n\\nDOWN WITH BIG BROTHER\\n\\nDOWN WITH BIG BROTHER\\n\\nDOWN WITH BIG BROTHER\\n\\nover and over again, filling half a page.\\n\\nHe could not help feeling a twinge of panic. It was absurd, since the writing of those particular words was not more dangerous than the initial act of opening the diary, but for a moment he was tempted to tear out the spoiled pages and abandon the enterprise altogether.\\n\\nHe did not do so, however, because he knew that it was useless. Whether he wrote DOWN WITH BIG BROTHER, or whether he refrained from writing it, made no difference. Whether he went on with the diary, or whether he did not go on with it, made no difference. The Thought Police would get him just the same. He had committed -- would still have committed, even if he had never set pen to paper -- the essential crime that contained all others in itself. Thoughtcrime, they called it. Thoughtcrime was not a thing that could be concealed for ever. You might dodge successfully for a while, even for years, but sooner or later they were bound to get you.\\n\\nIt was always at night -- the arrests invariably happened at night. The sudden jerk out of sleep, the rough hand shaking your shoulder, the lights glaring in your eyes, the ring of hard faces round the bed. In the vast majority of cases there was no trial, no report of the arrest. People simply disappeared, always during the night. Your name was removed from the registers, every record of everything you had ever done was wiped out, your one-time existence was denied and then forgotten. You were abolished, annihilated: vaporized was the usual word.\\n\\n\\n\\n\\n\\nFor a moment he was seized by a kind of hysteria. He began writing in a hurried untidy scrawl:\\n\\ntheyll shoot me i don't care theyll shoot me in the back of the neck i dont care down with big brother they always shoot you in the back of the neck i dont care down with big brother --\\n\\nHe sat back in his chair, slightly ashamed of himself, and laid down the pen. The next moment he started violently. There was a knocking at the door.\\n\\nAlready! He sat as still as a mouse, in the futile hope that whoever it was might go away after a single attempt. But no, the knocking was repeated. The worst thing of all would be to delay. His heart was thumping like a drum, but his face, from long habit, was probably expressionless. He got up and moved heavily towards the door.\")]"
      ]
     },
     "execution_count": 18,
     "metadata": {},
     "output_type": "execute_result"
    }
   ],
   "source": [
    "loader = UnstructuredFileLoader(os.path.join(base_path, 'chapter_one.docx'))\n",
    "loader.load()"
   ]
  },
  {
   "cell_type": "markdown",
   "id": "f9996066-0181-47c8-b87b-cda3a88b139f",
   "metadata": {},
   "source": [
    "# Splitter"
   ]
  },
  {
   "cell_type": "markdown",
   "id": "ccc7c095-4cef-40b6-95e4-548b31573b59",
   "metadata": {},
   "source": [
    "## data 를 split 해야 하는 이유"
   ]
  },
  {
   "cell_type": "code",
   "execution_count": 19,
   "id": "8101587e-c73a-4b39-9b2a-559dfb4cefc2",
   "metadata": {},
   "outputs": [
    {
     "data": {
      "text/plain": [
       "1"
      ]
     },
     "execution_count": 19,
     "metadata": {},
     "output_type": "execute_result"
    }
   ],
   "source": [
    "len(loader.load())\n",
    "# loader.load() 의 리턴값을 보면 'Document로 이루어진 list' 다.\n",
    "# 지금의 경우는 전체 챕터가 '하나의 Document' 에 들어가 있다.\n"
   ]
  },
  {
   "cell_type": "code",
   "execution_count": 20,
   "id": "08e1b4e2-77d4-4b29-98f7-177b36f6b77f",
   "metadata": {},
   "outputs": [],
   "source": [
    "# 특정 질문에 답해야 하기 위해서, 필요한 '파일의 일부분' 만들 전달해야 할 수도 있다.\n",
    "\n",
    "#  그래서 문서를 쪼개두어야(split) 한다\n",
    "\n",
    "# 가령: \"Ministry of peace\" 를 찾고자 한다면.\n",
    "# 해당 키워드가 있는 문서(들)만 모델에 넘겨주면 된다.\n",
    "\n",
    "# 작은 조각들로 쪼개어 두면 필요한 것들을 찾기가 용이해진다.\n"
   ]
  },
  {
   "cell_type": "code",
   "execution_count": 21,
   "id": "26173f50-d2fa-43c4-a98a-5b4b2aaf2b61",
   "metadata": {},
   "outputs": [],
   "source": [
    "\"\"\"\n",
    "TextSplitter 계층도\n",
    "\n",
    "BaseDocumentTransformer --> TextSplitter --> <name>TextSplitter  # Example: CharacterTextSplitter\n",
    "                                             RecursiveCharacterTextSplitter -->  <name>TextSplitter\n",
    "\n",
    "https://python.langchain.com/api_reference/text_splitters/index.html\n",
    "\n",
    "\"\"\"\n",
    "None"
   ]
  },
  {
   "cell_type": "markdown",
   "id": "9f3c4678-2920-469f-86a0-d54a2d9645ab",
   "metadata": {},
   "source": [
    "## RecursiveCharacterTextSplitter"
   ]
  },
  {
   "cell_type": "code",
   "execution_count": 22,
   "id": "0a717741-0c19-42b0-ab47-921e718f96fc",
   "metadata": {},
   "outputs": [],
   "source": [
    "# v0.3\n",
    "from langchain_text_splitters.character import RecursiveCharacterTextSplitter\n",
    "# https://python.langchain.com/api_reference/text_splitters/character/langchain_text_splitters.character.RecursiveCharacterTextSplitter.html\n",
    "\n",
    "# Splitting text by recursively look at characters.\n",
    "# Recursively tries to split by different characters to find one that works.\n",
    "# Create a new TextSplitter."
   ]
  },
  {
   "cell_type": "code",
   "execution_count": 23,
   "id": "bc48ee01-78a9-4a71-aa82-bebd24158aa6",
   "metadata": {},
   "outputs": [],
   "source": [
    "splitter = RecursiveCharacterTextSplitter()\n",
    "\n",
    "# RecursiveCharacterTextSplitter 는 파일을 split 해주는데\n",
    "# 문장의 끝이나, 문단의 끝부분마다 끊어준다.\n",
    "# 문장 중간을 끊지는 않는다.  최대한 문장 중간에서 split 되지 않도록 하려 한다.\n",
    "# 문장 중간에 짤림으로 의미있는 문장들을 잃고 싶지 않다.\n",
    "\n",
    "# ↓ splitter 사용방법은 두가지 가 있다."
   ]
  },
  {
   "cell_type": "code",
   "execution_count": 24,
   "id": "586b8cae-c707-42ec-8370-bf0fc0f658dd",
   "metadata": {},
   "outputs": [],
   "source": [
    "docs = loader.load()  # -> List[Document]"
   ]
  },
  {
   "cell_type": "code",
   "execution_count": 25,
   "id": "c7b710e8-48de-44e4-a048-b2463602708e",
   "metadata": {},
   "outputs": [
    {
     "data": {
      "text/plain": [
       "[Document(metadata={'source': 'D:\\\\NLP2501\\\\dataset\\\\files\\\\chapter_one.docx'}, page_content=\"Part 1, Chapter 1\\n\\nPart One\\n\\n\\n1\\nIt was a bright cold day in April, and the clocks were striking thirteen. Winston Smith, his chin nuzzled into his breast in an effort to escape the vile wind, slipped quickly through the glass doors of Victory Mansions, though not quickly enough to prevent a swirl of gritty dust from entering along with him.\\n\\nThe hallway smelt of boiled cabbage and old rag mats. At one end of it a coloured poster, too large for indoor display, had been tacked to the wall. It depicted simply an enormous face, more than a metre wide: the face of a man of about forty-five, with a heavy black moustache and ruggedly handsome features. Winston made for the stairs. It was no use trying the lift. Even at the best of times it was seldom working, and at present the electric current was cut off during daylight hours. It was part of the economy drive in preparation for Hate Week. The flat was seven flights up, and Winston, who was thirty-nine and had a varicose ulcer above his right ankle, went slowly, resting several times on the way. On each landing, opposite the lift-shaft, the poster with the enormous face gazed from the wall. It was one of those pictures which are so contrived that the eyes follow you about when you move. BIG BROTHER IS WATCHING YOU, the caption beneath it ran.\\n\\nInside the flat a fruity voice was reading out a list of figures which had something to do with the production of pig-iron. The voice came from an oblong metal plaque like a dulled mirror which formed part of the surface of the right-hand wall. Winston turned a switch and the voice sank somewhat, though the words were still distinguishable. The instrument (the telescreen, it was called) could be dimmed, but there was no way of shutting it off completely. He moved over to the window: a smallish, frail figure, the meagreness of his body merely emphasized by the blue overalls which were the uniform of the party. His hair was very fair, his face naturally sanguine, his skin roughened by coarse soap and blunt razor blades and the cold of the winter that had just ended.\\n\\n\\n\\n\\n\\nOutside, even through the shut window-pane, the world looked cold. Down in the street little eddies of wind were whirling dust and torn paper into spirals, and though the sun was shining and the sky a harsh blue, there seemed to be no colour in anything, except the posters that were plastered everywhere. The blackmoustachio'd face gazed down from every commanding corner. There was one on the house-front immediately opposite. BIG BROTHER IS WATCHING YOU, the caption said, while the dark eyes looked deep into Winston's own. Down at streetlevel another poster, torn at one corner, flapped fitfully in the wind, alternately covering and uncovering the single word INGSOC. In the far distance a helicopter skimmed down between the roofs, hovered for an instant like a bluebottle, and darted away again with a curving flight. It was the police patrol, snooping into people's windows. The patrols did not matter, however. Only the Thought Police mattered.\\n\\nBehind Winston's back the voice from the telescreen was still babbling away about pig-iron and the overfulfilment of the Ninth Three-Year Plan. The telescreen received and transmitted simultaneously. Any sound that Winston made, above the level of a very low whisper, would be picked up by it, moreover, so long as he remained within the field of vision which the metal plaque commanded, he could be seen as well as heard. There was of course no way of knowing whether you were being watched at any given moment. How often, or on what system, the Thought Police plugged in on any individual wire was guesswork. It was even conceivable that they watched everybody all the time. But at any rate they could plug in your wire whenever they wanted to. You had to live -- did live, from habit that became instinct -- in the assumption that every sound you made was overheard, and, except in darkness, every movement scrutinized.\"),\n",
       " Document(metadata={'source': 'D:\\\\NLP2501\\\\dataset\\\\files\\\\chapter_one.docx'}, page_content=\"Winston kept his back turned to the telescreen. It was safer, though, as he well knew, even a back can be revealing. A kilometre away the Ministry of Truth, his place of work, towered vast and white above the grimy landscape. This, he thought with a sort of vague distaste -- this was London, chief city of Airstrip One, itself the third most populous of the provinces of Oceania. He tried to squeeze out some childhood memory that should tell him whether London had always been quite like this. Were there always these vistas of rotting nineteenth-century houses, their sides shored up with baulks of timber, their windows patched with cardboard and their roofs with corrugated iron, their crazy garden walls sagging in all directions? And the bombed sites where the plaster dust swirled in the air and the willow-herb straggled over the heaps of rubble; and the places where the \\n\\n\\n\\nbombs had cleared a larger patch and there had sprung up sordid colonies of wooden dwellings like chicken-houses? But it was no use, he could not remember: nothing remained of his childhood except a series of bright-lit tableaux occurring against no background and mostly unintelligible.\\n\\nThe Ministry of Truth -- Minitrue, in Newspeak -- was startlingly different from any other object in sight. It was an enormous pyramidal structure of glittering white concrete, soaring up, terrace after terrace, 300 metres into the air. From where Winston stood it was just possible to read, picked out on its white face in elegant lettering, the three slogans of the Party:\\n\\nWAR IS PEACE\\n\\nFREEDOM IS SLAVERY\\n\\nIGNORANCE IS STRENGTH\\n\\nThe Ministry of Truth contained, it was said, three thousand rooms above ground level, and corresponding ramifications below. Scattered about London there were just three other buildings of similar appearance and size. So completely did they dwarf the surrounding architecture that from the roof of Victory Mansions you could see all four of them simultaneously. They were the homes of the four Ministries between which the entire apparatus of government was divided. The Ministry of Truth, which concerned itself with news, entertainment, education, and the fine arts. The Ministry of Peace, which concerned itself with war. The Ministry of Love, which maintained law and order. And the Ministry of Plenty, which was responsible for economic affairs. Their names, in Newspeak: Minitrue, Minipax, Miniluv, and Miniplenty.\\n\\nThe Ministry of Love was the really frightening one. There were no windows in it at all. Winston had never been inside the Ministry of Love, nor within half a kilometre of it. It was a place impossible to enter except on official business, and then only by penetrating through a maze of barbed-wire entanglements, steel doors, and hidden machine-gun nests. Even the streets leading up to its outer barriers were roamed by gorilla-faced guards in black uniforms, armed with jointed truncheons.\\n\\n\\n\\n\\n\\nWinston turned round abruptly. He had set his features into the expression of quiet optimism which it was advisable to wear when facing the telescreen. He crossed the room into the tiny kitchen. By leaving the Ministry at this time of day he had sacrificed his lunch in the canteen, and he was aware that there was no food in the kitchen except a hunk of dark-coloured bread which had got to be saved for tomorrow's breakfast. He took down from the shelf a bottle of colourless liquid with a plain white label marked VICTORY GIN. It gave off a sickly, oily smell, as of Chinese ricespirit. Winston poured out nearly a teacupful, nerved himself for a shock, and gulped it down like a dose of medicine.\"),\n",
       " Document(metadata={'source': 'D:\\\\NLP2501\\\\dataset\\\\files\\\\chapter_one.docx'}, page_content=\"Instantly his face turned scarlet and the water ran out of his eyes. The stuff was like nitric acid, and moreover, in swallowing it one had the sensation of being hit on the back of the head with a rubber club. The next moment, however, the burning in his belly died down and the world began to look more cheerful. He took a cigarette from a crumpled packet marked VICTORY CIGARETTES and incautiously held it upright, whereupon the tobacco fell out on to the floor. With the next he was more successful. He went back to the living-room and sat down at a small table that stood to the left of the telescreen. From the table drawer he took out a penholder, a bottle of ink, and a thick, quarto-sized blank book with a red back and a marbled cover.\\n\\nFor some reason the telescreen in the living-room was in an unusual position. Instead of being placed, as was normal, in the end wall, where it could command the whole room, it was in the longer wall, opposite the window. To one side of it there was a shallow alcove in which Winston was now sitting, and which, when the flats were built, had probably been intended to hold bookshelves. By sitting in the alcove, and keeping well back, Winston was able to remain outside the range of the telescreen, so far as sight went. He could be heard, of course, but so long as he stayed in his present position he could not be seen. It was partly the unusual geography of the room that had suggested to him the thing that he was now about to do.\\n\\nBut it had also been suggested by the book that he had just taken out of the drawer. It was a peculiarly beautiful book. Its smooth creamy paper, a little yellowed by age, was of a kind that had not been manufactured for at least forty years past. He could guess, however, that the book was much older than that. He had seen it lying in the window of a frowsy little junk-shop in a slummy quarter of the town (just what quarter he did not \\n\\n\\n\\nnow remember) and had been stricken immediately by an overwhelming desire to possess it. Party members were supposed not to go into ordinary shops ('dealing on the free market', it was called), but the rule was not strictly kept, because there were various things, such as shoelaces and razor blades, which it was impossible to get hold of in any other way. He had given a quick glance up and down the street and then had slipped inside and bought the book for two dollars fifty. At the time he was not conscious of wanting it for any particular purpose. He had carried it guiltily home in his briefcase. Even with nothing written in it, it was a compromising possession.\\n\\nThe thing that he was about to do was to open a diary. This was not illegal (nothing was illegal, since there were no longer any laws), but if detected it was reasonably certain that it would be punished by death, or at least by twenty-five years in a forced-labour camp. Winston fitted a nib into the penholder and sucked it to get the grease off. The pen was an archaic instrument, seldom used even for signatures, and he had procured one, furtively and with some difficulty, simply because of a feeling that the beautiful creamy paper deserved to be written on with a real nib instead of being scratched with an ink-pencil. Actually he was not used to writing by hand. Apart from very short notes, it was usual to dictate everything into the speakwrite which was of course impossible for his present purpose. He dipped the pen into the ink and then faltered for just a second. A tremor had gone through his bowels. To mark the paper was the decisive act. In small clumsy letters he wrote:\\n\\nApril 4th, 1984.\\n\\nHe sat back. A sense of complete helplessness had descended upon him. To begin with, he did not know with any certainty that this was 1984. It must be round about that date, since he was fairly sure that his age was thirty-nine, and he believed that he had been born in 1944 or 1945; but it was never possible nowadays to pin down any date within a year or two.\"),\n",
       " Document(metadata={'source': 'D:\\\\NLP2501\\\\dataset\\\\files\\\\chapter_one.docx'}, page_content=\"For whom, it suddenly occurred to him to wonder, was he writing this diary? For the future, for the unborn. His mind hovered for a moment round the doubtful date on the page, and then fetched up with a bump against the Newspeak word doublethink. For the first time the magnitude of what he had undertaken came home to him. How could you communicate with the future? It was of its nature impossible. Either the future would \\n\\n\\n\\nresemble the present, in which case it would not listen to him: or it would be different from it, and his predicament would be meaningless.\\n\\nFor some time he sat gazing stupidly at the paper. The telescreen had changed over to strident military music. It was curious that he seemed not merely to have lost the power of expressing himself, but even to have forgotten what it was that he had originally intended to say. For weeks past he had been making ready for this moment, and it had never crossed his mind that anything would be needed except courage. The actual writing would be easy. All he had to do was to transfer to paper the interminable restless monologue that had been running inside his head, literally for years. At this moment, however, even the monologue had dried up. Moreover his varicose ulcer had begun itching unbearably. He dared not scratch it, because if he did so it always became inflamed. The seconds were ticking by. He was conscious of nothing except the blankness of the page in front of him, the itching of the skin above his ankle, the blaring of the music, and a slight booziness caused by the gin.\\n\\nSuddenly he began writing in sheer panic, only imperfectly aware of what he was setting down. His small but childish handwriting straggled up and down the page, shedding first its capital letters and finally even its full stops:\\n\\nApril 4th, 1984. Last night to the flicks. All war films. One very good one of a ship full of refugees being bombed somewhere in the Mediterranean. Audience much amused by shots of a great huge fat man trying to swim away with a helicopter after him, first you saw him wallowing along in the water like a porpoise, then you saw him through the helicopters gunsights, then he was full of holes and the sea round him turned pink and he sank as suddenly as though the holes had let in the water, audience shouting with laughter when he sank. then you saw a lifeboat full of children with a helicopter hovering over it. there was a middle-aged woman might have been a jewess sitting up in the bow with a little boy about three years old in her arms. little boy screaming with fright and hiding his head between her breasts as if he was trying to burrow right into her and the woman putting her arms round him and comforting him although she was blue with fright herself, all the time covering him up as much as possible as if she thought her arms could keep the bullets off him. then the helicopter planted a 20 kilo bomb in among them terrific flash and the boat went all to matchwood. then there was a wonderful shot of a child's arm going up up up right up into the air a helicopter with a \\n\\n\\n\\ncamera in its nose must have followed it up and there was a lot of applause from the party seats but a woman down in the prole part of the house suddenly started kicking up a fuss and shouting they didnt oughter of showed it not in front of kids they didnt it aint right not in front of kids it aint until the police turned her turned her out i dont suppose anything happened to her nobody cares what the proles say typical prole reaction they never --\\n\\nWinston stopped writing, partly because he was suffering from cramp. He did not know what had made him pour out this stream of rubbish. But the curious thing was that while he was doing so a totally different memory had clarified itself in his mind, to the point where he almost felt equal to writing it down. It was, he now realized, because of this other incident that he had suddenly decided to come home and begin the diary today.\"),\n",
       " Document(metadata={'source': 'D:\\\\NLP2501\\\\dataset\\\\files\\\\chapter_one.docx'}, page_content='It had happened that morning at the Ministry, if anything so nebulous could be said to happen.\\n\\nIt was nearly eleven hundred, and in the Records Department, where Winston worked, they were dragging the chairs out of the cubicles and grouping them in the centre of the hall opposite the big telescreen, in preparation for the Two Minutes Hate. Winston was just taking his place in one of the middle rows when two people whom he knew by sight, but had never spoken to, came unexpectedly into the room. One of them was a girl whom he often passed in the corridors. He did not know her name, but he knew that she worked in the Fiction Department. Presumably -- since he had sometimes seen her with oily hands and carrying a spanner she had some mechanical job on one of the novel-writing machines. She was a bold-looking girl, of about twenty-seven, with thick hair, a freckled face, and swift, athletic movements. A narrow scarlet sash, emblem of the Junior Anti-Sex League, was wound several times round the waist of her overalls, just tightly enough to bring out the shapeliness of her hips. Winston had disliked her from the very first moment of seeing her. He knew the reason. It was because of the atmosphere of hockey-fields and cold baths and community hikes and general clean-mindedness which she managed to carry about with her. He disliked nearly all women, and especially the young and pretty ones. It was always the women, and above all the young ones, who were the most bigoted adherents of the Party, the swallowers of slogans, the amateur spies and nosers-out of unorthodoxy. But this particular girl gave him the impression of being more dangerous than most. Once when they passed in the \\n\\n\\n\\ncorridor she gave him a quick sidelong glance which seemed to pierce right into him and for a moment had filled him with black terror. The idea had even crossed his mind that she might be an agent of the Thought Police. That, it was true, was very unlikely. Still, he continued to feel a peculiar uneasiness, which had fear mixed up in it as well as hostility, whenever she was anywhere near him.'),\n",
       " Document(metadata={'source': 'D:\\\\NLP2501\\\\dataset\\\\files\\\\chapter_one.docx'}, page_content=\"The other person was a man named O'Brien, a member of the Inner Party and holder of some post so important and remote that Winston had only a dim idea of its nature. A momentary hush passed over the group of people round the chairs as they saw the black overalls of an Inner Party member approaching. O'Brien was a large, burly man with a thick neck and a coarse, humorous, brutal face. In spite of his formidable appearance he had a certain charm of manner. He had a trick of resettling his spectacles on his nose which was curiously disarming -- in some indefinable way, curiously civilized. It was a gesture which, if anyone had still thought in such terms, might have recalled an eighteenth-century nobleman offering his snuffbox. Winston had seen O'Brien perhaps a dozen times in almost as many years. He felt deeply drawn to him, and not solely because he was intrigued by the contrast between O'Brien's urbane manner and his prize-fighter's physique. Much more it was because of a secretly held belief -- or perhaps not even a belief, merely a hope -- that O'Brien's political orthodoxy was not perfect. Something in his face suggested it irresistibly. And again, perhaps it was not even unorthodoxy that was written in his face, but simply intelligence. But at any rate he had the appearance of being a person that you could talk to if somehow you could cheat the telescreen and get him alone. Winston had never made the smallest effort to verify this guess: indeed, there was no way of doing so. At this moment O'Brien glanced at his wrist-watch, saw that it was nearly eleven hundred, and evidently decided to stay in the Records Department until the Two Minutes Hate was over. He took a chair in the same row as Winston, a couple of places away. A small, sandy-haired woman who worked in the next cubicle to Winston was between them. The girl with dark hair was sitting immediately behind.\\n\\nThe next moment a hideous, grinding speech, as of some monstrous machine running without oil, burst from the big telescreen at the end of the room. It was a noise that set one's teeth on edge and bristled the hair at the back of one's neck. The Hate had started.\\n\\n\\n\\n\\n\\nAs usual, the face of Emmanuel Goldstein, the Enemy of the People, had flashed on to the screen. There were hisses here and there among the audience. The little sandy-haired woman gave a squeak of mingled fear and disgust. Goldstein was the renegade and backslider who once, long ago (how long ago, nobody quite remembered), had been one of the leading figures of the Party, almost on a level with Big Brother himself, and then had engaged in counter-revolutionary activities, had been condemned to death, and had mysteriously escaped and disappeared. The programmes of the Two Minutes Hate varied from day to day, but there was none in which Goldstein was not the principal figure. He was the primal traitor, the earliest defiler of the Party's purity. All subsequent crimes against the Party, all treacheries, acts of sabotage, heresies, deviations, sprang directly out of his teaching. Somewhere or other he was still alive and hatching his conspiracies: perhaps somewhere beyond the sea, under the protection of his foreign paymasters, perhaps even -- so it was occasionally rumoured -- in some hiding-place in Oceania itself.\"),\n",
       " Document(metadata={'source': 'D:\\\\NLP2501\\\\dataset\\\\files\\\\chapter_one.docx'}, page_content=\"Winston's diaphragm was constricted. He could never see the face of Goldstein without a painful mixture of emotions. It was a lean Jewish face, with a great fuzzy aureole of white hair and a small goatee beard -- a clever face, and yet somehow inherently despicable, with a kind of senile silliness in the long thin nose, near the end of which a pair of spectacles was perched. It resembled the face of a sheep, and the voice, too, had a sheep-like quality. Goldstein was delivering his usual venomous attack upon the doctrines of the Party -- an attack so exaggerated and perverse that a child should have been able to see through it, and yet just plausible enough to fill one with an alarmed feeling that other people, less level-headed than oneself, might be taken in by it. He was abusing Big Brother, he was denouncing the dictatorship of the Party, he was demanding the immediate conclusion of peace with Eurasia, he was advocating freedom of speech, freedom of the Press, freedom of assembly, freedom of thought, he was crying hysterically that the revolution had been betrayed -- and all this in rapid polysyllabic speech which was a sort of parody of the habitual style of the orators of the Party, and even contained Newspeak words: more Newspeak words, indeed, than any Party member would normally use in real life. And all the while, lest one should be in any doubt as to the reality which Goldstein's specious claptrap covered, behind his head on the telescreen there marched the endless columns of the Eurasian army -- row after row of solid-looking men with expressionless Asiatic faces, who swam up to the surface of the screen and vanished, to be replaced by others exactly similar. The dull rhythmic tramp of \\n\\n\\n\\nthe soldiers' boots formed the background to Goldstein's bleating voice.\\n\\nBefore the Hate had proceeded for thirty seconds, uncontrollable exclamations of rage were breaking out from half the people in the room. The self-satisfied sheep-like face on the screen, and the terrifying power of the Eurasian army behind it, were too much to be borne: besides, the sight or even the thought of Goldstein produced fear and anger automatically. He was an object of hatred more constant than either Eurasia or Eastasia, since when Oceania was at war with one of these Powers it was generally at peace with the other. But what was strange was that although Goldstein was hated and despised by everybody, although every day and a thousand times a day, on platforms, on the telescreen, in newspapers, in books, his theories were refuted, smashed, ridiculed, held up to the general gaze for the pitiful rubbish that they were in spite of all this, his influence never seemed to grow less. Always there were fresh dupes waiting to be seduced by him. A day never passed when spies and saboteurs acting under his directions were not unmasked by the Thought Police. He was the commander of a vast shadowy army, an underground network of conspirators dedicated to the overthrow of the State. The Brotherhood, its name was supposed to be. There were also whispered stories of a terrible book, a compendium of all the heresies, of which Goldstein was the author and which circulated clandestinely here and there. It was a book without a title. People referred to it, if at all, simply as the book. But one knew of such things only through vague rumours. Neither the Brotherhood nor the book was a subject that any ordinary Party member would mention if there was a way of avoiding it.\"),\n",
       " Document(metadata={'source': 'D:\\\\NLP2501\\\\dataset\\\\files\\\\chapter_one.docx'}, page_content=\"In its second minute the Hate rose to a frenzy. People were leaping up and down in their places and shouting at the tops of their voices in an effort to drown the maddening bleating voice that came from the screen. The little sandy-haired woman had turned bright pink, and her mouth was opening and shutting like that of a landed fish. Even O'Brien's heavy face was flushed. He was sitting very straight in his chair, his powerful chest swelling and quivering as though he were standing up to the assault of a wave. The dark-haired girl behind Winston had begun crying out 'Swine! Swine! Swine!' and suddenly she picked up a heavy Newspeak dictionary and flung it at the screen. It struck Goldstein's nose and bounced off; the voice continued inexorably. In a lucid moment Winston found that he was shouting with the others and kicking his heel violently against the rung of his chair. The horrible thing about the Two Minutes Hate was not that one was obliged to act a part, but, on the contrary, that it was impossible to avoid \\n\\n\\n\\njoining in. Within thirty seconds any pretence was always unnecessary. A hideous ecstasy of fear and vindictiveness, a desire to kill, to torture, to smash faces in with a sledge-hammer, seemed to flow through the whole group of people like an electric current, turning one even against one's will into a grimacing, screaming lunatic. And yet the rage that one felt was an abstract, undirected emotion which could be switched from one object to another like the flame of a blowlamp. Thus, at one moment Winston's hatred was not turned against Goldstein at all, but, on the contrary, against Big Brother, the Party, and the Thought Police; and at such moments his heart went out to the lonely, derided heretic on the screen, sole guardian of truth and sanity in a world of lies. And yet the very next instant he was at one with the people about him, and all that was said of Goldstein seemed to him to be true. At those moments his secret loathing of Big Brother changed into adoration, and Big Brother seemed to tower up, an invincible, fearless protector, standing like a rock against the hordes of Asia, and Goldstein, in spite of his isolation, his helplessness, and the doubt that hung about his very existence, seemed like some sinister enchanter, capable by the mere power of his voice of wrecking the structure of civilization.\\n\\nIt was even possible, at moments, to switch one's hatred this way or that by a voluntary act. Suddenly, by the sort of violent effort with which one wrenches one's head away from the pillow in a nightmare, Winston succeeded in transferring his hatred from the face on the screen to the dark-haired girl behind him. Vivid, beautiful hallucinations flashed through his mind. He would flog her to death with a rubber truncheon. He would tie her naked to a stake and shoot her full of arrows like Saint Sebastian. He would ravish her and cut her throat at the moment of climax. Better than before, moreover, he realized why it was that he hated her. He hated her because she was young and pretty and sexless, because he wanted to go to bed with her and would never do so, because round her sweet supple waist, which seemed to ask you to encircle it with your arm, there was only the odious scarlet sash, aggressive symbol of chastity.\\n\\nThe Hate rose to its climax. The voice of Goldstein had become an actual sheep's bleat, and for an instant the face changed into that of a sheep. Then the sheep-face melted into the figure of a Eurasian soldier who seemed to be advancing, huge and terrible, his sub-machine gun roaring, and seeming to spring out of the surface of the screen, so that some of the people in the front row actually flinched backwards in their seats. But in the same moment, drawing a deep sigh of relief from everybody, the hostile figure\"),\n",
       " Document(metadata={'source': 'D:\\\\NLP2501\\\\dataset\\\\files\\\\chapter_one.docx'}, page_content=\"melted into the face of Big Brother, black-haired, black-moustachio'd, full of power and mysterious calm, and so vast that it almost filled up the screen. Nobody heard what Big Brother was saying. It was merely a few words of encouragement, the sort of words that are uttered in the din of battle, not distinguishable individually but restoring confidence by the fact of being spoken. Then the face of Big Brother faded away again, and instead the three slogans of the Party stood out in bold capitals:\\n\\nWAR IS PEACE\\n\\nFREEDOM IS SLAVERY\\n\\nIGNORANCE IS STRENGTH\\n\\nBut the face of Big Brother seemed to persist for several seconds on the screen, as though the impact that it had made on everyone's eyeballs was too vivid to wear off immediately. The little sandyhaired woman had flung herself forward over the back of the chair in front of her. With a tremulous murmur that sounded like 'My Saviour!' she extended her arms towards the screen. Then she buried her face in her hands. It was apparent that she was uttering a prayer.\\n\\nAt this moment the entire group of people broke into a deep, slow, rhythmical chant of 'B-B! ...B-B!' -- over and over again, very slowly, with a long pause between the first 'B' and the second-a heavy, murmurous sound, somehow curiously savage, in the background of which one seemed to hear the stamp of naked feet and the throbbing of tom-toms. For perhaps as much as thirty seconds they kept it up. It was a refrain that was often heard in moments of overwhelming emotion. Partly it was a sort of hymn to the wisdom and majesty of Big Brother, but still more it was an act of self-hypnosis, a deliberate drowning of consciousness by means of rhythmic noise. Winston's entrails seemed to grow cold. In the Two Minutes Hate he could not help sharing in the general delirium, but this sub-human chanting of 'B-B! ...B-B!' always filled him with horror. Of course he chanted with the rest: it was impossible to do otherwise. To dissemble your feelings, to control your face, to do what everyone else was doing, was an instinctive reaction. But there was a space of a couple of seconds during which the expression of his eyes might conceivably have betrayed him. And it was exactly at this moment that the significant thing happened -- if, indeed, it did happen.\\n\\n\\n\\n\\n\\nMomentarily he caught O'Brien's eye. O'Brien had stood up. He had taken off his spectacles and was in the act of resettling them on his nose with his characteristic gesture. But there was a fraction of a second when their eyes met, and for as long as it took to happen Winston knew-yes, he knew!-that O'Brien was thinking the same thing as himself. An unmistakable message had passed. It was as though their two minds had opened and the thoughts were flowing from one into the other through their eyes. 'I am with you,' O'Brien seemed to be saying to him. 'I know precisely what you are feeling. I know all about your contempt, your hatred, your disgust. But don't worry, I am on your side!' And then the flash of intelligence was gone, and O'Brien's face was as inscrutable as everybody else's.\"),\n",
       " Document(metadata={'source': 'D:\\\\NLP2501\\\\dataset\\\\files\\\\chapter_one.docx'}, page_content=\"That was all, and he was already uncertain whether it had happened. Such incidents never had any sequel. All that they did was to keep alive in him the belief, or hope, that others besides himself were the enemies of the Party. Perhaps the rumours of vast underground conspiracies were true after all -- perhaps the Brotherhood really existed! It was impossible, in spite of the endless arrests and confessions and executions, to be sure that the Brotherhood was not simply a myth. Some days he believed in it, some days not. There was no evidence, only fleeting glimpses that might mean anything or nothing: snatches of overheard conversation, faint scribbles on lavatory walls -- once, even, when two strangers met, a small movement of the hand which had looked as though it might be a signal of recognition. It was all guesswork: very likely he had imagined everything. He had gone back to his cubicle without looking at O'Brien again. The idea of following up their momentary contact hardly crossed his mind. It would have been inconceivably dangerous even if he had known how to set about doing it. For a second, two seconds, they had exchanged an equivocal glance, and that was the end of the story. But even that was a memorable event, in the locked loneliness in which one had to live.\\n\\nWinston roused himself and sat up straighter. He let out a belch. The gin was rising from his stomach.\\n\\nHis eyes re-focused on the page. He discovered that while he sat helplessly musing he had also been writing, as though by automatic action. And it was no longer the same cramped, awkward handwriting as before. His pen had slid voluptuously over the smooth paper, printing in large neat capitals -\\n\\n\\n\\n\\n\\nDOWN WITH BIG BROTHER\\n\\nDOWN WITH BIG BROTHER\\n\\nDOWN WITH BIG BROTHER\\n\\nDOWN WITH BIG BROTHER\\n\\nDOWN WITH BIG BROTHER\\n\\nover and over again, filling half a page.\\n\\nHe could not help feeling a twinge of panic. It was absurd, since the writing of those particular words was not more dangerous than the initial act of opening the diary, but for a moment he was tempted to tear out the spoiled pages and abandon the enterprise altogether.\\n\\nHe did not do so, however, because he knew that it was useless. Whether he wrote DOWN WITH BIG BROTHER, or whether he refrained from writing it, made no difference. Whether he went on with the diary, or whether he did not go on with it, made no difference. The Thought Police would get him just the same. He had committed -- would still have committed, even if he had never set pen to paper -- the essential crime that contained all others in itself. Thoughtcrime, they called it. Thoughtcrime was not a thing that could be concealed for ever. You might dodge successfully for a while, even for years, but sooner or later they were bound to get you.\\n\\nIt was always at night -- the arrests invariably happened at night. The sudden jerk out of sleep, the rough hand shaking your shoulder, the lights glaring in your eyes, the ring of hard faces round the bed. In the vast majority of cases there was no trial, no report of the arrest. People simply disappeared, always during the night. Your name was removed from the registers, every record of everything you had ever done was wiped out, your one-time existence was denied and then forgotten. You were abolished, annihilated: vaporized was the usual word.\\n\\n\\n\\n\\n\\nFor a moment he was seized by a kind of hysteria. He began writing in a hurried untidy scrawl:\\n\\ntheyll shoot me i don't care theyll shoot me in the back of the neck i dont care down with big brother they always shoot you in the back of the neck i dont care down with big brother --\\n\\nHe sat back in his chair, slightly ashamed of himself, and laid down the pen. The next moment he started violently. There was a knocking at the door.\"),\n",
       " Document(metadata={'source': 'D:\\\\NLP2501\\\\dataset\\\\files\\\\chapter_one.docx'}, page_content='He sat back in his chair, slightly ashamed of himself, and laid down the pen. The next moment he started violently. There was a knocking at the door.\\n\\nAlready! He sat as still as a mouse, in the futile hope that whoever it was might go away after a single attempt. But no, the knocking was repeated. The worst thing of all would be to delay. His heart was thumping like a drum, but his face, from long habit, was probably expressionless. He got up and moved heavily towards the door.')]"
      ]
     },
     "execution_count": 25,
     "metadata": {},
     "output_type": "execute_result"
    }
   ],
   "source": [
    "# 방법1\n",
    "documents = splitter.split_documents(docs)\n",
    "documents"
   ]
  },
  {
   "cell_type": "code",
   "execution_count": 26,
   "id": "69db6aec-c2d8-4bce-9a7e-0073f924cb38",
   "metadata": {},
   "outputs": [
    {
     "data": {
      "text/plain": [
       "11"
      ]
     },
     "execution_count": 26,
     "metadata": {},
     "output_type": "execute_result"
    }
   ],
   "source": [
    "len(documents)  # 여러개의 Document 들로 split"
   ]
  },
  {
   "cell_type": "code",
   "execution_count": 27,
   "id": "cba49e44-a25d-4e8f-aee8-1181acde17eb",
   "metadata": {},
   "outputs": [
    {
     "data": {
      "text/plain": [
       "[Document(metadata={'source': 'D:\\\\NLP2501\\\\dataset\\\\files\\\\chapter_one.docx'}, page_content=\"Part 1, Chapter 1\\n\\nPart One\\n\\n\\n1\\nIt was a bright cold day in April, and the clocks were striking thirteen. Winston Smith, his chin nuzzled into his breast in an effort to escape the vile wind, slipped quickly through the glass doors of Victory Mansions, though not quickly enough to prevent a swirl of gritty dust from entering along with him.\\n\\nThe hallway smelt of boiled cabbage and old rag mats. At one end of it a coloured poster, too large for indoor display, had been tacked to the wall. It depicted simply an enormous face, more than a metre wide: the face of a man of about forty-five, with a heavy black moustache and ruggedly handsome features. Winston made for the stairs. It was no use trying the lift. Even at the best of times it was seldom working, and at present the electric current was cut off during daylight hours. It was part of the economy drive in preparation for Hate Week. The flat was seven flights up, and Winston, who was thirty-nine and had a varicose ulcer above his right ankle, went slowly, resting several times on the way. On each landing, opposite the lift-shaft, the poster with the enormous face gazed from the wall. It was one of those pictures which are so contrived that the eyes follow you about when you move. BIG BROTHER IS WATCHING YOU, the caption beneath it ran.\\n\\nInside the flat a fruity voice was reading out a list of figures which had something to do with the production of pig-iron. The voice came from an oblong metal plaque like a dulled mirror which formed part of the surface of the right-hand wall. Winston turned a switch and the voice sank somewhat, though the words were still distinguishable. The instrument (the telescreen, it was called) could be dimmed, but there was no way of shutting it off completely. He moved over to the window: a smallish, frail figure, the meagreness of his body merely emphasized by the blue overalls which were the uniform of the party. His hair was very fair, his face naturally sanguine, his skin roughened by coarse soap and blunt razor blades and the cold of the winter that had just ended.\\n\\n\\n\\n\\n\\nOutside, even through the shut window-pane, the world looked cold. Down in the street little eddies of wind were whirling dust and torn paper into spirals, and though the sun was shining and the sky a harsh blue, there seemed to be no colour in anything, except the posters that were plastered everywhere. The blackmoustachio'd face gazed down from every commanding corner. There was one on the house-front immediately opposite. BIG BROTHER IS WATCHING YOU, the caption said, while the dark eyes looked deep into Winston's own. Down at streetlevel another poster, torn at one corner, flapped fitfully in the wind, alternately covering and uncovering the single word INGSOC. In the far distance a helicopter skimmed down between the roofs, hovered for an instant like a bluebottle, and darted away again with a curving flight. It was the police patrol, snooping into people's windows. The patrols did not matter, however. Only the Thought Police mattered.\\n\\nBehind Winston's back the voice from the telescreen was still babbling away about pig-iron and the overfulfilment of the Ninth Three-Year Plan. The telescreen received and transmitted simultaneously. Any sound that Winston made, above the level of a very low whisper, would be picked up by it, moreover, so long as he remained within the field of vision which the metal plaque commanded, he could be seen as well as heard. There was of course no way of knowing whether you were being watched at any given moment. How often, or on what system, the Thought Police plugged in on any individual wire was guesswork. It was even conceivable that they watched everybody all the time. But at any rate they could plug in your wire whenever they wanted to. You had to live -- did live, from habit that became instinct -- in the assumption that every sound you made was overheard, and, except in darkness, every movement scrutinized.\"),\n",
       " Document(metadata={'source': 'D:\\\\NLP2501\\\\dataset\\\\files\\\\chapter_one.docx'}, page_content=\"Winston kept his back turned to the telescreen. It was safer, though, as he well knew, even a back can be revealing. A kilometre away the Ministry of Truth, his place of work, towered vast and white above the grimy landscape. This, he thought with a sort of vague distaste -- this was London, chief city of Airstrip One, itself the third most populous of the provinces of Oceania. He tried to squeeze out some childhood memory that should tell him whether London had always been quite like this. Were there always these vistas of rotting nineteenth-century houses, their sides shored up with baulks of timber, their windows patched with cardboard and their roofs with corrugated iron, their crazy garden walls sagging in all directions? And the bombed sites where the plaster dust swirled in the air and the willow-herb straggled over the heaps of rubble; and the places where the \\n\\n\\n\\nbombs had cleared a larger patch and there had sprung up sordid colonies of wooden dwellings like chicken-houses? But it was no use, he could not remember: nothing remained of his childhood except a series of bright-lit tableaux occurring against no background and mostly unintelligible.\\n\\nThe Ministry of Truth -- Minitrue, in Newspeak -- was startlingly different from any other object in sight. It was an enormous pyramidal structure of glittering white concrete, soaring up, terrace after terrace, 300 metres into the air. From where Winston stood it was just possible to read, picked out on its white face in elegant lettering, the three slogans of the Party:\\n\\nWAR IS PEACE\\n\\nFREEDOM IS SLAVERY\\n\\nIGNORANCE IS STRENGTH\\n\\nThe Ministry of Truth contained, it was said, three thousand rooms above ground level, and corresponding ramifications below. Scattered about London there were just three other buildings of similar appearance and size. So completely did they dwarf the surrounding architecture that from the roof of Victory Mansions you could see all four of them simultaneously. They were the homes of the four Ministries between which the entire apparatus of government was divided. The Ministry of Truth, which concerned itself with news, entertainment, education, and the fine arts. The Ministry of Peace, which concerned itself with war. The Ministry of Love, which maintained law and order. And the Ministry of Plenty, which was responsible for economic affairs. Their names, in Newspeak: Minitrue, Minipax, Miniluv, and Miniplenty.\\n\\nThe Ministry of Love was the really frightening one. There were no windows in it at all. Winston had never been inside the Ministry of Love, nor within half a kilometre of it. It was a place impossible to enter except on official business, and then only by penetrating through a maze of barbed-wire entanglements, steel doors, and hidden machine-gun nests. Even the streets leading up to its outer barriers were roamed by gorilla-faced guards in black uniforms, armed with jointed truncheons.\\n\\n\\n\\n\\n\\nWinston turned round abruptly. He had set his features into the expression of quiet optimism which it was advisable to wear when facing the telescreen. He crossed the room into the tiny kitchen. By leaving the Ministry at this time of day he had sacrificed his lunch in the canteen, and he was aware that there was no food in the kitchen except a hunk of dark-coloured bread which had got to be saved for tomorrow's breakfast. He took down from the shelf a bottle of colourless liquid with a plain white label marked VICTORY GIN. It gave off a sickly, oily smell, as of Chinese ricespirit. Winston poured out nearly a teacupful, nerved himself for a shock, and gulped it down like a dose of medicine.\"),\n",
       " Document(metadata={'source': 'D:\\\\NLP2501\\\\dataset\\\\files\\\\chapter_one.docx'}, page_content=\"Instantly his face turned scarlet and the water ran out of his eyes. The stuff was like nitric acid, and moreover, in swallowing it one had the sensation of being hit on the back of the head with a rubber club. The next moment, however, the burning in his belly died down and the world began to look more cheerful. He took a cigarette from a crumpled packet marked VICTORY CIGARETTES and incautiously held it upright, whereupon the tobacco fell out on to the floor. With the next he was more successful. He went back to the living-room and sat down at a small table that stood to the left of the telescreen. From the table drawer he took out a penholder, a bottle of ink, and a thick, quarto-sized blank book with a red back and a marbled cover.\\n\\nFor some reason the telescreen in the living-room was in an unusual position. Instead of being placed, as was normal, in the end wall, where it could command the whole room, it was in the longer wall, opposite the window. To one side of it there was a shallow alcove in which Winston was now sitting, and which, when the flats were built, had probably been intended to hold bookshelves. By sitting in the alcove, and keeping well back, Winston was able to remain outside the range of the telescreen, so far as sight went. He could be heard, of course, but so long as he stayed in his present position he could not be seen. It was partly the unusual geography of the room that had suggested to him the thing that he was now about to do.\\n\\nBut it had also been suggested by the book that he had just taken out of the drawer. It was a peculiarly beautiful book. Its smooth creamy paper, a little yellowed by age, was of a kind that had not been manufactured for at least forty years past. He could guess, however, that the book was much older than that. He had seen it lying in the window of a frowsy little junk-shop in a slummy quarter of the town (just what quarter he did not \\n\\n\\n\\nnow remember) and had been stricken immediately by an overwhelming desire to possess it. Party members were supposed not to go into ordinary shops ('dealing on the free market', it was called), but the rule was not strictly kept, because there were various things, such as shoelaces and razor blades, which it was impossible to get hold of in any other way. He had given a quick glance up and down the street and then had slipped inside and bought the book for two dollars fifty. At the time he was not conscious of wanting it for any particular purpose. He had carried it guiltily home in his briefcase. Even with nothing written in it, it was a compromising possession.\\n\\nThe thing that he was about to do was to open a diary. This was not illegal (nothing was illegal, since there were no longer any laws), but if detected it was reasonably certain that it would be punished by death, or at least by twenty-five years in a forced-labour camp. Winston fitted a nib into the penholder and sucked it to get the grease off. The pen was an archaic instrument, seldom used even for signatures, and he had procured one, furtively and with some difficulty, simply because of a feeling that the beautiful creamy paper deserved to be written on with a real nib instead of being scratched with an ink-pencil. Actually he was not used to writing by hand. Apart from very short notes, it was usual to dictate everything into the speakwrite which was of course impossible for his present purpose. He dipped the pen into the ink and then faltered for just a second. A tremor had gone through his bowels. To mark the paper was the decisive act. In small clumsy letters he wrote:\\n\\nApril 4th, 1984.\\n\\nHe sat back. A sense of complete helplessness had descended upon him. To begin with, he did not know with any certainty that this was 1984. It must be round about that date, since he was fairly sure that his age was thirty-nine, and he believed that he had been born in 1944 or 1945; but it was never possible nowadays to pin down any date within a year or two.\"),\n",
       " Document(metadata={'source': 'D:\\\\NLP2501\\\\dataset\\\\files\\\\chapter_one.docx'}, page_content=\"For whom, it suddenly occurred to him to wonder, was he writing this diary? For the future, for the unborn. His mind hovered for a moment round the doubtful date on the page, and then fetched up with a bump against the Newspeak word doublethink. For the first time the magnitude of what he had undertaken came home to him. How could you communicate with the future? It was of its nature impossible. Either the future would \\n\\n\\n\\nresemble the present, in which case it would not listen to him: or it would be different from it, and his predicament would be meaningless.\\n\\nFor some time he sat gazing stupidly at the paper. The telescreen had changed over to strident military music. It was curious that he seemed not merely to have lost the power of expressing himself, but even to have forgotten what it was that he had originally intended to say. For weeks past he had been making ready for this moment, and it had never crossed his mind that anything would be needed except courage. The actual writing would be easy. All he had to do was to transfer to paper the interminable restless monologue that had been running inside his head, literally for years. At this moment, however, even the monologue had dried up. Moreover his varicose ulcer had begun itching unbearably. He dared not scratch it, because if he did so it always became inflamed. The seconds were ticking by. He was conscious of nothing except the blankness of the page in front of him, the itching of the skin above his ankle, the blaring of the music, and a slight booziness caused by the gin.\\n\\nSuddenly he began writing in sheer panic, only imperfectly aware of what he was setting down. His small but childish handwriting straggled up and down the page, shedding first its capital letters and finally even its full stops:\\n\\nApril 4th, 1984. Last night to the flicks. All war films. One very good one of a ship full of refugees being bombed somewhere in the Mediterranean. Audience much amused by shots of a great huge fat man trying to swim away with a helicopter after him, first you saw him wallowing along in the water like a porpoise, then you saw him through the helicopters gunsights, then he was full of holes and the sea round him turned pink and he sank as suddenly as though the holes had let in the water, audience shouting with laughter when he sank. then you saw a lifeboat full of children with a helicopter hovering over it. there was a middle-aged woman might have been a jewess sitting up in the bow with a little boy about three years old in her arms. little boy screaming with fright and hiding his head between her breasts as if he was trying to burrow right into her and the woman putting her arms round him and comforting him although she was blue with fright herself, all the time covering him up as much as possible as if she thought her arms could keep the bullets off him. then the helicopter planted a 20 kilo bomb in among them terrific flash and the boat went all to matchwood. then there was a wonderful shot of a child's arm going up up up right up into the air a helicopter with a \\n\\n\\n\\ncamera in its nose must have followed it up and there was a lot of applause from the party seats but a woman down in the prole part of the house suddenly started kicking up a fuss and shouting they didnt oughter of showed it not in front of kids they didnt it aint right not in front of kids it aint until the police turned her turned her out i dont suppose anything happened to her nobody cares what the proles say typical prole reaction they never --\\n\\nWinston stopped writing, partly because he was suffering from cramp. He did not know what had made him pour out this stream of rubbish. But the curious thing was that while he was doing so a totally different memory had clarified itself in his mind, to the point where he almost felt equal to writing it down. It was, he now realized, because of this other incident that he had suddenly decided to come home and begin the diary today.\"),\n",
       " Document(metadata={'source': 'D:\\\\NLP2501\\\\dataset\\\\files\\\\chapter_one.docx'}, page_content='It had happened that morning at the Ministry, if anything so nebulous could be said to happen.\\n\\nIt was nearly eleven hundred, and in the Records Department, where Winston worked, they were dragging the chairs out of the cubicles and grouping them in the centre of the hall opposite the big telescreen, in preparation for the Two Minutes Hate. Winston was just taking his place in one of the middle rows when two people whom he knew by sight, but had never spoken to, came unexpectedly into the room. One of them was a girl whom he often passed in the corridors. He did not know her name, but he knew that she worked in the Fiction Department. Presumably -- since he had sometimes seen her with oily hands and carrying a spanner she had some mechanical job on one of the novel-writing machines. She was a bold-looking girl, of about twenty-seven, with thick hair, a freckled face, and swift, athletic movements. A narrow scarlet sash, emblem of the Junior Anti-Sex League, was wound several times round the waist of her overalls, just tightly enough to bring out the shapeliness of her hips. Winston had disliked her from the very first moment of seeing her. He knew the reason. It was because of the atmosphere of hockey-fields and cold baths and community hikes and general clean-mindedness which she managed to carry about with her. He disliked nearly all women, and especially the young and pretty ones. It was always the women, and above all the young ones, who were the most bigoted adherents of the Party, the swallowers of slogans, the amateur spies and nosers-out of unorthodoxy. But this particular girl gave him the impression of being more dangerous than most. Once when they passed in the \\n\\n\\n\\ncorridor she gave him a quick sidelong glance which seemed to pierce right into him and for a moment had filled him with black terror. The idea had even crossed his mind that she might be an agent of the Thought Police. That, it was true, was very unlikely. Still, he continued to feel a peculiar uneasiness, which had fear mixed up in it as well as hostility, whenever she was anywhere near him.'),\n",
       " Document(metadata={'source': 'D:\\\\NLP2501\\\\dataset\\\\files\\\\chapter_one.docx'}, page_content=\"The other person was a man named O'Brien, a member of the Inner Party and holder of some post so important and remote that Winston had only a dim idea of its nature. A momentary hush passed over the group of people round the chairs as they saw the black overalls of an Inner Party member approaching. O'Brien was a large, burly man with a thick neck and a coarse, humorous, brutal face. In spite of his formidable appearance he had a certain charm of manner. He had a trick of resettling his spectacles on his nose which was curiously disarming -- in some indefinable way, curiously civilized. It was a gesture which, if anyone had still thought in such terms, might have recalled an eighteenth-century nobleman offering his snuffbox. Winston had seen O'Brien perhaps a dozen times in almost as many years. He felt deeply drawn to him, and not solely because he was intrigued by the contrast between O'Brien's urbane manner and his prize-fighter's physique. Much more it was because of a secretly held belief -- or perhaps not even a belief, merely a hope -- that O'Brien's political orthodoxy was not perfect. Something in his face suggested it irresistibly. And again, perhaps it was not even unorthodoxy that was written in his face, but simply intelligence. But at any rate he had the appearance of being a person that you could talk to if somehow you could cheat the telescreen and get him alone. Winston had never made the smallest effort to verify this guess: indeed, there was no way of doing so. At this moment O'Brien glanced at his wrist-watch, saw that it was nearly eleven hundred, and evidently decided to stay in the Records Department until the Two Minutes Hate was over. He took a chair in the same row as Winston, a couple of places away. A small, sandy-haired woman who worked in the next cubicle to Winston was between them. The girl with dark hair was sitting immediately behind.\\n\\nThe next moment a hideous, grinding speech, as of some monstrous machine running without oil, burst from the big telescreen at the end of the room. It was a noise that set one's teeth on edge and bristled the hair at the back of one's neck. The Hate had started.\\n\\n\\n\\n\\n\\nAs usual, the face of Emmanuel Goldstein, the Enemy of the People, had flashed on to the screen. There were hisses here and there among the audience. The little sandy-haired woman gave a squeak of mingled fear and disgust. Goldstein was the renegade and backslider who once, long ago (how long ago, nobody quite remembered), had been one of the leading figures of the Party, almost on a level with Big Brother himself, and then had engaged in counter-revolutionary activities, had been condemned to death, and had mysteriously escaped and disappeared. The programmes of the Two Minutes Hate varied from day to day, but there was none in which Goldstein was not the principal figure. He was the primal traitor, the earliest defiler of the Party's purity. All subsequent crimes against the Party, all treacheries, acts of sabotage, heresies, deviations, sprang directly out of his teaching. Somewhere or other he was still alive and hatching his conspiracies: perhaps somewhere beyond the sea, under the protection of his foreign paymasters, perhaps even -- so it was occasionally rumoured -- in some hiding-place in Oceania itself.\"),\n",
       " Document(metadata={'source': 'D:\\\\NLP2501\\\\dataset\\\\files\\\\chapter_one.docx'}, page_content=\"Winston's diaphragm was constricted. He could never see the face of Goldstein without a painful mixture of emotions. It was a lean Jewish face, with a great fuzzy aureole of white hair and a small goatee beard -- a clever face, and yet somehow inherently despicable, with a kind of senile silliness in the long thin nose, near the end of which a pair of spectacles was perched. It resembled the face of a sheep, and the voice, too, had a sheep-like quality. Goldstein was delivering his usual venomous attack upon the doctrines of the Party -- an attack so exaggerated and perverse that a child should have been able to see through it, and yet just plausible enough to fill one with an alarmed feeling that other people, less level-headed than oneself, might be taken in by it. He was abusing Big Brother, he was denouncing the dictatorship of the Party, he was demanding the immediate conclusion of peace with Eurasia, he was advocating freedom of speech, freedom of the Press, freedom of assembly, freedom of thought, he was crying hysterically that the revolution had been betrayed -- and all this in rapid polysyllabic speech which was a sort of parody of the habitual style of the orators of the Party, and even contained Newspeak words: more Newspeak words, indeed, than any Party member would normally use in real life. And all the while, lest one should be in any doubt as to the reality which Goldstein's specious claptrap covered, behind his head on the telescreen there marched the endless columns of the Eurasian army -- row after row of solid-looking men with expressionless Asiatic faces, who swam up to the surface of the screen and vanished, to be replaced by others exactly similar. The dull rhythmic tramp of \\n\\n\\n\\nthe soldiers' boots formed the background to Goldstein's bleating voice.\\n\\nBefore the Hate had proceeded for thirty seconds, uncontrollable exclamations of rage were breaking out from half the people in the room. The self-satisfied sheep-like face on the screen, and the terrifying power of the Eurasian army behind it, were too much to be borne: besides, the sight or even the thought of Goldstein produced fear and anger automatically. He was an object of hatred more constant than either Eurasia or Eastasia, since when Oceania was at war with one of these Powers it was generally at peace with the other. But what was strange was that although Goldstein was hated and despised by everybody, although every day and a thousand times a day, on platforms, on the telescreen, in newspapers, in books, his theories were refuted, smashed, ridiculed, held up to the general gaze for the pitiful rubbish that they were in spite of all this, his influence never seemed to grow less. Always there were fresh dupes waiting to be seduced by him. A day never passed when spies and saboteurs acting under his directions were not unmasked by the Thought Police. He was the commander of a vast shadowy army, an underground network of conspirators dedicated to the overthrow of the State. The Brotherhood, its name was supposed to be. There were also whispered stories of a terrible book, a compendium of all the heresies, of which Goldstein was the author and which circulated clandestinely here and there. It was a book without a title. People referred to it, if at all, simply as the book. But one knew of such things only through vague rumours. Neither the Brotherhood nor the book was a subject that any ordinary Party member would mention if there was a way of avoiding it.\"),\n",
       " Document(metadata={'source': 'D:\\\\NLP2501\\\\dataset\\\\files\\\\chapter_one.docx'}, page_content=\"In its second minute the Hate rose to a frenzy. People were leaping up and down in their places and shouting at the tops of their voices in an effort to drown the maddening bleating voice that came from the screen. The little sandy-haired woman had turned bright pink, and her mouth was opening and shutting like that of a landed fish. Even O'Brien's heavy face was flushed. He was sitting very straight in his chair, his powerful chest swelling and quivering as though he were standing up to the assault of a wave. The dark-haired girl behind Winston had begun crying out 'Swine! Swine! Swine!' and suddenly she picked up a heavy Newspeak dictionary and flung it at the screen. It struck Goldstein's nose and bounced off; the voice continued inexorably. In a lucid moment Winston found that he was shouting with the others and kicking his heel violently against the rung of his chair. The horrible thing about the Two Minutes Hate was not that one was obliged to act a part, but, on the contrary, that it was impossible to avoid \\n\\n\\n\\njoining in. Within thirty seconds any pretence was always unnecessary. A hideous ecstasy of fear and vindictiveness, a desire to kill, to torture, to smash faces in with a sledge-hammer, seemed to flow through the whole group of people like an electric current, turning one even against one's will into a grimacing, screaming lunatic. And yet the rage that one felt was an abstract, undirected emotion which could be switched from one object to another like the flame of a blowlamp. Thus, at one moment Winston's hatred was not turned against Goldstein at all, but, on the contrary, against Big Brother, the Party, and the Thought Police; and at such moments his heart went out to the lonely, derided heretic on the screen, sole guardian of truth and sanity in a world of lies. And yet the very next instant he was at one with the people about him, and all that was said of Goldstein seemed to him to be true. At those moments his secret loathing of Big Brother changed into adoration, and Big Brother seemed to tower up, an invincible, fearless protector, standing like a rock against the hordes of Asia, and Goldstein, in spite of his isolation, his helplessness, and the doubt that hung about his very existence, seemed like some sinister enchanter, capable by the mere power of his voice of wrecking the structure of civilization.\\n\\nIt was even possible, at moments, to switch one's hatred this way or that by a voluntary act. Suddenly, by the sort of violent effort with which one wrenches one's head away from the pillow in a nightmare, Winston succeeded in transferring his hatred from the face on the screen to the dark-haired girl behind him. Vivid, beautiful hallucinations flashed through his mind. He would flog her to death with a rubber truncheon. He would tie her naked to a stake and shoot her full of arrows like Saint Sebastian. He would ravish her and cut her throat at the moment of climax. Better than before, moreover, he realized why it was that he hated her. He hated her because she was young and pretty and sexless, because he wanted to go to bed with her and would never do so, because round her sweet supple waist, which seemed to ask you to encircle it with your arm, there was only the odious scarlet sash, aggressive symbol of chastity.\\n\\nThe Hate rose to its climax. The voice of Goldstein had become an actual sheep's bleat, and for an instant the face changed into that of a sheep. Then the sheep-face melted into the figure of a Eurasian soldier who seemed to be advancing, huge and terrible, his sub-machine gun roaring, and seeming to spring out of the surface of the screen, so that some of the people in the front row actually flinched backwards in their seats. But in the same moment, drawing a deep sigh of relief from everybody, the hostile figure\"),\n",
       " Document(metadata={'source': 'D:\\\\NLP2501\\\\dataset\\\\files\\\\chapter_one.docx'}, page_content=\"melted into the face of Big Brother, black-haired, black-moustachio'd, full of power and mysterious calm, and so vast that it almost filled up the screen. Nobody heard what Big Brother was saying. It was merely a few words of encouragement, the sort of words that are uttered in the din of battle, not distinguishable individually but restoring confidence by the fact of being spoken. Then the face of Big Brother faded away again, and instead the three slogans of the Party stood out in bold capitals:\\n\\nWAR IS PEACE\\n\\nFREEDOM IS SLAVERY\\n\\nIGNORANCE IS STRENGTH\\n\\nBut the face of Big Brother seemed to persist for several seconds on the screen, as though the impact that it had made on everyone's eyeballs was too vivid to wear off immediately. The little sandyhaired woman had flung herself forward over the back of the chair in front of her. With a tremulous murmur that sounded like 'My Saviour!' she extended her arms towards the screen. Then she buried her face in her hands. It was apparent that she was uttering a prayer.\\n\\nAt this moment the entire group of people broke into a deep, slow, rhythmical chant of 'B-B! ...B-B!' -- over and over again, very slowly, with a long pause between the first 'B' and the second-a heavy, murmurous sound, somehow curiously savage, in the background of which one seemed to hear the stamp of naked feet and the throbbing of tom-toms. For perhaps as much as thirty seconds they kept it up. It was a refrain that was often heard in moments of overwhelming emotion. Partly it was a sort of hymn to the wisdom and majesty of Big Brother, but still more it was an act of self-hypnosis, a deliberate drowning of consciousness by means of rhythmic noise. Winston's entrails seemed to grow cold. In the Two Minutes Hate he could not help sharing in the general delirium, but this sub-human chanting of 'B-B! ...B-B!' always filled him with horror. Of course he chanted with the rest: it was impossible to do otherwise. To dissemble your feelings, to control your face, to do what everyone else was doing, was an instinctive reaction. But there was a space of a couple of seconds during which the expression of his eyes might conceivably have betrayed him. And it was exactly at this moment that the significant thing happened -- if, indeed, it did happen.\\n\\n\\n\\n\\n\\nMomentarily he caught O'Brien's eye. O'Brien had stood up. He had taken off his spectacles and was in the act of resettling them on his nose with his characteristic gesture. But there was a fraction of a second when their eyes met, and for as long as it took to happen Winston knew-yes, he knew!-that O'Brien was thinking the same thing as himself. An unmistakable message had passed. It was as though their two minds had opened and the thoughts were flowing from one into the other through their eyes. 'I am with you,' O'Brien seemed to be saying to him. 'I know precisely what you are feeling. I know all about your contempt, your hatred, your disgust. But don't worry, I am on your side!' And then the flash of intelligence was gone, and O'Brien's face was as inscrutable as everybody else's.\"),\n",
       " Document(metadata={'source': 'D:\\\\NLP2501\\\\dataset\\\\files\\\\chapter_one.docx'}, page_content=\"That was all, and he was already uncertain whether it had happened. Such incidents never had any sequel. All that they did was to keep alive in him the belief, or hope, that others besides himself were the enemies of the Party. Perhaps the rumours of vast underground conspiracies were true after all -- perhaps the Brotherhood really existed! It was impossible, in spite of the endless arrests and confessions and executions, to be sure that the Brotherhood was not simply a myth. Some days he believed in it, some days not. There was no evidence, only fleeting glimpses that might mean anything or nothing: snatches of overheard conversation, faint scribbles on lavatory walls -- once, even, when two strangers met, a small movement of the hand which had looked as though it might be a signal of recognition. It was all guesswork: very likely he had imagined everything. He had gone back to his cubicle without looking at O'Brien again. The idea of following up their momentary contact hardly crossed his mind. It would have been inconceivably dangerous even if he had known how to set about doing it. For a second, two seconds, they had exchanged an equivocal glance, and that was the end of the story. But even that was a memorable event, in the locked loneliness in which one had to live.\\n\\nWinston roused himself and sat up straighter. He let out a belch. The gin was rising from his stomach.\\n\\nHis eyes re-focused on the page. He discovered that while he sat helplessly musing he had also been writing, as though by automatic action. And it was no longer the same cramped, awkward handwriting as before. His pen had slid voluptuously over the smooth paper, printing in large neat capitals -\\n\\n\\n\\n\\n\\nDOWN WITH BIG BROTHER\\n\\nDOWN WITH BIG BROTHER\\n\\nDOWN WITH BIG BROTHER\\n\\nDOWN WITH BIG BROTHER\\n\\nDOWN WITH BIG BROTHER\\n\\nover and over again, filling half a page.\\n\\nHe could not help feeling a twinge of panic. It was absurd, since the writing of those particular words was not more dangerous than the initial act of opening the diary, but for a moment he was tempted to tear out the spoiled pages and abandon the enterprise altogether.\\n\\nHe did not do so, however, because he knew that it was useless. Whether he wrote DOWN WITH BIG BROTHER, or whether he refrained from writing it, made no difference. Whether he went on with the diary, or whether he did not go on with it, made no difference. The Thought Police would get him just the same. He had committed -- would still have committed, even if he had never set pen to paper -- the essential crime that contained all others in itself. Thoughtcrime, they called it. Thoughtcrime was not a thing that could be concealed for ever. You might dodge successfully for a while, even for years, but sooner or later they were bound to get you.\\n\\nIt was always at night -- the arrests invariably happened at night. The sudden jerk out of sleep, the rough hand shaking your shoulder, the lights glaring in your eyes, the ring of hard faces round the bed. In the vast majority of cases there was no trial, no report of the arrest. People simply disappeared, always during the night. Your name was removed from the registers, every record of everything you had ever done was wiped out, your one-time existence was denied and then forgotten. You were abolished, annihilated: vaporized was the usual word.\\n\\n\\n\\n\\n\\nFor a moment he was seized by a kind of hysteria. He began writing in a hurried untidy scrawl:\\n\\ntheyll shoot me i don't care theyll shoot me in the back of the neck i dont care down with big brother they always shoot you in the back of the neck i dont care down with big brother --\\n\\nHe sat back in his chair, slightly ashamed of himself, and laid down the pen. The next moment he started violently. There was a knocking at the door.\"),\n",
       " Document(metadata={'source': 'D:\\\\NLP2501\\\\dataset\\\\files\\\\chapter_one.docx'}, page_content='He sat back in his chair, slightly ashamed of himself, and laid down the pen. The next moment he started violently. There was a knocking at the door.\\n\\nAlready! He sat as still as a mouse, in the futile hope that whoever it was might go away after a single attempt. But no, the knocking was repeated. The worst thing of all would be to delay. His heart was thumping like a drum, but his face, from long habit, was probably expressionless. He got up and moved heavily towards the door.')]"
      ]
     },
     "execution_count": 27,
     "metadata": {},
     "output_type": "execute_result"
    }
   ],
   "source": [
    "# 방법2 \n",
    "documents = loader.load_and_split(text_splitter=splitter)\n",
    "documents"
   ]
  },
  {
   "cell_type": "code",
   "execution_count": 28,
   "id": "7adca9c2-a412-4afc-a8e3-e322719f064e",
   "metadata": {},
   "outputs": [
    {
     "data": {
      "text/plain": [
       "11"
      ]
     },
     "execution_count": 28,
     "metadata": {},
     "output_type": "execute_result"
    }
   ],
   "source": [
    "len(documents)"
   ]
  },
  {
   "cell_type": "code",
   "execution_count": 29,
   "id": "b2ad278b-6616-473a-ae99-08e1a9d5adde",
   "metadata": {},
   "outputs": [
    {
     "name": "stdout",
     "output_type": "stream",
     "text": [
      "Part 1, Chapter 1\n",
      "\n",
      "Part One\n",
      "\n",
      "\n",
      "1\n",
      "It was a bright cold day in April, and the clocks were striking thirteen. Winston Smith, his chin nuzzled into his breast in an effort to escape the vile wind, slipped quickly through the glass doors of Victory Mansions, though not quickly enough to prevent a swirl of gritty dust from entering along with him.\n",
      "\n",
      "The hallway smelt of boiled cabbage and old rag mats. At one end of it a coloured poster, too large for indoor display, had been tacked to the wall. It depicted simply an enormous face, more than a metre wide: the face of a man of about forty-five, with a heavy black moustache and ruggedly handsome features. Winston made for the stairs. It was no use trying the lift. Even at the best of times it was seldom working, and at present the electric current was cut off during daylight hours. It was part of the economy drive in preparation for Hate Week. The flat was seven flights up, and Winston, who was thirty-nine and had a varicose ulcer above his right ankle, went slowly, resting several times on the way. On each landing, opposite the lift-shaft, the poster with the enormous face gazed from the wall. It was one of those pictures which are so contrived that the eyes follow you about when you move. BIG BROTHER IS WATCHING YOU, the caption beneath it ran.\n",
      "\n",
      "Inside the flat a fruity voice was reading out a list of figures which had something to do with the production of pig-iron. The voice came from an oblong metal plaque like a dulled mirror which formed part of the surface of the right-hand wall. Winston turned a switch and the voice sank somewhat, though the words were still distinguishable. The instrument (the telescreen, it was called) could be dimmed, but there was no way of shutting it off completely. He moved over to the window: a smallish, frail figure, the meagreness of his body merely emphasized by the blue overalls which were the uniform of the party. His hair was very fair, his face naturally sanguine, his skin roughened by coarse soap and blunt razor blades and the cold of the winter that had just ended.\n",
      "\n",
      "\n",
      "\n",
      "\n",
      "\n",
      "Outside, even through the shut window-pane, the world looked cold. Down in the street little eddies of wind were whirling dust and torn paper into spirals, and though the sun was shining and the sky a harsh blue, there seemed to be no colour in anything, except the posters that were plastered everywhere. The blackmoustachio'd face gazed down from every commanding corner. There was one on the house-front immediately opposite. BIG BROTHER IS WATCHING YOU, the caption said, while the dark eyes looked deep into Winston's own. Down at streetlevel another poster, torn at one corner, flapped fitfully in the wind, alternately covering and uncovering the single word INGSOC. In the far distance a helicopter skimmed down between the roofs, hovered for an instant like a bluebottle, and darted away again with a curving flight. It was the police patrol, snooping into people's windows. The patrols did not matter, however. Only the Thought Police mattered.\n",
      "\n",
      "Behind Winston's back the voice from the telescreen was still babbling away about pig-iron and the overfulfilment of the Ninth Three-Year Plan. The telescreen received and transmitted simultaneously. Any sound that Winston made, above the level of a very low whisper, would be picked up by it, moreover, so long as he remained within the field of vision which the metal plaque commanded, he could be seen as well as heard. There was of course no way of knowing whether you were being watched at any given moment. How often, or on what system, the Thought Police plugged in on any individual wire was guesswork. It was even conceivable that they watched everybody all the time. But at any rate they could plug in your wire whenever they wanted to. You had to live -- did live, from habit that became instinct -- in the assumption that every sound you made was overheard, and, except in darkness, every movement scrutinized.\n"
     ]
    }
   ],
   "source": [
    "print(documents[0].page_content)"
   ]
  },
  {
   "cell_type": "markdown",
   "id": "26e07b7c-cf62-4c4b-8ec3-ab3f61fe451c",
   "metadata": {},
   "source": [
    "### chunk_size="
   ]
  },
  {
   "cell_type": "code",
   "execution_count": 30,
   "id": "de5a2b72-75e8-43c6-a5a0-6e9a8eecaa85",
   "metadata": {},
   "outputs": [],
   "source": [
    "# 좀 더 작은 Document 를 만들 필요가 있다.\n",
    "# Context Window 가 크지 않은 경우라든지\n",
    "# chunk_size= 값으로 조정해보자"
   ]
  },
  {
   "cell_type": "code",
   "execution_count": 31,
   "id": "d7b707a2-80e7-43a5-a6d6-637a400368f9",
   "metadata": {},
   "outputs": [
    {
     "name": "stdout",
     "output_type": "stream",
     "text": [
      "3498\n"
     ]
    }
   ],
   "source": [
    "splitter = RecursiveCharacterTextSplitter(\n",
    "    chunk_size=200  # 얼만큼의 양으로 split 할지 조정\n",
    ")\n",
    "\n",
    "documents = loader.load_and_split(text_splitter=splitter)\n",
    "print(len(documents))"
   ]
  },
  {
   "cell_type": "code",
   "execution_count": 32,
   "id": "ee4e5c69-fea0-4897-a11a-37f51d375da0",
   "metadata": {},
   "outputs": [
    {
     "data": {
      "text/plain": [
       "[Document(metadata={'source': 'D:\\\\NLP2501\\\\dataset\\\\files\\\\chapter_one.docx'}, page_content='Part 1, Chapter 1\\n\\nPart One'),\n",
       " Document(metadata={'source': 'D:\\\\NLP2501\\\\dataset\\\\files\\\\chapter_one.docx'}, page_content='1'),\n",
       " Document(metadata={'source': 'D:\\\\NLP2501\\\\dataset\\\\files\\\\chapter_one.docx'}, page_content='It was a bright cold day in April, and the clocks were striking thirteen. Winston Smith, his chin nuzzled into his breast in an effort to escape the vile wind, slipped quickly through the glass doors'),\n",
       " Document(metadata={'source': 'D:\\\\NLP2501\\\\dataset\\\\files\\\\chapter_one.docx'}, page_content='was a bright cold day in April, and the clocks were striking thirteen. Winston Smith, his chin nuzzled into his breast in an effort to escape the vile wind, slipped quickly through the glass doors of'),\n",
       " Document(metadata={'source': 'D:\\\\NLP2501\\\\dataset\\\\files\\\\chapter_one.docx'}, page_content='cold day in April, and the clocks were striking thirteen. Winston Smith, his chin nuzzled into his breast in an effort to escape the vile wind, slipped quickly through the glass doors of Victory')]"
      ]
     },
     "execution_count": 32,
     "metadata": {},
     "output_type": "execute_result"
    }
   ],
   "source": [
    "documents[:5]"
   ]
  },
  {
   "cell_type": "markdown",
   "id": "ea701ee3-7b09-4af2-8844-a769212ea4ff",
   "metadata": {},
   "source": [
    "### chunk_overlap="
   ]
  },
  {
   "cell_type": "code",
   "execution_count": 33,
   "id": "f9b49026-2b0a-4e35-a2ad-8af4bd46fc3a",
   "metadata": {},
   "outputs": [],
   "source": [
    "\"\"\"\n",
    "↑ 보다시피 Document 한 덩어리가 작아진 걸 확인할수 있다.\n",
    "\n",
    "그러나 자세히 보라!  문제가 발생했다! => 문단의 중간을 잘라버렸다.\n",
    "아런식으로 잘라먹으면 그닥 쓸만하지 않다. <- 문장을 파괴해버린셈이다. (의미상 말이 안되는 문장들이 나온다)\n",
    "\n",
    "작은 덩어리이면서도 중간을 잘라먹지 않는 방법은 없을까?\n",
    "=> chunk_overlap=\n",
    "    이 속성은 문장이나 문단을 분할할 때 앞 조각 일부분을 가져오게 만든다.\n",
    "    앞 조각의 끝부분을 조금 가져와서 다음 조각에 연결시키는 거다.\n",
    "    이 경우 Document 사이에는 곂치는 부분이 생길수 있다. (중복된 부분)\n",
    "    어떤 Document 의 끝부분이 다른 Document 의 시작점이 되는 거다.\n",
    "\"\"\"\n",
    "None"
   ]
  },
  {
   "cell_type": "code",
   "execution_count": 34,
   "id": "af7c2b04-4ba7-4759-a6b4-c3f273c029e1",
   "metadata": {},
   "outputs": [
    {
     "name": "stdout",
     "output_type": "stream",
     "text": [
      "250\n"
     ]
    }
   ],
   "source": [
    "splitter = RecursiveCharacterTextSplitter(\n",
    "    chunk_size=200,\n",
    "    chunk_overlap=50,\n",
    ")\n",
    "\n",
    "documents = loader.load_and_split(text_splitter=splitter)\n",
    "print(len(documents))"
   ]
  },
  {
   "cell_type": "code",
   "execution_count": 35,
   "id": "8437cf80-c2c3-4012-8188-3d5fee01c818",
   "metadata": {},
   "outputs": [
    {
     "name": "stdout",
     "output_type": "stream",
     "text": [
      "🔷 move. BIG BROTHER IS WATCHING YOU, the caption beneath it ran.\n",
      "🔷 Inside the flat a fruity voice was reading out a list of figures which had something to do with the production of pig-iron. The voice came from an oblong metal plaque like a dulled mirror which\n",
      "🔷 an oblong metal plaque like a dulled mirror which formed part of the surface of the right-hand wall. Winston turned a switch and the voice sank somewhat, though the words were still distinguishable.\n",
      "🔷 though the words were still distinguishable. The instrument (the telescreen, it was called) could be dimmed, but there was no way of shutting it off completely. He moved over to the window: a\n",
      "🔷 it off completely. He moved over to the window: a smallish, frail figure, the meagreness of his body merely emphasized by the blue overalls which were the uniform of the party. His hair was very\n"
     ]
    }
   ],
   "source": [
    "for document in documents[10:15]:\n",
    "    print('🔷', document.page_content)"
   ]
  },
  {
   "cell_type": "code",
   "execution_count": 36,
   "id": "a97f6232-0282-44a3-80c6-6a541f00c893",
   "metadata": {},
   "outputs": [],
   "source": [
    "# ↑ Document 간에 겹치는 부분이 있다.\n",
    "# 앞 Document 의 뒷부분을 가져다가 다음 Document 의 앞에 넣었다.\n",
    "# 이렇게 하므로 문장의 (의미적) 구조를 해치지 않도록 split 했다.\n"
   ]
  },
  {
   "cell_type": "markdown",
   "id": "3b372534-7ee7-425d-9b42-3c02dd3b391b",
   "metadata": {},
   "source": [
    "## CharacterTextSplitter"
   ]
  },
  {
   "cell_type": "code",
   "execution_count": 37,
   "id": "d4a73ffa-ce61-43e1-82b8-d4273cbb7899",
   "metadata": {},
   "outputs": [],
   "source": [
    "# v0.3\n",
    "from langchain_text_splitters.character import CharacterTextSplitter\n",
    "# https://python.langchain.com/api_reference/text_splitters/character/langchain_text_splitters.character.CharacterTextSplitter.html\n",
    "\n",
    "# Splitting text that looks at characters.\n",
    "# Create a new TextSplitter."
   ]
  },
  {
   "cell_type": "code",
   "execution_count": 38,
   "id": "ef8308c2-40f2-45ab-abe2-1f898ba32109",
   "metadata": {},
   "outputs": [],
   "source": [
    "# CharacterTextSplitter 도 동작방식은 비슷하다\n",
    "# separator=  : 특정 문자열 찾은 다음 이를 기준으로 분할한다.\n"
   ]
  },
  {
   "cell_type": "code",
   "execution_count": 39,
   "id": "04a5c0c3-e34a-4c19-b9b1-65a2dd45455f",
   "metadata": {},
   "outputs": [
    {
     "name": "stderr",
     "output_type": "stream",
     "text": [
      "Created a chunk of size 963, which is longer than the specified 600\n",
      "Created a chunk of size 774, which is longer than the specified 600\n",
      "Created a chunk of size 954, which is longer than the specified 600\n",
      "Created a chunk of size 922, which is longer than the specified 600\n",
      "Created a chunk of size 881, which is longer than the specified 600\n",
      "Created a chunk of size 821, which is longer than the specified 600\n",
      "Created a chunk of size 700, which is longer than the specified 600\n",
      "Created a chunk of size 745, which is longer than the specified 600\n",
      "Created a chunk of size 735, which is longer than the specified 600\n",
      "Created a chunk of size 671, which is longer than the specified 600\n",
      "Created a chunk of size 991, which is longer than the specified 600\n",
      "Created a chunk of size 990, which is longer than the specified 600\n",
      "Created a chunk of size 1289, which is longer than the specified 600\n",
      "Created a chunk of size 1605, which is longer than the specified 600\n",
      "Created a chunk of size 1900, which is longer than the specified 600\n",
      "Created a chunk of size 1130, which is longer than the specified 600\n",
      "Created a chunk of size 1727, which is longer than the specified 600\n",
      "Created a chunk of size 1690, which is longer than the specified 600\n",
      "Created a chunk of size 1030, which is longer than the specified 600\n",
      "Created a chunk of size 1334, which is longer than the specified 600\n",
      "Created a chunk of size 930, which is longer than the specified 600\n",
      "Created a chunk of size 1260, which is longer than the specified 600\n",
      "Created a chunk of size 795, which is longer than the specified 600\n",
      "Created a chunk of size 1293, which is longer than the specified 600\n",
      "Created a chunk of size 649, which is longer than the specified 600\n"
     ]
    },
    {
     "name": "stdout",
     "output_type": "stream",
     "text": [
      "46\n",
      "🔷 Part 1, Chapter 1\n",
      "Part One\n",
      "1\n",
      "It was a bright cold day in April, and the clocks were striking thirteen. Winston Smith, his chin nuzzled into his breast in an effort to escape the vile wind, slipped quickly through the glass doors of Victory Mansions, though not quickly enough to prevent a swirl of gritty dust from entering along with him.\n",
      "🔷 The hallway smelt of boiled cabbage and old rag mats. At one end of it a coloured poster, too large for indoor display, had been tacked to the wall. It depicted simply an enormous face, more than a metre wide: the face of a man of about forty-five, with a heavy black moustache and ruggedly handsome features. Winston made for the stairs. It was no use trying the lift. Even at the best of times it was seldom working, and at present the electric current was cut off during daylight hours. It was part of the economy drive in preparation for Hate Week. The flat was seven flights up, and Winston, who was thirty-nine and had a varicose ulcer above his right ankle, went slowly, resting several times on the way. On each landing, opposite the lift-shaft, the poster with the enormous face gazed from the wall. It was one of those pictures which are so contrived that the eyes follow you about when you move. BIG BROTHER IS WATCHING YOU, the caption beneath it ran.\n",
      "🔷 Inside the flat a fruity voice was reading out a list of figures which had something to do with the production of pig-iron. The voice came from an oblong metal plaque like a dulled mirror which formed part of the surface of the right-hand wall. Winston turned a switch and the voice sank somewhat, though the words were still distinguishable. The instrument (the telescreen, it was called) could be dimmed, but there was no way of shutting it off completely. He moved over to the window: a smallish, frail figure, the meagreness of his body merely emphasized by the blue overalls which were the uniform of the party. His hair was very fair, his face naturally sanguine, his skin roughened by coarse soap and blunt razor blades and the cold of the winter that had just ended.\n",
      "🔷 Outside, even through the shut window-pane, the world looked cold. Down in the street little eddies of wind were whirling dust and torn paper into spirals, and though the sun was shining and the sky a harsh blue, there seemed to be no colour in anything, except the posters that were plastered everywhere. The blackmoustachio'd face gazed down from every commanding corner. There was one on the house-front immediately opposite. BIG BROTHER IS WATCHING YOU, the caption said, while the dark eyes looked deep into Winston's own. Down at streetlevel another poster, torn at one corner, flapped fitfully in the wind, alternately covering and uncovering the single word INGSOC. In the far distance a helicopter skimmed down between the roofs, hovered for an instant like a bluebottle, and darted away again with a curving flight. It was the police patrol, snooping into people's windows. The patrols did not matter, however. Only the Thought Police mattered.\n",
      "🔷 Behind Winston's back the voice from the telescreen was still babbling away about pig-iron and the overfulfilment of the Ninth Three-Year Plan. The telescreen received and transmitted simultaneously. Any sound that Winston made, above the level of a very low whisper, would be picked up by it, moreover, so long as he remained within the field of vision which the metal plaque commanded, he could be seen as well as heard. There was of course no way of knowing whether you were being watched at any given moment. How often, or on what system, the Thought Police plugged in on any individual wire was guesswork. It was even conceivable that they watched everybody all the time. But at any rate they could plug in your wire whenever they wanted to. You had to live -- did live, from habit that became instinct -- in the assumption that every sound you made was overheard, and, except in darkness, every movement scrutinized.\n"
     ]
    }
   ],
   "source": [
    "splitter = CharacterTextSplitter(\n",
    "    separator='\\n',   # 줄바꿈 단락별로 split\n",
    "    chunk_size=600,\n",
    "    chunk_overlap=100,\n",
    ")\n",
    "\n",
    "documents = loader.load_and_split(text_splitter=splitter)\n",
    "print(len(documents))\n",
    "\n",
    "for document in documents[0:5]:\n",
    "  print('🔷', document.page_content)"
   ]
  },
  {
   "cell_type": "markdown",
   "id": "9b1d8093-3b1a-4b1e-ae16-66f85e32ad9c",
   "metadata": {},
   "source": [
    "# TikToken"
   ]
  },
  {
   "cell_type": "code",
   "execution_count": 40,
   "id": "5e5dc94f-1e1c-4dcb-9cb1-da5509829732",
   "metadata": {},
   "outputs": [],
   "source": [
    "\"\"\"\n",
    "기본적으로 모든 splitter 들은 텍스트의 length 를 계산해서\n",
    "한 덩어리(chunk) 의 크기를 알아낸다.\n",
    "그 작업에는 파이썬 표준 라이브러리가 지원하는 표준 len() 함수를 사용한다. (디폴트)\n",
    "\n",
    "Splitter 에는 length 를 계산하는 함수를 제공해줄수도 있다\n",
    "  바로 length_function= 속성이다\n",
    "\"\"\"\n",
    "None"
   ]
  },
  {
   "cell_type": "code",
   "execution_count": 41,
   "id": "2f134a08-a5dc-4f61-b091-f0292e462b96",
   "metadata": {},
   "outputs": [],
   "source": [
    "splitter = CharacterTextSplitter(\n",
    "    separator='\\n',\n",
    "    chunk_size=600,\n",
    "    chunk_overlap=100,\n",
    "    length_function=len,  # <- 기본적인 chunk 개수 카운트 함수\n",
    ")\n",
    "\n",
    "# 그러나, LLM 에서 말하는 token 은 문자(letter) 와는 다르다"
   ]
  },
  {
   "cell_type": "markdown",
   "id": "46c8f232-3d6c-4434-b885-d64f00587c9c",
   "metadata": {},
   "source": [
    "## OpenAI Tokenizer 예시 "
   ]
  },
  {
   "cell_type": "code",
   "execution_count": 42,
   "id": "12c30b14-fc4b-4c2b-9a02-28c1ee50795e",
   "metadata": {},
   "outputs": [],
   "source": [
    "\"\"\"\n",
    "OpenAI 에서의 token 예시\n",
    "https://platform.openai.com/tokenizer\n",
    "↓ model 의 관점에서, 몇개의 token 을 사용하는지 확인해 볼수 있다.\n",
    "\"\"\"\n",
    "None"
   ]
  },
  {
   "cell_type": "markdown",
   "id": "b24db07b-ba97-44b2-88ce-38afb70dbd9b",
   "metadata": {},
   "source": [
    "## from_tiktoken_encoder()"
   ]
  },
  {
   "cell_type": "code",
   "execution_count": 43,
   "id": "c7a0dc46-6d6c-4261-bec4-27b069e5e90a",
   "metadata": {},
   "outputs": [],
   "source": [
    "# tiktoken 은 OpenAI 에 의해 만들어진거다.\n",
    "# https://github.com/openai/tiktoken   <- 아까 위의 Tokenizer 페이지 하단에 보면 이 링크가 있다.\n",
    "\n",
    "# 아래의 from_tiktoken_encoder() 을 사용하면 tiktoken 패키지가 동작하는 것이다."
   ]
  },
  {
   "cell_type": "code",
   "execution_count": 44,
   "id": "8cda111b-ebf2-42f9-b9c6-48621461cc64",
   "metadata": {},
   "outputs": [
    {
     "name": "stdout",
     "output_type": "stream",
     "text": [
      "💚 17 개\n",
      "🔷 Part 1, Chapter 1\n",
      "Part One\n",
      "1\n",
      "It was a bright cold day in April, and the clocks were striking thirteen. Winston Smith, his chin nuzzled into his breast in an effort to escape the vile wind, slipped quickly through the glass doors of Victory Mansions, though not quickly enough to prevent a swirl of gritty dust from entering along with him.\n",
      "The hallway smelt of boiled cabbage and old rag mats. At one end of it a coloured poster, too large for indoor display, had been tacked to the wall. It depicted simply an enormous face, more than a metre wide: the face of a man of about forty-five, with a heavy black moustache and ruggedly handsome features. Winston made for the stairs. It was no use trying the lift. Even at the best of times it was seldom working, and at present the electric current was cut off during daylight hours. It was part of the economy drive in preparation for Hate Week. The flat was seven flights up, and Winston, who was thirty-nine and had a varicose ulcer above his right ankle, went slowly, resting several times on the way. On each landing, opposite the lift-shaft, the poster with the enormous face gazed from the wall. It was one of those pictures which are so contrived that the eyes follow you about when you move. BIG BROTHER IS WATCHING YOU, the caption beneath it ran.\n",
      "Inside the flat a fruity voice was reading out a list of figures which had something to do with the production of pig-iron. The voice came from an oblong metal plaque like a dulled mirror which formed part of the surface of the right-hand wall. Winston turned a switch and the voice sank somewhat, though the words were still distinguishable. The instrument (the telescreen, it was called) could be dimmed, but there was no way of shutting it off completely. He moved over to the window: a smallish, frail figure, the meagreness of his body merely emphasized by the blue overalls which were the uniform of the party. His hair was very fair, his face naturally sanguine, his skin roughened by coarse soap and blunt razor blades and the cold of the winter that had just ended.\n",
      "🔷 Outside, even through the shut window-pane, the world looked cold. Down in the street little eddies of wind were whirling dust and torn paper into spirals, and though the sun was shining and the sky a harsh blue, there seemed to be no colour in anything, except the posters that were plastered everywhere. The blackmoustachio'd face gazed down from every commanding corner. There was one on the house-front immediately opposite. BIG BROTHER IS WATCHING YOU, the caption said, while the dark eyes looked deep into Winston's own. Down at streetlevel another poster, torn at one corner, flapped fitfully in the wind, alternately covering and uncovering the single word INGSOC. In the far distance a helicopter skimmed down between the roofs, hovered for an instant like a bluebottle, and darted away again with a curving flight. It was the police patrol, snooping into people's windows. The patrols did not matter, however. Only the Thought Police mattered.\n",
      "Behind Winston's back the voice from the telescreen was still babbling away about pig-iron and the overfulfilment of the Ninth Three-Year Plan. The telescreen received and transmitted simultaneously. Any sound that Winston made, above the level of a very low whisper, would be picked up by it, moreover, so long as he remained within the field of vision which the metal plaque commanded, he could be seen as well as heard. There was of course no way of knowing whether you were being watched at any given moment. How often, or on what system, the Thought Police plugged in on any individual wire was guesswork. It was even conceivable that they watched everybody all the time. But at any rate they could plug in your wire whenever they wanted to. You had to live -- did live, from habit that became instinct -- in the assumption that every sound you made was overheard, and, except in darkness, every movement scrutinized.\n",
      "🔷 Winston kept his back turned to the telescreen. It was safer, though, as he well knew, even a back can be revealing. A kilometre away the Ministry of Truth, his place of work, towered vast and white above the grimy landscape. This, he thought with a sort of vague distaste -- this was London, chief city of Airstrip One, itself the third most populous of the provinces of Oceania. He tried to squeeze out some childhood memory that should tell him whether London had always been quite like this. Were there always these vistas of rotting nineteenth-century houses, their sides shored up with baulks of timber, their windows patched with cardboard and their roofs with corrugated iron, their crazy garden walls sagging in all directions? And the bombed sites where the plaster dust swirled in the air and the willow-herb straggled over the heaps of rubble; and the places where the \n",
      "bombs had cleared a larger patch and there had sprung up sordid colonies of wooden dwellings like chicken-houses? But it was no use, he could not remember: nothing remained of his childhood except a series of bright-lit tableaux occurring against no background and mostly unintelligible.\n",
      "The Ministry of Truth -- Minitrue, in Newspeak -- was startlingly different from any other object in sight. It was an enormous pyramidal structure of glittering white concrete, soaring up, terrace after terrace, 300 metres into the air. From where Winston stood it was just possible to read, picked out on its white face in elegant lettering, the three slogans of the Party:\n",
      "WAR IS PEACE\n",
      "FREEDOM IS SLAVERY\n",
      "IGNORANCE IS STRENGTH\n",
      "The Ministry of Truth contained, it was said, three thousand rooms above ground level, and corresponding ramifications below. Scattered about London there were just three other buildings of similar appearance and size. So completely did they dwarf the surrounding architecture that from the roof of Victory Mansions you could see all four of them simultaneously. They were the homes of the four Ministries between which the entire apparatus of government was divided. The Ministry of Truth, which concerned itself with news, entertainment, education, and the fine arts. The Ministry of Peace, which concerned itself with war. The Ministry of Love, which maintained law and order. And the Ministry of Plenty, which was responsible for economic affairs. Their names, in Newspeak: Minitrue, Minipax, Miniluv, and Miniplenty.\n",
      "🔷 The Ministry of Love was the really frightening one. There were no windows in it at all. Winston had never been inside the Ministry of Love, nor within half a kilometre of it. It was a place impossible to enter except on official business, and then only by penetrating through a maze of barbed-wire entanglements, steel doors, and hidden machine-gun nests. Even the streets leading up to its outer barriers were roamed by gorilla-faced guards in black uniforms, armed with jointed truncheons.\n",
      "Winston turned round abruptly. He had set his features into the expression of quiet optimism which it was advisable to wear when facing the telescreen. He crossed the room into the tiny kitchen. By leaving the Ministry at this time of day he had sacrificed his lunch in the canteen, and he was aware that there was no food in the kitchen except a hunk of dark-coloured bread which had got to be saved for tomorrow's breakfast. He took down from the shelf a bottle of colourless liquid with a plain white label marked VICTORY GIN. It gave off a sickly, oily smell, as of Chinese ricespirit. Winston poured out nearly a teacupful, nerved himself for a shock, and gulped it down like a dose of medicine.\n",
      "Instantly his face turned scarlet and the water ran out of his eyes. The stuff was like nitric acid, and moreover, in swallowing it one had the sensation of being hit on the back of the head with a rubber club. The next moment, however, the burning in his belly died down and the world began to look more cheerful. He took a cigarette from a crumpled packet marked VICTORY CIGARETTES and incautiously held it upright, whereupon the tobacco fell out on to the floor. With the next he was more successful. He went back to the living-room and sat down at a small table that stood to the left of the telescreen. From the table drawer he took out a penholder, a bottle of ink, and a thick, quarto-sized blank book with a red back and a marbled cover.\n",
      "🔷 For some reason the telescreen in the living-room was in an unusual position. Instead of being placed, as was normal, in the end wall, where it could command the whole room, it was in the longer wall, opposite the window. To one side of it there was a shallow alcove in which Winston was now sitting, and which, when the flats were built, had probably been intended to hold bookshelves. By sitting in the alcove, and keeping well back, Winston was able to remain outside the range of the telescreen, so far as sight went. He could be heard, of course, but so long as he stayed in his present position he could not be seen. It was partly the unusual geography of the room that had suggested to him the thing that he was now about to do.\n",
      "But it had also been suggested by the book that he had just taken out of the drawer. It was a peculiarly beautiful book. Its smooth creamy paper, a little yellowed by age, was of a kind that had not been manufactured for at least forty years past. He could guess, however, that the book was much older than that. He had seen it lying in the window of a frowsy little junk-shop in a slummy quarter of the town (just what quarter he did not \n",
      "now remember) and had been stricken immediately by an overwhelming desire to possess it. Party members were supposed not to go into ordinary shops ('dealing on the free market', it was called), but the rule was not strictly kept, because there were various things, such as shoelaces and razor blades, which it was impossible to get hold of in any other way. He had given a quick glance up and down the street and then had slipped inside and bought the book for two dollars fifty. At the time he was not conscious of wanting it for any particular purpose. He had carried it guiltily home in his briefcase. Even with nothing written in it, it was a compromising possession.\n"
     ]
    }
   ],
   "source": [
    "splitter = CharacterTextSplitter.from_tiktoken_encoder(\n",
    "    separator='\\n',\n",
    "    chunk_size=600,\n",
    "    chunk_overlap=100,    \n",
    ")\n",
    "\n",
    "documents = loader.load_and_split(text_splitter=splitter)\n",
    "print(f'💚 {len(documents)} 개')\n",
    "\n",
    "for document in documents[0:5]:\n",
    "  print('🔷', document.page_content)"
   ]
  },
  {
   "cell_type": "markdown",
   "id": "0f2bc082-d9db-47d5-9b0a-6be2b884b1aa",
   "metadata": {},
   "source": [
    "# Vectors"
   ]
  },
  {
   "cell_type": "markdown",
   "id": "fe49e927-85b7-4f98-86cb-7dc769b98a69",
   "metadata": {},
   "source": [
    "https://python.langchain.com/v0.1/docs/modules/data_connection/\n",
    "\n",
    "![](https://python.langchain.com/v0.1/assets/images/data_connection-95ff2033a8faa5f3ba41376c0f6dd32a.jpg)\n"
   ]
  },
  {
   "cell_type": "markdown",
   "id": "31489e2b-14b7-41ba-8948-383ff392603f",
   "metadata": {},
   "source": [
    "## Embedding 과 Vector"
   ]
  },
  {
   "cell_type": "code",
   "execution_count": 45,
   "id": "0af05936-60cb-4de4-82a0-49115e57a53d",
   "metadata": {},
   "outputs": [],
   "source": [
    "# Embedding 은 사람이 읽는 텍스트를 컴퓨터가 이해(연산)할 수 있는 숫자들로 변환하는 작업이다.\n",
    "# 우리가 만든 Document 마다 각각의 벡터를 만들어 주게 될겁니다.\n",
    "# OpenAI 는 크기가 최소 1000차원 이상!의 벡터를 제공해준다."
   ]
  },
  {
   "cell_type": "code",
   "execution_count": 46,
   "id": "88f7a33f-0947-4177-a8c7-99643f9e08bd",
   "metadata": {},
   "outputs": [],
   "source": [
    "\"\"\"\n",
    "3개의 차원을 정의해보자\n",
    "\n",
    "첫번째 차원을 Masculinity (남성성)\n",
    "두번째 차원을 Femininity (여성성)\n",
    "세번째 차원을 Royalty (왕족스러움)\n",
    "\n",
    "이제 특정 단어에 대한 차원 값(점수)를 줘보자\n",
    "\n",
    "        Masculinity | Femininity  | Royalty\n",
    "king  | 0.9         | 0.1         | 1.0\n",
    "queen | 0.1         | 0.9         | 1.0\n",
    "man   | 0.9         | 0.1         | 0.0\n",
    "woman | 0.1         | 0.9         | 0.0\n",
    "\n",
    "이렇게 3차원 벡터에 점수를 매겨 보았다.\n",
    "\n",
    "단어를 이렇게 벡터로 점수를 매기면 연산을 할수 있게 된다.\n",
    "king - man <- 이런거\n",
    "\n",
    "king - man = 0.0    |  0.0       | 1.0 ==> 이러면 'royal' 이 되겠네요 ㅋ\n",
    "\n",
    "royal + woman = 0.1  | 0.9 | 1.0 ==> 이러면 'queen' 이 되겠네요.\n",
    "\n",
    "단어를 숫자화(벡터화) 하니까 의미에 대한 연산이 가능해진다.\n",
    "\n",
    "\"\"\"\n",
    "None\n"
   ]
  },
  {
   "cell_type": "markdown",
   "id": "933808f5-34b6-4807-be31-b8eb708d76c9",
   "metadata": {},
   "source": [
    "![](https://miro.medium.com/v2/resize:fit:2000/1*SYiW1MUZul1NvL1kc1RxwQ.png)"
   ]
  },
  {
   "cell_type": "code",
   "execution_count": 47,
   "id": "b90a8936-3787-4665-ba2c-f18b48c3c142",
   "metadata": {},
   "outputs": [],
   "source": [
    "\"\"\"\n",
    "단어를 입력하면 비슷한 벡터를 가진 단어들을 보여주는 곳. (word2vec)\n",
    "\n",
    "https://turbomaze.github.io/word2vecjson/\n",
    "\"\"\"\n",
    "None"
   ]
  },
  {
   "cell_type": "markdown",
   "id": "b63a279b-572f-4321-9a55-7e96a79182bc",
   "metadata": {},
   "source": [
    "# Vector Store"
   ]
  },
  {
   "cell_type": "markdown",
   "id": "3aeaf961-4cf5-41ae-8c21-95e0024df034",
   "metadata": {},
   "source": [
    "## OpenAIEmbeddings"
   ]
  },
  {
   "cell_type": "code",
   "execution_count": 48,
   "id": "a5ef2263-587f-4d85-860a-93285a7d18f3",
   "metadata": {},
   "outputs": [],
   "source": [
    "from langchain_openai.embeddings.base import OpenAIEmbeddings\n",
    "# https://python.langchain.com/api_reference/openai/embeddings/langchain_openai.embeddings.base.OpenAIEmbeddings.html#langchain_openai.embeddings.base.OpenAIEmbeddings\n",
    "# OpenAI embedding models."
   ]
  },
  {
   "cell_type": "code",
   "execution_count": 49,
   "id": "5bd4f8b6-cd18-4862-92b6-e60ac0895887",
   "metadata": {},
   "outputs": [],
   "source": [
    "embedder = OpenAIEmbeddings()   # OpenAI 의 Embedding model"
   ]
  },
  {
   "cell_type": "code",
   "execution_count": 50,
   "id": "b2a29612-dfc1-4cc5-a2f4-654641636758",
   "metadata": {},
   "outputs": [],
   "source": [
    "\"\"\"\n",
    "OpenAIEmbeddings 를 통해\n",
    " embed_documents()  <- 문서를 embed 하는것 뿐만 아니라\n",
    " embed_query()      <- query 도 embed 하는 것이 가능하다.\n",
    "\"\"\"\n",
    "None"
   ]
  },
  {
   "cell_type": "code",
   "execution_count": 51,
   "id": "ec71fa07-330d-4e54-8e43-48b6f0d3a75f",
   "metadata": {},
   "outputs": [
    {
     "data": {
      "text/plain": [
       "[-0.03629858046770096,\n",
       " -0.007224537897855043,\n",
       " -0.03371885418891907,\n",
       " -0.02866363152861595,\n",
       " -0.02686564065515995,\n",
       " 0.03460482135415077,\n",
       " -0.012318846769630909,\n",
       " -0.007752209436148405,\n",
       " 0.0019380523590371013,\n",
       " -0.0027018729597330093,\n",
       " 0.024781012907624245,\n",
       " -0.002477124100551009,\n",
       " -0.00573272630572319,\n",
       " -0.002905449829995632,\n",
       " 0.006677323020994663,\n",
       " -0.00303248199634254,\n",
       " 0.033849142491817474,\n",
       " -0.001503212028183043,\n",
       " 0.02109382674098015,\n",
       " -0.008996471762657166,\n",
       " -0.02171921543776989,\n",
       " 0.01038405206054449,\n",
       " 0.006244111340492964,\n",
       " 0.007081219926476479,\n",
       " -0.012312332168221474,\n",
       " 0.0008998099947348237,\n",
       " 0.005876044277101755,\n",
       " -0.009888952597975731,\n",
       " -0.0030731973238289356,\n",
       " -0.024572549387812614,\n",
       " 0.010742347687482834,\n",
       " -0.01381065882742405,\n",
       " -0.024429231882095337,\n",
       " -0.01411032397300005,\n",
       " 0.0024347801227122545,\n",
       " -0.018878910690546036,\n",
       " 0.0005618723225779831,\n",
       " -0.011270018294453621,\n",
       " 0.018110202625393867,\n",
       " -0.009967125952243805,\n",
       " 0.01302892342209816,\n",
       " -0.011328648775815964,\n",
       " -0.009133275598287582,\n",
       " -0.009654432535171509,\n",
       " -0.026539916172623634,\n",
       " 0.0070421332493424416,\n",
       " -0.009732605889439583,\n",
       " 0.004781614989042282,\n",
       " -0.016729136928915977,\n",
       " 0.024989474564790726,\n",
       " 0.0035243236925452948,\n",
       " 0.017862653359770775,\n",
       " -0.017328467220067978,\n",
       " -0.004377718083560467,\n",
       " -0.012859547510743141,\n",
       " -0.017927799373865128,\n",
       " -0.004201827570796013,\n",
       " 0.007823868654668331,\n",
       " 0.0025618120562285185,\n",
       " -0.03489145636558533,\n",
       " -0.006788068916648626,\n",
       " 0.015921344980597496,\n",
       " 0.002894049510359764,\n",
       " 0.005784842185676098,\n",
       " -0.003807702800258994,\n",
       " 0.006384172476828098,\n",
       " 0.018917996436357498,\n",
       " 0.005201797466725111,\n",
       " 0.016937600448727608,\n",
       " 0.012859547510743141,\n",
       " 0.027491027489304543,\n",
       " 0.026618091389536858,\n",
       " 0.011426365934312344,\n",
       " -0.009706547483801842,\n",
       " 0.018084146082401276,\n",
       " -0.020989594981074333,\n",
       " -0.0069704740308225155,\n",
       " 0.003719757543876767,\n",
       " -0.013602196238934994,\n",
       " -0.007315740454941988,\n",
       " 0.018409868702292442,\n",
       " -0.015856198966503143,\n",
       " -0.009882437996566296,\n",
       " 0.014996291138231754,\n",
       " 0.020012427121400833,\n",
       " 0.0060714781284332275,\n",
       " -0.012390506453812122,\n",
       " 0.021654071286320686,\n",
       " -0.013419791124761105,\n",
       " -0.0294193085283041,\n",
       " 0.018527129665017128,\n",
       " 0.024416202679276466,\n",
       " -0.0031774286180734634,\n",
       " 0.027126219123601913,\n",
       " -0.019035257399082184,\n",
       " -0.0010561570525169373,\n",
       " -0.022943934425711632,\n",
       " 0.023842928931117058,\n",
       " 0.00759586226195097,\n",
       " 0.0019201375544071198,\n",
       " 0.014175469055771828,\n",
       " 0.019400067627429962,\n",
       " -0.008468800224363804,\n",
       " -0.002338691847398877,\n",
       " -0.01855318620800972,\n",
       " -0.014800856821238995,\n",
       " -0.01972579024732113,\n",
       " -0.0072961971163749695,\n",
       " 0.01933492161333561,\n",
       " 0.0014991405187174678,\n",
       " -0.00719847995787859,\n",
       " 0.023751728236675262,\n",
       " -0.010520855896174908,\n",
       " -0.03731483593583107,\n",
       " -0.007634948939085007,\n",
       " -0.013419791124761105,\n",
       " -0.0017735621659085155,\n",
       " -0.0048174443654716015,\n",
       " -0.012462165206670761,\n",
       " -0.01874862052500248,\n",
       " 0.01895708404481411,\n",
       " 0.011015954427421093,\n",
       " 0.01678125374019146,\n",
       " -0.00166607357095927,\n",
       " 0.014813886024057865,\n",
       " 0.006257140543311834,\n",
       " -0.011895406991243362,\n",
       " -0.020585699006915092,\n",
       " -0.0002626142231747508,\n",
       " 0.006990017369389534,\n",
       " 0.03439635783433914,\n",
       " -0.0035210666246712208,\n",
       " -0.006455831695348024,\n",
       " -0.009107217192649841,\n",
       " -0.024950388818979263,\n",
       " 0.02544548735022545,\n",
       " -0.010325421579182148,\n",
       " 0.02627933770418167,\n",
       " -0.02728256583213806,\n",
       " -0.027178334072232246,\n",
       " -0.0040389662608504295,\n",
       " 0.028090359643101692,\n",
       " 0.0026546430308371782,\n",
       " -0.00936128105968237,\n",
       " -0.021484695374965668,\n",
       " 0.0004694483941420913,\n",
       " -0.009967125952243805,\n",
       " -0.016742166131734848,\n",
       " 0.011354707181453705,\n",
       " -0.0077326660975813866,\n",
       " -0.00020316978043410927,\n",
       " 0.015074464492499828,\n",
       " 0.010468740016222,\n",
       " 0.003553638933226466,\n",
       " 0.006113822106271982,\n",
       " 0.010892179794609547,\n",
       " -0.004260458052158356,\n",
       " 0.004791386425495148,\n",
       " -0.007556775584816933,\n",
       " -0.020064542070031166,\n",
       " -0.007778267376124859,\n",
       " 0.002190487692132592,\n",
       " 0.009113731794059277,\n",
       " -0.01352402288466692,\n",
       " -0.01035799365490675,\n",
       " 0.01196055207401514,\n",
       " 0.014240613207221031,\n",
       " 0.013484935276210308,\n",
       " -2.206264980486594e-05,\n",
       " 0.003869590349495411,\n",
       " 0.025419428944587708,\n",
       " 0.009348252788186073,\n",
       " -0.03390125930309296,\n",
       " 0.005250656045973301,\n",
       " -0.005586151033639908,\n",
       " 0.00681412685662508,\n",
       " 0.013693398796021938,\n",
       " 0.007387399673461914,\n",
       " -0.029758060351014137,\n",
       " -0.04122351482510567,\n",
       " -0.027934011071920395,\n",
       " 0.014761770144104958,\n",
       " 0.026526888832449913,\n",
       " 0.03322375565767288,\n",
       " -0.005459119100123644,\n",
       " 0.012214615941047668,\n",
       " 0.01601254753768444,\n",
       " 0.0014486534055322409,\n",
       " 0.02584938332438469,\n",
       " -0.014957204461097717,\n",
       " 0.014006092213094234,\n",
       " 0.022761529311537743,\n",
       " 0.023595379665493965,\n",
       " -0.01551744807511568,\n",
       " -0.7046041488647461,\n",
       " -0.009309166111052036,\n",
       " 0.02089839242398739,\n",
       " -0.0035634106025099754,\n",
       " 0.012937720865011215,\n",
       " 0.04070235788822174,\n",
       " 0.026943814009428024,\n",
       " 0.013771572150290012,\n",
       " -0.015921344980597496,\n",
       " 0.02965383045375347,\n",
       " 0.010175589472055435,\n",
       " 0.009439455345273018,\n",
       " 0.013497964479029179,\n",
       " -0.0005341858486644924,\n",
       " 0.0067164101637899876,\n",
       " 0.005758784245699644,\n",
       " 0.001008927240036428,\n",
       " -0.0011970322811976075,\n",
       " -0.011986609548330307,\n",
       " -0.0038630757480859756,\n",
       " -0.010051814839243889,\n",
       " 0.012800917029380798,\n",
       " -0.02212311141192913,\n",
       " 0.005921645555645227,\n",
       " 0.009726091288030148,\n",
       " -0.002381035825237632,\n",
       " 0.011914950795471668,\n",
       " -0.01186283491551876,\n",
       " -0.013836716301739216,\n",
       " 0.004358174744993448,\n",
       " -0.018461983650922775,\n",
       " 0.010957324877381325,\n",
       " 0.0033582050818949938,\n",
       " -0.013550080358982086,\n",
       " 0.06139228865504265,\n",
       " -0.007315740454941988,\n",
       " 0.006211539264768362,\n",
       " 0.015439273789525032,\n",
       " 0.00528322858735919,\n",
       " 0.03658521547913551,\n",
       " 0.0009413397056050599,\n",
       " -0.011524083092808723,\n",
       " 3.127450690953992e-05,\n",
       " -0.01037102285772562,\n",
       " 0.015322013758122921,\n",
       " 0.016937600448727608,\n",
       " -0.008631661534309387,\n",
       " 0.003843532409518957,\n",
       " 0.005312543362379074,\n",
       " 0.00387936201877892,\n",
       " 0.006608921568840742,\n",
       " 0.0058174142614007,\n",
       " -0.012305818498134613,\n",
       " 0.02629236690700054,\n",
       " 0.004384232684969902,\n",
       " 1.820741090341471e-05,\n",
       " 0.021484695374965668,\n",
       " -0.012377477250993252,\n",
       " 0.0022816902492195368,\n",
       " 0.01583014242351055,\n",
       " 0.00037763520958833396,\n",
       " -0.006507947109639645,\n",
       " -0.013289501890540123,\n",
       " -0.0012304189149290323,\n",
       " -0.02549760229885578,\n",
       " 0.0044917212799191475,\n",
       " -0.0171851497143507,\n",
       " -0.010032271035015583,\n",
       " -0.005218083970248699,\n",
       " 0.0035666676703840494,\n",
       " -0.013589167036116123,\n",
       " 0.013693398796021938,\n",
       " -0.01472268346697092,\n",
       " -0.00719847995787859,\n",
       " 0.018996169790625572,\n",
       " 0.0331716388463974,\n",
       " 0.013875802978873253,\n",
       " -0.02545851655304432,\n",
       " -0.016898512840270996,\n",
       " 0.0005940374685451388,\n",
       " 0.00023655638506170362,\n",
       " -0.006390687078237534,\n",
       " -0.004869560245424509,\n",
       " -0.01799294352531433,\n",
       " 0.03491751477122307,\n",
       " -0.030644027516245842,\n",
       " -0.02803824283182621,\n",
       " 0.0028403052128851414,\n",
       " -0.0009950840612873435,\n",
       " 0.008358054794371128,\n",
       " 0.00849485769867897,\n",
       " 0.046721719205379486,\n",
       " 0.006237597204744816,\n",
       " -0.009120246395468712,\n",
       " 0.0070095607079565525,\n",
       " 0.00030719759524799883,\n",
       " -0.030070755630731583,\n",
       " 0.01992122456431389,\n",
       " -0.004999849479645491,\n",
       " -0.024781012907624245,\n",
       " -0.0014616823755204678,\n",
       " -0.008051875047385693,\n",
       " -0.0030210816767066717,\n",
       " -0.0028126188553869724,\n",
       " 0.021784359589219093,\n",
       " 0.009322194382548332,\n",
       " -0.026162078604102135,\n",
       " 0.03848743811249733,\n",
       " 0.029106615111231804,\n",
       " -0.02149772271513939,\n",
       " -0.006185481324791908,\n",
       " 0.0015984860947355628,\n",
       " -0.011432880535721779,\n",
       " 0.012820460833609104,\n",
       " 0.007667521480470896,\n",
       " -0.034240011125802994,\n",
       " -0.016677021980285645,\n",
       " 0.0171851497143507,\n",
       " 0.02050752565264702,\n",
       " -0.02824670635163784,\n",
       " -0.0003774316282942891,\n",
       " -0.00035198451951146126,\n",
       " 0.02109382674098015,\n",
       " -0.015908315777778625,\n",
       " 0.006537262350320816,\n",
       " 0.023334801197052002,\n",
       " -0.005788099020719528,\n",
       " 0.0072961971163749695,\n",
       " -0.020025454461574554,\n",
       " 0.005472147837281227,\n",
       " 0.019634587690234184,\n",
       " -0.009302651509642601,\n",
       " 0.009960612282156944,\n",
       " -0.009335223585367203,\n",
       " 0.015686823055148125,\n",
       " -0.011888892389833927,\n",
       " 0.010032271035015583,\n",
       " -0.017302410677075386,\n",
       " -0.005670838989317417,\n",
       " -0.0018729077419266105,\n",
       " -0.0010081129148602486,\n",
       " 0.0195173267275095,\n",
       " -0.008436228148639202,\n",
       " -0.019647616893053055,\n",
       " -0.004814187064766884,\n",
       " -0.02075507491827011,\n",
       " -0.017067888751626015,\n",
       " -0.005810899659991264,\n",
       " -0.013061495497822762,\n",
       " 0.0014234099071472883,\n",
       " 0.0015691709704697132,\n",
       " 0.009257050231099129,\n",
       " -0.0039998795837163925,\n",
       " 0.019803963601589203,\n",
       " 0.0355689600110054,\n",
       " 9.008278721012175e-05,\n",
       " 0.004156226757913828,\n",
       " -0.016129806637763977,\n",
       " -0.028142474591732025,\n",
       " -0.010514341294765472,\n",
       " -0.00997364055365324,\n",
       " 0.03137364611029625,\n",
       " -0.013120125979185104,\n",
       " -0.005045450758188963,\n",
       " -0.00809096172451973,\n",
       " -0.024051392450928688,\n",
       " 0.0035145520232617855,\n",
       " 0.008130048401653767,\n",
       " -0.004100853577256203,\n",
       " -0.03650704398751259,\n",
       " 0.021237144246697426,\n",
       " -0.016051633283495903,\n",
       " -0.022136140614748,\n",
       " 0.014006092213094234,\n",
       " 0.015673795714974403,\n",
       " -0.00048247730592265725,\n",
       " -0.013967005535960197,\n",
       " 0.01095081027597189,\n",
       " 0.003977078944444656,\n",
       " -0.03040950745344162,\n",
       " 0.02785583771765232,\n",
       " -0.001258105388842523,\n",
       " -0.008240793831646442,\n",
       " 0.018904967233538628,\n",
       " 0.021784359589219093,\n",
       " 0.0035634106025099754,\n",
       " 0.020338149741292,\n",
       " 0.027491027489304543,\n",
       " -0.008664233610033989,\n",
       " 0.011471967212855816,\n",
       " 0.0072180237621068954,\n",
       " 0.007843411527574062,\n",
       " -0.029549598693847656,\n",
       " 0.0004771843086928129,\n",
       " 0.012677142396569252,\n",
       " 0.017667220905423164,\n",
       " 0.01695062965154648,\n",
       " -0.004175770096480846,\n",
       " 0.008599089458584785,\n",
       " 0.02467678114771843,\n",
       " 0.02569303661584854,\n",
       " 0.007185451220721006,\n",
       " 0.030904605984687805,\n",
       " -0.021614983677864075,\n",
       " -0.013367675244808197,\n",
       " -0.009843351319432259,\n",
       " -0.0031155413016676903,\n",
       " -0.005032421555370092,\n",
       " 0.02212311141192913,\n",
       " 0.013061495497822762,\n",
       " 0.0008163434686139226,\n",
       " -0.013497964479029179,\n",
       " -0.008683777414262295,\n",
       " 0.006420001853257418,\n",
       " 0.019634587690234184,\n",
       " 0.020299062132835388,\n",
       " 0.002216545632109046,\n",
       " 0.006553548388183117,\n",
       " -0.016650963574647903,\n",
       " -0.008318967185914516,\n",
       " 0.00340706342831254,\n",
       " -0.01422758400440216,\n",
       " 0.002604156034067273,\n",
       " -0.00819519255310297,\n",
       " 0.0044526346027851105,\n",
       " 0.029523540288209915,\n",
       " 0.00837759766727686,\n",
       " 0.02565395087003708,\n",
       " 0.0035796966403722763,\n",
       " -0.007954157888889313,\n",
       " -0.001089543686248362,\n",
       " 0.011901921592652798,\n",
       " -0.002395693212747574,\n",
       " 0.004068281501531601,\n",
       " -0.008963899686932564,\n",
       " -0.007517688907682896,\n",
       " 0.006087764631956816,\n",
       " -0.024325000122189522,\n",
       " 0.029888350516557693,\n",
       " -0.020442381501197815,\n",
       " -0.004296287428587675,\n",
       " 0.020429352298378944,\n",
       " 0.02902844175696373,\n",
       " -0.025002503767609596,\n",
       " 0.012501251883804798,\n",
       " 0.01954338513314724,\n",
       " 0.006742467638105154,\n",
       " 0.0017589046619832516,\n",
       " 0.025158850476145744,\n",
       " 0.022396719083189964,\n",
       " 0.0069379014894366264,\n",
       " 0.006801098119467497,\n",
       " -0.009165847674012184,\n",
       " 0.004514521919190884,\n",
       " 0.005332086700946093,\n",
       " -0.016468558460474014,\n",
       " -0.018032029271125793,\n",
       " 0.014084266498684883,\n",
       " 0.006996531970798969,\n",
       " 0.023986248299479485,\n",
       " -0.014462104998528957,\n",
       " 0.018514100462198257,\n",
       " 0.010677202604711056,\n",
       " -0.012064782902598381,\n",
       " 0.007472087629139423,\n",
       " 0.0005427360883913934,\n",
       " -0.002643242944031954,\n",
       " -0.01774539425969124,\n",
       " 0.00691184401512146,\n",
       " -0.0025471544358879328,\n",
       " 0.008546973578631878,\n",
       " -0.0006319027743302286,\n",
       " 0.026995928958058357,\n",
       " -0.013758542947471142,\n",
       " 0.024807069450616837,\n",
       " 0.015621678903698921,\n",
       " 0.0038630757480859756,\n",
       " 0.007954157888889313,\n",
       " -0.01775842346251011,\n",
       " -0.00940036866813898,\n",
       " -0.02368658222258091,\n",
       " -0.03296317532658577,\n",
       " 0.010123473592102528,\n",
       " 0.011491510085761547,\n",
       " -0.009270079433918,\n",
       " -0.00775872403755784,\n",
       " -0.043516602367162704,\n",
       " -5.4507723689312115e-05,\n",
       " -0.00030780831002630293,\n",
       " 0.021588925272226334,\n",
       " -0.006068221293389797,\n",
       " 0.004905389621853828,\n",
       " 0.014540278352797031,\n",
       " -0.013771572150290012,\n",
       " -0.013745513744652271,\n",
       " 0.011498024687170982,\n",
       " 0.037992339581251144,\n",
       " -0.003856561379507184,\n",
       " -0.011439395137131214,\n",
       " -6.98268850101158e-05,\n",
       " 0.007419971749186516,\n",
       " 0.01224718801677227,\n",
       " 0.00721150916069746,\n",
       " -0.015100521966814995,\n",
       " -0.005885816179215908,\n",
       " 0.012077812105417252,\n",
       " -0.016299182549118996,\n",
       " -0.019139489158988,\n",
       " -0.006807612255215645,\n",
       " -0.002827276475727558,\n",
       " -0.003371233819052577,\n",
       " 0.01027330569922924,\n",
       " -0.0029363937210291624,\n",
       " 0.006788068916648626,\n",
       " 0.0038923907559365034,\n",
       " 0.02091142162680626,\n",
       " -0.011458938010036945,\n",
       " -0.007706608157604933,\n",
       " 0.011172302067279816,\n",
       " -0.023048166185617447,\n",
       " -0.007576318923383951,\n",
       " -0.01936098001897335,\n",
       " -0.010090901516377926,\n",
       " 0.0076219202019274235,\n",
       " 0.0777566134929657,\n",
       " 0.02565395087003708,\n",
       " -0.011569684371352196,\n",
       " -0.004508007317781448,\n",
       " 0.009817293845117092,\n",
       " 0.024364085868000984,\n",
       " -0.0029771090485155582,\n",
       " -0.014866001904010773,\n",
       " -0.000859094609040767,\n",
       " -0.016520675271749496,\n",
       " 0.005188768729567528,\n",
       " -0.010677202604711056,\n",
       " -0.016677021980285645,\n",
       " 0.017615104094147682,\n",
       " 0.011419851332902908,\n",
       " -0.009745635092258453,\n",
       " 0.008540458977222443,\n",
       " -0.0067229242995381355,\n",
       " 0.008983442559838295,\n",
       " 0.008918298408389091,\n",
       " 0.001660373411141336,\n",
       " -0.009393854066729546,\n",
       " 0.00820822175592184,\n",
       " 0.020403293892741203,\n",
       " 0.02014271542429924,\n",
       " -0.006410230416804552,\n",
       " 0.009843351319432259,\n",
       " 0.02707410231232643,\n",
       " -0.002793075516819954,\n",
       " -0.006853213533759117,\n",
       " -0.00410411087796092,\n",
       " 0.004898875020444393,\n",
       " 0.006338571198284626,\n",
       " 0.015413216315209866,\n",
       " 0.016898512840270996,\n",
       " 0.011172302067279816,\n",
       " -0.01661187782883644,\n",
       " 0.016077691689133644,\n",
       " 0.015556534752249718,\n",
       " -0.0032653738744556904,\n",
       " 0.009504599496722221,\n",
       " 0.006012848112732172,\n",
       " 0.009830323047935963,\n",
       " -0.016898512840270996,\n",
       " 0.0033354044426232576,\n",
       " -0.012996351346373558,\n",
       " -0.012611998245120049,\n",
       " 0.019491270184516907,\n",
       " 0.0006795398076064885,\n",
       " 0.0012475193943828344,\n",
       " 0.019660646095871925,\n",
       " -0.00498682027682662,\n",
       " -0.022657297551631927,\n",
       " -0.016742166131734848,\n",
       " 0.002244231989607215,\n",
       " 0.014748740941286087,\n",
       " -0.013745513744652271,\n",
       " -0.010175589472055435,\n",
       " -0.010494797490537167,\n",
       " 0.011146243661642075,\n",
       " -0.0119344936683774,\n",
       " -0.014514220878481865,\n",
       " 0.0005366287659853697,\n",
       " 0.009413396939635277,\n",
       " -0.03530838340520859,\n",
       " -0.03866984322667122,\n",
       " -0.00997364055365324,\n",
       " -0.0008607232593931258,\n",
       " -0.009159333072602749,\n",
       " 0.007055161986500025,\n",
       " -0.007133335340768099,\n",
       " -0.001617215108126402,\n",
       " -0.0014926260337233543,\n",
       " -0.0024494375102221966,\n",
       " 0.0018468499183654785,\n",
       " 0.02170618623495102,\n",
       " 0.006742467638105154,\n",
       " -0.01442301832139492,\n",
       " 0.028924209997057915,\n",
       " 0.008859667927026749,\n",
       " -0.002078113378956914,\n",
       " -0.027569202706217766,\n",
       " 0.01382368803024292,\n",
       " -0.014032150618731976,\n",
       " -0.0012173900613561273,\n",
       " -5.1174149120924994e-05,\n",
       " -0.011980094946920872,\n",
       " 0.0020732274278998375,\n",
       " -0.002431522822007537,\n",
       " 0.012559882365167141,\n",
       " 0.024129565805196762,\n",
       " 0.0037132431752979755,\n",
       " 0.005983532872051001,\n",
       " 0.007530717644840479,\n",
       " 0.0036546129267662764,\n",
       " -0.011602256447076797,\n",
       " 0.012898634187877178,\n",
       " -0.002280061598867178,\n",
       " -0.01490508858114481,\n",
       " -0.00798021536320448,\n",
       " 0.0022621469106525183,\n",
       " -0.012136442586779594,\n",
       " -0.010045300237834454,\n",
       " -0.013419791124761105,\n",
       " 0.01472268346697092,\n",
       " 0.0006697680801153183,\n",
       " 0.0027491028886288404,\n",
       " 0.013354646041989326,\n",
       " 0.001718189218081534,\n",
       " 0.002455952111631632,\n",
       " 0.022175228223204613,\n",
       " -0.022631239145994186,\n",
       " 0.007413457613438368,\n",
       " -0.007107277866452932,\n",
       " 0.0006200953503139317,\n",
       " 0.01917857490479946,\n",
       " -0.003092740662395954,\n",
       " 0.029549598693847656,\n",
       " -0.03139970451593399,\n",
       " -0.018605303019285202,\n",
       " 0.007022589910775423,\n",
       " -0.03335404396057129,\n",
       " 0.01364128291606903,\n",
       " 0.0075828335247933865,\n",
       " 0.003056911053135991,\n",
       " -0.0037002142053097486,\n",
       " 0.01226021721959114,\n",
       " -0.011797689832746983,\n",
       " 0.011374250054359436,\n",
       " 0.005563350394368172,\n",
       " 0.0008073861245065928,\n",
       " 0.029132673516869545,\n",
       " -0.00563175231218338,\n",
       " -0.02016877382993698,\n",
       " -0.026969870552420616,\n",
       " -0.003641584189608693,\n",
       " -0.006205024663358927,\n",
       " -0.004517779219895601,\n",
       " -0.026318425312638283,\n",
       " -0.03377097100019455,\n",
       " -0.03460482135415077,\n",
       " -0.009042073041200638,\n",
       " 0.010247248224914074,\n",
       " -0.027777664363384247,\n",
       " -0.019009198993444443,\n",
       " -0.05076068639755249,\n",
       " -0.005452604498714209,\n",
       " 0.007426486350595951,\n",
       " -0.00046171247959136963,\n",
       " 0.0025357541162520647,\n",
       " -0.011380764655768871,\n",
       " 0.010820521041750908,\n",
       " -0.025328226387500763,\n",
       " -0.03356250748038292,\n",
       " -0.010331936180591583,\n",
       " -0.02879391983151436,\n",
       " -0.006944416090846062,\n",
       " 0.005687125027179718,\n",
       " 0.03530838340520859,\n",
       " 0.021172000095248222,\n",
       " 0.010468740016222,\n",
       " 0.004416805226355791,\n",
       " 0.013367675244808197,\n",
       " -0.004706698469817638,\n",
       " 0.01835775375366211,\n",
       " 0.007068190723657608,\n",
       " 0.002944536739960313,\n",
       " -0.00681412685662508,\n",
       " -0.0069313873536884785,\n",
       " 0.01242959313094616,\n",
       " 0.012084326706826687,\n",
       " 0.03549078851938248,\n",
       " -0.0021742016542702913,\n",
       " -0.0025210967287421227,\n",
       " 0.007498145569115877,\n",
       " 0.015048406086862087,\n",
       " -0.0034656936768442392,\n",
       " -0.01005832850933075,\n",
       " -0.00548191973939538,\n",
       " -0.02016877382993698,\n",
       " 0.003255602205172181,\n",
       " -0.007875984534621239,\n",
       " -0.0044526346027851105,\n",
       " 0.01698971539735794,\n",
       " 0.012357933446764946,\n",
       " -0.01224718801677227,\n",
       " 0.042786985635757446,\n",
       " 0.013445848599076271,\n",
       " 0.030696144327521324,\n",
       " 0.0033419188112020493,\n",
       " 0.0252891406416893,\n",
       " -0.004902132321149111,\n",
       " 0.025419428944587708,\n",
       " 0.016833368688821793,\n",
       " 0.013771572150290012,\n",
       " 0.02707410231232643,\n",
       " -0.01381065882742405,\n",
       " -0.02978411875665188,\n",
       " -0.010989896953105927,\n",
       " 0.012670627795159817,\n",
       " 0.0006245740223675966,\n",
       " 0.020833248272538185,\n",
       " -0.025914529338479042,\n",
       " 0.0056350091472268105,\n",
       " -0.005791356321424246,\n",
       " 0.030852491036057472,\n",
       " -0.0026986156590282917,\n",
       " -0.010351479984819889,\n",
       " -0.009120246395468712,\n",
       " -0.0015504418406635523,\n",
       " -0.006097536068409681,\n",
       " -0.0201166570186615,\n",
       " -0.01834472455084324,\n",
       " -0.013836716301739216,\n",
       " 0.008201707154512405,\n",
       " -0.015087493695318699,\n",
       " -0.013178756460547447,\n",
       " 0.03629858046770096,\n",
       " -0.02134137600660324,\n",
       " -0.012853032909333706,\n",
       " -0.01176511775702238,\n",
       " -0.0024624664802104235,\n",
       " 0.025771209970116615,\n",
       " -0.003644841257482767,\n",
       " 0.01794082671403885,\n",
       " 0.01679428294301033,\n",
       " -0.012983322143554688,\n",
       " -0.025145821273326874,\n",
       " -0.003599239978939295,\n",
       " -0.004996592178940773,\n",
       " -0.007804325316101313,\n",
       " 0.028767863288521767,\n",
       " -0.001817534794099629,\n",
       " 0.01392791885882616,\n",
       " -0.023947160691022873,\n",
       " 0.002314262557774782,\n",
       " -0.004494978580623865,\n",
       " -0.00947202742099762,\n",
       " -0.013113611377775669,\n",
       " 0.021263202652335167,\n",
       " 0.018058087676763535,\n",
       " -0.007120306603610516,\n",
       " -0.02607087604701519,\n",
       " 0.003797931130975485,\n",
       " -0.020220888778567314,\n",
       " 0.016077691689133644,\n",
       " 0.005553578492254019,\n",
       " -0.008286395110189915,\n",
       " -0.010644630528986454,\n",
       " 0.004068281501531601,\n",
       " -0.013940948061645031,\n",
       " 0.014436047524213791,\n",
       " -0.017432698979973793,\n",
       " 0.014240613207221031,\n",
       " 0.030331334099173546,\n",
       " -0.01095081027597189,\n",
       " -0.00949157029390335,\n",
       " 0.005012878216803074,\n",
       " -0.0024640951305627823,\n",
       " 0.010019241832196712,\n",
       " 0.00760889146476984,\n",
       " 0.015035377815365791,\n",
       " -0.009244021028280258,\n",
       " 0.005012878216803074,\n",
       " -0.0013126640114933252,\n",
       " -0.010931266471743584,\n",
       " -0.03038344904780388,\n",
       " -0.005654552951455116,\n",
       " 0.006996531970798969,\n",
       " 0.02707410231232643,\n",
       " -0.01655976101756096,\n",
       " 0.011478481814265251,\n",
       " 0.0067164101637899876,\n",
       " 0.0066447509452700615,\n",
       " 0.016442501917481422,\n",
       " -0.0030764546245336533,\n",
       " -0.01382368803024292,\n",
       " -0.023009078577160835,\n",
       " -0.014566336758434772,\n",
       " -0.004423319362103939,\n",
       " 0.04320390895009041,\n",
       " -0.001892451080493629,\n",
       " -0.018475012853741646,\n",
       " -0.007726151496171951,\n",
       " -0.025015532970428467,\n",
       " -0.02962777204811573,\n",
       " -0.03734089434146881,\n",
       " 0.0028598487842828035,\n",
       " 0.006403715815395117,\n",
       " -0.024142595008015633,\n",
       " -0.017445728182792664,\n",
       " -0.017732365056872368,\n",
       " 0.00641348771750927,\n",
       " 0.01856621541082859,\n",
       " 0.007413457613438368,\n",
       " -0.023204512894153595,\n",
       " 0.019504297524690628,\n",
       " 0.01814929023385048,\n",
       " -0.015400187112390995,\n",
       " 0.007237567100673914,\n",
       " 0.002879392122849822,\n",
       " -0.011445908807218075,\n",
       " -0.038643788546323776,\n",
       " 0.017654191702604294,\n",
       " 0.006827156059443951,\n",
       " -0.020077571272850037,\n",
       " 0.0024673524312675,\n",
       " -0.00936128105968237,\n",
       " -0.01857924461364746,\n",
       " 0.001718189218081534,\n",
       " 0.005413517821580172,\n",
       " 0.011380764655768871,\n",
       " 0.003273516893386841,\n",
       " 0.003156256629154086,\n",
       " -0.006498175673186779,\n",
       " 0.013706427067518234,\n",
       " -0.00039208916132338345,\n",
       " 0.0043321168050169945,\n",
       " -0.012416563928127289,\n",
       " 0.008729378692805767,\n",
       " -0.0018077631248161197,\n",
       " 0.009406882338225842,\n",
       " -0.011256990022957325,\n",
       " -0.01362825371325016,\n",
       " 0.016663992777466774,\n",
       " -0.014175469055771828,\n",
       " 0.01721120811998844,\n",
       " 0.011621799319982529,\n",
       " -0.01993425190448761,\n",
       " 0.00819519255310297,\n",
       " 0.01037102285772562,\n",
       " 0.008169135078787804,\n",
       " -0.008266852237284184,\n",
       " 0.000710483465809375,\n",
       " 0.0005895587964914739,\n",
       " -0.01580408401787281,\n",
       " -0.01893102563917637,\n",
       " -0.005853243637830019,\n",
       " 0.014813886024057865,\n",
       " -0.005921645555645227,\n",
       " 0.014462104998528957,\n",
       " 0.001881050760857761,\n",
       " -0.009921525605022907,\n",
       " 0.02134137600660324,\n",
       " -0.0006913472316227853,\n",
       " -0.008573031984269619,\n",
       " 0.008996471762657166,\n",
       " -0.008221250958740711,\n",
       " -0.009452483616769314,\n",
       " -0.0012344905408099294,\n",
       " -0.014826915226876736,\n",
       " 0.024246826767921448,\n",
       " 0.02801218442618847,\n",
       " -0.015335042960941792,\n",
       " -0.014618451707065105,\n",
       " 0.0047685857862234116,\n",
       " -0.009680490009486675,\n",
       " 0.002633471041917801,\n",
       " -0.00889224000275135,\n",
       " 0.004182284232228994,\n",
       " 0.01975184865295887,\n",
       " 0.018839823082089424,\n",
       " 0.008514401502907276,\n",
       " 0.01736755482852459,\n",
       " -0.014344844967126846,\n",
       " 0.010657659731805325,\n",
       " -0.02055964060127735,\n",
       " -0.018201405182480812,\n",
       " 0.008345025591552258,\n",
       " 0.0029510511085391045,\n",
       " 0.013888832181692123,\n",
       " -0.0159864891320467,\n",
       " -0.017445728182792664,\n",
       " -0.02523702383041382,\n",
       " 0.017054861411452293,\n",
       " -0.004749042447656393,\n",
       " -0.02170618623495102,\n",
       " 0.012286274693906307,\n",
       " -0.013758542947471142,\n",
       " -0.009745635092258453,\n",
       " -0.012807431630790234,\n",
       " 0.012188557535409927,\n",
       " -0.021862532943487167,\n",
       " -0.006775040179491043,\n",
       " 0.03668944910168648,\n",
       " -0.016937600448727608,\n",
       " -0.01116578746587038,\n",
       " 0.009413396939635277,\n",
       " -0.03283288702368736,\n",
       " 0.009204934351146221,\n",
       " -0.020702959969639778,\n",
       " -0.0037360438145697117,\n",
       " -0.00380444573238492,\n",
       " 0.008312453515827656,\n",
       " -0.00159115728456527,\n",
       " 0.005742498207837343,\n",
       " 0.010872636921703815,\n",
       " -0.02427288517355919,\n",
       " 0.018279580399394035,\n",
       " 0.010690231807529926,\n",
       " -0.009524143300950527,\n",
       " 0.03575136512517929,\n",
       " -0.006807612255215645,\n",
       " 0.002569955075159669,\n",
       " -0.017458757385611534,\n",
       " 0.011993124149739742,\n",
       " -0.006022620014846325,\n",
       " -0.011439395137131214,\n",
       " 0.02227945812046528,\n",
       " -0.013993063941597939,\n",
       " -0.01411032397300005,\n",
       " -0.030904605984687805,\n",
       " -0.013862774707376957,\n",
       " -0.028585458174347878,\n",
       " -0.0027605032082647085,\n",
       " -0.019191604107618332,\n",
       " -0.016820339486002922,\n",
       " -0.017667220905423164,\n",
       " 0.020038483664393425,\n",
       " 0.002205145312473178,\n",
       " -0.019061315804719925,\n",
       " -0.0014144524466246367,\n",
       " -0.01872256211936474,\n",
       " -0.021419549360871315,\n",
       " -0.0033109751529991627,\n",
       " -0.016116777434945107,\n",
       " 0.020246947184205055,\n",
       " 0.014188497327268124,\n",
       " 0.0017019030638039112,\n",
       " 0.014136381447315216,\n",
       " -0.018253521993756294,\n",
       " -0.01897011324763298,\n",
       " 0.0012760201934725046,\n",
       " 0.012820460833609104,\n",
       " -0.004830473568290472,\n",
       " 0.024012306705117226,\n",
       " 0.22555671632289886,\n",
       " -0.011686944402754307,\n",
       " -0.01104852743446827,\n",
       " 0.0481809601187706,\n",
       " 0.013732485473155975,\n",
       " 0.01361522451043129,\n",
       " 0.02644871361553669,\n",
       " 0.009217963553965092,\n",
       " -0.0064460597932338715,\n",
       " 0.021445607766509056,\n",
       " -0.01738058403134346,\n",
       " 0.0036643845960497856,\n",
       " -0.011289562098681927,\n",
       " 0.011198359541594982,\n",
       " 0.009628374129533768,\n",
       " -0.002252375241369009,\n",
       " -0.032885003834962845,\n",
       " -0.01817534863948822,\n",
       " -0.023256627842783928,\n",
       " -0.022774558514356613,\n",
       " -0.011198359541594982,\n",
       " -0.007752209436148405,\n",
       " -0.02605784684419632,\n",
       " 0.012911663390696049,\n",
       " 0.038617730140686035,\n",
       " 3.473531251074746e-05,\n",
       " -0.013406761921942234,\n",
       " 0.010129988193511963,\n",
       " 0.012840003706514835,\n",
       " -0.0009763549314811826,\n",
       " -0.01382368803024292,\n",
       " -0.032259613275527954,\n",
       " 0.008657719939947128,\n",
       " 0.019204633310437202,\n",
       " -0.00030455109663307667,\n",
       " -0.0031546279788017273,\n",
       " 0.008859667927026749,\n",
       " 0.012397021055221558,\n",
       " 0.018253521993756294,\n",
       " 0.0003053653927054256,\n",
       " -0.014696625992655754,\n",
       " 0.0008680520113557577,\n",
       " 0.002703501610085368,\n",
       " -0.025914529338479042,\n",
       " -0.00975866336375475,\n",
       " 0.0014991405187174678,\n",
       " ...]"
      ]
     },
     "execution_count": 51,
     "metadata": {},
     "output_type": "execute_result"
    }
   ],
   "source": [
    "vector = embedder.embed_query(\"Hi\")\n",
    "vector  # -> \"Hi\" 에 대한 벡터를 받아온다 -> List[Float]"
   ]
  },
  {
   "cell_type": "code",
   "execution_count": 52,
   "id": "50d60096-b225-43ca-adfd-04fc1af95be2",
   "metadata": {},
   "outputs": [
    {
     "data": {
      "text/plain": [
       "1536"
      ]
     },
     "execution_count": 52,
     "metadata": {},
     "output_type": "execute_result"
    }
   ],
   "source": [
    "len(vector)  # 1536차원! <- 각 토큰마다 1536 크기의 차원을 갖는다!"
   ]
  },
  {
   "cell_type": "code",
   "execution_count": 53,
   "id": "b1fdae77-5553-4cd3-9013-d7fe2017bc58",
   "metadata": {},
   "outputs": [],
   "source": [
    "# document 를 embed 해보자\n",
    "vectors = embedder.embed_documents([\n",
    "    \"hi\",\n",
    "    \"how are you\",\n",
    "    \"good to meet you\",\n",
    "]) # -> List[List[Float]]"
   ]
  },
  {
   "cell_type": "code",
   "execution_count": 54,
   "id": "07fcd269-63d2-4bc9-b3c3-a67e60ca4424",
   "metadata": {},
   "outputs": [
    {
     "data": {
      "text/plain": [
       "3"
      ]
     },
     "execution_count": 54,
     "metadata": {},
     "output_type": "execute_result"
    }
   ],
   "source": [
    "len(vectors)"
   ]
  },
  {
   "cell_type": "code",
   "execution_count": 55,
   "id": "bab2ce58-b12f-4406-afc7-000fc8781f73",
   "metadata": {},
   "outputs": [
    {
     "name": "stdout",
     "output_type": "stream",
     "text": [
      "1536\n",
      "1536\n",
      "1536\n"
     ]
    }
   ],
   "source": [
    "for vector in vectors:\n",
    "    print(len(vector))"
   ]
  },
  {
   "cell_type": "code",
   "execution_count": 56,
   "id": "eef5b9c0-8de7-403c-8a6b-92fd05f74bfa",
   "metadata": {},
   "outputs": [],
   "source": [
    "\"\"\"\n",
    "이제 실제 우리 문서를 embed 해보자\n",
    "\n",
    "직접 embed_documents() 를 호출하진 않을거다\n",
    "코드를 실행할때마다 '매번' 문서 embedding 을 반복해서 수행하는건 매우 비효율적이다\n",
    " => 시간 소요 + ㄴ또한 비용 지출\n",
    "\n",
    "대신! 그 embeded 된 결과들을 '저장'해 줄겁니다.\n",
    "LangChain 은 embedding 한것들을 캐싱하는 기능을 제공해준다\n",
    "\n",
    "Document는 이와 같이 한번만 embedding 해주는게 좋다. (Document 가 변경되지 않는한.)\n",
    "\"\"\"\n",
    "None"
   ]
  },
  {
   "cell_type": "markdown",
   "id": "b08e0a33-88f3-49a5-9e8e-4aaaf5b8388b",
   "metadata": {},
   "source": [
    "## Vector Store 란?"
   ]
  },
  {
   "cell_type": "code",
   "execution_count": 57,
   "id": "a27ca18a-7b0d-42c7-93e3-84d72db3f894",
   "metadata": {},
   "outputs": [],
   "source": [
    "# 벡터들을 저장하는 일종의 저장소\n",
    "\n",
    "# 일단 벡터를 만들고 나서, 그것들을 캐시해주고, vector store 에 넣어주면,\n",
    "# 우리가 검색을 할수 있다.\n",
    "# 그리하여, 관련있는 문서들만 찾아낼수 있게 되는 거다\n",
    "\n",
    "# 랭체인은 다양한 vector store 를 제공한다,  어떤거는 cloud 형태이고, 어떤건 유료이기도 하다.\n",
    "\n",
    "# 우리는 예제에서 무료로 사용할수 있고 로컬로 저장되는 Chroma 라는 것을 사용해볼겁니다"
   ]
  },
  {
   "cell_type": "code",
   "execution_count": 58,
   "id": "b30a6f2c-15a3-43af-8fd1-73f24f422006",
   "metadata": {},
   "outputs": [],
   "source": [
    "# 로컬 지원 벡터 스토어 : Chroma, FAISS...\n",
    "# 클라우드 벡터 스토어 : pinecone..."
   ]
  },
  {
   "cell_type": "markdown",
   "id": "1686cf26-892b-4ad7-8961-53450c94dfe8",
   "metadata": {},
   "source": [
    "## Chroma vector store"
   ]
  },
  {
   "cell_type": "code",
   "execution_count": 59,
   "id": "d0dace4c-6c3f-46d4-b8e5-6c7f090b5e25",
   "metadata": {},
   "outputs": [],
   "source": [
    "# v0.3\n",
    "from langchain_community.vectorstores.chroma import Chroma\n",
    "# https://python.langchain.com/api_reference/community/vectorstores/langchain_community.vectorstores.chroma.Chroma.html\n",
    "# https://python.langchain.com/docs/integrations/vectorstores/chroma/\n",
    "\n",
    "# ChromaDB vector store.\n",
    "# To use, you should have the chromadb python package installed.\n"
   ]
  },
  {
   "cell_type": "code",
   "execution_count": 60,
   "id": "c678732c-fa9d-4f05-b003-12177f29a40f",
   "metadata": {},
   "outputs": [],
   "source": [
    "# ↓이 ChromaDB 에 'split 된 문서' 와 'OpenAI embedding model' 을 전달해야 한다\n",
    "\n",
    "# OpenAIEmbeddings 의 옵션에 model= 이 있다. 여기에 원하는 모델 지정가능 (지정안하면 default 동작)\n",
    "\n",
    "# ★ embedding 모델을 사용하는것도 비용이 발생한다!\n",
    "\n",
    "# 참고) OpenAI 사에서 제공하는 embedding 모델 정보\n",
    "#   https://platform.openai.com/docs/guides/embeddings\n",
    "#   2025.1 현재 : text-embedding-3-small 과 text-embedding-3-large 이 최신 임베딩모델"
   ]
  },
  {
   "cell_type": "code",
   "execution_count": 61,
   "id": "73367979-e5f4-42e5-862a-2966e778e855",
   "metadata": {},
   "outputs": [],
   "source": [
    "splitter = CharacterTextSplitter.from_tiktoken_encoder(\n",
    "    separator='\\n',\n",
    "    chunk_size=600,\n",
    "    chunk_overlap=100,    \n",
    ")\n",
    "\n",
    "documents = loader.load_and_split(text_splitter=splitter)\n",
    "\n",
    "# embedding 모델 \n",
    "embeddings = OpenAIEmbeddings()\n",
    "\n",
    "# 여기에 'split 된 문서'와 '임베딩 모델'을 건네준다\n",
    "vectorstore = Chroma.from_documents(documents, embeddings)"
   ]
  },
  {
   "cell_type": "code",
   "execution_count": 62,
   "id": "e2aaab49-6d57-4a36-8f58-a2a82c3022a7",
   "metadata": {},
   "outputs": [
    {
     "data": {
      "text/plain": [
       "[Document(metadata={'source': 'D:\\\\NLP2501\\\\dataset\\\\files\\\\chapter_one.docx'}, page_content=\"The Ministry of Love was the really frightening one. There were no windows in it at all. Winston had never been inside the Ministry of Love, nor within half a kilometre of it. It was a place impossible to enter except on official business, and then only by penetrating through a maze of barbed-wire entanglements, steel doors, and hidden machine-gun nests. Even the streets leading up to its outer barriers were roamed by gorilla-faced guards in black uniforms, armed with jointed truncheons.\\nWinston turned round abruptly. He had set his features into the expression of quiet optimism which it was advisable to wear when facing the telescreen. He crossed the room into the tiny kitchen. By leaving the Ministry at this time of day he had sacrificed his lunch in the canteen, and he was aware that there was no food in the kitchen except a hunk of dark-coloured bread which had got to be saved for tomorrow's breakfast. He took down from the shelf a bottle of colourless liquid with a plain white label marked VICTORY GIN. It gave off a sickly, oily smell, as of Chinese ricespirit. Winston poured out nearly a teacupful, nerved himself for a shock, and gulped it down like a dose of medicine.\\nInstantly his face turned scarlet and the water ran out of his eyes. The stuff was like nitric acid, and moreover, in swallowing it one had the sensation of being hit on the back of the head with a rubber club. The next moment, however, the burning in his belly died down and the world began to look more cheerful. He took a cigarette from a crumpled packet marked VICTORY CIGARETTES and incautiously held it upright, whereupon the tobacco fell out on to the floor. With the next he was more successful. He went back to the living-room and sat down at a small table that stood to the left of the telescreen. From the table drawer he took out a penholder, a bottle of ink, and a thick, quarto-sized blank book with a red back and a marbled cover.\"),\n",
       " Document(metadata={'source': 'D:\\\\NLP2501\\\\dataset\\\\files\\\\chapter_one.docx'}, page_content='Part 1, Chapter 1\\nPart One\\n1\\nIt was a bright cold day in April, and the clocks were striking thirteen. Winston Smith, his chin nuzzled into his breast in an effort to escape the vile wind, slipped quickly through the glass doors of Victory Mansions, though not quickly enough to prevent a swirl of gritty dust from entering along with him.\\nThe hallway smelt of boiled cabbage and old rag mats. At one end of it a coloured poster, too large for indoor display, had been tacked to the wall. It depicted simply an enormous face, more than a metre wide: the face of a man of about forty-five, with a heavy black moustache and ruggedly handsome features. Winston made for the stairs. It was no use trying the lift. Even at the best of times it was seldom working, and at present the electric current was cut off during daylight hours. It was part of the economy drive in preparation for Hate Week. The flat was seven flights up, and Winston, who was thirty-nine and had a varicose ulcer above his right ankle, went slowly, resting several times on the way. On each landing, opposite the lift-shaft, the poster with the enormous face gazed from the wall. It was one of those pictures which are so contrived that the eyes follow you about when you move. BIG BROTHER IS WATCHING YOU, the caption beneath it ran.\\nInside the flat a fruity voice was reading out a list of figures which had something to do with the production of pig-iron. The voice came from an oblong metal plaque like a dulled mirror which formed part of the surface of the right-hand wall. Winston turned a switch and the voice sank somewhat, though the words were still distinguishable. The instrument (the telescreen, it was called) could be dimmed, but there was no way of shutting it off completely. He moved over to the window: a smallish, frail figure, the meagreness of his body merely emphasized by the blue overalls which were the uniform of the party. His hair was very fair, his face naturally sanguine, his skin roughened by coarse soap and blunt razor blades and the cold of the winter that had just ended.'),\n",
       " Document(metadata={'source': 'D:\\\\NLP2501\\\\dataset\\\\files\\\\chapter_one.docx'}, page_content=\"For some reason the telescreen in the living-room was in an unusual position. Instead of being placed, as was normal, in the end wall, where it could command the whole room, it was in the longer wall, opposite the window. To one side of it there was a shallow alcove in which Winston was now sitting, and which, when the flats were built, had probably been intended to hold bookshelves. By sitting in the alcove, and keeping well back, Winston was able to remain outside the range of the telescreen, so far as sight went. He could be heard, of course, but so long as he stayed in his present position he could not be seen. It was partly the unusual geography of the room that had suggested to him the thing that he was now about to do.\\nBut it had also been suggested by the book that he had just taken out of the drawer. It was a peculiarly beautiful book. Its smooth creamy paper, a little yellowed by age, was of a kind that had not been manufactured for at least forty years past. He could guess, however, that the book was much older than that. He had seen it lying in the window of a frowsy little junk-shop in a slummy quarter of the town (just what quarter he did not \\nnow remember) and had been stricken immediately by an overwhelming desire to possess it. Party members were supposed not to go into ordinary shops ('dealing on the free market', it was called), but the rule was not strictly kept, because there were various things, such as shoelaces and razor blades, which it was impossible to get hold of in any other way. He had given a quick glance up and down the street and then had slipped inside and bought the book for two dollars fifty. At the time he was not conscious of wanting it for any particular purpose. He had carried it guiltily home in his briefcase. Even with nothing written in it, it was a compromising possession.\"),\n",
       " Document(metadata={'source': 'D:\\\\NLP2501\\\\dataset\\\\files\\\\chapter_one.docx'}, page_content='Winston kept his back turned to the telescreen. It was safer, though, as he well knew, even a back can be revealing. A kilometre away the Ministry of Truth, his place of work, towered vast and white above the grimy landscape. This, he thought with a sort of vague distaste -- this was London, chief city of Airstrip One, itself the third most populous of the provinces of Oceania. He tried to squeeze out some childhood memory that should tell him whether London had always been quite like this. Were there always these vistas of rotting nineteenth-century houses, their sides shored up with baulks of timber, their windows patched with cardboard and their roofs with corrugated iron, their crazy garden walls sagging in all directions? And the bombed sites where the plaster dust swirled in the air and the willow-herb straggled over the heaps of rubble; and the places where the \\nbombs had cleared a larger patch and there had sprung up sordid colonies of wooden dwellings like chicken-houses? But it was no use, he could not remember: nothing remained of his childhood except a series of bright-lit tableaux occurring against no background and mostly unintelligible.\\nThe Ministry of Truth -- Minitrue, in Newspeak -- was startlingly different from any other object in sight. It was an enormous pyramidal structure of glittering white concrete, soaring up, terrace after terrace, 300 metres into the air. From where Winston stood it was just possible to read, picked out on its white face in elegant lettering, the three slogans of the Party:\\nWAR IS PEACE\\nFREEDOM IS SLAVERY\\nIGNORANCE IS STRENGTH\\nThe Ministry of Truth contained, it was said, three thousand rooms above ground level, and corresponding ramifications below. Scattered about London there were just three other buildings of similar appearance and size. So completely did they dwarf the surrounding architecture that from the roof of Victory Mansions you could see all four of them simultaneously. They were the homes of the four Ministries between which the entire apparatus of government was divided. The Ministry of Truth, which concerned itself with news, entertainment, education, and the fine arts. The Ministry of Peace, which concerned itself with war. The Ministry of Love, which maintained law and order. And the Ministry of Plenty, which was responsible for economic affairs. Their names, in Newspeak: Minitrue, Minipax, Miniluv, and Miniplenty.')]"
      ]
     },
     "execution_count": 62,
     "metadata": {},
     "output_type": "execute_result"
    }
   ],
   "source": [
    "# vectorstore 를 사용하여 유사도 검색을 해보다.\n",
    "\n",
    "results = vectorstore.similarity_search(\"where does winston live\")  # => List[Document] 리턴\n",
    "\n",
    "results"
   ]
  },
  {
   "cell_type": "code",
   "execution_count": 63,
   "id": "6c272a03-053d-4bc4-b717-a37884bc25c9",
   "metadata": {},
   "outputs": [
    {
     "data": {
      "text/plain": [
       "4"
      ]
     },
     "execution_count": 63,
     "metadata": {},
     "output_type": "execute_result"
    }
   ],
   "source": [
    "len(results)  # 주어진 query  와 유사도가 높은 Document 들이 리턴"
   ]
  },
  {
   "cell_type": "code",
   "execution_count": 64,
   "id": "708e6709-9f6e-4927-a926-00e3aa4d89bc",
   "metadata": {},
   "outputs": [
    {
     "data": {
      "text/plain": [
       "\"The Ministry of Love was the really frightening one. There were no windows in it at all. Winston had never been inside the Ministry of Love, nor within half a kilometre of it. It was a place impossible to enter except on official business, and then only by penetrating through a maze of barbed-wire entanglements, steel doors, and hidden machine-gun nests. Even the streets leading up to its outer barriers were roamed by gorilla-faced guards in black uniforms, armed with jointed truncheons.\\nWinston turned round abruptly. He had set his features into the expression of quiet optimism which it was advisable to wear when facing the telescreen. He crossed the room into the tiny kitchen. By leaving the Ministry at this time of day he had sacrificed his lunch in the canteen, and he was aware that there was no food in the kitchen except a hunk of dark-coloured bread which had got to be saved for tomorrow's breakfast. He took down from the shelf a bottle of colourless liquid with a plain white label marked VICTORY GIN. It gave off a sickly, oily smell, as of Chinese ricespirit. Winston poured out nearly a teacupful, nerved himself for a shock, and gulped it down like a dose of medicine.\\nInstantly his face turned scarlet and the water ran out of his eyes. The stuff was like nitric acid, and moreover, in swallowing it one had the sensation of being hit on the back of the head with a rubber club. The next moment, however, the burning in his belly died down and the world began to look more cheerful. He took a cigarette from a crumpled packet marked VICTORY CIGARETTES and incautiously held it upright, whereupon the tobacco fell out on to the floor. With the next he was more successful. He went back to the living-room and sat down at a small table that stood to the left of the telescreen. From the table drawer he took out a penholder, a bottle of ink, and a thick, quarto-sized blank book with a red back and a marbled cover.\""
      ]
     },
     "execution_count": 64,
     "metadata": {},
     "output_type": "execute_result"
    }
   ],
   "source": [
    "results[0].page_content"
   ]
  },
  {
   "cell_type": "code",
   "execution_count": 65,
   "id": "8b1f4947-a0f0-4379-b400-d8cdd47aa837",
   "metadata": {},
   "outputs": [
    {
     "data": {
      "text/plain": [
       "'Part 1, Chapter 1\\nPart One\\n1\\nIt was a bright cold day in April, and the clocks were striking thirteen. Winston Smith, his chin nuzzled into his breast in an effort to escape the vile wind, slipped quickly through the glass doors of Victory Mansions, though not quickly enough to prevent a swirl of gritty dust from entering along with him.\\nThe hallway smelt of boiled cabbage and old rag mats. At one end of it a coloured poster, too large for indoor display, had been tacked to the wall. It depicted simply an enormous face, more than a metre wide: the face of a man of about forty-five, with a heavy black moustache and ruggedly handsome features. Winston made for the stairs. It was no use trying the lift. Even at the best of times it was seldom working, and at present the electric current was cut off during daylight hours. It was part of the economy drive in preparation for Hate Week. The flat was seven flights up, and Winston, who was thirty-nine and had a varicose ulcer above his right ankle, went slowly, resting several times on the way. On each landing, opposite the lift-shaft, the poster with the enormous face gazed from the wall. It was one of those pictures which are so contrived that the eyes follow you about when you move. BIG BROTHER IS WATCHING YOU, the caption beneath it ran.\\nInside the flat a fruity voice was reading out a list of figures which had something to do with the production of pig-iron. The voice came from an oblong metal plaque like a dulled mirror which formed part of the surface of the right-hand wall. Winston turned a switch and the voice sank somewhat, though the words were still distinguishable. The instrument (the telescreen, it was called) could be dimmed, but there was no way of shutting it off completely. He moved over to the window: a smallish, frail figure, the meagreness of his body merely emphasized by the blue overalls which were the uniform of the party. His hair was very fair, his face naturally sanguine, his skin roughened by coarse soap and blunt razor blades and the cold of the winter that had just ended.'"
      ]
     },
     "execution_count": 65,
     "metadata": {},
     "output_type": "execute_result"
    }
   ],
   "source": [
    "results[1].page_content"
   ]
  },
  {
   "cell_type": "markdown",
   "id": "05a8dabe-89ae-4be4-b82a-5c50e28ddb41",
   "metadata": {},
   "source": [
    "## embedding cache"
   ]
  },
  {
   "cell_type": "code",
   "execution_count": 66,
   "id": "25a12ecd-5920-4f64-840b-8475cf9f7d67",
   "metadata": {},
   "outputs": [],
   "source": [
    "# 다시 실행하면 임베딩 결과는 다 사라진다. 재실행하면 다시 재계산 발생 (비용발생!)\n",
    "# 그래서 embedding 을 캐싱해주자"
   ]
  },
  {
   "cell_type": "code",
   "execution_count": 67,
   "id": "7c8fcc6a-a0bc-46b2-8c1b-fd4166ac6616",
   "metadata": {},
   "outputs": [],
   "source": [
    "# v0.3\n",
    "from langchain.embeddings.cache import CacheBackedEmbeddings\n",
    "# https://python.langchain.com/api_reference/langchain/embeddings/langchain.embeddings.cache.CacheBackedEmbeddings.html\n",
    "\n",
    "# Interface for caching results from embedding models.\n",
    "# The interface allows works with any store that implements the abstract store interface accepting keys of type str and values of list of floats."
   ]
  },
  {
   "cell_type": "code",
   "execution_count": 68,
   "id": "c21efeeb-9241-41c9-ba66-50c66095547f",
   "metadata": {},
   "outputs": [],
   "source": [
    "# v0.3\n",
    "from langchain.storage.file_system import LocalFileStore\n",
    "# https://python.langchain.com/api_reference/langchain/storage/langchain.storage.file_system.LocalFileStore.html\n",
    "# BaseStore interface that works on the local file system."
   ]
  },
  {
   "cell_type": "code",
   "execution_count": 69,
   "id": "73f561b1-9240-41ab-859e-9b1878b7f8d6",
   "metadata": {},
   "outputs": [
    {
     "data": {
      "text/plain": [
       "[Document(metadata={'source': 'D:\\\\NLP2501\\\\dataset\\\\files\\\\chapter_one.docx'}, page_content=\"The Ministry of Love was the really frightening one. There were no windows in it at all. Winston had never been inside the Ministry of Love, nor within half a kilometre of it. It was a place impossible to enter except on official business, and then only by penetrating through a maze of barbed-wire entanglements, steel doors, and hidden machine-gun nests. Even the streets leading up to its outer barriers were roamed by gorilla-faced guards in black uniforms, armed with jointed truncheons.\\nWinston turned round abruptly. He had set his features into the expression of quiet optimism which it was advisable to wear when facing the telescreen. He crossed the room into the tiny kitchen. By leaving the Ministry at this time of day he had sacrificed his lunch in the canteen, and he was aware that there was no food in the kitchen except a hunk of dark-coloured bread which had got to be saved for tomorrow's breakfast. He took down from the shelf a bottle of colourless liquid with a plain white label marked VICTORY GIN. It gave off a sickly, oily smell, as of Chinese ricespirit. Winston poured out nearly a teacupful, nerved himself for a shock, and gulped it down like a dose of medicine.\\nInstantly his face turned scarlet and the water ran out of his eyes. The stuff was like nitric acid, and moreover, in swallowing it one had the sensation of being hit on the back of the head with a rubber club. The next moment, however, the burning in his belly died down and the world began to look more cheerful. He took a cigarette from a crumpled packet marked VICTORY CIGARETTES and incautiously held it upright, whereupon the tobacco fell out on to the floor. With the next he was more successful. He went back to the living-room and sat down at a small table that stood to the left of the telescreen. From the table drawer he took out a penholder, a bottle of ink, and a thick, quarto-sized blank book with a red back and a marbled cover.\"),\n",
       " Document(metadata={'source': 'D:\\\\NLP2501\\\\dataset\\\\files\\\\chapter_one.docx'}, page_content=\"The Ministry of Love was the really frightening one. There were no windows in it at all. Winston had never been inside the Ministry of Love, nor within half a kilometre of it. It was a place impossible to enter except on official business, and then only by penetrating through a maze of barbed-wire entanglements, steel doors, and hidden machine-gun nests. Even the streets leading up to its outer barriers were roamed by gorilla-faced guards in black uniforms, armed with jointed truncheons.\\nWinston turned round abruptly. He had set his features into the expression of quiet optimism which it was advisable to wear when facing the telescreen. He crossed the room into the tiny kitchen. By leaving the Ministry at this time of day he had sacrificed his lunch in the canteen, and he was aware that there was no food in the kitchen except a hunk of dark-coloured bread which had got to be saved for tomorrow's breakfast. He took down from the shelf a bottle of colourless liquid with a plain white label marked VICTORY GIN. It gave off a sickly, oily smell, as of Chinese ricespirit. Winston poured out nearly a teacupful, nerved himself for a shock, and gulped it down like a dose of medicine.\\nInstantly his face turned scarlet and the water ran out of his eyes. The stuff was like nitric acid, and moreover, in swallowing it one had the sensation of being hit on the back of the head with a rubber club. The next moment, however, the burning in his belly died down and the world began to look more cheerful. He took a cigarette from a crumpled packet marked VICTORY CIGARETTES and incautiously held it upright, whereupon the tobacco fell out on to the floor. With the next he was more successful. He went back to the living-room and sat down at a small table that stood to the left of the telescreen. From the table drawer he took out a penholder, a bottle of ink, and a thick, quarto-sized blank book with a red back and a marbled cover.\"),\n",
       " Document(metadata={'source': 'D:\\\\NLP2501\\\\dataset\\\\files\\\\chapter_one.docx'}, page_content='Part 1, Chapter 1\\nPart One\\n1\\nIt was a bright cold day in April, and the clocks were striking thirteen. Winston Smith, his chin nuzzled into his breast in an effort to escape the vile wind, slipped quickly through the glass doors of Victory Mansions, though not quickly enough to prevent a swirl of gritty dust from entering along with him.\\nThe hallway smelt of boiled cabbage and old rag mats. At one end of it a coloured poster, too large for indoor display, had been tacked to the wall. It depicted simply an enormous face, more than a metre wide: the face of a man of about forty-five, with a heavy black moustache and ruggedly handsome features. Winston made for the stairs. It was no use trying the lift. Even at the best of times it was seldom working, and at present the electric current was cut off during daylight hours. It was part of the economy drive in preparation for Hate Week. The flat was seven flights up, and Winston, who was thirty-nine and had a varicose ulcer above his right ankle, went slowly, resting several times on the way. On each landing, opposite the lift-shaft, the poster with the enormous face gazed from the wall. It was one of those pictures which are so contrived that the eyes follow you about when you move. BIG BROTHER IS WATCHING YOU, the caption beneath it ran.\\nInside the flat a fruity voice was reading out a list of figures which had something to do with the production of pig-iron. The voice came from an oblong metal plaque like a dulled mirror which formed part of the surface of the right-hand wall. Winston turned a switch and the voice sank somewhat, though the words were still distinguishable. The instrument (the telescreen, it was called) could be dimmed, but there was no way of shutting it off completely. He moved over to the window: a smallish, frail figure, the meagreness of his body merely emphasized by the blue overalls which were the uniform of the party. His hair was very fair, his face naturally sanguine, his skin roughened by coarse soap and blunt razor blades and the cold of the winter that had just ended.'),\n",
       " Document(metadata={'source': 'D:\\\\NLP2501\\\\dataset\\\\files\\\\chapter_one.docx'}, page_content='Part 1, Chapter 1\\nPart One\\n1\\nIt was a bright cold day in April, and the clocks were striking thirteen. Winston Smith, his chin nuzzled into his breast in an effort to escape the vile wind, slipped quickly through the glass doors of Victory Mansions, though not quickly enough to prevent a swirl of gritty dust from entering along with him.\\nThe hallway smelt of boiled cabbage and old rag mats. At one end of it a coloured poster, too large for indoor display, had been tacked to the wall. It depicted simply an enormous face, more than a metre wide: the face of a man of about forty-five, with a heavy black moustache and ruggedly handsome features. Winston made for the stairs. It was no use trying the lift. Even at the best of times it was seldom working, and at present the electric current was cut off during daylight hours. It was part of the economy drive in preparation for Hate Week. The flat was seven flights up, and Winston, who was thirty-nine and had a varicose ulcer above his right ankle, went slowly, resting several times on the way. On each landing, opposite the lift-shaft, the poster with the enormous face gazed from the wall. It was one of those pictures which are so contrived that the eyes follow you about when you move. BIG BROTHER IS WATCHING YOU, the caption beneath it ran.\\nInside the flat a fruity voice was reading out a list of figures which had something to do with the production of pig-iron. The voice came from an oblong metal plaque like a dulled mirror which formed part of the surface of the right-hand wall. Winston turned a switch and the voice sank somewhat, though the words were still distinguishable. The instrument (the telescreen, it was called) could be dimmed, but there was no way of shutting it off completely. He moved over to the window: a smallish, frail figure, the meagreness of his body merely emphasized by the blue overalls which were the uniform of the party. His hair was very fair, his face naturally sanguine, his skin roughened by coarse soap and blunt razor blades and the cold of the winter that had just ended.')]"
      ]
     },
     "execution_count": 69,
     "metadata": {},
     "output_type": "execute_result"
    }
   ],
   "source": [
    "## 캐시 경로를 지정해주자.  여기에 embedding 이 저장될거다.\n",
    "cache_dir = LocalFileStore('.cache')\n",
    "\n",
    "embeddings = OpenAIEmbeddings()\n",
    "\n",
    "cached_embeddings = CacheBackedEmbeddings.from_bytes_store(\n",
    "    embeddings,   # 임베딩 모델\n",
    "    cache_dir,   # 임베딩 저장(캐시)장소\n",
    ")\n",
    "\n",
    "vectorstore = Chroma.from_documents(documents, cached_embeddings)\n",
    "# ↑ 이렇게 하면,  다음에 Chroma.from_documents() 를 호출할때는\n",
    "#  OpenAIEmbeddings 대신에 미리 cache 되어 있듣 embeddings 를 전달할거다.\n",
    "\n",
    "# 위코드를 실행하여 우리가 또 파일 embedding 작업을 할때는,\n",
    "# 1.첫번째로!\n",
    "#   캐시에 embeddings 가 이미 존재하는지 확인할거다.\n",
    "# 2.만약 없다면!\n",
    "#    vector store(Chroma.from_documents) 를 호출할 때\n",
    "#   문서들(docs) 과 함께 OpenAIEmbeddings 를 사용할거다.\n",
    "\n",
    "results = vectorstore.similarity_search(\"where does winston live\")\n",
    "results"
   ]
  },
  {
   "cell_type": "code",
   "execution_count": 70,
   "id": "e70024a6-5a48-41cc-b806-63ae16119393",
   "metadata": {},
   "outputs": [
    {
     "name": "stdout",
     "output_type": "stream",
     "text": [
      "[-0.023815609514713287, -0.009824610315263271, -0.0004901385400444269, -0.01809018664062023, -0.025858482345938683, 0.000790017656981945, -0.006427660584449768, -0.019797060638666153, -0.020374979823827744, -0.038196366280317307, -0.0031046306248754263, 0.04034676030278206, -0.003279350232332945, -0.01424635760486126, 0.012344603426754475, 0.017727306112647057, 0.04596466198563576, 0.02725623920559883, 0.030562467873096466, -0.03580405190587044, -0.01424635760486126, 0.0008416774799115956, -0.014340437017381191, 0.006179021671414375, -0.03204086422920227, -0.008796453475952148, 0.015899471938610077, -0.022955451160669327, 0.0020865537226200104, -0.00772125693038106, 0.003443989669904113, -0.022888250648975372, 0.0017219948349520564, 0.006585580296814442, -0.03975540027022362, -0.02638264186680317, -0.007741416804492474, -0.01804986596107483, 0.006817419547587633, -0.00946845207363367, 0.013977558352053165, -0.0013498759362846613, -0.004502386320382357, 0.0008462974801659584, -0.03064310923218727, 0.023452728986740112, -0.013843158259987831, -0.009119012393057346, -0.017122508957982063, 0.007714536972343922, 0.021947454661130905, 0.0381157249212265, 0.0021453534718602896, -0.010422688908874989, -0.00543982395902276, -0.0032810301054269075, 0.025025205686688423, 0.03220214322209358, -0.0003771588671952486, -0.009656610898673534, 0.01325180009007454, 0.004210067447274923, -0.023519929498434067, -0.013937238603830338, -0.00743901776149869, 0.004929105285555124, -0.021530816331505775, 0.006531820632517338, -0.024904245510697365, -0.00048089856863953173, 0.020979776978492737, 0.008655333891510963, -0.007835496217012405, -0.003722868859767914, 0.01233788300305605, -0.027713196352124214, -0.00925341248512268, -0.0028610313311219215, -0.011222366243600845, 0.0081244558095932, 0.004542706534266472, -0.012935961596667767, -0.01446139719337225, 0.007963175885379314, -0.003304550191387534, 0.019958339631557465, -0.0019286342430859804, 0.01806330680847168, 0.009239972569048405, -0.02354680933058262, 0.011894364841282368, 0.008433574810624123, 0.005900142248719931, 0.015550033189356327, -0.008594854734838009, 0.022202813997864723, -0.01821114495396614, 0.011948124505579472, -0.0011675965506583452, -0.005974062252789736, 0.012862041592597961, 0.008305895142257214, -0.028465835377573967, -0.0017908746376633644, -0.008393255062401295, 0.0018631144193932414, -0.008359654806554317, -0.0040084682404994965, 0.0109266871586442, -0.014770516194403172, -0.01736442744731903, 0.029379751533269882, 0.003961428068578243, -0.05437807738780975, 0.005295344162732363, -0.037470608949661255, 0.007983336225152016, -0.035508375614881516, -0.02806263603270054, -0.01874874345958233, -0.02667832002043724, 0.015603793784976006, 0.021342655643820763, 0.003042470896616578, 0.029137833043932915, -0.013540759682655334, -0.009784290567040443, 0.001228076289407909, -0.0040151881985366344, -0.005221424158662558, 0.053437281399965286, 0.01567099243402481, 0.030804388225078583, -0.005863182246685028, -0.011652445420622826, 0.027551917359232903, -0.01677306927740574, -0.0041563077829778194, -0.023237690329551697, -0.028815273195505142, 0.030669989064335823, 0.029621671885252, -0.002444392768666148, -0.01284188125282526, 0.003548149485141039, 0.013910358771681786, 0.004609906114637852, 0.019662661477923393, -0.005019824951887131, 0.00357838929630816, 0.008312615565955639, -0.011699484661221504, -0.011390365660190582, -0.021382976323366165, 0.0026795919984579086, 0.013292119838297367, -0.011403805576264858, 0.011067806743085384, -0.018694983795285225, 0.0176332276314497, 0.003059270791709423, 0.012324443086981773, -0.0030962307937443256, 0.0018664743984118104, 0.017256908118724823, 0.024877365678548813, 0.008447014726698399, 0.01692090928554535, -0.0008769573760218918, -0.013856598176062107, 0.004838385619223118, 0.03983604162931442, -0.03911028429865837, 0.003978228196501732, 0.025320883840322495, 0.01706874929368496, 0.03722868859767914, 0.021382976323366165, -0.010953566990792751, -0.027121838182210922, -0.024931125342845917, 0.023734968155622482, 0.033949337899684906, 0.010550368577241898, -0.007895976305007935, 0.006864459253847599, 0.005691823083907366, -0.0037867086939513683, 0.011538205668330193, 0.0020075940992683172, -0.00574558274820447, 0.01891002431511879, -0.00554062332957983, -0.03279350325465202, -0.6528595089912415, -0.008856933563947678, 0.009717090986669064, -0.005167664494365454, 0.009636451490223408, 0.0016505951061844826, 0.008655333891510963, 0.0004603186098393053, -0.0017421548254787922, 0.010140449739992619, -0.001493515563197434, -0.0006001782021485269, 0.014810835942626, 0.01192796416580677, -0.024783285334706306, -0.01607419177889824, -0.017673546448349953, 0.0003353689971845597, 0.0038908682763576508, 0.013211480341851711, 0.0003103790804743767, 0.01834554597735405, -0.01595323160290718, 0.0009063573088496923, 0.026893358677625656, -0.02002554014325142, 0.011753245256841183, -0.025065524503588676, 0.005003024823963642, 0.011807004921138287, -0.01459579635411501, 0.02001209929585457, 0.005103824660181999, 0.009851490147411823, 0.05276528373360634, -0.018439624458551407, -0.019246023148298264, 0.013910358771681786, 0.0225925724953413, -0.0018160745967179537, -0.030374309048056602, -0.007465897593647242, 0.0012793161440640688, 0.010785567574203014, 0.020509378984570503, -0.004717425908893347, 0.005782542750239372, -0.012431962415575981, -0.002871111501008272, -0.003833748633041978, 0.017955785617232323, -0.01071164757013321, 0.02580472268164158, -0.001311236061155796, 0.0028039116878062487, 0.00010079969797516242, 0.015281233936548233, -0.004650226328521967, -0.024191927164793015, 0.004925745073705912, 0.00016432450502179563, 0.017471948638558388, 0.004781265743076801, -0.014918355271220207, -0.013473560102283955, 0.0015674353344365954, -0.005664943251758814, 0.010019490495324135, 0.007385258097201586, 0.003302870085462928, 0.01122908666729927, 0.02001209929585457, -0.025414964184165, -0.017391307279467583, 0.006632620003074408, 0.00862173456698656, 0.038196366280317307, 0.0031365505419671535, 0.002896311227232218, 0.011477725580334663, -0.017176268622279167, -0.00897117331624031, -0.03601909056305885, 0.0035380693152546883, 0.0232780110090971, -0.02103353664278984, -0.02091257832944393, 0.013715478591620922, 0.01087964791804552, 0.0014750355621799827, -0.02018681913614273, 0.029997989535331726, -0.007835496217012405, 0.004092467948794365, -0.0002702691999729723, 0.02411128766834736, 0.005802702624350786, -0.009723810479044914, 0.01876218430697918, -0.013594519346952438, 0.009858210571110249, -0.028170155361294746, 0.007035818882286549, 0.011679325252771378, 0.01610107161104679, 0.008111015893518925, -0.010348768904805183, 0.006095021963119507, 0.03612661361694336, -0.02341241016983986, -0.001972314203158021, -0.010987167246639729, -0.00712317880243063, -0.0026661520823836327, -0.017606347799301147, -0.01804986596107483, 0.02554936334490776, 0.017270348966121674, 0.004989584907889366, -0.025347763672471046, 0.007990055717527866, 0.003978228196501732, -0.015334994532167912, 0.003958068322390318, 0.018157385289669037, 0.0014817555202171206, 0.014636116102337837, -0.008433574810624123, -0.011954843997955322, -0.016275791451334953, 0.0088233333081007, 0.015496273525059223, 0.003551509464159608, -0.0021251935977488756, 0.008218535222113132, -0.011665885336697102, 0.01766010746359825, -0.0119884442538023, 0.015429073944687843, -0.022915132343769073, -0.025643443688750267, -0.0033331101294606924, 0.0003523789346218109, 0.00995228998363018, -0.005315504036843777, -0.03768564760684967, -0.007143338676542044, -0.0025250324979424477, -0.020831936970353127, -0.001304516103118658, 0.006871179677546024, -0.0023889527656137943, 0.009683490730822086, -0.004404946696013212, -0.006531820632517338, -0.02468920685350895, 0.0003320090181659907, -0.01305692084133625, -0.03204086422920227, 0.0036052691284567118, 0.005701902788132429, 0.00627646129578352, -0.001362475915811956, -0.016692429780960083, -0.005070224869996309, -0.012102684006094933, 0.01622203178703785, 0.018802503123879433, -0.001372555852867663, -0.03658356890082359, 0.03204086422920227, -0.02725623920559883, -0.005335663910955191, 0.03171830624341965, -0.023372089490294456, 0.019232582300901413, -0.01778106763958931, -0.017014989629387856, 0.02114105597138405, -0.004845105577260256, -0.007519657723605633, -0.0005132384831085801, -0.009979169815778732, -0.02468920685350895, 0.04456690698862076, 0.0006392381037585437, 0.0018295145127922297, 0.002264633309096098, 0.016558030620217323, -0.002477992558851838, -0.008016936480998993, 0.01403131801635027, -0.002029433846473694, -9.108722588280216e-05, 0.012411803007125854, 0.030535588040947914, 0.030831268057227135, 0.02583160251379013, 0.02597944252192974, 0.019662661477923393, 0.006629260256886482, 0.0007475977763533592, 0.018157385289669037, 0.011047647334635258, 0.010919967666268349, -0.02665144018828869, 0.01086620707064867, -0.03045494854450226, 0.008016936480998993, -0.0005909382598474622, -0.00925341248512268, 0.004821585491299629, -0.02034809999167919, -0.013802838511765003, 0.016611790284514427, 0.022807611152529716, -0.007895976305007935, 0.0451045036315918, 0.01044956874102354, -0.0077615766786038876, -0.010321889072656631, -0.011108126491308212, 0.017471948638558388, 0.013843158259987831, -0.010772127658128738, 0.005675022955983877, 0.024756405502557755, -0.0028207115828990936, 0.025495603680610657, -0.014810835942626, -0.02595256268978119, -0.0020529539324343204, 0.005322223994880915, 0.005943822208791971, -0.006511660758405924, -0.014232917688786983, 0.027014318853616714, -0.006461260840296745, 0.026866478845477104, -0.02498488500714302, -0.008285734802484512, 0.016450511291623116, 0.0197298601269722, -0.0019101542420685291, 0.0021940735168755054, 0.016208590939641, 0.018022986128926277, -0.0001781844621291384, -0.020522817969322205, 0.008399974554777145, 0.004559506196528673, 0.01692090928554535, -0.00459310645237565, -0.005523823667317629, 0.004488946404308081, -0.023385530337691307, 0.01409851759672165, 0.00831933505833149, 0.019138501957058907, 0.03206774592399597, -0.005322223994880915, -0.008326055482029915, 0.022511932998895645, 0.01362139917910099, -0.020495938137173653, 0.028170155361294746, 0.005594383459538221, 0.025750963017344475, -0.014447956345975399, -0.003837108612060547, -0.0032474303152412176, -0.005130704492330551, -0.007459177635610104, -0.010140449739992619, 0.033492378890514374, -0.03303541988134384, 0.004717425908893347, 0.027189038693904877, 0.013722199015319347, 0.013177881017327309, -0.028546474874019623, -0.02343929000198841, -0.007170218508690596, 0.0352933332324028, -0.003178550396114588, -0.027135279029607773, -0.0169477891176939, -0.005466703791171312, 0.014125397428870201, 0.013950678519904613, -0.01283516176044941, -0.005046704784035683, 0.01544251386076212, -0.004969425033777952, -0.005943822208791971, -0.0109266871586442, -0.0020529539324343204, -0.046475380659103394, 0.01752570830285549, -0.008702374063432217, -0.007150058634579182, -0.009045093320310116, -0.015899471938610077, -0.013083800673484802, 0.017135947942733765, -0.007405417971313, -0.008359654806554317, -0.021100737154483795, 0.004243667237460613, -0.029460391029715538, -0.014434516429901123, 0.0013910358538851142, -0.03260534256696701, 0.004247027449309826, -0.016867149621248245, 0.011061087250709534, -0.02100665681064129, 0.012371483258903027, 0.041421957314014435, -0.01537531428039074, 0.012512602843344212, -0.022538812831044197, -0.014367316849529743, -0.01567099243402481, 0.12633562088012695, 0.0367179699242115, -0.005826222710311413, 0.010893087834119797, 0.013594519346952438, -0.000371698901290074, -0.0183724258095026, -0.05179760605096817, 0.035777173936367035, -0.004905585199594498, 0.004216787405312061, -0.004509106744080782, 0.02865399420261383, 0.01790202595293522, -0.019864261150360107, 0.00018910443759523332, 5.121359572513029e-05, -0.005399503745138645, 0.00288959126919508, -0.019111622124910355, 0.012290842831134796, 0.012801561504602432, -0.009905250743031502, 0.02428600750863552, -0.03233654424548149, -0.02412472851574421, 0.010375648736953735, 0.0022175933700054884, 0.024205368012189865, -0.017431627959012985, -0.021342655643820763, 0.011182046495378017, 0.0109468474984169, 0.0018345544813200831, -0.010651168413460255, -0.01494523510336876, -0.0008769573760218918, -0.00833949539810419, 0.010503328405320644, -0.024299446493387222, 0.007559977471828461, 0.01807674579322338, 0.022968892008066177, -0.01904442347586155, 0.002993751084432006, -0.01059740874916315, -0.0019840740133076906, 0.017283787950873375, -0.0018009545747190714, -0.008393255062401295, 0.030938787385821342, 6.179231422720477e-05, -0.014931795187294483, -0.037605006247758865, -0.022364092990756035, -0.007815336808562279, -0.0155097134411335, -0.004243667237460613, -0.00027509918436408043, 0.05585647374391556, -0.008218535222113132, -0.025025205686688423, 0.007559977471828461, -0.007297898177057505, 0.01592635177075863, -0.0010617568623274565, -0.007264298386871815, -0.005950542166829109, 0.010006049647927284, -0.01114844623953104, -0.027740076184272766, -0.021060416474938393, -0.0017522347625344992, 0.004841745365411043, 0.01240508258342743, 0.01610107161104679, 0.015590352937579155, -0.002180633367970586, 2.3218055503093638e-05, -0.019528262317180634, -0.03730932995676994, -0.02651704102754593, 0.00790269672870636, -0.02217593416571617, -0.00627646129578352, 0.003954708110541105, 0.0011776764877140522, -0.013063641265034676, -0.021409856155514717, 0.028304554522037506, 0.032363422214984894, 0.014071637764573097, 0.005648143123835325, -0.011934684589505196, 0.005127344746142626, -0.006810699589550495, -0.00031898904126137495, -0.00690813921391964, 0.004767825827002525, -0.009770850650966167, -0.003269270295277238, -0.024232247844338417, -0.025468723848462105, -0.015630673617124557, 0.01761978678405285, 0.010987167246639729, -0.0004997985088266432, 0.025643443688750267, -0.006881259381771088, -0.021813055500388145, 0.006746859755367041, -0.015240914188325405, -0.016867149621248245, 0.01932666264474392, 0.01677306927740574, 0.01792890578508377, 0.001056716893799603, 0.03233654424548149, 0.00521470420062542, -0.02608696185052395, 0.008205095306038857, -0.012808281928300858, 0.019944900646805763, 0.005423023831099272, -0.022538812831044197, 0.004727506078779697, 0.008581413887441158, -0.036207251250743866, 0.004031987860798836, -0.00833949539810419, -0.008520934730768204, 0.021947454661130905, 0.02608696185052395, -0.022538812831044197, -0.033949337899684906, 0.01348700001835823, 0.0015951552195474505, 0.002182313473895192, -0.007271018344908953, 0.006212621461600065, -0.014421076513826847, -2.15643103729235e-05, -0.02706807851791382, -0.0126873217523098, -0.005597743205726147, -0.02779383771121502, 0.0013675158843398094, 0.003438949817791581, 0.0006451180670410395, 0.012190043926239014, -0.012526042759418488, -0.012875481508672237, 0.008211815729737282, 0.018453065305948257, 0.00818493589758873, -0.024581685662269592, -0.020522817969322205, 0.006689739879220724, 0.021544255316257477, 0.015294673852622509, 0.01610107161104679, -0.001156676560640335, 0.022659773007035255, 0.03357302024960518, 0.001937034190632403, 0.011733084917068481, -0.006051342003047466, 0.00838653463870287, -0.022673211991786957, 0.04220147430896759, 0.029863590374588966, 0.004892145283520222, 0.02032122015953064, -0.005661583039909601, 0.006047981791198254, 0.03021303005516529, -0.009340772405266762, 0.0024309526197612286, -0.003207110334187746, -0.01692090928554535, -0.006619180087000132, 0.010846047662198544, 0.0018950343364849687, 0.013581079430878162, -0.025992881506681442, -0.024178488180041313, 0.027578797191381454, 0.005345744080841541, 0.002724951831623912, -0.0022461533080786467, 0.019998660311102867, 0.0021873535588383675, -0.017861707136034966, 0.005651502870023251, 0.027578797191381454, -0.003217190271243453, 0.0037598288618028164, 0.009623011574149132, 0.0024964725598692894, 0.022686652839183807, -0.007895976305007935, 0.007176938466727734, -0.02271353267133236, -0.022364092990756035, -0.0038135885260999203, 0.007143338676542044, -0.003561589401215315, -0.00013187959848437458, 0.012183323502540588, -0.023600568994879723, 0.0027031118515878916, -0.0003351589839439839, -0.026879919692873955, -0.01681338995695114, -0.017176268622279167, -0.003692629048600793, 0.003934548236429691, 0.019299782812595367, -0.0036691089626401663, -0.018103625625371933, -0.006471340544521809, -0.01580539345741272, 0.05660910904407501, -0.007680937182158232, 0.02385592833161354, 0.0022411132231354713, -0.011759964749217033, -0.010442848317325115, 0.01212284341454506, -0.015738192945718765, 0.01916538178920746, 0.017418187111616135, -0.0036086291074752808, -0.017283787950873375, 0.020966337993741035, -0.023385530337691307, 0.028707753866910934, -0.03311606124043465, -0.038169484585523605, 0.013218200765550137, -0.006199181545525789, -0.002598952269181609, 0.0031852705869823694, -0.006941739469766617, -0.01583227328956127, 0.009307172149419785, -0.03158390522003174, -0.00045275865704752505, 0.0015010754577815533, -0.008991332724690437, -0.035212695598602295, 0.014770516194403172, 0.006982059217989445, 0.04058867692947388, -0.024178488180041313, 0.012862041592597961, -0.004243667237460613, -0.020657218992710114, -0.018157385289669037, 0.02510584518313408, 0.001854714471846819, 0.015388754196465015, -0.01221020333468914, -0.03005175106227398, -0.003847188549116254, -0.02439352683722973, 0.00602782191708684, 0.0008047175942920148, -0.008487334474921227, 0.03034742921590805, -0.006619180087000132, -0.005722062662243843, -0.016867149621248245, -0.007580137345939875, 0.03709428757429123, -0.01678651012480259, -0.011417245492339134, -0.02076473832130432, 0.03636853024363518, -0.00515758479014039, -0.004273907281458378, 0.010543648153543472, -0.009992609731853008, -0.015334994532167912, -0.0003599389165174216, -0.011605405248701572, 0.0026997518725693226, -0.003944628406316042, 0.01318460050970316, -0.021503936499357224, -0.020401859655976295, -0.016060752794146538, -0.028008876368403435, -0.005402863956987858, -0.010409248992800713, -0.01227068342268467, 0.015214034356176853, 0.04187891632318497, -0.04730865731835365, 0.007183658424764872, -0.0015338354278355837, 0.009045093320310116, -0.015603793784976006, 0.014770516194403172, -0.0003845088358502835, 0.015267794020473957, 0.036637332290410995, -0.0130502013489604, -0.02088569663465023, -0.015482833608984947, 0.016584910452365875, 0.0015506353229284286, 0.014636116102337837, -0.01610107161104679, 0.020966337993741035, 0.02369464933872223, 0.016840269789099693, -0.011329886503517628, 0.0025687122251838446, -0.014703315682709217, 0.005355823785066605, 0.012505882419645786, 0.005624623037874699, -0.03467509523034096, -0.0012163163628429174, -0.013224920257925987, 0.005204624496400356, 0.0006228581187315285, -0.047201137989759445, 0.00522478437051177, -0.01023452915251255, 0.03459445759654045, 0.004996304865926504, -0.011652445420622826, 0.004656946286559105, 0.012593242339789867, -0.0018933543469756842, 0.034379418939352036, 0.009528931230306625, -0.014622676186263561, 0.012028764002025127, -0.0003391489735804498, 0.007815336808562279, -0.008520934730768204, 0.006988779176026583, 0.005997581873089075, -0.0007765776827000082, 0.001844634534791112, -0.03962100297212601, -0.02667832002043724, -0.0072239781729876995, 0.025630002841353416, 0.005826222710311413, -0.0005249984096735716, -0.010960287414491177, -0.004599826410412788, -0.019407302141189575, -0.001007996965199709, -0.017754187807440758, 0.021799614652991295, 0.038760844618082047, -0.0014405957190319896, 0.006491500418633223, 0.014730195514857769, 0.010980446822941303, 0.00342046981677413, -0.023923128843307495, 0.012216923758387566, 0.01991802081465721, -0.006750219967216253, 0.01596667245030403, 0.019716421142220497, -0.04752369970083237, 0.007895976305007935, -0.0039043084252625704, -0.009428131394088268, -0.006189101375639439, -0.0074860574677586555, -0.005248304456472397, 0.0116457249969244, -0.00613870145753026, -0.002267993288114667, 0.0010205969447270036, -0.0020865537226200104, -0.017969226464629173, -0.02483704499900341, 0.007230698596686125, 0.0013498759362846613, 0.021235136315226555, -0.031126946210861206, -0.004512466490268707, 0.00959613174200058, -0.0026678319554775953, -0.011040926910936832, -0.016262350603938103, -0.007049258798360825, -0.004132787697017193, -0.030562467873096466, 0.028976554051041603, 0.017673546448349953, -0.004734226036816835, 0.016907470300793648, 0.0015329953748732805, 0.007533097639679909, -0.006447820924222469, 0.022794172167778015, -0.024581685662269592, -0.004841745365411043, 0.016746189445257187, -0.02228345349431038, 0.027444398030638695, 0.00577918253839016, 0.025576243177056313, -0.048356976360082626, 0.029299112036824226, -0.013870038092136383, -0.015173714607954025, -0.029541032388806343, 0.023103291168808937, 0.00386062846519053, -0.01057724840939045, 0.011605405248701572, -0.004176467657089233, 0.002736711874604225, 0.014447956345975399, -0.032417181879282, -0.005019824951887131, -0.00441166665405035, 0.0028022315818816423, -0.007459177635610104, -0.004502386320382357, -0.03005175106227398, -0.0033935897517949343, 0.01877562329173088, -0.0011911164037883282, -0.008608294650912285, 0.20267459750175476, -0.0036052691284567118, 0.012089244090020657, 0.025025205686688423, -0.025146164000034332, -0.006293260958045721, 0.002425912767648697, 0.006427660584449768, 0.01320476084947586, 0.013654999434947968, -0.010086690075695515, -0.0029433511663228273, -0.012888921424746513, 0.010805727913975716, 0.00958269089460373, -0.007237418554723263, -0.03131510689854622, -0.02412472851574421, 0.012741082347929478, -0.0550231970846653, 0.008030376397073269, 0.0004493986489251256, -0.013413080014288425, -0.013097240589559078, 0.02951415255665779, -4.134362825425342e-06, -0.01567099243402481, -0.00960285123437643, 0.012163164094090462, -0.003438949817791581, -0.016342991963028908, -0.004317587241530418, 0.002892951248213649, -0.013567639514803886, -0.00430078711360693, -0.010530208237469196, -0.004751025699079037, -0.001868154387921095, 0.005036625079810619, 0.005997581873089075, -0.0029383113142102957, 0.005990861915051937, -0.009125732816755772, -0.0034742297139018774, 0.00577918253839016, 0.0239903274923563, 0.001799274585209787, 0.000426718732342124, -0.02538808435201645, 0.008897253312170506, -0.04144883528351784, -0.02256569266319275, 0.021100737154483795, 0.029621671885252, -0.004663666244596243, 0.008870373480021954, 0.010839327238500118, 0.009159333072602749, -0.012680602259933949, 0.02032122015953064, -0.01353403925895691, -0.002993751084432006, -0.0025720722042024136, 0.016584910452365875, 0.007465897593647242, 0.043652988970279694, -0.00719037838280201, -0.002598952269181609, -0.0003681289090309292, -0.007512937765568495, -0.007103018928319216, -0.016450511291623116, -0.026154162362217903, -0.002864391542971134, -0.04824945703148842, -0.0007341578020714223, 0.03779316693544388, 0.025509044528007507, 0.007707817014306784, 0.020415298640727997, -0.008373094722628593, -0.006158861797302961, 0.011222366243600845, 0.007559977471828461, -0.026879919692873955, -0.021275456994771957, 0.027981996536254883, -0.004522546660155058, -0.009327332489192486, 0.014273237437009811, -0.00959613174200058, -0.029541032388806343, -0.00011119466944364831, -0.009307172149419785, -0.009475171566009521, 0.005006385035812855, 0.036906130611896515, 0.008944293484091759, -0.015469393692910671, -0.0008626774069853127, -0.008702374063432217, -0.010852767154574394, 0.031960222870111465, 0.008420134894549847, -0.0023251131642609835, 0.003917748108506203, 0.010389088653028011, 0.009360931813716888, 0.000307229085592553, -0.025334324687719345, -0.01199516374617815, -0.04392178729176521, -0.013910358771681786, -0.0029030314180999994, 0.00627646129578352, 0.009676771238446236, -0.021248577162623405, -0.009488611482083797, 0.008507494814693928, 0.004105907864868641, 0.003433909732848406, -0.01651770994067192, 0.008097575977444649, -0.0013364360202103853, 0.00796989630907774, -0.011518045328557491, -0.019246023148298264, 0.025361204519867897, 0.00708957901224494, -0.0422821119427681, 0.026355762034654617, -0.017471948638558388, 0.01766010746359825, 0.005560783203691244, -0.0197567418217659, -0.011343326419591904, 0.018170826137065887, -0.015980111435055733, 0.0010466368403285742, 0.01580539345741272, 0.014353876933455467, -0.028116395696997643, 0.021544255316257477, -0.015052755363285542, 0.030831268057227135, -0.015267794020473957, 0.008231975138187408, 0.0011507965391501784, -0.01636987179517746, 0.001579195261001587, -0.01051676832139492, 0.019004102796316147, -0.0013565958943217993, -0.034943897277116776, -0.00578926270827651, -0.02694712020456791, -0.033653657883405685, -0.008722533471882343, 0.006464620586484671, 0.016020432114601135, -0.04018548130989075, 0.0007488577393814921, 0.015133394859731197, -0.018842823803424835, -0.006686380133032799, -0.019823940470814705, -0.17160139977931976, 0.007613737136125565, -0.0008248775266110897, -0.01835898496210575, 0.024796726182103157, 0.008164775557816029, 0.006118541583418846, 0.007707817014306784, -0.025052085518836975, 0.0025233523920178413, 0.006988779176026583, 0.013843158259987831, -0.028170155361294746, -0.026154162362217903, -0.006471340544521809, -0.007815336808562279, -0.025320883840322495, 0.024796726182103157, 0.015496273525059223, 0.01705530844628811, 0.019151942804455757, -0.014985554851591587, 0.005493583623319864, 0.03483637422323227, 0.010053089819848537, 0.024783285334706306, 0.0022343932650983334, 0.01665211096405983, -0.004784625489264727, -0.0409112386405468, 0.001435555750504136, -0.013829718343913555, 0.01086620707064867, 0.007378538139164448, 0.02665144018828869, 0.006521740462630987, -0.015429073944687843, -0.025737522169947624, -0.021813055500388145, 0.012895641848444939, 0.036771729588508606, 0.006189101375639439, -0.01114844623953104, -0.00373630877584219, -0.0176332276314497, 0.027578797191381454, 0.02354680933058262, -0.005859822500497103, 0.003974867984652519, -0.0030811107717454433, 0.012458843179047108, -0.022068414837121964, 0.011282846331596375, 0.004065587650984526, 0.03784692659974098, -0.015617233701050282, 0.024514487013220787, 0.008655333891510963, 0.011759964749217033, 0.013245080597698689, -0.01474363636225462, -0.02427256666123867, 0.002777031622827053, -0.011437405832111835, -0.008305895142257214, -0.01459579635411501, -0.006531820632517338, -0.014582356438040733, -0.02159801498055458, 0.008554534055292606, -0.02795511670410633, 0.018305225297808647, -0.006226061377674341, 0.005339024122804403, 0.01235804334282875, 0.023062970489263535, -0.0380619652569294, -0.006417580880224705, -0.0011709565296769142, 0.021813055500388145, -0.005470063537359238, 0.02087225764989853, -0.00897117331624031, -0.0018496745033189654, 0.0029635110404342413, 0.008870373480021954, 0.0019907939713448286, -0.00024107928038574755, -0.01016061007976532, -0.0077817365527153015, 0.01151132583618164, -0.01327196042984724, -0.02396344766020775, -0.020401859655976295, -0.012001884169876575, -0.0008618374122306705, 0.03007863089442253, 0.013661718927323818, 0.002061353763565421, -0.02653048001229763, 0.010852767154574394, -0.01333916001021862, 0.00866877380758524, 0.009549091570079327, 0.00967005081474781, 0.007055978756397963, 0.00451582670211792, 0.004243667237460613, 0.015334994532167912, -0.0007043379009701312, -0.02455480583012104, -0.01494523510336876, 0.014085077680647373, 0.0011062766425311565, -0.004220147151499987, 0.01893690414726734, 0.0012171564158052206, -0.025589684024453163, 0.0032423902302980423, -0.011531485244631767, 0.05591023340821266, 0.0030743908137083054, -0.012351322919130325, -0.0014817555202171206, -0.023748409003019333, -0.01905786246061325, -0.13525976240634918, -0.023372089490294456, 0.026288561522960663, 0.020240578800439835, 0.014085077680647373, 0.01424635760486126, -0.010624288581311703, 0.014931795187294483, 0.004287347197532654, 0.005806062836199999, 0.004925745073705912, -0.02710839919745922, -0.020657218992710114, 0.004724145866930485, 0.0072038182988762856, 0.004687185864895582, -0.0011835565092042089, -0.013171160593628883, -0.016127951443195343, 0.04545394331216812, 0.0023553529754281044, 0.01292252168059349, -0.0289227943867445, -0.0218936949968338, 0.006031182128936052, -0.005816142540425062, -0.021100737154483795, 0.023896249011158943, 0.014972114935517311, 0.024783285334706306, -0.0064982203766703606, -0.011591965332627296, 0.02114105597138405, -0.00881661381572485, -0.0034843096509575844, -0.004280627239495516, -0.02439352683722973, 0.012465562671422958, 0.001710234908387065, -0.02838519588112831, -0.0006539380410686135, 0.015281233936548233, 0.019286341965198517, -0.017404748126864433, -0.00218903343193233, 0.0020999936386942863, -0.028842153027653694, 0.013607959263026714, 0.01678651012480259, 0.0009937169961631298, 0.0004775385605171323, -0.0169343501329422, -0.013366039842367172, 0.0001057871850207448, 0.014689875766634941, 0.0005506183370016515, 0.02808951586484909, -0.0010373969562351704, -0.017566027119755745, 0.03432565554976463, 0.0003296990180388093, -0.001073516788892448, -0.010678048245608807, 0.00796989630907774, -0.009011493064463139, -0.0002259593311464414, -0.015214034356176853, 0.0007425578078255057, 0.021127616986632347, -0.02795511670410633, -0.008359654806554317, 0.00719037838280201, 0.005486863665282726, 0.02091257832944393, -0.02118137665092945, -0.01735098846256733, 0.0012557962909340858, -0.006390701048076153, 0.02198777347803116, -0.012761241756379604, -0.02315705083310604, -0.010389088653028011, 0.031557027250528336, -0.008662054315209389, -0.002726631937548518, 0.011833884753286839, 0.006293260958045721, -0.007869096472859383, -0.005234864540398121, -0.014326997101306915, -0.006659500300884247, 0.028842153027653694, 0.018829382956027985, -0.02737719751894474, -0.00596062233671546, 0.020710978657007217, -0.01593979261815548, -0.00275351176969707, 0.009629731066524982, 0.005816142540425062, -0.03163766488432884, -0.0012272363528609276, -0.033814940601587296, 0.03400309756398201, -0.025414964184165, -0.008702374063432217, 0.005493583623319864, -0.005406223703175783, 0.009374371729791164, -0.00719037838280201, -0.03263222426176071, -0.003995027858763933, -0.01778106763958931, 0.023036090657114983, -0.001930314232595265, -0.013171160593628883, -0.03905652463436127, -0.020926017314195633, 0.02497144602239132, 0.007539817597717047, 0.006095021963119507, 0.029164712876081467, -0.00014458457008004189, 0.0015271154697984457, 0.008326055482029915, 0.01610107161104679, -0.0022427933290600777, 0.0011936364462599158, -0.017592906951904297, 0.014259797520935535, -0.016853708773851395, -0.0069282990880310535, 0.020536258816719055, -0.01066460832953453, 0.00831933505833149, -0.010288288816809654, 0.008158056065440178, 0.007801896892488003, 0.01283516176044941, 0.001868154387921095, 0.007022378966212273, 0.03136886656284332, -0.013648279011249542, -0.02608696185052395, 0.011524765752255917, -0.011135006323456764, 0.000724497833289206, 0.011565085500478745, -0.027269678190350533, 0.008151335641741753, 0.008588134311139584, 0.024232247844338417, 0.012848601676523685, 0.02313017100095749, -0.025737522169947624, -0.0006598180043511093, -0.02878839336335659, -0.003309590043500066, 0.025992881506681442, -0.006098381709307432, -0.0018177545862272382, -0.00257375231012702, 0.018708424642682076, -0.011450845748186111, 0.010913247242569923, -0.0006010181969031692, 0.04642162099480629, 0.004959345329552889, 0.01001277007162571, -0.00737181818112731, 0.0034876696299761534, -0.03771252557635307, -0.015630673617124557, -0.01179356500506401, 0.027121838182210922, 0.041986435651779175, -0.004821585491299629, 0.007983336225152016, -0.003541429527103901, 0.015173714607954025, 0.0014397556660696864, 0.005863182246685028, 0.03206774592399597, 0.009132452309131622, -0.03432565554976463, 0.0031113505829125643, 0.027713196352124214, 0.03921780362725258, 0.0007257578545249999, -0.0013364360202103853, 0.017552588135004044, 0.01255292259156704, 0.035642772912979126, 0.0016094351885840297, -0.004431826528161764, -0.009569250978529453, 0.016060752794146538, 0.016826828941702843, -0.012801561504602432, 0.012169883586466312, 0.01638331077992916, 0.009058533236384392, 0.004472146742045879, -0.0018916743574663997, 0.0197701808065176, -0.006269741337746382, -0.02554936334490776, 0.021934013813734055, -0.008198375813663006, -0.014111957512795925, 0.006565420422703028, 0.011034207418560982, -0.003294470254331827, -0.012828441336750984, 0.024084407836198807, 0.014757076278328896, -0.03701364994049072, 0.026718640699982643, 0.02765943668782711, -0.021974334493279457, -0.027686316519975662, 0.04405618831515312, 0.01904442347586155, -0.0024729527067393064, 0.013097240589559078, -0.005392783787101507, 0.005056784953922033, -0.01240508258342743, 0.02044217847287655, -0.010987167246639729, -0.0069215791299939156, -0.02638264186680317, 0.0026560721453279257, -0.0381426066160202, -0.020710978657007217, 0.003062630770727992, 0.007828776724636555, -0.025750963017344475, 0.002593912184238434, 0.01735098846256733, -0.03330422192811966, 0.020778177306056023, 0.03569653257727623, -0.011605405248701572, 0.0006115181604400277, -0.01424635760486126, 0.00953565165400505, 0.0021319135557860136, 0.007257578428834677, -0.021907133981585503, -0.02131577581167221, 0.02171897515654564, -0.011820444837212563, 0.023775288835167885, -0.03397621959447861, -0.02284793183207512, 0.010261408984661102, -0.016477391123771667, 0.004445266909897327, -0.011471006087958813, -0.007869096472859383, 0.02300921082496643, 0.005265104118734598, 0.02808951586484909, -0.002987031126394868, -0.010536928661167622, -0.01214300375431776, 0.020643778145313263, 0.009226532652974129, -0.01991802081465721, -0.017270348966121674, -0.012868761084973812, -0.0010953567689284682, -0.03537397459149361, -0.018990663811564445, 0.012909081764519215, -0.012156443670392036, 0.004663666244596243, -0.007465897593647242, 0.02808951586484909, -0.00715677859261632, -0.005023185163736343, 0.014582356438040733, -0.014071637764573097, -0.048330094665288925, 0.016342991963028908, -0.00197567418217659, -0.007828776724636555, -0.01014716923236847, -0.009125732816755772]\n"
     ]
    }
   ],
   "source": [
    "# 벡터파일 하나만 보기\n",
    "\n",
    "import glob\n",
    "for cached_file in glob.glob(os.path.join('.cache', '*')):\n",
    "    with open(cached_file, 'r') as f:\n",
    "        print(f.read())\n",
    "        break"
   ]
  },
  {
   "cell_type": "code",
   "execution_count": 71,
   "id": "f717ae50-7b24-4b3a-8199-3f807e3f0817",
   "metadata": {},
   "outputs": [
    {
     "name": "stderr",
     "output_type": "stream",
     "text": [
      "C:\\Users\\User\\AppData\\Local\\Temp\\ipykernel_19796\\1308439146.py:9: LangChainDeprecationWarning: Please see the migration guide at: https://python.langchain.com/docs/versions/migrating_memory/\n",
      "  memory = ConversationSummaryBufferMemory(\n"
     ]
    },
    {
     "name": "stdout",
     "output_type": "stream",
     "text": [
      "content='Hello John! How can I assist you today?' additional_kwargs={'refusal': None} response_metadata={'token_usage': {'completion_tokens': 10, 'prompt_tokens': 24, 'total_tokens': 34, 'completion_tokens_details': {'accepted_prediction_tokens': 0, 'audio_tokens': 0, 'reasoning_tokens': 0, 'rejected_prediction_tokens': 0}, 'prompt_tokens_details': {'audio_tokens': 0, 'cached_tokens': 0}}, 'model_name': 'gpt-3.5-turbo-0125', 'system_fingerprint': None, 'id': 'chatcmpl-BkU5uemUuSIdvv2onlym5QNpNSAjn', 'finish_reason': 'stop', 'logprobs': None} id='run--ad32fd3e-7100-4713-8353-348f6c49f6b1-0' usage_metadata={'input_tokens': 24, 'output_tokens': 10, 'total_tokens': 34, 'input_token_details': {'audio': 0, 'cache_read': 0}, 'output_token_details': {'audio': 0, 'reasoning': 0}}\n",
      "content='Your name is John.' additional_kwargs={'refusal': None} response_metadata={'token_usage': {'completion_tokens': 5, 'prompt_tokens': 47, 'total_tokens': 52, 'completion_tokens_details': {'accepted_prediction_tokens': 0, 'audio_tokens': 0, 'reasoning_tokens': 0, 'rejected_prediction_tokens': 0}, 'prompt_tokens_details': {'audio_tokens': 0, 'cached_tokens': 0}}, 'model_name': 'gpt-3.5-turbo-0125', 'system_fingerprint': None, 'id': 'chatcmpl-BkU5v8DgQII9hETnuzzKU8z2WAeOY', 'finish_reason': 'stop', 'logprobs': None} id='run--f4dfde43-14a8-41b0-8949-03ce891c6a2f-0' usage_metadata={'input_tokens': 47, 'output_tokens': 5, 'total_tokens': 52, 'input_token_details': {'audio': 0, 'cache_read': 0}, 'output_token_details': {'audio': 0, 'reasoning': 0}}\n"
     ]
    }
   ],
   "source": [
    "from langchain_openai.chat_models import ChatOpenAI\n",
    "from langchain_core.prompts.chat import ChatPromptTemplate\n",
    "from langchain.memory.summary_buffer import ConversationSummaryBufferMemory\n",
    "from langchain_core.runnables.passthrough import RunnablePassthrough\n",
    "from langchain_core.prompts.chat import MessagesPlaceholder\n",
    "\n",
    "llm = ChatOpenAI(temperature=0.1)\n",
    "\n",
    "memory = ConversationSummaryBufferMemory(\n",
    "    llm=llm,\n",
    "    max_token_limit=120,\n",
    "    return_messages=True,\n",
    ")\n",
    "\n",
    "prompt = ChatPromptTemplate.from_messages(\n",
    "    [\n",
    "        (\"system\", \"You are a helpful AI talking to a human\"),\n",
    "        MessagesPlaceholder(variable_name=\"history\"),\n",
    "        (\"human\", \"{question}\"),\n",
    "    ]\n",
    ")\n",
    "\n",
    "def load_memory(_):\n",
    "    return memory.load_memory_variables({})[\"history\"]\n",
    "\n",
    "chain = RunnablePassthrough.assign(history=load_memory) | prompt | llm\n",
    "\n",
    "\n",
    "def invoke_chain(question):\n",
    "    result = chain.invoke({\"question\": question})  # ★ 체인 실행!\n",
    "    memory.save_context(\n",
    "        {\"input\": question},\n",
    "        {\"output\": result.content},\n",
    "    )\n",
    "    print(result)\n",
    "\n",
    "invoke_chain(\"My name is John\")\n",
    "invoke_chain(\"What is my name?\")\n"
   ]
  },
  {
   "cell_type": "markdown",
   "id": "002cc7e4-866c-42f9-8f77-48697b29a7fe",
   "metadata": {},
   "source": [
    "# Langsmith\n",
    "\n",
    "https://www.langchain.com/langsmith\n",
    "\n",
    "![](https://encrypted-tbn0.gstatic.com/images?q=tbn:ANd9GcRejzbKjev2a8d-EKtUU06p84fh5NX_S7dDLA&s)\n"
   ]
  },
  {
   "cell_type": "code",
   "execution_count": 72,
   "id": "bb38ec0c-1cca-436f-bcd7-661a236d81b4",
   "metadata": {},
   "outputs": [],
   "source": [
    "# LangSmith 는 (LLM) 기반 애플리케이션의\n",
    "# 개발, 디버깅, 테스트, 평가, 모니터링, 배포를 지원하는 통합 플랫폼 입니다\n",
    "# https://www.langchain.com/langsmith\n",
    "\n",
    "# LangSmith를 사용하면 우리의 체인이 무엇을 하고 있는지 시각적으로 볼수 있다.\n",
    "\n",
    "# ★ 우선 위 사이트에 회원가입하고 API Key 받아옵니다 ★\n"
   ]
  },
  {
   "cell_type": "code",
   "execution_count": 73,
   "id": "eaf1d0c7-ed66-4cae-ad94-9c2be414ce22",
   "metadata": {},
   "outputs": [],
   "source": [
    "\"\"\"\n",
    "↓ .env 파일에 환경변수 입력 (추가)\n",
    "\n",
    "OPENAI_API_KEY=xxxx\n",
    "\n",
    "LANGCHAIN_TRACING_V2=true\n",
    "LANGCHAIN_ENDPOINT=\"https://api.smith.langchain.com\"\n",
    "LANGCHAIN_API_KEY=xxxx\n",
    "\"\"\"\n",
    "None"
   ]
  },
  {
   "cell_type": "code",
   "execution_count": 74,
   "id": "a400b9e1-9b0e-4778-a8a3-fb21a662d07e",
   "metadata": {},
   "outputs": [],
   "source": [
    "\"\"\"\n",
    "그리고 환경변수를 다시 loading 해주자\n",
    "\n",
    "이걸로 설정은 끝이다\n",
    "\"\"\"\n",
    "None"
   ]
  },
  {
   "cell_type": "markdown",
   "id": "543d2128-1169-4996-bf46-db3ce8dc60a5",
   "metadata": {},
   "source": [
    "# Retrieval QA"
   ]
  },
  {
   "cell_type": "markdown",
   "id": "129e1c3a-7e7d-4b8a-bfcd-72b767a61d05",
   "metadata": {},
   "source": [
    "## Stuff documents chain "
   ]
  },
  {
   "cell_type": "markdown",
   "id": "18f16225-6cf7-4220-b481-83e3d1fc8a28",
   "metadata": {},
   "source": [
    "https://js.langchain.com/v0.1/docs/modules/chains/document/stuff/\n",
    "\n",
    "![](https://js.langchain.com/v0.1/assets/images/stuff-818da4c66ee17911bc8861c089316579.jpg)"
   ]
  },
  {
   "cell_type": "code",
   "execution_count": 75,
   "id": "d0a29115-efe0-480a-86f8-9a857f332d59",
   "metadata": {},
   "outputs": [],
   "source": [
    "# v0.3\n",
    "from langchain.chains.retrieval_qa.base import RetrievalQA\n",
    "# https://python.langchain.com/api_reference/langchain/chains/langchain.chains.retrieval_qa.base.RetrievalQA.html\n",
    "# Chain for question-answering against an index.\n"
   ]
  },
  {
   "cell_type": "code",
   "execution_count": 76,
   "id": "cca234cc-cca7-4c09-aec4-a32238d0fe35",
   "metadata": {},
   "outputs": [
    {
     "name": "stderr",
     "output_type": "stream",
     "text": [
      "libmagic is unavailable but assists in filetype detection. Please consider installing libmagic for better results.\n"
     ]
    }
   ],
   "source": [
    "llm = ChatOpenAI()\n",
    "\n",
    "cache_dir = LocalFileStore(os.path.join(base_path, \".cache\"))\n",
    "\n",
    "splitter = CharacterTextSplitter.from_tiktoken_encoder(\n",
    "    separator=\"\\n\",\n",
    "    chunk_size=600,\n",
    "    chunk_overlap=100,\n",
    ")\n",
    "\n",
    "loader = UnstructuredFileLoader(os.path.join(base_path, 'chapter_one.txt'))\n",
    "\n",
    "docs = loader.load_and_split(text_splitter=splitter)\n",
    "\n",
    "embeddings = OpenAIEmbeddings()\n",
    "\n",
    "cached_embeddings = CacheBackedEmbeddings.from_bytes_store(embeddings, cache_dir)\n",
    "\n",
    "vectorstore = Chroma.from_documents(docs, cached_embeddings)"
   ]
  },
  {
   "cell_type": "code",
   "execution_count": 77,
   "id": "c3b36ca6-9a3b-410c-b745-96f62c63bfff",
   "metadata": {},
   "outputs": [
    {
     "data": {
      "text/plain": [
       "{'query': 'Where does Winston live?',\n",
       " 'result': 'Winston lives in Victory Mansions, which is a place described as having a grim atmosphere with a colored poster of a face, and he resides on the seventh floor of the building.'}"
      ]
     },
     "execution_count": 77,
     "metadata": {},
     "output_type": "execute_result"
    }
   ],
   "source": [
    "chain = RetrievalQA.from_chain_type(   # => RetrievalQA 생성 (chain 을 생성!)\n",
    "    llm=llm,\n",
    "\n",
    "    chain_type=\"stuff\",  # stuff 가 default 다\n",
    "\n",
    "    # retriever= 는 class interface 다\n",
    "    #  Document들을 여러 소스로부터부터 retrieve(선별해서 가져오기) 할 수 있다.\n",
    "    #  (vector store 뿐 아니라, DB, doc, cloud, 등 다른 곳에서부터도 가능)\n",
    "    #  기존에 만들어 놓은 vectorstore로부터 retriever 를 뽑아올수 있다. =>  .as_retriever()\n",
    "    retriever=vectorstore.as_retriever()\n",
    ")\n",
    "\n",
    "# chain 호출\n",
    "chain.invoke(\"Where does Winston live?\")\n"
   ]
  },
  {
   "cell_type": "code",
   "execution_count": 78,
   "id": "30c9b2d5-27ad-4936-9ffd-cfed2e406c41",
   "metadata": {},
   "outputs": [
    {
     "data": {
      "text/plain": [
       "{'query': 'Describe Victory Mansions',\n",
       " 'result': 'Victory Mansions is a building with a hallway that smells of boiled cabbage and old rag mats. The building has a coloured poster at one end depicting an enormous face of a man about forty-five with a heavy black moustache. The flat in the building is seven flights up, and the protagonist, Winston, lives there. The building is described as not having a reliable lift, and there is a constant reminder that \"BIG BROTHER IS WATCHING YOU\" displayed on a poster on each landing. The interior of the flat seems to be equipped with a telescreen that cannot be completely shut off.'}"
      ]
     },
     "execution_count": 78,
     "metadata": {},
     "output_type": "execute_result"
    }
   ],
   "source": [
    "chain.invoke(\"Describe Victory Mansions\")"
   ]
  },
  {
   "cell_type": "markdown",
   "id": "2f54998b-e098-462c-9740-22aff138f112",
   "metadata": {},
   "source": [
    "## Refine document chain"
   ]
  },
  {
   "cell_type": "markdown",
   "id": "eb0d334f-50ac-498b-8f48-4230a3532d86",
   "metadata": {},
   "source": [
    "https://js.langchain.com/v0.1/docs/modules/chains/document/refine/\n",
    "\n",
    "![](https://js.langchain.com/v0.1/assets/images/refine-a70f30dd7ada6fe5e3fcc40dd70de037.jpg)"
   ]
  },
  {
   "cell_type": "markdown",
   "id": "a22d681f-5133-438c-a965-bdf9b255c31b",
   "metadata": {},
   "source": [
    "## Map Reduce document chain"
   ]
  },
  {
   "cell_type": "markdown",
   "id": "4d49f029-a42c-4ff4-a12c-377ccf192a60",
   "metadata": {},
   "source": [
    "https://js.langchain.com/v0.1/docs/modules/chains/document/map_reduce/\n",
    "\n",
    "![](https://js.langchain.com/v0.1/assets/images/map_reduce-c65525a871b62f5cacef431625c4d133.jpg)\n",
    "\n"
   ]
  },
  {
   "cell_type": "markdown",
   "id": "d322af3b-9cb3-4a23-aa8c-be542752157b",
   "metadata": {},
   "source": [
    "## Map re-rank documents chain"
   ]
  },
  {
   "cell_type": "markdown",
   "id": "29eaf9c1-3027-4107-a68b-7cc324b70fe5",
   "metadata": {},
   "source": [
    "![](https://www.jiniai.biz/wp-content/uploads/2023/11/image-8-1024x380.png)"
   ]
  },
  {
   "cell_type": "code",
   "execution_count": 79,
   "id": "6539687e-f7ed-40b6-ab68-0920378e0c4b",
   "metadata": {},
   "outputs": [
    {
     "data": {
      "text/plain": [
       "{'query': 'Where does Winston live?',\n",
       " 'result': \"The additional context provided further highlights Winston's living situation in Victory Mansions. Despite the constant surveillance from the telescreen in his living room, Winston finds a way to sit in a specific alcove where he can avoid being directly seen by the screen. This detail showcases Winston's attempts to find some semblance of privacy and autonomy within the oppressive environment of the Party-controlled apartment building. \\n\\nThe mention of the book that Winston acquires from a junk shop adds another layer to his living situation. The fact that owning such a book is considered a compromising possession in a society where free thought and individuality are suppressed underscores the restrictions on personal freedoms that Winston faces in his living space. The antique nature of the book and the risk he takes in obtaining it further emphasize the oppressive nature of his living conditions and the lengths he is willing to go to find a sense of individuality in a world where conformity is strictly enforced.\"}"
      ]
     },
     "execution_count": 79,
     "metadata": {},
     "output_type": "execute_result"
    }
   ],
   "source": [
    "chain = RetrievalQA.from_chain_type(\n",
    "    llm=llm,\n",
    "\n",
    "    # RetrievalQA 를 사용하는 장점중 하나 chain_type= 은 손쉽게 바꿀수 있다.\n",
    "    chain_type=\"refine\",  # Refine document chain\n",
    "\n",
    "    retriever=vectorstore.as_retriever()\n",
    ")\n",
    "\n",
    "# chain 호출\n",
    "chain.invoke(\"Where does Winston live?\")"
   ]
  },
  {
   "cell_type": "markdown",
   "id": "7de55cf5-0508-42f6-b898-0565cbd49e99",
   "metadata": {},
   "source": [
    "## FAISS vector store\n",
    "\n",
    "- FAISS (Facebook AI Similarity Search) 는 Facebook AI에서 개발한 고속 벡터 검색 및 유사도 검색 라이브러리.\n",
    "- 대량의 고차원 벡터 데이터를 빠르게 검색할 수 있도록 최적화되어 있다,\n",
    "- AI, 자연어 처리(NLP), 이미지 검색, 추천 시스템 등에서 자주 사용됨."
   ]
  },
  {
   "cell_type": "code",
   "execution_count": 80,
   "id": "8b64d030-de94-4ae0-bda9-b64a8851ba2a",
   "metadata": {},
   "outputs": [],
   "source": [
    "\"\"\"\n",
    "Chroma 는 내 컴퓨터에서 local 로 실행되는 vector store 다.\n",
    "\n",
    "FAISS 라는 local로 실행되는 vector store 도 있다. (가끔은 이게 더 좋은 성능을 보이기도 한다)\n",
    "\n",
    "※ FAISS 나 Chroma 는 무료로 사용할수 있는 로컬 vector store 다\n",
    "  나중에 실제 서비스에서 사용한다면 cloud 기반의 vector store 를 찾아야 한다\n",
    "\"\"\"\n",
    "None\n"
   ]
  },
  {
   "cell_type": "code",
   "execution_count": 81,
   "id": "e7275aad-fea9-4d65-9bb8-71a44186bd1e",
   "metadata": {},
   "outputs": [],
   "source": [
    "# v0.3\n",
    "from langchain_community.vectorstores.faiss import FAISS\n",
    "# FAISS vector store integration.\n",
    "\n",
    "# https://python.langchain.com/api_reference/community/vectorstores/langchain_community.vectorstores.faiss.FAISS.html"
   ]
  },
  {
   "cell_type": "code",
   "execution_count": null,
   "id": "6a607e17-aaa7-41b2-b1de-05039f974ad0",
   "metadata": {},
   "outputs": [],
   "source": [
    "# 사용하려면 faiss-cpu, 혹은 faise-gpu 필요\n",
    "# !pip install faiss-cpu"
   ]
  },
  {
   "cell_type": "code",
   "execution_count": 82,
   "id": "3dd54e42-e997-41f4-ba61-a05c6d71612f",
   "metadata": {},
   "outputs": [],
   "source": [
    "vectorstore = FAISS.from_documents(documents, embeddings)"
   ]
  },
  {
   "cell_type": "code",
   "execution_count": 83,
   "id": "f57996dd-e52e-4449-8bb8-c81d8c6f935d",
   "metadata": {},
   "outputs": [
    {
     "data": {
      "text/plain": [
       "{'query': 'Where does Winston live?',\n",
       " 'result': 'Winston lives in a small apartment in Victory Mansions, a dilapidated building in a dystopian society controlled by a totalitarian regime led by Big Brother. The Ministry of Love, a terrifying place impossible to enter except on official business, looms nearby with its heavily guarded perimeters. Winston carefully navigates his movements within his apartment, always mindful of the telescreen watching his every action, knowing that even the smallest slip-up could lead to severe repercussions from the oppressive regime. He finds solace in his forbidden book and secret moments of defiance, such as indulging in Victory Gin and cigarettes, as he grapples with the suffocating control and constant surveillance imposed on every aspect of his existence.'}"
      ]
     },
     "execution_count": 83,
     "metadata": {},
     "output_type": "execute_result"
    }
   ],
   "source": [
    "chain = RetrievalQA.from_chain_type(\n",
    "    llm=llm,\n",
    "\n",
    "    chain_type=\"refine\",\n",
    "\n",
    "    retriever=vectorstore.as_retriever()\n",
    ")\n",
    "\n",
    "# chain 호출\n",
    "chain.invoke(\"Where does Winston live?\")"
   ]
  },
  {
   "cell_type": "code",
   "execution_count": 84,
   "id": "ba58ae9f-ac3a-4cf5-b9ce-ee3de9c1c013",
   "metadata": {},
   "outputs": [
    {
     "data": {
      "text/plain": [
       "{'query': 'Describe Victory Mansions',\n",
       " 'result': \"The new context provided further description of Winston's living quarters within Victory Mansions, highlighting the unique layout of the room with the telescreen placed in an unusual position. This positioning allows Winston to sit in an alcove and remain out of sight from the telescreen, enabling him to engage in prohibited activities without immediate detection. Additionally, the description of the book Winston acquires, an old and rare item, adds to the forbidden nature of his actions, as possession of such items is considered compromising and could lead to severe consequences if discovered by the Party.\\n\\nVictory Mansions, with its deteriorating infrastructure and strict surveillance, serves as a symbol of the oppressive regime under which Winston lives. The ominous presence of the telescreens in every room, including Winston's living space, illustrates the constant monitoring and control imposed by the Party. Despite the bleak environment and the restrictions imposed on its residents, individuals like Winston seek moments of rebellion and autonomy, as seen in his clandestine acquisition of the forbidden book. This act of defiance within the confines of Victory Mansions reflects the underlying tension between conformity and resistance in Orwell's dystopian world.\"}"
      ]
     },
     "execution_count": 84,
     "metadata": {},
     "output_type": "execute_result"
    }
   ],
   "source": [
    "chain.invoke(\"Describe Victory Mansions\")"
   ]
  },
  {
   "cell_type": "code",
   "execution_count": 86,
   "id": "8613329d-1f2b-4454-a558-5663c7053b53",
   "metadata": {},
   "outputs": [
    {
     "name": "stdout",
     "output_type": "stream",
     "text": [
      "{'query': 'Where does Winston live?', 'result': 'Winston lives in Victory Mansions, near the Ministry of Love. The specific address or location of his flat is not mentioned in the extracted parts of the document.'}\n",
      "🟨🟨🟨🟨🟨🟨🟨🟨🟨🟨🟨🟨🟨🟨🟨🟨🟨🟨🟨🟨\n",
      "{'query': 'Describe Victory Mansions', 'result': 'Victory Mansions is described as a dilapidated, run-down apartment complex in the novel 1984 by George Orwell. The building is characterized by its crumbling infrastructure, lack of basic amenities, and constant state of disrepair. Surrounding the building are remnants of bombed-out houses, adding to the bleak and desolate atmosphere of the area. The living conditions in Victory Mansions are squalid and oppressive, reflecting the overall oppressive and authoritarian society depicted in the novel.'}\n"
     ]
    }
   ],
   "source": [
    "chain = RetrievalQA.from_chain_type(\n",
    "    llm=llm,\n",
    "\n",
    "    chain_type=\"map_reduce\",  # Map Reduce document chain\n",
    "\n",
    "    retriever=vectorstore.as_retriever()\n",
    ")\n",
    "\n",
    "# chain 호출\n",
    "print(chain.invoke(\"Where does Winston live?\"))\n",
    "print('🟨' * 20)\n",
    "print(chain.invoke(\"Describe Victory Mansions\"))"
   ]
  },
  {
   "cell_type": "code",
   "execution_count": 87,
   "id": "9b9394ae-a04e-4751-af79-83fe761845de",
   "metadata": {},
   "outputs": [
    {
     "name": "stderr",
     "output_type": "stream",
     "text": [
      "D:\\NLP2501\\NLPWork\\.venv\\Lib\\site-packages\\langchain\\chains\\llm.py:369: UserWarning: The apply_and_parse method is deprecated, instead pass an output parser directly to LLMChain.\n",
      "  warnings.warn(\n"
     ]
    },
    {
     "name": "stdout",
     "output_type": "stream",
     "text": [
      "{'query': 'Where does Winston live?', 'result': 'Victory Mansions'}\n",
      "🟨🟨🟨🟨🟨🟨🟨🟨🟨🟨🟨🟨🟨🟨🟨🟨🟨🟨🟨🟨\n"
     ]
    },
    {
     "name": "stderr",
     "output_type": "stream",
     "text": [
      "D:\\NLP2501\\NLPWork\\.venv\\Lib\\site-packages\\langchain\\chains\\llm.py:369: UserWarning: The apply_and_parse method is deprecated, instead pass an output parser directly to LLMChain.\n",
      "  warnings.warn(\n"
     ]
    },
    {
     "name": "stdout",
     "output_type": "stream",
     "text": [
      "{'query': 'Describe Victory Mansions', 'result': 'Victory Mansions is a dilapidated building with a gritty, smelly hallway that smells like boiled cabbage and old rag mats. The building has seven flights of stairs, with a broken lift that is seldom working. The hallway features a large coloured poster of a man\\'s face with a caption that reads \"BIG BROTHER IS WATCHING YOU.\" Inside the flat, there is a telescreen that constantly broadcasts figures related to the production of pig-iron. The protagonist, Winston, lives in one of the flats in Victory Mansions.'}\n"
     ]
    }
   ],
   "source": [
    "chain = RetrievalQA.from_chain_type(\n",
    "    llm=llm,\n",
    "\n",
    "    chain_type=\"map_rerank\",  # Map Re-rank document chain\n",
    "\n",
    "    retriever=vectorstore.as_retriever()\n",
    ")\n",
    "\n",
    "# chain 호출\n",
    "print(chain.invoke(\"Where does Winston live?\"))\n",
    "print('🟨' * 20)\n",
    "print(chain.invoke(\"Describe Victory Mansions\"))"
   ]
  },
  {
   "cell_type": "markdown",
   "id": "3df8ad91-44df-4989-b170-ef686b8e9ff8",
   "metadata": {},
   "source": [
    "# Sfuff LCEL Chain"
   ]
  },
  {
   "cell_type": "markdown",
   "id": "ccc0e4f7-e563-4788-8c9c-05d5a95019e1",
   "metadata": {},
   "source": [
    "## Retriever\n",
    "Retriever 도 Chain 을 구성하는 component 다\n",
    "\n",
    "https://python.langchain.com/docs/concepts/retrievers/\n",
    "\n",
    "- Retriever 의 입력\n",
    "  - 질문이나, 그와 관련성이 있는 Document 를 얻기위한 query (한개의 string)\n",
    "\n",
    "- Retriever 의 출력\n",
    "  - Document 들의 List\n",
    "\n",
    "![](https://python.langchain.com/assets/images/retriever_concept-1093f15a8f63ddb90bd23decbd249ea5.png)\n"
   ]
  },
  {
   "cell_type": "code",
   "execution_count": 88,
   "id": "ced84294-6e5e-467d-bf6b-bbca3304b07a",
   "metadata": {},
   "outputs": [],
   "source": [
    "llm = ChatOpenAI(temperature=0.1)"
   ]
  },
  {
   "cell_type": "code",
   "execution_count": 89,
   "id": "92173603-17d0-48f1-8b16-3af8572d4269",
   "metadata": {},
   "outputs": [],
   "source": [
    "retriever = vectorstore.as_retriever()"
   ]
  },
  {
   "cell_type": "code",
   "execution_count": 91,
   "id": "d9847a20-cb04-40ec-9e7c-9b6ce0cfe77c",
   "metadata": {},
   "outputs": [],
   "source": [
    "from langchain_core.prompts.chat import ChatPromptTemplate"
   ]
  },
  {
   "cell_type": "code",
   "execution_count": 92,
   "id": "ba212acc-1302-4d56-b2b9-08ec978a7a80",
   "metadata": {},
   "outputs": [],
   "source": [
    "# chain 에서 retreiver 는 Document 의 list 를 리턴하게 된다\n",
    "# 그리고 그 document 들은 template 에 입력되어야 한다\n",
    "# 그렇게 만들어진 prompt 가 LLM 에 전달되어야 한다.\n",
    "\n",
    "prompt = ChatPromptTemplate.from_messages([\n",
    "    (\n",
    "        \"system\",\n",
    "        \"\"\"\n",
    "        You are a helpful assistant.\n",
    "        Answer questions using only the following context.\n",
    "        If you don't know the answer just say you don't know,\n",
    "        don't make it up:\\n\\n{context}\n",
    "        \"\"\",\n",
    "    ),\n",
    "    (\"human\", \"{question}\"),    \n",
    "])"
   ]
  },
  {
   "cell_type": "code",
   "execution_count": 93,
   "id": "d8323031-c40b-419e-90c1-da51ac8a1420",
   "metadata": {},
   "outputs": [],
   "source": [
    "chain = retriever | prompt | llm"
   ]
  },
  {
   "cell_type": "code",
   "execution_count": 94,
   "id": "0590893d-9fdf-4d9c-ae0e-d764d3c4f516",
   "metadata": {},
   "outputs": [
    {
     "ename": "TypeError",
     "evalue": "Expected mapping type as input to ChatPromptTemplate. Received <class 'list'>.\nFor troubleshooting, visit: https://python.langchain.com/docs/troubleshooting/errors/INVALID_PROMPT_INPUT ",
     "output_type": "error",
     "traceback": [
      "\u001b[31m---------------------------------------------------------------------------\u001b[39m",
      "\u001b[31mTypeError\u001b[39m                                 Traceback (most recent call last)",
      "\u001b[36mCell\u001b[39m\u001b[36m \u001b[39m\u001b[32mIn[94]\u001b[39m\u001b[32m, line 1\u001b[39m\n\u001b[32m----> \u001b[39m\u001b[32m1\u001b[39m \u001b[43mchain\u001b[49m\u001b[43m.\u001b[49m\u001b[43minvoke\u001b[49m\u001b[43m(\u001b[49m\u001b[33;43m\"\u001b[39;49m\u001b[33;43mDescribe Victory Mansions\u001b[39;49m\u001b[33;43m\"\u001b[39;49m\u001b[43m)\u001b[49m\n",
      "\u001b[36mFile \u001b[39m\u001b[32mD:\\NLP2501\\NLPWork\\.venv\\Lib\\site-packages\\langchain_core\\runnables\\base.py:3047\u001b[39m, in \u001b[36mRunnableSequence.invoke\u001b[39m\u001b[34m(self, input, config, **kwargs)\u001b[39m\n\u001b[32m   3045\u001b[39m                 input_ = context.run(step.invoke, input_, config, **kwargs)\n\u001b[32m   3046\u001b[39m             \u001b[38;5;28;01melse\u001b[39;00m:\n\u001b[32m-> \u001b[39m\u001b[32m3047\u001b[39m                 input_ = \u001b[43mcontext\u001b[49m\u001b[43m.\u001b[49m\u001b[43mrun\u001b[49m\u001b[43m(\u001b[49m\u001b[43mstep\u001b[49m\u001b[43m.\u001b[49m\u001b[43minvoke\u001b[49m\u001b[43m,\u001b[49m\u001b[43m \u001b[49m\u001b[43minput_\u001b[49m\u001b[43m,\u001b[49m\u001b[43m \u001b[49m\u001b[43mconfig\u001b[49m\u001b[43m)\u001b[49m\n\u001b[32m   3048\u001b[39m \u001b[38;5;66;03m# finish the root run\u001b[39;00m\n\u001b[32m   3049\u001b[39m \u001b[38;5;28;01mexcept\u001b[39;00m \u001b[38;5;167;01mBaseException\u001b[39;00m \u001b[38;5;28;01mas\u001b[39;00m e:\n",
      "\u001b[36mFile \u001b[39m\u001b[32mD:\\NLP2501\\NLPWork\\.venv\\Lib\\site-packages\\langchain_core\\prompts\\base.py:216\u001b[39m, in \u001b[36mBasePromptTemplate.invoke\u001b[39m\u001b[34m(self, input, config, **kwargs)\u001b[39m\n\u001b[32m    214\u001b[39m \u001b[38;5;28;01mif\u001b[39;00m \u001b[38;5;28mself\u001b[39m.tags:\n\u001b[32m    215\u001b[39m     config[\u001b[33m\"\u001b[39m\u001b[33mtags\u001b[39m\u001b[33m\"\u001b[39m] = config[\u001b[33m\"\u001b[39m\u001b[33mtags\u001b[39m\u001b[33m\"\u001b[39m] + \u001b[38;5;28mself\u001b[39m.tags\n\u001b[32m--> \u001b[39m\u001b[32m216\u001b[39m \u001b[38;5;28;01mreturn\u001b[39;00m \u001b[38;5;28;43mself\u001b[39;49m\u001b[43m.\u001b[49m\u001b[43m_call_with_config\u001b[49m\u001b[43m(\u001b[49m\n\u001b[32m    217\u001b[39m \u001b[43m    \u001b[49m\u001b[38;5;28;43mself\u001b[39;49m\u001b[43m.\u001b[49m\u001b[43m_format_prompt_with_error_handling\u001b[49m\u001b[43m,\u001b[49m\n\u001b[32m    218\u001b[39m \u001b[43m    \u001b[49m\u001b[38;5;28;43minput\u001b[39;49m\u001b[43m,\u001b[49m\n\u001b[32m    219\u001b[39m \u001b[43m    \u001b[49m\u001b[43mconfig\u001b[49m\u001b[43m,\u001b[49m\n\u001b[32m    220\u001b[39m \u001b[43m    \u001b[49m\u001b[43mrun_type\u001b[49m\u001b[43m=\u001b[49m\u001b[33;43m\"\u001b[39;49m\u001b[33;43mprompt\u001b[39;49m\u001b[33;43m\"\u001b[39;49m\u001b[43m,\u001b[49m\n\u001b[32m    221\u001b[39m \u001b[43m    \u001b[49m\u001b[43mserialized\u001b[49m\u001b[43m=\u001b[49m\u001b[38;5;28;43mself\u001b[39;49m\u001b[43m.\u001b[49m\u001b[43m_serialized\u001b[49m\u001b[43m,\u001b[49m\n\u001b[32m    222\u001b[39m \u001b[43m\u001b[49m\u001b[43m)\u001b[49m\n",
      "\u001b[36mFile \u001b[39m\u001b[32mD:\\NLP2501\\NLPWork\\.venv\\Lib\\site-packages\\langchain_core\\runnables\\base.py:1940\u001b[39m, in \u001b[36mRunnable._call_with_config\u001b[39m\u001b[34m(self, func, input_, config, run_type, serialized, **kwargs)\u001b[39m\n\u001b[32m   1936\u001b[39m     child_config = patch_config(config, callbacks=run_manager.get_child())\n\u001b[32m   1937\u001b[39m     \u001b[38;5;28;01mwith\u001b[39;00m set_config_context(child_config) \u001b[38;5;28;01mas\u001b[39;00m context:\n\u001b[32m   1938\u001b[39m         output = cast(\n\u001b[32m   1939\u001b[39m             \u001b[33m\"\u001b[39m\u001b[33mOutput\u001b[39m\u001b[33m\"\u001b[39m,\n\u001b[32m-> \u001b[39m\u001b[32m1940\u001b[39m             \u001b[43mcontext\u001b[49m\u001b[43m.\u001b[49m\u001b[43mrun\u001b[49m\u001b[43m(\u001b[49m\n\u001b[32m   1941\u001b[39m \u001b[43m                \u001b[49m\u001b[43mcall_func_with_variable_args\u001b[49m\u001b[43m,\u001b[49m\u001b[43m  \u001b[49m\u001b[38;5;66;43;03m# type: ignore[arg-type]\u001b[39;49;00m\n\u001b[32m   1942\u001b[39m \u001b[43m                \u001b[49m\u001b[43mfunc\u001b[49m\u001b[43m,\u001b[49m\n\u001b[32m   1943\u001b[39m \u001b[43m                \u001b[49m\u001b[43minput_\u001b[49m\u001b[43m,\u001b[49m\n\u001b[32m   1944\u001b[39m \u001b[43m                \u001b[49m\u001b[43mconfig\u001b[49m\u001b[43m,\u001b[49m\n\u001b[32m   1945\u001b[39m \u001b[43m                \u001b[49m\u001b[43mrun_manager\u001b[49m\u001b[43m,\u001b[49m\n\u001b[32m   1946\u001b[39m \u001b[43m                \u001b[49m\u001b[43m*\u001b[49m\u001b[43m*\u001b[49m\u001b[43mkwargs\u001b[49m\u001b[43m,\u001b[49m\n\u001b[32m   1947\u001b[39m \u001b[43m            \u001b[49m\u001b[43m)\u001b[49m,\n\u001b[32m   1948\u001b[39m         )\n\u001b[32m   1949\u001b[39m \u001b[38;5;28;01mexcept\u001b[39;00m \u001b[38;5;167;01mBaseException\u001b[39;00m \u001b[38;5;28;01mas\u001b[39;00m e:\n\u001b[32m   1950\u001b[39m     run_manager.on_chain_error(e)\n",
      "\u001b[36mFile \u001b[39m\u001b[32mD:\\NLP2501\\NLPWork\\.venv\\Lib\\site-packages\\langchain_core\\runnables\\config.py:428\u001b[39m, in \u001b[36mcall_func_with_variable_args\u001b[39m\u001b[34m(func, input, config, run_manager, **kwargs)\u001b[39m\n\u001b[32m    426\u001b[39m \u001b[38;5;28;01mif\u001b[39;00m run_manager \u001b[38;5;129;01mis\u001b[39;00m \u001b[38;5;129;01mnot\u001b[39;00m \u001b[38;5;28;01mNone\u001b[39;00m \u001b[38;5;129;01mand\u001b[39;00m accepts_run_manager(func):\n\u001b[32m    427\u001b[39m     kwargs[\u001b[33m\"\u001b[39m\u001b[33mrun_manager\u001b[39m\u001b[33m\"\u001b[39m] = run_manager\n\u001b[32m--> \u001b[39m\u001b[32m428\u001b[39m \u001b[38;5;28;01mreturn\u001b[39;00m \u001b[43mfunc\u001b[49m\u001b[43m(\u001b[49m\u001b[38;5;28;43minput\u001b[39;49m\u001b[43m,\u001b[49m\u001b[43m \u001b[49m\u001b[43m*\u001b[49m\u001b[43m*\u001b[49m\u001b[43mkwargs\u001b[49m\u001b[43m)\u001b[49m\n",
      "\u001b[36mFile \u001b[39m\u001b[32mD:\\NLP2501\\NLPWork\\.venv\\Lib\\site-packages\\langchain_core\\prompts\\base.py:189\u001b[39m, in \u001b[36mBasePromptTemplate._format_prompt_with_error_handling\u001b[39m\u001b[34m(self, inner_input)\u001b[39m\n\u001b[32m    188\u001b[39m \u001b[38;5;28;01mdef\u001b[39;00m\u001b[38;5;250m \u001b[39m\u001b[34m_format_prompt_with_error_handling\u001b[39m(\u001b[38;5;28mself\u001b[39m, inner_input: \u001b[38;5;28mdict\u001b[39m) -> PromptValue:\n\u001b[32m--> \u001b[39m\u001b[32m189\u001b[39m     _inner_input = \u001b[38;5;28;43mself\u001b[39;49m\u001b[43m.\u001b[49m\u001b[43m_validate_input\u001b[49m\u001b[43m(\u001b[49m\u001b[43minner_input\u001b[49m\u001b[43m)\u001b[49m\n\u001b[32m    190\u001b[39m     \u001b[38;5;28;01mreturn\u001b[39;00m \u001b[38;5;28mself\u001b[39m.format_prompt(**_inner_input)\n",
      "\u001b[36mFile \u001b[39m\u001b[32mD:\\NLP2501\\NLPWork\\.venv\\Lib\\site-packages\\langchain_core\\prompts\\base.py:165\u001b[39m, in \u001b[36mBasePromptTemplate._validate_input\u001b[39m\u001b[34m(self, inner_input)\u001b[39m\n\u001b[32m    160\u001b[39m     \u001b[38;5;28;01melse\u001b[39;00m:\n\u001b[32m    161\u001b[39m         msg = (\n\u001b[32m    162\u001b[39m             \u001b[33mf\u001b[39m\u001b[33m\"\u001b[39m\u001b[33mExpected mapping type as input to \u001b[39m\u001b[38;5;132;01m{\u001b[39;00m\u001b[38;5;28mself\u001b[39m.\u001b[34m__class__\u001b[39m.\u001b[34m__name__\u001b[39m\u001b[38;5;132;01m}\u001b[39;00m\u001b[33m. \u001b[39m\u001b[33m\"\u001b[39m\n\u001b[32m    163\u001b[39m             \u001b[33mf\u001b[39m\u001b[33m\"\u001b[39m\u001b[33mReceived \u001b[39m\u001b[38;5;132;01m{\u001b[39;00m\u001b[38;5;28mtype\u001b[39m(inner_input)\u001b[38;5;132;01m}\u001b[39;00m\u001b[33m.\u001b[39m\u001b[33m\"\u001b[39m\n\u001b[32m    164\u001b[39m         )\n\u001b[32m--> \u001b[39m\u001b[32m165\u001b[39m         \u001b[38;5;28;01mraise\u001b[39;00m \u001b[38;5;167;01mTypeError\u001b[39;00m(\n\u001b[32m    166\u001b[39m             create_message(\n\u001b[32m    167\u001b[39m                 message=msg, error_code=ErrorCode.INVALID_PROMPT_INPUT\n\u001b[32m    168\u001b[39m             )\n\u001b[32m    169\u001b[39m         )\n\u001b[32m    170\u001b[39m missing = \u001b[38;5;28mset\u001b[39m(\u001b[38;5;28mself\u001b[39m.input_variables).difference(inner_input)\n\u001b[32m    171\u001b[39m \u001b[38;5;28;01mif\u001b[39;00m missing:\n",
      "\u001b[31mTypeError\u001b[39m: Expected mapping type as input to ChatPromptTemplate. Received <class 'list'>.\nFor troubleshooting, visit: https://python.langchain.com/docs/troubleshooting/errors/INVALID_PROMPT_INPUT "
     ]
    }
   ],
   "source": [
    "chain.invoke(\"Describe Victory Mansions\")"
   ]
  },
  {
   "cell_type": "code",
   "execution_count": null,
   "id": "6c49e950-b72b-453f-be33-57bb61edd4f6",
   "metadata": {},
   "outputs": [],
   "source": [
    "# chain.invoke(\"Describe Victory Mansions\")   # <-- 에러\n",
    "\n",
    "# ↑↑↑↑↑↑\n",
    "# 1. 이 문자열 query기 retriever 에 전달되는거다.\n",
    "# 2. retriever 는 List[Document] 를 리턴할거고 prompt 의 {context} 로 전달된다.\n",
    "#    또한, query 는 prompt 의 {question}으로 입력되어야 하는데..\n",
    "\n",
    "#  당연히 지금은 작동하지 않는다.  (알아서 동작해주는게 아니다.)\n"
   ]
  },
  {
   "cell_type": "code",
   "execution_count": 95,
   "id": "d46b6dfa-74d6-420a-bba9-e231e2f12e27",
   "metadata": {},
   "outputs": [],
   "source": [
    "#  prompt 의 {context} property 는 retriever 로부터 오도록 하고\n",
    "#  retriever 는 invoke 에 입력해준 query 를 받아 호출(call)되어야 한다\n",
    "\n",
    "# 또한 query 는 prompt 의 {question} property 로 전달되게 해줘야 한다\n",
    "# 어떻게? RunnablePassthrough 를 사용!\n",
    "\n",
    "from langchain_core.runnables.passthrough import RunnablePassthrough\n",
    "\n",
    "# RunnablePassthrough 는 간단한 기능의 class 다.\n",
    "#  입력값을 말그대로 통과하게 (pass through) 해준다\n",
    "#  \"question\": RunnablePassthrough()  =>  \"question\": \"Descrive Victory Mansions\""
   ]
  },
  {
   "cell_type": "code",
   "execution_count": 96,
   "id": "824f448a-01b4-4d51-99fa-2b492da83d78",
   "metadata": {},
   "outputs": [
    {
     "data": {
      "text/plain": [
       "AIMessage(content='Victory Mansions is a building where Winston Smith resides. It is described as having glass doors, a hallway that smells of boiled cabbage and old rag mats, and being seven flights up. The building has a faulty lift, and the electricity is cut off during daylight hours as part of an economy drive in preparation for Hate Week. Inside the flat, there is a telescreen that cannot be completely shut off, and a fruity voice reading out figures related to the production of pig-iron. The building is also adorned with a poster depicting an enormous face with the caption \"BIG BROTHER IS WATCHING YOU.\"', additional_kwargs={'refusal': None}, response_metadata={'token_usage': {'completion_tokens': 124, 'prompt_tokens': 2104, 'total_tokens': 2228, 'completion_tokens_details': {'accepted_prediction_tokens': 0, 'audio_tokens': 0, 'reasoning_tokens': 0, 'rejected_prediction_tokens': 0}, 'prompt_tokens_details': {'audio_tokens': 0, 'cached_tokens': 0}}, 'model_name': 'gpt-3.5-turbo-0125', 'system_fingerprint': None, 'id': 'chatcmpl-BkUpqfrVp75k8QR0yc4mJwUbBi1jS', 'finish_reason': 'stop', 'logprobs': None}, id='run--8f3ba0ed-504b-44c8-9370-d2b5b606ba77-0', usage_metadata={'input_tokens': 2104, 'output_tokens': 124, 'total_tokens': 2228, 'input_token_details': {'audio': 0, 'cache_read': 0}, 'output_token_details': {'audio': 0, 'reasoning': 0}})"
      ]
     },
     "execution_count": 96,
     "metadata": {},
     "output_type": "execute_result"
    }
   ],
   "source": [
    "chain = {\"context\":retriever, \"question\": RunnablePassthrough()} | prompt | llm\n",
    "\n",
    "chain.invoke(\"Describe Victory Mansions\")"
   ]
  },
  {
   "cell_type": "code",
   "execution_count": 100,
   "id": "2f137062-36ac-4b09-a33c-86b11a6241a0",
   "metadata": {},
   "outputs": [
    {
     "data": {
      "text/plain": [
       "AIMessage(content='Victory Mansions is a building where Winston Smith resides. It is described as having glass doors through which gritty dust can enter. The hallway smells of boiled cabbage and old rag mats. The building has a faulty lift due to the electricity being cut off during daylight hours as part of an economy drive. Winston\\'s flat in Victory Mansions is on the seventh floor, and the building has a large colored poster of an enormous face with the caption \"BIG BROTHER IS WATCHING YOU\" displayed inside.', additional_kwargs={'refusal': None}, response_metadata={'token_usage': {'completion_tokens': 101, 'prompt_tokens': 2104, 'total_tokens': 2205, 'completion_tokens_details': {'accepted_prediction_tokens': 0, 'audio_tokens': 0, 'reasoning_tokens': 0, 'rejected_prediction_tokens': 0}, 'prompt_tokens_details': {'audio_tokens': 0, 'cached_tokens': 0}}, 'model_name': 'gpt-3.5-turbo-0125', 'system_fingerprint': None, 'id': 'chatcmpl-BkUsLFEkShbtN7lx0QKoy4iVIunGN', 'finish_reason': 'stop', 'logprobs': None}, id='run--c2936eae-9fd4-4259-9e25-1abf4a0e58c6-0', usage_metadata={'input_tokens': 2104, 'output_tokens': 101, 'total_tokens': 2205, 'input_token_details': {'audio': 0, 'cache_read': 0}, 'output_token_details': {'audio': 0, 'reasoning': 0}})"
      ]
     },
     "execution_count": 100,
     "metadata": {},
     "output_type": "execute_result"
    }
   ],
   "source": [
    "chain = (\n",
    "    {\n",
    "        \"context\":retriever, \n",
    "        \"question\": RunnablePassthrough(),\n",
    "        \"xxxx\": RunnablePassthrough(),\n",
    "    } \n",
    "    | prompt \n",
    "    | llm\n",
    ")\n",
    "\n",
    "chain.invoke(\"Describe Victory Mansions\")"
   ]
  },
  {
   "cell_type": "markdown",
   "id": "54190c39-c2ef-4114-9d29-f850a6b68696",
   "metadata": {},
   "source": [
    "# Map Reduce LCEL Chain"
   ]
  },
  {
   "cell_type": "markdown",
   "id": "60722e6f-530c-417d-b04e-04c9fc6ad7d3",
   "metadata": {},
   "source": [
    "https://js.langchain.com/v0.1/docs/modules/chains/document/map_reduce/\n",
    "\n",
    "![](https://js.langchain.com/v0.1/assets/images/map_reduce-c65525a871b62f5cacef431625c4d133.jpg)\n",
    "\n"
   ]
  },
  {
   "cell_type": "code",
   "execution_count": null,
   "id": "e53bf14b-d993-4652-aedf-d2b67c921964",
   "metadata": {},
   "outputs": [],
   "source": [
    "\"\"\"\n",
    "> query 가 주어지면 retriever 로부터  List[Document] 를 얻어낸다\n",
    "  list of docs\n",
    "\n",
    "> 각각의 Document 를 위한 prompt 를 만들어 준뒤 llm 에 전달할거다.\n",
    "     for doc in list of docs | prompt | llm\n",
    "\n",
    "  ↑ 이때 prompt 는 '이 Document 를 읽고, 사용자의 질문에 답변하기에 적절한(관련있는) 정보를 추출하세요'\n",
    "  그러면, 이를 전달받은 LLM 은 응답을 출력할거다\n",
    "\n",
    "> 그리고 LLM 으로 부터 받은 response 들을 취합해 하나의 Document 를 만들어낼거다\n",
    "\n",
    "   for resposne in list of llms response | put them all together\n",
    "\n",
    "> 그렇게 만들어진 단 하나의 최종 Document가, LLM 을 위한 prompt 로 전달될거다.\n",
    "\n",
    "  final doc | prompt | llm\n",
    "\n",
    "\"\"\"\n",
    "None"
   ]
  },
  {
   "cell_type": "code",
   "execution_count": 101,
   "id": "34c780b3-93ab-4ebc-bfa1-1fd597c742a3",
   "metadata": {},
   "outputs": [
    {
     "data": {
      "text/plain": [
       "AIMessage(content='Victory Mansions is a dilapidated and run-down apartment building in a dystopian society where Winston resides. The building is characterized by cramped living spaces, lack of basic amenities, and a general sense of decay. It has glass doors letting in gritty dust, a hallway smelling of boiled cabbage, and an old rag mat. A colored poster of an enormous face with the caption \"BIG BROTHER IS WATCHING YOU\" is tacked to the wall. The building has a faulty lift, intermittent electricity, and a telescreen for surveillance. It is located in a slummy quarter of the town and is where all four Ministries of the government can be seen simultaneously.', additional_kwargs={'refusal': None}, response_metadata={'token_usage': {'completion_tokens': 137, 'prompt_tokens': 490, 'total_tokens': 627, 'completion_tokens_details': {'accepted_prediction_tokens': 0, 'audio_tokens': 0, 'reasoning_tokens': 0, 'rejected_prediction_tokens': 0}, 'prompt_tokens_details': {'audio_tokens': 0, 'cached_tokens': 0}}, 'model_name': 'gpt-3.5-turbo-0125', 'system_fingerprint': None, 'id': 'chatcmpl-BkVNbFrvWCxCAIaKblbccKEyGbB7M', 'finish_reason': 'stop', 'logprobs': None}, id='run--87fcb527-a1d6-434c-93aa-270765688de6-0', usage_metadata={'input_tokens': 490, 'output_tokens': 137, 'total_tokens': 627, 'input_token_details': {'audio': 0, 'cache_read': 0}, 'output_token_details': {'audio': 0, 'reasoning': 0}})"
      ]
     },
     "execution_count": 101,
     "metadata": {},
     "output_type": "execute_result"
    }
   ],
   "source": [
    "# ▶ list of docs\n",
    "\n",
    "# ▶ for doc in list of docs | prompt | llm\n",
    "\n",
    "# ▶ for resposne in list of llms responee | put them all together\n",
    "\n",
    "# ▶ final doc | prompt | llm\n",
    "\n",
    "# v0.3\n",
    "from langchain_core.runnables.base import RunnableLambda\n",
    "# https://python.langchain.com/api_reference/core/runnables/langchain_core.runnables.base.RunnableLambda.html\n",
    "# RunnableLambda converts a python callable into a Runnable.\n",
    "\n",
    "# ---------------------------------------------------------------\n",
    "# map_doc_chain 은 저 아래 map_docs() 안에서 각 document 에 대해 실행될 chain 이다\n",
    "map_doc_prompt = ChatPromptTemplate.from_messages([\n",
    "    (\n",
    "      \"system\",\n",
    "      \"\"\"\n",
    "      Use the following portion of a long document to see if any of the text is relevant to answer the question.\n",
    "      Return any relevant text verbatim.\n",
    "      If there is no relevant text, return : ''\n",
    "      -------\n",
    "      {context}\n",
    "      \"\"\",\n",
    "    ),\n",
    "    (\"human\", \"{question}\"),    \n",
    "])\n",
    "\n",
    "map_doc_chain = map_doc_prompt | llm\n",
    "\n",
    "\n",
    "# ---------------------------------------------------------------\n",
    "#  map_docs(inputs) 함수는\n",
    "#    저 아래에 있는 map_chain 에서의 출력을 받아서 수행할 함수.\n",
    "#    리턴값은 한개의 string 이어야 한다.  (※아래 map_chain 에서 설명)\n",
    "def map_docs(inputs):\n",
    "    documents = inputs['documents']\n",
    "    question = inputs['question']\n",
    "\n",
    "    # 각각의 Document 에 대해 또 다른 체인\n",
    "    # map_doc_chain 을 수행한 결과를 join 하여 하나의 string 으로 리턴.\n",
    "    return \"\\n\\n\".join(\n",
    "        map_doc_chain.invoke(\n",
    "            {\n",
    "                \"context\": doc.page_content,\n",
    "                \"question\": question\n",
    "            }\n",
    "        ).content\n",
    "        for doc in documents\n",
    "    )\n",
    "\n",
    "\n",
    "# ---------------------------------------------------------------\n",
    "# map_chain 은 최종 chain 내부 에서 호출될거다.\n",
    "# map_chain 은 두개의 데이터 필요\n",
    "# - documents : documents 는 retriever 를 사용해 얻을수 있다.\n",
    "# - question : map_chain 은 사용자 질문이 필요.  그래야 LLM 에게 요청할 수 있다.\n",
    "#         '각 document' 를 살펴보면서 사용자 질문에 대답하는데 필요한 정보가\n",
    "#         담겨져 있는지 알아보고 추출해달라고 하는 거다.\n",
    "#\n",
    "map_chain = (\n",
    "    {\n",
    "        \"documents\": retriever,    # retriever(\"Describe Victory Mansions\") 호출 => List[Document] 리턴\n",
    "        \"question\": RunnablePassthrough(),\n",
    "    }    \n",
    "    #  위 결과를 map_docs() 의 input 으로 주어 호출할거다. 이를 위해 RunnableLambda\n",
    ") | RunnableLambda(map_docs)\n",
    "\n",
    "# ---------------------------------------------------------\n",
    "final_prompt = ChatPromptTemplate.from_messages([\n",
    "    (\n",
    "      \"system\",\n",
    "      \"\"\"\n",
    "      Given the following extracted parts of a long document and a question, create a final answer.\n",
    "      If you don't know the answer, just say that you don't know. Don't try to make up an answer.\n",
    "      ------\n",
    "      {context}\n",
    "      \"\"\",\n",
    "    ),\n",
    "    (\"human\", \"{question}\"),    \n",
    "])\n",
    "\n",
    "\n",
    "chain = {\"context\": map_chain, \"question\": RunnablePassthrough()} | final_prompt | llm \n",
    "\n",
    "chain.invoke(\"Describe Victory Mansions\")  # <- 최종적으로 실행할 query"
   ]
  },
  {
   "cell_type": "code",
   "execution_count": null,
   "id": "2afd9f7e-d391-4e31-b75e-0c24be047514",
   "metadata": {},
   "outputs": [],
   "source": []
  },
  {
   "cell_type": "code",
   "execution_count": null,
   "id": "aba60cd7-85af-4867-a9c7-cc1f14d46b40",
   "metadata": {},
   "outputs": [],
   "source": []
  },
  {
   "cell_type": "code",
   "execution_count": null,
   "id": "999246c4-e41d-45ec-974b-327e8df74f55",
   "metadata": {},
   "outputs": [],
   "source": []
  },
  {
   "cell_type": "code",
   "execution_count": null,
   "id": "4a09e7a5-2cac-48b4-81b3-72802e5c9a32",
   "metadata": {},
   "outputs": [],
   "source": []
  },
  {
   "cell_type": "code",
   "execution_count": null,
   "id": "63b24cd3-6b12-4c10-a881-ec62e6e7cb1e",
   "metadata": {},
   "outputs": [],
   "source": []
  },
  {
   "cell_type": "code",
   "execution_count": null,
   "id": "e09345ea-90a8-4a3f-bb42-af01dc05acce",
   "metadata": {},
   "outputs": [],
   "source": []
  },
  {
   "cell_type": "code",
   "execution_count": null,
   "id": "0ee6bd5d-6561-4547-91c9-6780ba1a434a",
   "metadata": {},
   "outputs": [],
   "source": []
  },
  {
   "cell_type": "code",
   "execution_count": null,
   "id": "8d059951-ed4b-4964-a678-1436c342e627",
   "metadata": {},
   "outputs": [],
   "source": []
  },
  {
   "cell_type": "code",
   "execution_count": null,
   "id": "a41a5497-f2da-4d89-9ea5-2ee9f8245cee",
   "metadata": {},
   "outputs": [],
   "source": []
  },
  {
   "cell_type": "code",
   "execution_count": null,
   "id": "297f9218-4866-4e59-8370-5c3cac549de2",
   "metadata": {},
   "outputs": [],
   "source": []
  },
  {
   "cell_type": "code",
   "execution_count": null,
   "id": "55d4d708-ac02-493f-ab03-e8775f86d79c",
   "metadata": {},
   "outputs": [],
   "source": []
  },
  {
   "cell_type": "code",
   "execution_count": null,
   "id": "f6452d8f-5ca6-44b4-b626-d5dbd6e6116c",
   "metadata": {},
   "outputs": [],
   "source": []
  },
  {
   "cell_type": "code",
   "execution_count": null,
   "id": "0e46a5af-3d0b-4cee-b557-9008d17d9ca2",
   "metadata": {},
   "outputs": [],
   "source": []
  },
  {
   "cell_type": "code",
   "execution_count": null,
   "id": "aa1d9db6-2f2d-47f0-929d-ad094dc2d4ae",
   "metadata": {},
   "outputs": [],
   "source": []
  },
  {
   "cell_type": "code",
   "execution_count": null,
   "id": "ae1b25f0-8c15-483f-8b8c-8cad6e6d5bf4",
   "metadata": {},
   "outputs": [],
   "source": []
  },
  {
   "cell_type": "code",
   "execution_count": null,
   "id": "8c164c3a-45a7-4c1e-9753-d90229a37239",
   "metadata": {},
   "outputs": [],
   "source": []
  },
  {
   "cell_type": "code",
   "execution_count": null,
   "id": "69e12963-ef61-4434-8f2d-1167e28b73f8",
   "metadata": {},
   "outputs": [],
   "source": []
  },
  {
   "cell_type": "code",
   "execution_count": null,
   "id": "b65304c1-f5c2-4519-a1c6-277368236e1b",
   "metadata": {},
   "outputs": [],
   "source": []
  },
  {
   "cell_type": "code",
   "execution_count": null,
   "id": "bb7779ef-94f4-4db2-a932-e3f1283de518",
   "metadata": {},
   "outputs": [],
   "source": []
  },
  {
   "cell_type": "code",
   "execution_count": null,
   "id": "868d01f6-850b-4570-9a0d-1ecd2b01dacc",
   "metadata": {},
   "outputs": [],
   "source": []
  }
 ],
 "metadata": {
  "kernelspec": {
   "display_name": "Python 3 (ipykernel)",
   "language": "python",
   "name": "python3"
  },
  "language_info": {
   "codemirror_mode": {
    "name": "ipython",
    "version": 3
   },
   "file_extension": ".py",
   "mimetype": "text/x-python",
   "name": "python",
   "nbconvert_exporter": "python",
   "pygments_lexer": "ipython3",
   "version": "3.12.5"
  }
 },
 "nbformat": 4,
 "nbformat_minor": 5
}
